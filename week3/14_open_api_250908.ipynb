{
 "cells": [
  {
   "cell_type": "code",
   "execution_count": 1,
   "metadata": {},
   "outputs": [],
   "source": [
    "# open api 접속을 위한 라이브러리 호출\n",
    "import requests"
   ]
  },
  {
   "cell_type": "code",
   "execution_count": 2,
   "metadata": {},
   "outputs": [],
   "source": [
    "# 해당 api에서 사용할 서비스키(함수에서 사용될 필수 매개변수의 인자값과 같다)\n",
    "service_key = 'dtbWOdJ/Cz5HE0DGLU+CRPe7pOW0NIQBUcGEqsHZaTRiYCI/5+zugwzQjcvuId7NPdg6rUiW+ft3fm7yqyD4pw=='\n",
    "# 해당 api의 주소(python에서 호출할 함수의 이름과 같다)\n",
    "url = 'http://apis.data.go.kr/1262000/CountryPopulationService2/getCountryPopulationList2'\n",
    "\n",
    "# 매개변수들을 하나의 변수에 dict 형태로 저장\n",
    "_params = {\n",
    "    'ServiceKey' : service_key,\n",
    "    'pageNo' : 1,\n",
    "    'numOfRows' : 10,\n",
    "    'returnType' : 'JSON'\n",
    "}\n",
    "\n",
    "res = requests.get(url, params = _params)\n"
   ]
  },
  {
   "cell_type": "code",
   "execution_count": 3,
   "metadata": {},
   "outputs": [
    {
     "data": {
      "text/plain": [
       "<Response [200]>"
      ]
     },
     "execution_count": 3,
     "metadata": {},
     "output_type": "execute_result"
    }
   ],
   "source": [
    "res"
   ]
  },
  {
   "cell_type": "code",
   "execution_count": 4,
   "metadata": {},
   "outputs": [
    {
     "data": {
      "text/plain": [
       "b'{\"response\":{\"body\":{\"dataType\":\"JSON\",\"items\":{\"item\":[{\"country_eng_nm\":\"Ghana\",\"country_iso_alp2\":\"GH\",\"country_nm\":\"\\xea\\xb0\\x80\\xeb\\x82\\x98\",\"popltn_cn\":null,\"popltn_cnt\":31522290,\"popltn_cnt_src\":\"(\\'19) World Bank (\\xec\\xb5\\x9c\\xea\\xb7\\xbc \\xec\\x88\\x98\\xec\\xa0\\x95\\xec\\x9d\\xbc : 2024.11.13.)\",\"popltn_growth\":2.09,\"popltn_growth_src\":\"(\\'19) World Bank (\\xec\\xb5\\x9c\\xea\\xb7\\xbc \\xec\\x88\\x98\\xec\\xa0\\x95\\xec\\x9d\\xbc : 2024.11.13.)\",\"popltn_month\":null,\"popltn_year\":2019},{\"country_eng_nm\":\"Ghana\",\"country_iso_alp2\":\"GH\",\"country_nm\":\"\\xea\\xb0\\x80\\xeb\\x82\\x98\",\"popltn_cn\":null,\"popltn_cnt\":30870641,\"popltn_cnt_src\":\"(\\'18) World Bank (\\xec\\xb5\\x9c\\xea\\xb7\\xbc \\xec\\x88\\x98\\xec\\xa0\\x95\\xec\\x9d\\xbc : 2024.11.13.)\",\"popltn_growth\":2.12,\"popltn_growth_src\":\"(\\'18) World Bank (\\xec\\xb5\\x9c\\xea\\xb7\\xbc \\xec\\x88\\x98\\xec\\xa0\\x95\\xec\\x9d\\xbc : 2024.11.13.)\",\"popltn_month\":null,\"popltn_year\":2018},{\"country_eng_nm\":\"Gabon\",\"country_iso_alp2\":\"GA\",\"country_nm\":\"\\xea\\xb0\\x80\\xeb\\xb4\\x89\",\"popltn_cn\":null,\"popltn_cnt\":2242785,\"popltn_cnt_src\":\"(\\'19) World Bank (\\xec\\xb5\\x9c\\xea\\xb7\\xbc \\xec\\x88\\x98\\xec\\xa0\\x95\\xec\\x9d\\xbc : 2024.11.13.)\",\"popltn_growth\":2.29,\"popltn_growth_src\":\"(\\'19) World Bank (\\xec\\xb5\\x9c\\xea\\xb7\\xbc \\xec\\x88\\x98\\xec\\xa0\\x95\\xec\\x9d\\xbc : 2024.11.13.)\",\"popltn_month\":null,\"popltn_year\":2019},{\"country_eng_nm\":\"Gabon\",\"country_iso_alp2\":\"GA\",\"country_nm\":\"\\xea\\xb0\\x80\\xeb\\xb4\\x89\",\"popltn_cn\":null,\"popltn_cnt\":2192012,\"popltn_cnt_src\":\"(\\'18) World Bank (\\xec\\xb5\\x9c\\xea\\xb7\\xbc \\xec\\x88\\x98\\xec\\xa0\\x95\\xec\\x9d\\xbc : 2024.11.13.)\",\"popltn_growth\":2.39,\"popltn_growth_src\":\"(\\'18) World Bank (\\xec\\xb5\\x9c\\xea\\xb7\\xbc \\xec\\x88\\x98\\xec\\xa0\\x95\\xec\\x9d\\xbc : 2024.11.13.)\",\"popltn_month\":null,\"popltn_year\":2018},{\"country_eng_nm\":\"Guyana\",\"country_iso_alp2\":\"GY\",\"country_nm\":\"\\xea\\xb0\\x80\\xec\\x9d\\xb4\\xec\\x95\\x84\\xeb\\x82\\x98\",\"popltn_cn\":null,\"popltn_cnt\":798753,\"popltn_cnt_src\":\"(\\'19) World Bank (\\xec\\xb5\\x9c\\xea\\xb7\\xbc \\xec\\x88\\x98\\xec\\xa0\\x95\\xec\\x9d\\xbc : 2024.11.13.)\",\"popltn_growth\":1.67,\"popltn_growth_src\":\"(\\'19) World Bank (\\xec\\xb5\\x9c\\xea\\xb7\\xbc \\xec\\x88\\x98\\xec\\xa0\\x95\\xec\\x9d\\xbc : 2024.11.13.)\",\"popltn_month\":null,\"popltn_year\":2019},{\"country_eng_nm\":\"Guyana\",\"country_iso_alp2\":\"GY\",\"country_nm\":\"\\xea\\xb0\\x80\\xec\\x9d\\xb4\\xec\\x95\\x84\\xeb\\x82\\x98\",\"popltn_cn\":null,\"popltn_cnt\":785514,\"popltn_cnt_src\":\"(\\'18) World Bank (\\xec\\xb5\\x9c\\xea\\xb7\\xbc \\xec\\x88\\x98\\xec\\xa0\\x95\\xec\\x9d\\xbc : 2024.11.13.)\",\"popltn_growth\":2.88,\"popltn_growth_src\":\"(\\'18) World Bank (\\xec\\xb5\\x9c\\xea\\xb7\\xbc \\xec\\x88\\x98\\xec\\xa0\\x95\\xec\\x9d\\xbc : 2024.11.13.)\",\"popltn_month\":null,\"popltn_year\":2018},{\"country_eng_nm\":\"Gambia\",\"country_iso_alp2\":\"GM\",\"country_nm\":\"\\xea\\xb0\\x90\\xeb\\xb9\\x84\\xec\\x95\\x84\",\"popltn_cn\":null,\"popltn_cnt\":2508883,\"popltn_cnt_src\":\"(\\'19) World Bank (\\xec\\xb5\\x9c\\xea\\xb7\\xbc \\xec\\x88\\x98\\xec\\xa0\\x95\\xec\\x9d\\xbc : 2024.11.13.)\",\"popltn_growth\":2.58,\"popltn_growth_src\":\"(\\'19) World Bank (\\xec\\xb5\\x9c\\xea\\xb7\\xbc \\xec\\x88\\x98\\xec\\xa0\\x95\\xec\\x9d\\xbc : 2024.11.13.)\",\"popltn_month\":null,\"popltn_year\":2019},{\"country_eng_nm\":\"Gambia\",\"country_iso_alp2\":\"GM\",\"country_nm\":\"\\xea\\xb0\\x90\\xeb\\xb9\\x84\\xec\\x95\\x84\",\"popltn_cn\":null,\"popltn_cnt\":2444916,\"popltn_cnt_src\":\"(\\'18) World Bank (\\xec\\xb5\\x9c\\xea\\xb7\\xbc \\xec\\x88\\x98\\xec\\xa0\\x95\\xec\\x9d\\xbc : 2024.11.13.)\",\"popltn_growth\":2.64,\"popltn_growth_src\":\"(\\'18) World Bank (\\xec\\xb5\\x9c\\xea\\xb7\\xbc \\xec\\x88\\x98\\xec\\xa0\\x95\\xec\\x9d\\xbc : 2024.11.13.)\",\"popltn_month\":null,\"popltn_year\":2018},{\"country_eng_nm\":\"Bailiwick of Guernsey\",\"country_iso_alp2\":\"GG\",\"country_nm\":\"\\xea\\xb1\\xb4\\xec\\xa7\\x80\",\"popltn_cn\":null,\"popltn_cnt\":62506,\"popltn_cnt_src\":null,\"popltn_growth\":null,\"popltn_growth_src\":null,\"popltn_month\":12,\"popltn_year\":2018},{\"country_eng_nm\":\"Bailiwick of Guernsey\",\"country_iso_alp2\":\"GG\",\"country_nm\":\"\\xea\\xb1\\xb4\\xec\\xa7\\x80\",\"popltn_cn\":null,\"popltn_cnt\":null,\"popltn_cnt_src\":null,\"popltn_growth\":null,\"popltn_growth_src\":null,\"popltn_month\":null,\"popltn_year\":null}]},\"numOfRows\":10,\"pageNo\":1,\"totalCount\":450},\"header\":{\"resultCode\":\"0\",\"resultMsg\":\"\\xec\\xa0\\x95\\xec\\x83\\x81\"}}}\\n'"
      ]
     },
     "execution_count": 4,
     "metadata": {},
     "output_type": "execute_result"
    }
   ],
   "source": [
    "res.content"
   ]
  },
  {
   "cell_type": "code",
   "execution_count": 5,
   "metadata": {},
   "outputs": [
    {
     "data": {
      "text/plain": [
       "bytes"
      ]
     },
     "execution_count": 5,
     "metadata": {},
     "output_type": "execute_result"
    }
   ],
   "source": [
    "type(res.content)"
   ]
  },
  {
   "cell_type": "code",
   "execution_count": 6,
   "metadata": {},
   "outputs": [],
   "source": [
    "# bytes로 되어있는 데이터의 타입을 편한 dict 형태로 변환\n",
    "import json"
   ]
  },
  {
   "cell_type": "code",
   "execution_count": 7,
   "metadata": {},
   "outputs": [],
   "source": [
    "res_data = json.loads(res.content)"
   ]
  },
  {
   "cell_type": "code",
   "execution_count": 8,
   "metadata": {},
   "outputs": [
    {
     "data": {
      "text/plain": [
       "{'response': {'body': {'dataType': 'JSON',\n",
       "   'items': {'item': [{'country_eng_nm': 'Ghana',\n",
       "      'country_iso_alp2': 'GH',\n",
       "      'country_nm': '가나',\n",
       "      'popltn_cn': None,\n",
       "      'popltn_cnt': 31522290,\n",
       "      'popltn_cnt_src': \"('19) World Bank (최근 수정일 : 2024.11.13.)\",\n",
       "      'popltn_growth': 2.09,\n",
       "      'popltn_growth_src': \"('19) World Bank (최근 수정일 : 2024.11.13.)\",\n",
       "      'popltn_month': None,\n",
       "      'popltn_year': 2019},\n",
       "     {'country_eng_nm': 'Ghana',\n",
       "      'country_iso_alp2': 'GH',\n",
       "      'country_nm': '가나',\n",
       "      'popltn_cn': None,\n",
       "      'popltn_cnt': 30870641,\n",
       "      'popltn_cnt_src': \"('18) World Bank (최근 수정일 : 2024.11.13.)\",\n",
       "      'popltn_growth': 2.12,\n",
       "      'popltn_growth_src': \"('18) World Bank (최근 수정일 : 2024.11.13.)\",\n",
       "      'popltn_month': None,\n",
       "      'popltn_year': 2018},\n",
       "     {'country_eng_nm': 'Gabon',\n",
       "      'country_iso_alp2': 'GA',\n",
       "      'country_nm': '가봉',\n",
       "      'popltn_cn': None,\n",
       "      'popltn_cnt': 2242785,\n",
       "      'popltn_cnt_src': \"('19) World Bank (최근 수정일 : 2024.11.13.)\",\n",
       "      'popltn_growth': 2.29,\n",
       "      'popltn_growth_src': \"('19) World Bank (최근 수정일 : 2024.11.13.)\",\n",
       "      'popltn_month': None,\n",
       "      'popltn_year': 2019},\n",
       "     {'country_eng_nm': 'Gabon',\n",
       "      'country_iso_alp2': 'GA',\n",
       "      'country_nm': '가봉',\n",
       "      'popltn_cn': None,\n",
       "      'popltn_cnt': 2192012,\n",
       "      'popltn_cnt_src': \"('18) World Bank (최근 수정일 : 2024.11.13.)\",\n",
       "      'popltn_growth': 2.39,\n",
       "      'popltn_growth_src': \"('18) World Bank (최근 수정일 : 2024.11.13.)\",\n",
       "      'popltn_month': None,\n",
       "      'popltn_year': 2018},\n",
       "     {'country_eng_nm': 'Guyana',\n",
       "      'country_iso_alp2': 'GY',\n",
       "      'country_nm': '가이아나',\n",
       "      'popltn_cn': None,\n",
       "      'popltn_cnt': 798753,\n",
       "      'popltn_cnt_src': \"('19) World Bank (최근 수정일 : 2024.11.13.)\",\n",
       "      'popltn_growth': 1.67,\n",
       "      'popltn_growth_src': \"('19) World Bank (최근 수정일 : 2024.11.13.)\",\n",
       "      'popltn_month': None,\n",
       "      'popltn_year': 2019},\n",
       "     {'country_eng_nm': 'Guyana',\n",
       "      'country_iso_alp2': 'GY',\n",
       "      'country_nm': '가이아나',\n",
       "      'popltn_cn': None,\n",
       "      'popltn_cnt': 785514,\n",
       "      'popltn_cnt_src': \"('18) World Bank (최근 수정일 : 2024.11.13.)\",\n",
       "      'popltn_growth': 2.88,\n",
       "      'popltn_growth_src': \"('18) World Bank (최근 수정일 : 2024.11.13.)\",\n",
       "      'popltn_month': None,\n",
       "      'popltn_year': 2018},\n",
       "     {'country_eng_nm': 'Gambia',\n",
       "      'country_iso_alp2': 'GM',\n",
       "      'country_nm': '감비아',\n",
       "      'popltn_cn': None,\n",
       "      'popltn_cnt': 2508883,\n",
       "      'popltn_cnt_src': \"('19) World Bank (최근 수정일 : 2024.11.13.)\",\n",
       "      'popltn_growth': 2.58,\n",
       "      'popltn_growth_src': \"('19) World Bank (최근 수정일 : 2024.11.13.)\",\n",
       "      'popltn_month': None,\n",
       "      'popltn_year': 2019},\n",
       "     {'country_eng_nm': 'Gambia',\n",
       "      'country_iso_alp2': 'GM',\n",
       "      'country_nm': '감비아',\n",
       "      'popltn_cn': None,\n",
       "      'popltn_cnt': 2444916,\n",
       "      'popltn_cnt_src': \"('18) World Bank (최근 수정일 : 2024.11.13.)\",\n",
       "      'popltn_growth': 2.64,\n",
       "      'popltn_growth_src': \"('18) World Bank (최근 수정일 : 2024.11.13.)\",\n",
       "      'popltn_month': None,\n",
       "      'popltn_year': 2018},\n",
       "     {'country_eng_nm': 'Bailiwick of Guernsey',\n",
       "      'country_iso_alp2': 'GG',\n",
       "      'country_nm': '건지',\n",
       "      'popltn_cn': None,\n",
       "      'popltn_cnt': 62506,\n",
       "      'popltn_cnt_src': None,\n",
       "      'popltn_growth': None,\n",
       "      'popltn_growth_src': None,\n",
       "      'popltn_month': 12,\n",
       "      'popltn_year': 2018},\n",
       "     {'country_eng_nm': 'Bailiwick of Guernsey',\n",
       "      'country_iso_alp2': 'GG',\n",
       "      'country_nm': '건지',\n",
       "      'popltn_cn': None,\n",
       "      'popltn_cnt': None,\n",
       "      'popltn_cnt_src': None,\n",
       "      'popltn_growth': None,\n",
       "      'popltn_growth_src': None,\n",
       "      'popltn_month': None,\n",
       "      'popltn_year': None}]},\n",
       "   'numOfRows': 10,\n",
       "   'pageNo': 1,\n",
       "   'totalCount': 450},\n",
       "  'header': {'resultCode': '0', 'resultMsg': '정상'}}}"
      ]
     },
     "execution_count": 8,
     "metadata": {},
     "output_type": "execute_result"
    }
   ],
   "source": [
    "res_data"
   ]
  },
  {
   "cell_type": "code",
   "execution_count": 15,
   "metadata": {},
   "outputs": [
    {
     "data": {
      "text/plain": [
       "<class 'dict'>"
      ]
     },
     "execution_count": 15,
     "metadata": {},
     "output_type": "execute_result"
    }
   ],
   "source": [
    "type(res_data)"
   ]
  },
  {
   "cell_type": "code",
   "execution_count": 9,
   "metadata": {},
   "outputs": [
    {
     "name": "stdout",
     "output_type": "stream",
     "text": [
      "Pretty printing has been turned OFF\n"
     ]
    }
   ],
   "source": [
    "pprint(res_data)"
   ]
  },
  {
   "cell_type": "code",
   "execution_count": 10,
   "metadata": {},
   "outputs": [],
   "source": [
    "import pandas as pd\n",
    "df = pd.DataFrame(res_data['response']['body']['items']['item'])"
   ]
  },
  {
   "cell_type": "code",
   "execution_count": 11,
   "metadata": {},
   "outputs": [
    {
     "data": {
      "text/html": [
       "<div>\n",
       "<style scoped>\n",
       "    .dataframe tbody tr th:only-of-type {\n",
       "        vertical-align: middle;\n",
       "    }\n",
       "\n",
       "    .dataframe tbody tr th {\n",
       "        vertical-align: top;\n",
       "    }\n",
       "\n",
       "    .dataframe thead th {\n",
       "        text-align: right;\n",
       "    }\n",
       "</style>\n",
       "<table border=\"1\" class=\"dataframe\">\n",
       "  <thead>\n",
       "    <tr style=\"text-align: right;\">\n",
       "      <th></th>\n",
       "      <th>country_eng_nm</th>\n",
       "      <th>country_iso_alp2</th>\n",
       "      <th>country_nm</th>\n",
       "      <th>popltn_cn</th>\n",
       "      <th>popltn_cnt</th>\n",
       "      <th>popltn_cnt_src</th>\n",
       "      <th>popltn_growth</th>\n",
       "      <th>popltn_growth_src</th>\n",
       "      <th>popltn_month</th>\n",
       "      <th>popltn_year</th>\n",
       "    </tr>\n",
       "  </thead>\n",
       "  <tbody>\n",
       "    <tr>\n",
       "      <th>0</th>\n",
       "      <td>Ghana</td>\n",
       "      <td>GH</td>\n",
       "      <td>가나</td>\n",
       "      <td>None</td>\n",
       "      <td>31522290.0</td>\n",
       "      <td>('19) World Bank (최근 수정일 : 2024.11.13.)</td>\n",
       "      <td>2.09</td>\n",
       "      <td>('19) World Bank (최근 수정일 : 2024.11.13.)</td>\n",
       "      <td>NaN</td>\n",
       "      <td>2019.0</td>\n",
       "    </tr>\n",
       "    <tr>\n",
       "      <th>1</th>\n",
       "      <td>Ghana</td>\n",
       "      <td>GH</td>\n",
       "      <td>가나</td>\n",
       "      <td>None</td>\n",
       "      <td>30870641.0</td>\n",
       "      <td>('18) World Bank (최근 수정일 : 2024.11.13.)</td>\n",
       "      <td>2.12</td>\n",
       "      <td>('18) World Bank (최근 수정일 : 2024.11.13.)</td>\n",
       "      <td>NaN</td>\n",
       "      <td>2018.0</td>\n",
       "    </tr>\n",
       "    <tr>\n",
       "      <th>2</th>\n",
       "      <td>Gabon</td>\n",
       "      <td>GA</td>\n",
       "      <td>가봉</td>\n",
       "      <td>None</td>\n",
       "      <td>2242785.0</td>\n",
       "      <td>('19) World Bank (최근 수정일 : 2024.11.13.)</td>\n",
       "      <td>2.29</td>\n",
       "      <td>('19) World Bank (최근 수정일 : 2024.11.13.)</td>\n",
       "      <td>NaN</td>\n",
       "      <td>2019.0</td>\n",
       "    </tr>\n",
       "    <tr>\n",
       "      <th>3</th>\n",
       "      <td>Gabon</td>\n",
       "      <td>GA</td>\n",
       "      <td>가봉</td>\n",
       "      <td>None</td>\n",
       "      <td>2192012.0</td>\n",
       "      <td>('18) World Bank (최근 수정일 : 2024.11.13.)</td>\n",
       "      <td>2.39</td>\n",
       "      <td>('18) World Bank (최근 수정일 : 2024.11.13.)</td>\n",
       "      <td>NaN</td>\n",
       "      <td>2018.0</td>\n",
       "    </tr>\n",
       "    <tr>\n",
       "      <th>4</th>\n",
       "      <td>Guyana</td>\n",
       "      <td>GY</td>\n",
       "      <td>가이아나</td>\n",
       "      <td>None</td>\n",
       "      <td>798753.0</td>\n",
       "      <td>('19) World Bank (최근 수정일 : 2024.11.13.)</td>\n",
       "      <td>1.67</td>\n",
       "      <td>('19) World Bank (최근 수정일 : 2024.11.13.)</td>\n",
       "      <td>NaN</td>\n",
       "      <td>2019.0</td>\n",
       "    </tr>\n",
       "    <tr>\n",
       "      <th>5</th>\n",
       "      <td>Guyana</td>\n",
       "      <td>GY</td>\n",
       "      <td>가이아나</td>\n",
       "      <td>None</td>\n",
       "      <td>785514.0</td>\n",
       "      <td>('18) World Bank (최근 수정일 : 2024.11.13.)</td>\n",
       "      <td>2.88</td>\n",
       "      <td>('18) World Bank (최근 수정일 : 2024.11.13.)</td>\n",
       "      <td>NaN</td>\n",
       "      <td>2018.0</td>\n",
       "    </tr>\n",
       "    <tr>\n",
       "      <th>6</th>\n",
       "      <td>Gambia</td>\n",
       "      <td>GM</td>\n",
       "      <td>감비아</td>\n",
       "      <td>None</td>\n",
       "      <td>2508883.0</td>\n",
       "      <td>('19) World Bank (최근 수정일 : 2024.11.13.)</td>\n",
       "      <td>2.58</td>\n",
       "      <td>('19) World Bank (최근 수정일 : 2024.11.13.)</td>\n",
       "      <td>NaN</td>\n",
       "      <td>2019.0</td>\n",
       "    </tr>\n",
       "    <tr>\n",
       "      <th>7</th>\n",
       "      <td>Gambia</td>\n",
       "      <td>GM</td>\n",
       "      <td>감비아</td>\n",
       "      <td>None</td>\n",
       "      <td>2444916.0</td>\n",
       "      <td>('18) World Bank (최근 수정일 : 2024.11.13.)</td>\n",
       "      <td>2.64</td>\n",
       "      <td>('18) World Bank (최근 수정일 : 2024.11.13.)</td>\n",
       "      <td>NaN</td>\n",
       "      <td>2018.0</td>\n",
       "    </tr>\n",
       "    <tr>\n",
       "      <th>8</th>\n",
       "      <td>Bailiwick of Guernsey</td>\n",
       "      <td>GG</td>\n",
       "      <td>건지</td>\n",
       "      <td>None</td>\n",
       "      <td>62506.0</td>\n",
       "      <td>None</td>\n",
       "      <td>NaN</td>\n",
       "      <td>None</td>\n",
       "      <td>12.0</td>\n",
       "      <td>2018.0</td>\n",
       "    </tr>\n",
       "    <tr>\n",
       "      <th>9</th>\n",
       "      <td>Bailiwick of Guernsey</td>\n",
       "      <td>GG</td>\n",
       "      <td>건지</td>\n",
       "      <td>None</td>\n",
       "      <td>NaN</td>\n",
       "      <td>None</td>\n",
       "      <td>NaN</td>\n",
       "      <td>None</td>\n",
       "      <td>NaN</td>\n",
       "      <td>NaN</td>\n",
       "    </tr>\n",
       "  </tbody>\n",
       "</table>\n",
       "</div>"
      ],
      "text/plain": [
       "          country_eng_nm country_iso_alp2 country_nm popltn_cn  popltn_cnt  \\\n",
       "0                  Ghana               GH         가나      None  31522290.0   \n",
       "1                  Ghana               GH         가나      None  30870641.0   \n",
       "2                  Gabon               GA         가봉      None   2242785.0   \n",
       "3                  Gabon               GA         가봉      None   2192012.0   \n",
       "4                 Guyana               GY       가이아나      None    798753.0   \n",
       "5                 Guyana               GY       가이아나      None    785514.0   \n",
       "6                 Gambia               GM        감비아      None   2508883.0   \n",
       "7                 Gambia               GM        감비아      None   2444916.0   \n",
       "8  Bailiwick of Guernsey               GG         건지      None     62506.0   \n",
       "9  Bailiwick of Guernsey               GG         건지      None         NaN   \n",
       "\n",
       "                            popltn_cnt_src  popltn_growth  \\\n",
       "0  ('19) World Bank (최근 수정일 : 2024.11.13.)           2.09   \n",
       "1  ('18) World Bank (최근 수정일 : 2024.11.13.)           2.12   \n",
       "2  ('19) World Bank (최근 수정일 : 2024.11.13.)           2.29   \n",
       "3  ('18) World Bank (최근 수정일 : 2024.11.13.)           2.39   \n",
       "4  ('19) World Bank (최근 수정일 : 2024.11.13.)           1.67   \n",
       "5  ('18) World Bank (최근 수정일 : 2024.11.13.)           2.88   \n",
       "6  ('19) World Bank (최근 수정일 : 2024.11.13.)           2.58   \n",
       "7  ('18) World Bank (최근 수정일 : 2024.11.13.)           2.64   \n",
       "8                                     None            NaN   \n",
       "9                                     None            NaN   \n",
       "\n",
       "                         popltn_growth_src  popltn_month  popltn_year  \n",
       "0  ('19) World Bank (최근 수정일 : 2024.11.13.)           NaN       2019.0  \n",
       "1  ('18) World Bank (최근 수정일 : 2024.11.13.)           NaN       2018.0  \n",
       "2  ('19) World Bank (최근 수정일 : 2024.11.13.)           NaN       2019.0  \n",
       "3  ('18) World Bank (최근 수정일 : 2024.11.13.)           NaN       2018.0  \n",
       "4  ('19) World Bank (최근 수정일 : 2024.11.13.)           NaN       2019.0  \n",
       "5  ('18) World Bank (최근 수정일 : 2024.11.13.)           NaN       2018.0  \n",
       "6  ('19) World Bank (최근 수정일 : 2024.11.13.)           NaN       2019.0  \n",
       "7  ('18) World Bank (최근 수정일 : 2024.11.13.)           NaN       2018.0  \n",
       "8                                     None          12.0       2018.0  \n",
       "9                                     None           NaN          NaN  "
      ]
     },
     "execution_count": 11,
     "metadata": {},
     "output_type": "execute_result"
    }
   ],
   "source": [
    "df"
   ]
  },
  {
   "cell_type": "code",
   "execution_count": 12,
   "metadata": {},
   "outputs": [
    {
     "data": {
      "text/plain": [
       "[{'country_eng_nm': 'Ghana', 'country_iso_alp2': 'GH', 'country_nm': '가나', 'popltn_cn': None, 'popltn_cnt': 31522290.0, 'popltn_cnt_src': \"('19) World Bank (최근 수정일 : 2024.11.13.)\", 'popltn_growth': 2.09, 'popltn_growth_src': \"('19) World Bank (최근 수정일 : 2024.11.13.)\", 'popltn_month': nan, 'popltn_year': 2019.0}, {'country_eng_nm': 'Ghana', 'country_iso_alp2': 'GH', 'country_nm': '가나', 'popltn_cn': None, 'popltn_cnt': 30870641.0, 'popltn_cnt_src': \"('18) World Bank (최근 수정일 : 2024.11.13.)\", 'popltn_growth': 2.12, 'popltn_growth_src': \"('18) World Bank (최근 수정일 : 2024.11.13.)\", 'popltn_month': nan, 'popltn_year': 2018.0}, {'country_eng_nm': 'Gabon', 'country_iso_alp2': 'GA', 'country_nm': '가봉', 'popltn_cn': None, 'popltn_cnt': 2242785.0, 'popltn_cnt_src': \"('19) World Bank (최근 수정일 : 2024.11.13.)\", 'popltn_growth': 2.29, 'popltn_growth_src': \"('19) World Bank (최근 수정일 : 2024.11.13.)\", 'popltn_month': nan, 'popltn_year': 2019.0}, {'country_eng_nm': 'Gabon', 'country_iso_alp2': 'GA', 'country_nm': '가봉', 'popltn_cn': None, 'popltn_cnt': 2192012.0, 'popltn_cnt_src': \"('18) World Bank (최근 수정일 : 2024.11.13.)\", 'popltn_growth': 2.39, 'popltn_growth_src': \"('18) World Bank (최근 수정일 : 2024.11.13.)\", 'popltn_month': nan, 'popltn_year': 2018.0}, {'country_eng_nm': 'Guyana', 'country_iso_alp2': 'GY', 'country_nm': '가이아나', 'popltn_cn': None, 'popltn_cnt': 798753.0, 'popltn_cnt_src': \"('19) World Bank (최근 수정일 : 2024.11.13.)\", 'popltn_growth': 1.67, 'popltn_growth_src': \"('19) World Bank (최근 수정일 : 2024.11.13.)\", 'popltn_month': nan, 'popltn_year': 2019.0}, {'country_eng_nm': 'Guyana', 'country_iso_alp2': 'GY', 'country_nm': '가이아나', 'popltn_cn': None, 'popltn_cnt': 785514.0, 'popltn_cnt_src': \"('18) World Bank (최근 수정일 : 2024.11.13.)\", 'popltn_growth': 2.88, 'popltn_growth_src': \"('18) World Bank (최근 수정일 : 2024.11.13.)\", 'popltn_month': nan, 'popltn_year': 2018.0}, {'country_eng_nm': 'Gambia', 'country_iso_alp2': 'GM', 'country_nm': '감비아', 'popltn_cn': None, 'popltn_cnt': 2508883.0, 'popltn_cnt_src': \"('19) World Bank (최근 수정일 : 2024.11.13.)\", 'popltn_growth': 2.58, 'popltn_growth_src': \"('19) World Bank (최근 수정일 : 2024.11.13.)\", 'popltn_month': nan, 'popltn_year': 2019.0}, {'country_eng_nm': 'Gambia', 'country_iso_alp2': 'GM', 'country_nm': '감비아', 'popltn_cn': None, 'popltn_cnt': 2444916.0, 'popltn_cnt_src': \"('18) World Bank (최근 수정일 : 2024.11.13.)\", 'popltn_growth': 2.64, 'popltn_growth_src': \"('18) World Bank (최근 수정일 : 2024.11.13.)\", 'popltn_month': nan, 'popltn_year': 2018.0}, {'country_eng_nm': 'Bailiwick of Guernsey', 'country_iso_alp2': 'GG', 'country_nm': '건지', 'popltn_cn': None, 'popltn_cnt': 62506.0, 'popltn_cnt_src': None, 'popltn_growth': nan, 'popltn_growth_src': None, 'popltn_month': 12.0, 'popltn_year': 2018.0}, {'country_eng_nm': 'Bailiwick of Guernsey', 'country_iso_alp2': 'GG', 'country_nm': '건지', 'popltn_cn': None, 'popltn_cnt': nan, 'popltn_cnt_src': None, 'popltn_growth': nan, 'popltn_growth_src': None, 'popltn_month': nan, 'popltn_year': nan}]"
      ]
     },
     "execution_count": 12,
     "metadata": {},
     "output_type": "execute_result"
    }
   ],
   "source": [
    "# dataframe 타입 데이터의 타입을 변경\n",
    "# 타입 변경 키워드 (to) + 타입명 -> 함수 존재(DataFrame 안에 존재)\n",
    "df.to_dict('records')"
   ]
  },
  {
   "cell_type": "code",
   "execution_count": 13,
   "metadata": {},
   "outputs": [
    {
     "data": {
      "text/plain": [
       "{'country_eng_nm': {0: 'Ghana', 1: 'Ghana', 2: 'Gabon', 3: 'Gabon', 4: 'Guyana', 5: 'Guyana', 6: 'Gambia', 7: 'Gambia', 8: 'Bailiwick of Guernsey', 9: 'Bailiwick of Guernsey'}, 'country_iso_alp2': {0: 'GH', 1: 'GH', 2: 'GA', 3: 'GA', 4: 'GY', 5: 'GY', 6: 'GM', 7: 'GM', 8: 'GG', 9: 'GG'}, 'country_nm': {0: '가나', 1: '가나', 2: '가봉', 3: '가봉', 4: '가이아나', 5: '가이아나', 6: '감비아', 7: '감비아', 8: '건지', 9: '건지'}, 'popltn_cn': {0: None, 1: None, 2: None, 3: None, 4: None, 5: None, 6: None, 7: None, 8: None, 9: None}, 'popltn_cnt': {0: 31522290.0, 1: 30870641.0, 2: 2242785.0, 3: 2192012.0, 4: 798753.0, 5: 785514.0, 6: 2508883.0, 7: 2444916.0, 8: 62506.0, 9: nan}, 'popltn_cnt_src': {0: \"('19) World Bank (최근 수정일 : 2024.11.13.)\", 1: \"('18) World Bank (최근 수정일 : 2024.11.13.)\", 2: \"('19) World Bank (최근 수정일 : 2024.11.13.)\", 3: \"('18) World Bank (최근 수정일 : 2024.11.13.)\", 4: \"('19) World Bank (최근 수정일 : 2024.11.13.)\", 5: \"('18) World Bank (최근 수정일 : 2024.11.13.)\", 6: \"('19) World Bank (최근 수정일 : 2024.11.13.)\", 7: \"('18) World Bank (최근 수정일 : 2024.11.13.)\", 8: None, 9: None}, 'popltn_growth': {0: 2.09, 1: 2.12, 2: 2.29, 3: 2.39, 4: 1.67, 5: 2.88, 6: 2.58, 7: 2.64, 8: nan, 9: nan}, 'popltn_growth_src': {0: \"('19) World Bank (최근 수정일 : 2024.11.13.)\", 1: \"('18) World Bank (최근 수정일 : 2024.11.13.)\", 2: \"('19) World Bank (최근 수정일 : 2024.11.13.)\", 3: \"('18) World Bank (최근 수정일 : 2024.11.13.)\", 4: \"('19) World Bank (최근 수정일 : 2024.11.13.)\", 5: \"('18) World Bank (최근 수정일 : 2024.11.13.)\", 6: \"('19) World Bank (최근 수정일 : 2024.11.13.)\", 7: \"('18) World Bank (최근 수정일 : 2024.11.13.)\", 8: None, 9: None}, 'popltn_month': {0: nan, 1: nan, 2: nan, 3: nan, 4: nan, 5: nan, 6: nan, 7: nan, 8: 12.0, 9: nan}, 'popltn_year': {0: 2019.0, 1: 2018.0, 2: 2019.0, 3: 2018.0, 4: 2019.0, 5: 2018.0, 6: 2019.0, 7: 2018.0, 8: 2018.0, 9: nan}}"
      ]
     },
     "execution_count": 13,
     "metadata": {},
     "output_type": "execute_result"
    }
   ],
   "source": [
    "df.to_dict()"
   ]
  },
  {
   "cell_type": "code",
   "execution_count": 14,
   "metadata": {},
   "outputs": [],
   "source": [
    "df.to_csv(\"./test.csv\", index = False)"
   ]
  },
  {
   "cell_type": "code",
   "execution_count": null,
   "metadata": {},
   "outputs": [],
   "source": []
  }
 ],
 "metadata": {
  "kernelspec": {
   "display_name": "venv",
   "language": "python",
   "name": "python3"
  },
  "language_info": {
   "codemirror_mode": {
    "name": "ipython",
    "version": 3
   },
   "file_extension": ".py",
   "mimetype": "text/x-python",
   "name": "python",
   "nbconvert_exporter": "python",
   "pygments_lexer": "ipython3",
   "version": "3.13.7"
  },
  "orig_nbformat": 4
 },
 "nbformat": 4,
 "nbformat_minor": 2
}
