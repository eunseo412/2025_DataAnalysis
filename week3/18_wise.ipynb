{
 "cells": [
  {
   "cell_type": "code",
   "execution_count": 1,
   "metadata": {},
   "outputs": [],
   "source": [
    "import pandas as pd\n",
    "from bs4 import BeautifulSoup as bs\n",
    "from selenium import webdriver"
   ]
  },
  {
   "cell_type": "code",
   "execution_count": 33,
   "metadata": {},
   "outputs": [],
   "source": [
    "# 접속 주소\n",
    "url = \"https://comp.wisereport.co.kr/company/c1010001.aspx?cmp_cd=\"\n",
    "# 종목의 코드(하이닉스)\n",
    "input_code = \"000660\""
   ]
  },
  {
   "cell_type": "markdown",
   "metadata": {},
   "source": [
    "### 연습\n",
    "- webdriver의 Chrome을 이용하여 url + input_code로 요청\n",
    "- driver의 html 코드를 불러온다.\n",
    "- 불러온 html을 BeautifulSoup을 이용하여 데이터 파싱\n",
    "- div 태그 중 class의 이름이 \"cmp_comment\"와 같은 태그를 선택\n",
    "    - li 태그들을 모두 찾아서 텍스트 추출하여 새로운 리스트를 생성(cmp_info)\n",
    "- div 태그 중 class의 이름이 \"cmp_comment_etc\"와 같은 태그를 선택\n",
    "    - li 태그들을 모두 찾아서 텍스트 추출하여 새로운 리스트를 생성 (cmp_etc)\n",
    "- DataFrame 생성하여 cmp_info, cmp_etc를 대입"
   ]
  },
  {
   "cell_type": "code",
   "execution_count": 3,
   "metadata": {},
   "outputs": [],
   "source": [
    "driver = webdriver.Chrome()"
   ]
  },
  {
   "cell_type": "code",
   "execution_count": 4,
   "metadata": {},
   "outputs": [],
   "source": [
    "# url + input_code를 이용해서 요청\n",
    "driver.get(url+input_code)"
   ]
  },
  {
   "cell_type": "code",
   "execution_count": 89,
   "metadata": {},
   "outputs": [],
   "source": [
    "# driver.execute_script(\n",
    "#     \"window.scrollTo(0, document.body.scrollHeight);\"\n",
    "# )"
   ]
  },
  {
   "cell_type": "code",
   "execution_count": 97,
   "metadata": {},
   "outputs": [],
   "source": [
    "# html_data = driver.page_source"
   ]
  },
  {
   "cell_type": "code",
   "execution_count": 98,
   "metadata": {},
   "outputs": [],
   "source": [
    "# soup = bs(html_data, 'html.parser')"
   ]
  },
  {
   "cell_type": "code",
   "execution_count": 5,
   "metadata": {},
   "outputs": [],
   "source": [
    "soup = bs(driver.page_source, 'html.parser')"
   ]
  },
  {
   "cell_type": "code",
   "execution_count": 6,
   "metadata": {},
   "outputs": [],
   "source": [
    "driver.quit()"
   ]
  },
  {
   "cell_type": "code",
   "execution_count": 7,
   "metadata": {},
   "outputs": [],
   "source": [
    "cmp_comment = soup.find(\n",
    "                'div',\n",
    "                attrs = {\n",
    "                    'class' : 'cmp_comment'\n",
    "                }\n",
    "            )"
   ]
  },
  {
   "cell_type": "code",
   "execution_count": 8,
   "metadata": {},
   "outputs": [],
   "source": [
    "# div_data에서 li 태그들을 모두 찾는다.\n",
    "li_list = cmp_comment.find_all('li')"
   ]
  },
  {
   "cell_type": "code",
   "execution_count": 9,
   "metadata": {},
   "outputs": [],
   "source": [
    "cmp_info = []\n",
    "for li_data in li_list:\n",
    "    cmp_info.append(li_data.get_text())"
   ]
  },
  {
   "cell_type": "code",
   "execution_count": 102,
   "metadata": {},
   "outputs": [],
   "source": [
    "# cmp_info = list (\n",
    "#                 map(\n",
    "#                     lambda x : x.get_text().strip(),\n",
    "#                     cmp_comment.find_all('li')\n",
    "#                 )\n",
    "#             )"
   ]
  },
  {
   "cell_type": "code",
   "execution_count": 10,
   "metadata": {},
   "outputs": [
    {
     "data": {
      "text/plain": [
       "['동사는 1949년 설립되어 경기도 이천시에 본사를 두고 4개의 생산기지와 3개의 연구개발법인 및 여러 해외 판매법인을 운영하는 글로벌 반도체 기업임.',\n",
       " '메모리 반도체와 Foundry 사업을 영위하며, DRAM과 NAND Flash를 주력 생산하고 있음.',\n",
       " '생성형 AI 시장의 신기술 등장과 시장 영향력 확대에 따라 고성능/고용량 메모리 솔루션 개발에 주력하고 있음.']"
      ]
     },
     "execution_count": 10,
     "metadata": {},
     "output_type": "execute_result"
    }
   ],
   "source": [
    "cmp_info"
   ]
  },
  {
   "cell_type": "code",
   "execution_count": 11,
   "metadata": {},
   "outputs": [],
   "source": [
    "cmp_comment_etc = soup.find(\n",
    "                    'div',\n",
    "                    attrs = {\n",
    "                        'class' : 'cmp_comment_etc'\n",
    "                    }\n",
    "                )"
   ]
  },
  {
   "cell_type": "code",
   "execution_count": 12,
   "metadata": {},
   "outputs": [
    {
     "data": {
      "text/plain": [
       "[<li class=\"dot_cmp\" data-cd=\"000660\">2025년 상반기 전년동기 대비 연결기준 매출액은 38.2% 증가, 영업이익은 99.3% 증가, 당기순이익은 150.1% 증가.</li>,\n",
       " <li class=\"dot_cmp\" data-cd=\"000660\">AI향 메모리 수요 성장과 우호적 가격 환경으로 DRAM과 NAND 출하량이 증가했고, 고부가가치 제품 판매로 실적이 개선됨.</li>,\n",
       " <li class=\"dot_cmp\" data-cd=\"000660\">AI 서버와 데이터센터 확산으로 HBM 수요 급증, DRAM은 프리미엄 제품 성장이 예상되며 SSD 수요 증가로 NAND 수급 안정화 전망임.</li>]"
      ]
     },
     "execution_count": 12,
     "metadata": {},
     "output_type": "execute_result"
    }
   ],
   "source": [
    "cmp_comment_etc.find_all('li')"
   ]
  },
  {
   "cell_type": "code",
   "execution_count": 13,
   "metadata": {},
   "outputs": [],
   "source": [
    "cmp_comment_etc = list (\n",
    "                        map(\n",
    "                        lambda x : x.get_text(),\n",
    "                        cmp_comment_etc.find_all('li')\n",
    "                        )\n",
    "                    )"
   ]
  },
  {
   "cell_type": "code",
   "execution_count": 14,
   "metadata": {},
   "outputs": [
    {
     "data": {
      "text/plain": [
       "['2025년 상반기 전년동기 대비 연결기준 매출액은 38.2% 증가, 영업이익은 99.3% 증가, 당기순이익은 150.1% 증가.',\n",
       " 'AI향 메모리 수요 성장과 우호적 가격 환경으로 DRAM과 NAND 출하량이 증가했고, 고부가가치 제품 판매로 실적이 개선됨.',\n",
       " 'AI 서버와 데이터센터 확산으로 HBM 수요 급증, DRAM은 프리미엄 제품 성장이 예상되며 SSD 수요 증가로 NAND 수급 안정화 전망임.']"
      ]
     },
     "execution_count": 14,
     "metadata": {},
     "output_type": "execute_result"
    }
   ],
   "source": [
    "cmp_comment_etc"
   ]
  },
  {
   "cell_type": "code",
   "execution_count": 15,
   "metadata": {},
   "outputs": [
    {
     "data": {
      "text/plain": [
       "['2025년 상반기 전년동기 대비 연결기준 매출액은 38.2% 증가, 영업이익은 99.3% 증가, 당기순이익은 150.1% 증가.',\n",
       " 'AI향 메모리 수요 성장과 우호적 가격 환경으로 DRAM과 NAND 출하량이 증가했고, 고부가가치 제품 판매로 실적이 개선됨.',\n",
       " 'AI 서버와 데이터센터 확산으로 HBM 수요 급증, DRAM은 프리미엄 제품 성장이 예상되며 SSD 수요 증가로 NAND 수급 안정화 전망임.']"
      ]
     },
     "execution_count": 15,
     "metadata": {},
     "output_type": "execute_result"
    }
   ],
   "source": [
    "# 한번에 리스트 만들기\n",
    "list(map(\n",
    "    lambda x: x.get_text(),\n",
    "    soup.find(\n",
    "    'div',\n",
    "    attrs = {\n",
    "        'class' : 'cmp_comment_etc'\n",
    "    }\n",
    "    ).find_all('li')\n",
    "))"
   ]
  },
  {
   "cell_type": "code",
   "execution_count": 37,
   "metadata": {},
   "outputs": [],
   "source": [
    "df2 = pd.DataFrame()\n",
    "df2['cmp_info'] = cmp_info\n",
    "df2['cmp_etc'] = cmp_comment_etc"
   ]
  },
  {
   "cell_type": "code",
   "execution_count": 39,
   "metadata": {},
   "outputs": [
    {
     "data": {
      "text/html": [
       "<div>\n",
       "<style scoped>\n",
       "    .dataframe tbody tr th:only-of-type {\n",
       "        vertical-align: middle;\n",
       "    }\n",
       "\n",
       "    .dataframe tbody tr th {\n",
       "        vertical-align: top;\n",
       "    }\n",
       "\n",
       "    .dataframe thead th {\n",
       "        text-align: right;\n",
       "    }\n",
       "</style>\n",
       "<table border=\"1\" class=\"dataframe\">\n",
       "  <thead>\n",
       "    <tr style=\"text-align: right;\">\n",
       "      <th></th>\n",
       "      <th>cmp_info</th>\n",
       "      <th>cmp_etc</th>\n",
       "    </tr>\n",
       "  </thead>\n",
       "  <tbody>\n",
       "    <tr>\n",
       "      <th>0</th>\n",
       "      <td>동사는 1967년 설립된 유가증권시장 상장 유가공 전문기업임.</td>\n",
       "      <td>2025년 상반기 전년동기 대비 연결기준 매출액은 38.2% 증가, 영업이익은 99...</td>\n",
       "    </tr>\n",
       "    <tr>\n",
       "      <th>1</th>\n",
       "      <td>바나나맛우유, 요플레, 투게더, 아카페라, 따옴 등 주요 제품을 보유하고 있으며, ...</td>\n",
       "      <td>AI향 메모리 수요 성장과 우호적 가격 환경으로 DRAM과 NAND 출하량이 증가했...</td>\n",
       "    </tr>\n",
       "    <tr>\n",
       "      <th>2</th>\n",
       "      <td>남양주, 광주, 김해, 논산, 경산에 생산공장을 보유하고 있으며, 식품연구소 내 6...</td>\n",
       "      <td>AI 서버와 데이터센터 확산으로 HBM 수요 급증, DRAM은 프리미엄 제품 성장이...</td>\n",
       "    </tr>\n",
       "  </tbody>\n",
       "</table>\n",
       "</div>"
      ],
      "text/plain": [
       "                                            cmp_info  \\\n",
       "0                 동사는 1967년 설립된 유가증권시장 상장 유가공 전문기업임.   \n",
       "1  바나나맛우유, 요플레, 투게더, 아카페라, 따옴 등 주요 제품을 보유하고 있으며, ...   \n",
       "2  남양주, 광주, 김해, 논산, 경산에 생산공장을 보유하고 있으며, 식품연구소 내 6...   \n",
       "\n",
       "                                             cmp_etc  \n",
       "0  2025년 상반기 전년동기 대비 연결기준 매출액은 38.2% 증가, 영업이익은 99...  \n",
       "1  AI향 메모리 수요 성장과 우호적 가격 환경으로 DRAM과 NAND 출하량이 증가했...  \n",
       "2  AI 서버와 데이터센터 확산으로 HBM 수요 급증, DRAM은 프리미엄 제품 성장이...  "
      ]
     },
     "execution_count": 39,
     "metadata": {},
     "output_type": "execute_result"
    }
   ],
   "source": [
    "df2"
   ]
  },
  {
   "cell_type": "code",
   "execution_count": 18,
   "metadata": {},
   "outputs": [],
   "source": [
    "df1 = pd.DataFrame(\n",
    "    [cmp_info, cmp_comment_etc],\n",
    "    index = ['cmp_info', 'cmp_etc']\n",
    ")"
   ]
  },
  {
   "cell_type": "code",
   "execution_count": 19,
   "metadata": {},
   "outputs": [
    {
     "data": {
      "text/html": [
       "<div>\n",
       "<style scoped>\n",
       "    .dataframe tbody tr th:only-of-type {\n",
       "        vertical-align: middle;\n",
       "    }\n",
       "\n",
       "    .dataframe tbody tr th {\n",
       "        vertical-align: top;\n",
       "    }\n",
       "\n",
       "    .dataframe thead th {\n",
       "        text-align: right;\n",
       "    }\n",
       "</style>\n",
       "<table border=\"1\" class=\"dataframe\">\n",
       "  <thead>\n",
       "    <tr style=\"text-align: right;\">\n",
       "      <th></th>\n",
       "      <th>0</th>\n",
       "      <th>1</th>\n",
       "      <th>2</th>\n",
       "    </tr>\n",
       "  </thead>\n",
       "  <tbody>\n",
       "    <tr>\n",
       "      <th>cmp_info</th>\n",
       "      <td>동사는 1949년 설립되어 경기도 이천시에 본사를 두고 4개의 생산기지와 3개의 연...</td>\n",
       "      <td>메모리 반도체와 Foundry 사업을 영위하며, DRAM과 NAND Flash를 주...</td>\n",
       "      <td>생성형 AI 시장의 신기술 등장과 시장 영향력 확대에 따라 고성능/고용량 메모리 솔...</td>\n",
       "    </tr>\n",
       "    <tr>\n",
       "      <th>cmp_etc</th>\n",
       "      <td>2025년 상반기 전년동기 대비 연결기준 매출액은 38.2% 증가, 영업이익은 99...</td>\n",
       "      <td>AI향 메모리 수요 성장과 우호적 가격 환경으로 DRAM과 NAND 출하량이 증가했...</td>\n",
       "      <td>AI 서버와 데이터센터 확산으로 HBM 수요 급증, DRAM은 프리미엄 제품 성장이...</td>\n",
       "    </tr>\n",
       "  </tbody>\n",
       "</table>\n",
       "</div>"
      ],
      "text/plain": [
       "                                                          0  \\\n",
       "cmp_info  동사는 1949년 설립되어 경기도 이천시에 본사를 두고 4개의 생산기지와 3개의 연...   \n",
       "cmp_etc   2025년 상반기 전년동기 대비 연결기준 매출액은 38.2% 증가, 영업이익은 99...   \n",
       "\n",
       "                                                          1  \\\n",
       "cmp_info  메모리 반도체와 Foundry 사업을 영위하며, DRAM과 NAND Flash를 주...   \n",
       "cmp_etc   AI향 메모리 수요 성장과 우호적 가격 환경으로 DRAM과 NAND 출하량이 증가했...   \n",
       "\n",
       "                                                          2  \n",
       "cmp_info  생성형 AI 시장의 신기술 등장과 시장 영향력 확대에 따라 고성능/고용량 메모리 솔...  \n",
       "cmp_etc   AI 서버와 데이터센터 확산으로 HBM 수요 급증, DRAM은 프리미엄 제품 성장이...  "
      ]
     },
     "execution_count": 19,
     "metadata": {},
     "output_type": "execute_result"
    }
   ],
   "source": [
    "df1"
   ]
  },
  {
   "cell_type": "code",
   "execution_count": 20,
   "metadata": {},
   "outputs": [
    {
     "data": {
      "text/html": [
       "<div>\n",
       "<style scoped>\n",
       "    .dataframe tbody tr th:only-of-type {\n",
       "        vertical-align: middle;\n",
       "    }\n",
       "\n",
       "    .dataframe tbody tr th {\n",
       "        vertical-align: top;\n",
       "    }\n",
       "\n",
       "    .dataframe thead th {\n",
       "        text-align: right;\n",
       "    }\n",
       "</style>\n",
       "<table border=\"1\" class=\"dataframe\">\n",
       "  <thead>\n",
       "    <tr style=\"text-align: right;\">\n",
       "      <th></th>\n",
       "      <th>cmp_info</th>\n",
       "      <th>cmp_etc</th>\n",
       "    </tr>\n",
       "  </thead>\n",
       "  <tbody>\n",
       "    <tr>\n",
       "      <th>0</th>\n",
       "      <td>동사는 1949년 설립되어 경기도 이천시에 본사를 두고 4개의 생산기지와 3개의 연...</td>\n",
       "      <td>2025년 상반기 전년동기 대비 연결기준 매출액은 38.2% 증가, 영업이익은 99...</td>\n",
       "    </tr>\n",
       "    <tr>\n",
       "      <th>1</th>\n",
       "      <td>메모리 반도체와 Foundry 사업을 영위하며, DRAM과 NAND Flash를 주...</td>\n",
       "      <td>AI향 메모리 수요 성장과 우호적 가격 환경으로 DRAM과 NAND 출하량이 증가했...</td>\n",
       "    </tr>\n",
       "    <tr>\n",
       "      <th>2</th>\n",
       "      <td>생성형 AI 시장의 신기술 등장과 시장 영향력 확대에 따라 고성능/고용량 메모리 솔...</td>\n",
       "      <td>AI 서버와 데이터센터 확산으로 HBM 수요 급증, DRAM은 프리미엄 제품 성장이...</td>\n",
       "    </tr>\n",
       "  </tbody>\n",
       "</table>\n",
       "</div>"
      ],
      "text/plain": [
       "                                            cmp_info  \\\n",
       "0  동사는 1949년 설립되어 경기도 이천시에 본사를 두고 4개의 생산기지와 3개의 연...   \n",
       "1  메모리 반도체와 Foundry 사업을 영위하며, DRAM과 NAND Flash를 주...   \n",
       "2  생성형 AI 시장의 신기술 등장과 시장 영향력 확대에 따라 고성능/고용량 메모리 솔...   \n",
       "\n",
       "                                             cmp_etc  \n",
       "0  2025년 상반기 전년동기 대비 연결기준 매출액은 38.2% 증가, 영업이익은 99...  \n",
       "1  AI향 메모리 수요 성장과 우호적 가격 환경으로 DRAM과 NAND 출하량이 증가했...  \n",
       "2  AI 서버와 데이터센터 확산으로 HBM 수요 급증, DRAM은 프리미엄 제품 성장이...  "
      ]
     },
     "execution_count": 20,
     "metadata": {},
     "output_type": "execute_result"
    }
   ],
   "source": [
    "#df2의 인덱스를 컬럼으로 컬럼을 인덱스로 변환하는 전치\n",
    "df1.T"
   ]
  },
  {
   "cell_type": "code",
   "execution_count": 40,
   "metadata": {},
   "outputs": [],
   "source": [
    "df2[\"code\"] = input_code"
   ]
  },
  {
   "cell_type": "code",
   "execution_count": 41,
   "metadata": {},
   "outputs": [
    {
     "data": {
      "text/html": [
       "<div>\n",
       "<style scoped>\n",
       "    .dataframe tbody tr th:only-of-type {\n",
       "        vertical-align: middle;\n",
       "    }\n",
       "\n",
       "    .dataframe tbody tr th {\n",
       "        vertical-align: top;\n",
       "    }\n",
       "\n",
       "    .dataframe thead th {\n",
       "        text-align: right;\n",
       "    }\n",
       "</style>\n",
       "<table border=\"1\" class=\"dataframe\">\n",
       "  <thead>\n",
       "    <tr style=\"text-align: right;\">\n",
       "      <th></th>\n",
       "      <th>cmp_info</th>\n",
       "      <th>cmp_etc</th>\n",
       "      <th>code</th>\n",
       "    </tr>\n",
       "  </thead>\n",
       "  <tbody>\n",
       "    <tr>\n",
       "      <th>0</th>\n",
       "      <td>동사는 1967년 설립된 유가증권시장 상장 유가공 전문기업임.</td>\n",
       "      <td>2025년 상반기 전년동기 대비 연결기준 매출액은 38.2% 증가, 영업이익은 99...</td>\n",
       "      <td>000660</td>\n",
       "    </tr>\n",
       "    <tr>\n",
       "      <th>1</th>\n",
       "      <td>바나나맛우유, 요플레, 투게더, 아카페라, 따옴 등 주요 제품을 보유하고 있으며, ...</td>\n",
       "      <td>AI향 메모리 수요 성장과 우호적 가격 환경으로 DRAM과 NAND 출하량이 증가했...</td>\n",
       "      <td>000660</td>\n",
       "    </tr>\n",
       "    <tr>\n",
       "      <th>2</th>\n",
       "      <td>남양주, 광주, 김해, 논산, 경산에 생산공장을 보유하고 있으며, 식품연구소 내 6...</td>\n",
       "      <td>AI 서버와 데이터센터 확산으로 HBM 수요 급증, DRAM은 프리미엄 제품 성장이...</td>\n",
       "      <td>000660</td>\n",
       "    </tr>\n",
       "  </tbody>\n",
       "</table>\n",
       "</div>"
      ],
      "text/plain": [
       "                                            cmp_info  \\\n",
       "0                 동사는 1967년 설립된 유가증권시장 상장 유가공 전문기업임.   \n",
       "1  바나나맛우유, 요플레, 투게더, 아카페라, 따옴 등 주요 제품을 보유하고 있으며, ...   \n",
       "2  남양주, 광주, 김해, 논산, 경산에 생산공장을 보유하고 있으며, 식품연구소 내 6...   \n",
       "\n",
       "                                             cmp_etc    code  \n",
       "0  2025년 상반기 전년동기 대비 연결기준 매출액은 38.2% 증가, 영업이익은 99...  000660  \n",
       "1  AI향 메모리 수요 성장과 우호적 가격 환경으로 DRAM과 NAND 출하량이 증가했...  000660  \n",
       "2  AI 서버와 데이터센터 확산으로 HBM 수요 급증, DRAM은 프리미엄 제품 성장이...  000660  "
      ]
     },
     "execution_count": 41,
     "metadata": {},
     "output_type": "execute_result"
    }
   ],
   "source": [
    "df2"
   ]
  },
  {
   "cell_type": "code",
   "execution_count": 154,
   "metadata": {},
   "outputs": [],
   "source": [
    "# 데이터프레임의 행 결합\n",
    "    # 조건 -> 데이터프레임의 구조가 같다.\n",
    "# pandas 안에 존재하는 concat() 함수를 이용\n",
    "# concat() -> 단순한 데이터프레임의 결합\n",
    "    # 첫 번째 인자 -> 데이터프레임들 [df, df2, df3, ...]\n",
    "    # axis 매개변수 -> 행으로 결합할 것인가, 열로 결합할 것인가?\n",
    "    # ignore_index -> 결합 후 인덱스를 초기화할 것인가?"
   ]
  },
  {
   "cell_type": "code",
   "execution_count": 23,
   "metadata": {},
   "outputs": [],
   "source": [
    "import requests"
   ]
  },
  {
   "cell_type": "code",
   "execution_count": 24,
   "metadata": {},
   "outputs": [],
   "source": [
    "input_code = \"005180\""
   ]
  },
  {
   "cell_type": "code",
   "execution_count": 25,
   "metadata": {},
   "outputs": [],
   "source": [
    "res = requests.get(url+input_code)"
   ]
  },
  {
   "cell_type": "code",
   "execution_count": 26,
   "metadata": {},
   "outputs": [
    {
     "data": {
      "text/plain": [
       "<Response [200]>"
      ]
     },
     "execution_count": 26,
     "metadata": {},
     "output_type": "execute_result"
    }
   ],
   "source": [
    "res"
   ]
  },
  {
   "cell_type": "code",
   "execution_count": 27,
   "metadata": {},
   "outputs": [],
   "source": [
    "soup = bs(res.text, 'html.parser')"
   ]
  },
  {
   "cell_type": "code",
   "execution_count": 28,
   "metadata": {},
   "outputs": [],
   "source": [
    "cmp_info = list(\n",
    "    map(\n",
    "        lambda x : x.get_text(),\n",
    "        soup.find(\n",
    "            'div', attrs = {'class' : 'cmp_comment'}\n",
    "        ).find_all('li')\n",
    "    )\n",
    ")\n",
    "cmp_etc = list(\n",
    "    map(\n",
    "        lambda x : x.get_text(),\n",
    "        soup.find(\n",
    "            'div', attrs = {'class' : 'cmp_comment_etc'}\n",
    "        ).find_all('li')\n",
    "    )\n",
    ")"
   ]
  },
  {
   "cell_type": "code",
   "execution_count": 29,
   "metadata": {},
   "outputs": [],
   "source": [
    "df3 = pd.DataFrame({'cmp_info' : cmp_info, 'cmp_etc' : cmp_etc})\n",
    "df3['code'] = input_code"
   ]
  },
  {
   "cell_type": "code",
   "execution_count": 30,
   "metadata": {},
   "outputs": [
    {
     "data": {
      "text/html": [
       "<div>\n",
       "<style scoped>\n",
       "    .dataframe tbody tr th:only-of-type {\n",
       "        vertical-align: middle;\n",
       "    }\n",
       "\n",
       "    .dataframe tbody tr th {\n",
       "        vertical-align: top;\n",
       "    }\n",
       "\n",
       "    .dataframe thead th {\n",
       "        text-align: right;\n",
       "    }\n",
       "</style>\n",
       "<table border=\"1\" class=\"dataframe\">\n",
       "  <thead>\n",
       "    <tr style=\"text-align: right;\">\n",
       "      <th></th>\n",
       "      <th>cmp_info</th>\n",
       "      <th>cmp_etc</th>\n",
       "      <th>code</th>\n",
       "    </tr>\n",
       "  </thead>\n",
       "  <tbody>\n",
       "    <tr>\n",
       "      <th>0</th>\n",
       "      <td>동사는 1967년 설립된 유가증권시장 상장 유가공 전문기업임.</td>\n",
       "      <td>2025년 상반기 전년동기 대비 연결기준 매출액은 1.4% 증가, 영업이익은 38....</td>\n",
       "      <td>005180</td>\n",
       "    </tr>\n",
       "    <tr>\n",
       "      <th>1</th>\n",
       "      <td>바나나맛우유, 요플레, 투게더, 아카페라, 따옴 등 주요 제품을 보유하고 있으며, ...</td>\n",
       "      <td>유가공 사업은 원재료 가격 상승과 일회성 비용으로 수익성이 하락했으나, 고품질 정책...</td>\n",
       "      <td>005180</td>\n",
       "    </tr>\n",
       "    <tr>\n",
       "      <th>2</th>\n",
       "      <td>남양주, 광주, 김해, 논산, 경산에 생산공장을 보유하고 있으며, 식품연구소 내 6...</td>\n",
       "      <td>국내는 기능성 제품 수요가 확산되고, 해외는 중국의 고품질 선호도, 베트남의 한류 ...</td>\n",
       "      <td>005180</td>\n",
       "    </tr>\n",
       "  </tbody>\n",
       "</table>\n",
       "</div>"
      ],
      "text/plain": [
       "                                            cmp_info  \\\n",
       "0                 동사는 1967년 설립된 유가증권시장 상장 유가공 전문기업임.   \n",
       "1  바나나맛우유, 요플레, 투게더, 아카페라, 따옴 등 주요 제품을 보유하고 있으며, ...   \n",
       "2  남양주, 광주, 김해, 논산, 경산에 생산공장을 보유하고 있으며, 식품연구소 내 6...   \n",
       "\n",
       "                                             cmp_etc    code  \n",
       "0  2025년 상반기 전년동기 대비 연결기준 매출액은 1.4% 증가, 영업이익은 38....  005180  \n",
       "1  유가공 사업은 원재료 가격 상승과 일회성 비용으로 수익성이 하락했으나, 고품질 정책...  005180  \n",
       "2  국내는 기능성 제품 수요가 확산되고, 해외는 중국의 고품질 선호도, 베트남의 한류 ...  005180  "
      ]
     },
     "execution_count": 30,
     "metadata": {},
     "output_type": "execute_result"
    }
   ],
   "source": [
    "df3"
   ]
  },
  {
   "cell_type": "code",
   "execution_count": 42,
   "metadata": {},
   "outputs": [
    {
     "data": {
      "text/html": [
       "<div>\n",
       "<style scoped>\n",
       "    .dataframe tbody tr th:only-of-type {\n",
       "        vertical-align: middle;\n",
       "    }\n",
       "\n",
       "    .dataframe tbody tr th {\n",
       "        vertical-align: top;\n",
       "    }\n",
       "\n",
       "    .dataframe thead th {\n",
       "        text-align: right;\n",
       "    }\n",
       "</style>\n",
       "<table border=\"1\" class=\"dataframe\">\n",
       "  <thead>\n",
       "    <tr style=\"text-align: right;\">\n",
       "      <th></th>\n",
       "      <th>cmp_info</th>\n",
       "      <th>cmp_etc</th>\n",
       "      <th>code</th>\n",
       "    </tr>\n",
       "  </thead>\n",
       "  <tbody>\n",
       "    <tr>\n",
       "      <th>0</th>\n",
       "      <td>동사는 1967년 설립된 유가증권시장 상장 유가공 전문기업임.</td>\n",
       "      <td>2025년 상반기 전년동기 대비 연결기준 매출액은 38.2% 증가, 영업이익은 99...</td>\n",
       "      <td>000660</td>\n",
       "    </tr>\n",
       "    <tr>\n",
       "      <th>1</th>\n",
       "      <td>바나나맛우유, 요플레, 투게더, 아카페라, 따옴 등 주요 제품을 보유하고 있으며, ...</td>\n",
       "      <td>AI향 메모리 수요 성장과 우호적 가격 환경으로 DRAM과 NAND 출하량이 증가했...</td>\n",
       "      <td>000660</td>\n",
       "    </tr>\n",
       "    <tr>\n",
       "      <th>2</th>\n",
       "      <td>남양주, 광주, 김해, 논산, 경산에 생산공장을 보유하고 있으며, 식품연구소 내 6...</td>\n",
       "      <td>AI 서버와 데이터센터 확산으로 HBM 수요 급증, DRAM은 프리미엄 제품 성장이...</td>\n",
       "      <td>000660</td>\n",
       "    </tr>\n",
       "    <tr>\n",
       "      <th>3</th>\n",
       "      <td>동사는 1967년 설립된 유가증권시장 상장 유가공 전문기업임.</td>\n",
       "      <td>2025년 상반기 전년동기 대비 연결기준 매출액은 1.4% 증가, 영업이익은 38....</td>\n",
       "      <td>005180</td>\n",
       "    </tr>\n",
       "    <tr>\n",
       "      <th>4</th>\n",
       "      <td>바나나맛우유, 요플레, 투게더, 아카페라, 따옴 등 주요 제품을 보유하고 있으며, ...</td>\n",
       "      <td>유가공 사업은 원재료 가격 상승과 일회성 비용으로 수익성이 하락했으나, 고품질 정책...</td>\n",
       "      <td>005180</td>\n",
       "    </tr>\n",
       "    <tr>\n",
       "      <th>5</th>\n",
       "      <td>남양주, 광주, 김해, 논산, 경산에 생산공장을 보유하고 있으며, 식품연구소 내 6...</td>\n",
       "      <td>국내는 기능성 제품 수요가 확산되고, 해외는 중국의 고품질 선호도, 베트남의 한류 ...</td>\n",
       "      <td>005180</td>\n",
       "    </tr>\n",
       "  </tbody>\n",
       "</table>\n",
       "</div>"
      ],
      "text/plain": [
       "                                            cmp_info  \\\n",
       "0                 동사는 1967년 설립된 유가증권시장 상장 유가공 전문기업임.   \n",
       "1  바나나맛우유, 요플레, 투게더, 아카페라, 따옴 등 주요 제품을 보유하고 있으며, ...   \n",
       "2  남양주, 광주, 김해, 논산, 경산에 생산공장을 보유하고 있으며, 식품연구소 내 6...   \n",
       "3                 동사는 1967년 설립된 유가증권시장 상장 유가공 전문기업임.   \n",
       "4  바나나맛우유, 요플레, 투게더, 아카페라, 따옴 등 주요 제품을 보유하고 있으며, ...   \n",
       "5  남양주, 광주, 김해, 논산, 경산에 생산공장을 보유하고 있으며, 식품연구소 내 6...   \n",
       "\n",
       "                                             cmp_etc    code  \n",
       "0  2025년 상반기 전년동기 대비 연결기준 매출액은 38.2% 증가, 영업이익은 99...  000660  \n",
       "1  AI향 메모리 수요 성장과 우호적 가격 환경으로 DRAM과 NAND 출하량이 증가했...  000660  \n",
       "2  AI 서버와 데이터센터 확산으로 HBM 수요 급증, DRAM은 프리미엄 제품 성장이...  000660  \n",
       "3  2025년 상반기 전년동기 대비 연결기준 매출액은 1.4% 증가, 영업이익은 38....  005180  \n",
       "4  유가공 사업은 원재료 가격 상승과 일회성 비용으로 수익성이 하락했으나, 고품질 정책...  005180  \n",
       "5  국내는 기능성 제품 수요가 확산되고, 해외는 중국의 고품질 선호도, 베트남의 한류 ...  005180  "
      ]
     },
     "execution_count": 42,
     "metadata": {},
     "output_type": "execute_result"
    }
   ],
   "source": [
    "pd.concat(\n",
    "    [df2, df3], axis = 0, ignore_index = True\n",
    ")"
   ]
  },
  {
   "cell_type": "code",
   "execution_count": null,
   "metadata": {},
   "outputs": [],
   "source": []
  }
 ],
 "metadata": {
  "kernelspec": {
   "display_name": "venv",
   "language": "python",
   "name": "python3"
  },
  "language_info": {
   "codemirror_mode": {
    "name": "ipython",
    "version": 3
   },
   "file_extension": ".py",
   "mimetype": "text/x-python",
   "name": "python",
   "nbconvert_exporter": "python",
   "pygments_lexer": "ipython3",
   "version": "3.13.7"
  },
  "orig_nbformat": 4
 },
 "nbformat": 4,
 "nbformat_minor": 2
}
