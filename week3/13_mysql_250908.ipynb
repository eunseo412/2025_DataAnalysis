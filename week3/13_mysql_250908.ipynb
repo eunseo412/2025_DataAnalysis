{
 "cells": [
  {
   "cell_type": "markdown",
   "metadata": {},
   "source": [
    "- DB 서버의 정보\n",
    "    - 주소\n",
    "    - port\n",
    "    - user명\n",
    "    - 비밀번호\n",
    "    - 데이터베이스명\n",
    "\n",
    "- 서버의 정보들은 외부에 노출이 되면 보안적으로 문제 발생할 수 있다.\n",
    "    - 서버의 정보와 같이 외부에 노출이 되는 데이터는 dotenv를 이용하여 데이터를 숨겨서 사용(환경변수 사용)"
   ]
  },
  {
   "cell_type": "code",
   "execution_count": 60,
   "metadata": {},
   "outputs": [],
   "source": [
    "# dotenv 라이브러리 설치\n",
    "# !pip install python-dotenv"
   ]
  },
  {
   "cell_type": "code",
   "execution_count": 61,
   "metadata": {},
   "outputs": [],
   "source": [
    "import pandas as pd\n",
    "import pymysql\n",
    "import os\n",
    "from dotenv import load_dotenv"
   ]
  },
  {
   "cell_type": "code",
   "execution_count": 62,
   "metadata": {},
   "outputs": [
    {
     "data": {
      "text/plain": [
       "True"
      ]
     },
     "execution_count": 62,
     "metadata": {},
     "output_type": "execute_result"
    }
   ],
   "source": [
    "load_dotenv()"
   ]
  },
  {
   "cell_type": "code",
   "execution_count": 63,
   "metadata": {},
   "outputs": [
    {
     "data": {
      "text/plain": [
       "'multicam'"
      ]
     },
     "execution_count": 63,
     "metadata": {},
     "output_type": "execute_result"
    }
   ],
   "source": [
    "# 등록된 환경변수에 접근\n",
    "# 획득하다 get + 환경변수 env\n",
    "# getenv {변수명} -> return data의 type이 str\n",
    "os.getenv('db_name')"
   ]
  },
  {
   "cell_type": "code",
   "execution_count": 64,
   "metadata": {},
   "outputs": [],
   "source": [
    "_db = pymysql.connect(\n",
    "    host = os.getenv('host'),\n",
    "    port = int(os.getenv('port')),\n",
    "    user = os.getenv('user'),\n",
    "    password = os.getenv('pw'),\n",
    "    db = os.getenv('db_name')\n",
    ")"
   ]
  },
  {
   "cell_type": "code",
   "execution_count": 65,
   "metadata": {},
   "outputs": [],
   "source": [
    "cursor = _db.cursor(pymysql.cursors.DictCursor)"
   ]
  },
  {
   "cell_type": "code",
   "execution_count": 66,
   "metadata": {},
   "outputs": [
    {
     "data": {
      "text/plain": [
       "0"
      ]
     },
     "execution_count": 66,
     "metadata": {},
     "output_type": "execute_result"
    }
   ],
   "source": [
    "create_user_query = \"\"\"\n",
    "    CREATE TABLE if not exists `user_info`\n",
    "    (\n",
    "        `id` varchar(35) primary key,\n",
    "        `password` varchar(45) not null,\n",
    "        `name` varchar(45),\n",
    "        `birth` varchar(10)\n",
    "    )\n",
    "\"\"\"\n",
    "cursor.execute(create_user_query)"
   ]
  },
  {
   "cell_type": "code",
   "execution_count": 69,
   "metadata": {},
   "outputs": [
    {
     "data": {
      "text/plain": [
       "1"
      ]
     },
     "execution_count": 69,
     "metadata": {},
     "output_type": "execute_result"
    }
   ],
   "source": [
    "# query문 안에 유저가 입력한 데이터를 대입하여 quert 실행\n",
    "# 회원가입을 설정\n",
    "# 입력데이터가 4개 id, password, name, birth\n",
    "input_id = input('id를 입력하시오')\n",
    "input_pass = input('password를 입력하시오')\n",
    "input_name = input('name을 입력하시오')\n",
    "input_birth = input('birth를 입력하시오')\n",
    "\n",
    "# 회원 정보를 저장하는 query 생성\n",
    "signup_query = \"\"\"\n",
    "    insert into\n",
    "    `user_info`\n",
    "    values\n",
    "    ( %s, %s, %s, %s )  \n",
    "\"\"\"\n",
    "\n",
    "# signup_query와 데이터를 이용하여 execute 사용\n",
    "cursor.execute(signup_query, [input_id, input_pass, input_name, input_birth])"
   ]
  },
  {
   "cell_type": "markdown",
   "metadata": {},
   "source": [
    "- CUD(insert, update, delete)\n",
    "    - query 작성\n",
    "        - 데이터가 존재한다면 데이터들을 리스트나 튜플의 형태로 생성\n",
    "    - execute() 함수를 이용하여 cursor에 질의를 보낸다.\n",
    "        - cursor에 존재하는 table의 data가 변화\n",
    "    - DB server와 cursor를 동기화 (.commit())\n",
    "    - DB server와의 연결을 종료\n",
    "\n",
    "- R(select)\n",
    "    - query 작성\n",
    "        - 데이터가 존재한다면 데이터들을 리스트나 튜플의 형태로 생성\n",
    "    - execute() 함수를 이용하여 cursor에 질의를 보낸다.\n",
    "        - cursor에 존재하는 table의 data에 변화는 없음\n",
    "    - execute() 함수의 결과를 불러와서 변수에 저장(fetchall())\n",
    "    - DB server와의 연결을 종료"
   ]
  },
  {
   "cell_type": "code",
   "execution_count": 70,
   "metadata": {},
   "outputs": [],
   "source": [
    "# query문이 select문인가?\n",
    "test_query = \"\"\"\n",
    "    select\n",
    "    *\n",
    "    from\n",
    "\"\"\""
   ]
  },
  {
   "cell_type": "code",
   "execution_count": null,
   "metadata": {},
   "outputs": [
    {
     "data": {
      "text/plain": [
       "True"
      ]
     },
     "execution_count": 20,
     "metadata": {},
     "output_type": "execute_result"
    }
   ],
   "source": [
    "# query문이 select인가?\n",
    "# 방법1\n",
    "text_data = 'select'\n",
    "test_query.strip().lower()[ : len(text_data)] == text_data"
   ]
  },
  {
   "cell_type": "code",
   "execution_count": null,
   "metadata": {},
   "outputs": [
    {
     "data": {
      "text/plain": [
       "True"
      ]
     },
     "execution_count": 22,
     "metadata": {},
     "output_type": "execute_result"
    }
   ],
   "source": [
    "#방법2 \n",
    "test_query.lower().split()[0] == text_data\n"
   ]
  },
  {
   "cell_type": "code",
   "execution_count": null,
   "metadata": {},
   "outputs": [
    {
     "data": {
      "text/plain": [
       "True"
      ]
     },
     "execution_count": 29,
     "metadata": {},
     "output_type": "execute_result"
    }
   ],
   "source": [
    "#방법3\n",
    "test_query.lower().strip().startswith(text_data)"
   ]
  },
  {
   "cell_type": "code",
   "execution_count": null,
   "metadata": {},
   "outputs": [],
   "source": [
    "# CRUD query를 모두 사용할 수 있는 함수 생성\n",
    "# 매개변수 2개 -> query문, query문에 대입되는 데이터들(가변)\n",
    "def sql_query(\n",
    "        _query, *_data_list\n",
    "):\n",
    "    # *(가변)은 0개도 포함. 빈리스트 생성 가능하기 때문, 입력할 때는 데이터 묶어줄 필요 없음\n",
    "    # query문을 실행을 시도한다.\n",
    "    try:\n",
    "    # 질의를 보낸다\n",
    "        cursor.execute(_query, _data_list)\n",
    "    #execute 함수가 에러가 발생한다면\n",
    "    except Exception as e:\n",
    "        print(e)\n",
    "        # 함수를 강제로 종료하면서 메시지 되돌려준다.\n",
    "        return \"Query Error\"\n",
    "    # _query 는 sql query문이 문자로 입력이 되는 부분\n",
    "    # _query가 select문인가?\n",
    "    if _query.lower().strip().startswith('select'):\n",
    "        result = cursor.fetchall()\n",
    "\n",
    "    else:\n",
    "        result = 'Query OK'\n",
    "\n",
    "    return result"
   ]
  },
  {
   "cell_type": "code",
   "execution_count": 71,
   "metadata": {},
   "outputs": [
    {
     "data": {
      "text/plain": [
       "[{'id': '', 'password': '', 'name': '', 'birth': ''},\n",
       " {'id': 'test', 'password': '1234', 'name': 'kim', 'birth': '900101'},\n",
       " {'id': 'test0000', 'password': '1234', 'name': 'park', 'birth': '000101'},\n",
       " {'id': 'test1234', 'password': '1234', 'name': 'kim', 'birth': '900101'},\n",
       " {'id': 'test2', 'password': '1234', 'name': 'park', 'birth': '000101'},\n",
       " {'id': 'test9999', 'password': '7890', 'name': 'seo', 'birth': '030101'}]"
      ]
     },
     "execution_count": 71,
     "metadata": {},
     "output_type": "execute_result"
    }
   ],
   "source": [
    "test_query = \"\"\"\n",
    "select\n",
    "*\n",
    "from\n",
    "`user_info`\n",
    "\"\"\"\n",
    "\n",
    "sql_query(test_query)"
   ]
  },
  {
   "cell_type": "code",
   "execution_count": 72,
   "metadata": {},
   "outputs": [],
   "source": [
    "# 로그인 과정\n",
    "# 유저가 입력한 id, password를 이용해서 데이터베이스에 데이터가 존재하는가?\n",
    "input_id = input(\"id 입력하시오\")\n",
    "input_pass = input(\"password 입력하시오\")\n",
    "\n",
    "login_query = \"\"\"\n",
    "    select\n",
    "    *\n",
    "    from\n",
    "    `user_info`\n",
    "    where\n",
    "    `id` = %s\n",
    "    and\n",
    "    `password` = %s\n",
    "\"\"\"\n",
    "\n",
    "login_result = sql_query(login_query, input_id, input_pass)"
   ]
  },
  {
   "cell_type": "code",
   "execution_count": null,
   "metadata": {},
   "outputs": [
    {
     "data": {
      "text/plain": [
       "()"
      ]
     },
     "execution_count": 41,
     "metadata": {},
     "output_type": "execute_result"
    }
   ],
   "source": [
    "login_result"
   ]
  },
  {
   "cell_type": "code",
   "execution_count": null,
   "metadata": {},
   "outputs": [
    {
     "name": "stdout",
     "output_type": "stream",
     "text": [
      "로그인 실패\n"
     ]
    }
   ],
   "source": [
    "if login_result:\n",
    "    # login_result에 데이터가 존재한다면 -> 길이가 1인\n",
    "    print('로그인 성공')\n",
    "else:\n",
    "    # login_result에 데이터가 존재하지 않는다면 -> 길이가 0인\n",
    "    print('로그인 실패')"
   ]
  },
  {
   "cell_type": "code",
   "execution_count": null,
   "metadata": {},
   "outputs": [
    {
     "data": {
      "text/plain": [
       "'Query OK'"
      ]
     },
     "execution_count": 42,
     "metadata": {},
     "output_type": "execute_result"
    }
   ],
   "source": [
    "input_id = 'test0000'\n",
    "input_pass = '1234'\n",
    "input_name = 'park'\n",
    "input_birth = '000101'\n",
    "\n",
    "insert_query = \"\"\"\n",
    "    insert into\n",
    "    `user_info`\n",
    "    values\n",
    "    (%s, %s, %s, %s)\n",
    "\"\"\"\n",
    "sql_query(insert_query, input_id, input_pass, input_name, input_birth)"
   ]
  },
  {
   "cell_type": "code",
   "execution_count": 84,
   "metadata": {},
   "outputs": [],
   "source": [
    "# 데이터베이스 서버와 cursor를 동기화하고 서버와의 연결을 종료하는 함수 생성\n",
    "def commit_db():\n",
    "    # cursor와 데이터베이스서버와의 동기화\n",
    "    _db.commit()\n",
    "    print('Commit 완료')\n",
    "    # 데이터베이스 서버와의 연결을 종료\n",
    "    _db.close()\n",
    "    print('서버와의 연결 종료')\n",
    "\n"
   ]
  },
  {
   "cell_type": "code",
   "execution_count": 85,
   "metadata": {},
   "outputs": [
    {
     "name": "stdout",
     "output_type": "stream",
     "text": [
      "Commit 완료\n",
      "서버와의 연결 종료\n"
     ]
    }
   ],
   "source": [
    "commit_db()"
   ]
  },
  {
   "cell_type": "code",
   "execution_count": 154,
   "metadata": {},
   "outputs": [],
   "source": [
    "class MyDB():\n",
    "    # 생성자 함수\n",
    "    # class 내부에서 사용하려는 변수의 데이터를 대입하는 함수\n",
    "    # class 생성 될 때 한번만 실행이 되는 함수\n",
    "    # 입력 받을 데이터는 데이터베이스 서버의 정보 -> 기본값 설정(로컬피씨의 데이터베이스 정보)\n",
    "\n",
    "    def __init__(\n",
    "            self, \n",
    "            _host = os.getenv('host'),\n",
    "            _port = int(os.getenv('port')),\n",
    "            _user = os.getenv('user'),\n",
    "            _pw = os.getenv('pw'),\n",
    "            _db_name = os.getenv('db_name')\n",
    "    ):\n",
    "        # self.변수를 생성\n",
    "        # class에서 사용할 서버의 정보를 변수에 저장\n",
    "        self.host = _host\n",
    "        self.port = _port\n",
    "        self.user = _user\n",
    "        self.pw = _pw\n",
    "        self.db_name = _db_name\n",
    "\n",
    "    def sql_query(\n",
    "            self,\n",
    "            #위에서 작성한 self 변수들을 써야하기 때문에\n",
    "            _query,\n",
    "            *_data_list\n",
    "    ):\n",
    "        # _query 매개변수는 기본값이 존재하지 않으므로 필수 입력 공간\n",
    "        # _data_list는 인자의 개수를 가변으로 받는다. 개수가 0개면 ()을 생성\n",
    "\n",
    "        # database 서버와의 연결(_db 변수를 생성하여 연결)\n",
    "        # pymysql.connect 함수는 입력값이 서버의 정보\n",
    "\n",
    "        try: \n",
    "            # self._db라는 변수를 확인\n",
    "            self._db\n",
    "            # 해당 변수가 선언이 되어있지 않다면 NameError 발생\n",
    "        except:\n",
    "            # self._db\n",
    "            self._db = pymysql.connect(\n",
    "                host = self.host,\n",
    "                port = self.port,\n",
    "                user = self.user,\n",
    "                password = self.pw,\n",
    "                db = self.db_name\n",
    "            )\n",
    "\n",
    "        # self._db 이용하여 cursor 생성\n",
    "        # pymysql의 cursor 들 중에 딕셔너리 커서를 사용하여 만들기\n",
    "        self.cursor = self._db.cursor(pymysql.cursors.DictCursor)\n",
    "\n",
    "        #_query와 _data_list를 이용하여 self.cursor에 질의 보낸다.\n",
    "        # 질의를 보내는 과정에서 문제가 발생하면 예외처리를 한다.\n",
    "        try:\n",
    "            self.cursor.execute(_query, _data_list)\n",
    "        except Exception as e:\n",
    "            # 무슨 에러인지 출력\n",
    "            print(e)\n",
    "            # query 문에서 문제가 발생했으니 \n",
    "            return 'Query Error'\n",
    "        \n",
    "        if _query.lower().strip().startswith('select'):\n",
    "            # query 문이 select문이라면\n",
    "            result = self.cursor.fetchall()\n",
    "        else:\n",
    "            # select문이 아닌경우\n",
    "            result = \"Query OK\"\n",
    "        return result\n",
    "\n",
    "\n",
    "    def commit_db(self):\n",
    "        try:\n",
    "            self._db.commit()\n",
    "            print('Commit 완료')\n",
    "            self._db.close()\n",
    "            print('서버와의 연결 종료')\n",
    "            # 변수를 삭제\n",
    "            del self._db\n",
    "        except Exception as e:\n",
    "            print(e)\n",
    "            # self._db와 self._cursor가 생성되지 않은 상황\n",
    "            print('''데이터베이스 서버와의 연결이 없습니다. sql_query() 함수를 이용하여 서버와의 연결을 해주세요''')\n",
    "\n",
    "\n",
    "\n",
    "##\n",
    "# 함수에서 전역변수에 접근하려면 globals를 사용해야하는 것처럼\n",
    "# class에서 . class 안에서의 공간에서 사용하려는 변수에는 self를 붙인다.\n",
    "# 일반적으로 함수 내부의 변수는 함수에서만 사용 가능한데,\n",
    "# self를 붙이면 class내부의 다른 함수에서도 사용이 가능하다."
   ]
  },
  {
   "cell_type": "code",
   "execution_count": 155,
   "metadata": {},
   "outputs": [],
   "source": [
    "# MyDB class 생성하는데 생성자 함수의 매개변수는 기본값으로 사용\n",
    "# 로컬피씨에 있는 데이터베이스에 연결\n",
    "db1 = MyDB()"
   ]
  },
  {
   "cell_type": "code",
   "execution_count": 113,
   "metadata": {},
   "outputs": [],
   "source": [
    "# db2 = MyDB(\n",
    "#     '192.168.50.40',\n",
    "#     3306,\n",
    "#     'test2',\n",
    "#     '1234',\n",
    "#     'multicam'\n",
    "# )"
   ]
  },
  {
   "cell_type": "code",
   "execution_count": 157,
   "metadata": {},
   "outputs": [],
   "source": [
    "select_query = \"\"\"\n",
    "    select\n",
    "    *\n",
    "    from\n",
    "    `user_info`\n",
    "\"\"\""
   ]
  },
  {
   "cell_type": "code",
   "execution_count": 158,
   "metadata": {},
   "outputs": [
    {
     "data": {
      "text/plain": [
       "[{'id': '', 'password': '', 'name': '', 'birth': ''},\n",
       " {'id': 'test', 'password': '1234', 'name': 'kim', 'birth': '900101'},\n",
       " {'id': 'test0000', 'password': '0123', 'name': 'park', 'birth': '000101'},\n",
       " {'id': 'test1234', 'password': '0123', 'name': 'kim', 'birth': '900101'},\n",
       " {'id': 'test2', 'password': '1234', 'name': 'park', 'birth': '000101'},\n",
       " {'id': 'test9999', 'password': '0123', 'name': 'seo', 'birth': '030101'}]"
      ]
     },
     "execution_count": 158,
     "metadata": {},
     "output_type": "execute_result"
    }
   ],
   "source": [
    "db1.sql_query(select_query)"
   ]
  },
  {
   "cell_type": "code",
   "execution_count": 116,
   "metadata": {},
   "outputs": [],
   "source": [
    "# db2.sql_query(select_query)"
   ]
  },
  {
   "cell_type": "code",
   "execution_count": 159,
   "metadata": {},
   "outputs": [],
   "source": [
    "update_query = \"\"\"\n",
    "    update\n",
    "    `user_info`\n",
    "    set\n",
    "    `password` = \"0123\"\n",
    "    where\n",
    "    `id` = 'test2'\n",
    "\"\"\""
   ]
  },
  {
   "cell_type": "code",
   "execution_count": 168,
   "metadata": {},
   "outputs": [
    {
     "name": "stdout",
     "output_type": "stream",
     "text": [
      "(0, '')\n"
     ]
    },
    {
     "data": {
      "text/plain": [
       "'Query Error'"
      ]
     },
     "execution_count": 168,
     "metadata": {},
     "output_type": "execute_result"
    }
   ],
   "source": [
    "db1.sql_query(update_query)"
   ]
  },
  {
   "cell_type": "code",
   "execution_count": 147,
   "metadata": {},
   "outputs": [
    {
     "name": "stdout",
     "output_type": "stream",
     "text": [
      "Commit 완료\n",
      "서버와의 연결 종료\n"
     ]
    }
   ],
   "source": [
    "db1.commit_db()"
   ]
  },
  {
   "cell_type": "code",
   "execution_count": 148,
   "metadata": {},
   "outputs": [
    {
     "data": {
      "text/plain": [
       "[{'id': '', 'password': '', 'name': '', 'birth': ''},\n",
       " {'id': 'test', 'password': '1234', 'name': 'kim', 'birth': '900101'},\n",
       " {'id': 'test0000', 'password': '0123', 'name': 'park', 'birth': '000101'},\n",
       " {'id': 'test1234', 'password': '0123', 'name': 'kim', 'birth': '900101'},\n",
       " {'id': 'test2', 'password': '1234', 'name': 'park', 'birth': '000101'},\n",
       " {'id': 'test9999', 'password': '0123', 'name': 'seo', 'birth': '030101'}]"
      ]
     },
     "execution_count": 148,
     "metadata": {},
     "output_type": "execute_result"
    }
   ],
   "source": [
    "db1.sql_query(select_query)"
   ]
  },
  {
   "cell_type": "code",
   "execution_count": 161,
   "metadata": {},
   "outputs": [],
   "source": [
    "import database"
   ]
  },
  {
   "cell_type": "code",
   "execution_count": 162,
   "metadata": {},
   "outputs": [],
   "source": [
    "# database 모듈 안에 있는 MyDB 생성\n",
    "mod_db = database.MyDB()"
   ]
  },
  {
   "cell_type": "code",
   "execution_count": 164,
   "metadata": {},
   "outputs": [],
   "source": [
    "# mod_db에 입력이 되는 데이터베이스 서버의 정보는? -> 로컬\n",
    "select_query2 = \"\"\"\n",
    "    select * from `user_info`\n",
    "\"\"\"\n",
    "db_data = mod_db.sql_query(select_query2)"
   ]
  },
  {
   "cell_type": "code",
   "execution_count": 165,
   "metadata": {},
   "outputs": [
    {
     "data": {
      "text/html": [
       "<div>\n",
       "<style scoped>\n",
       "    .dataframe tbody tr th:only-of-type {\n",
       "        vertical-align: middle;\n",
       "    }\n",
       "\n",
       "    .dataframe tbody tr th {\n",
       "        vertical-align: top;\n",
       "    }\n",
       "\n",
       "    .dataframe thead th {\n",
       "        text-align: right;\n",
       "    }\n",
       "</style>\n",
       "<table border=\"1\" class=\"dataframe\">\n",
       "  <thead>\n",
       "    <tr style=\"text-align: right;\">\n",
       "      <th></th>\n",
       "      <th>id</th>\n",
       "      <th>password</th>\n",
       "      <th>name</th>\n",
       "      <th>birth</th>\n",
       "    </tr>\n",
       "  </thead>\n",
       "  <tbody>\n",
       "    <tr>\n",
       "      <th>0</th>\n",
       "      <td></td>\n",
       "      <td></td>\n",
       "      <td></td>\n",
       "      <td></td>\n",
       "    </tr>\n",
       "    <tr>\n",
       "      <th>1</th>\n",
       "      <td>test</td>\n",
       "      <td>1234</td>\n",
       "      <td>kim</td>\n",
       "      <td>900101</td>\n",
       "    </tr>\n",
       "    <tr>\n",
       "      <th>2</th>\n",
       "      <td>test0000</td>\n",
       "      <td>0123</td>\n",
       "      <td>park</td>\n",
       "      <td>000101</td>\n",
       "    </tr>\n",
       "    <tr>\n",
       "      <th>3</th>\n",
       "      <td>test1234</td>\n",
       "      <td>0123</td>\n",
       "      <td>kim</td>\n",
       "      <td>900101</td>\n",
       "    </tr>\n",
       "    <tr>\n",
       "      <th>4</th>\n",
       "      <td>test2</td>\n",
       "      <td>1234</td>\n",
       "      <td>park</td>\n",
       "      <td>000101</td>\n",
       "    </tr>\n",
       "    <tr>\n",
       "      <th>5</th>\n",
       "      <td>test9999</td>\n",
       "      <td>0123</td>\n",
       "      <td>seo</td>\n",
       "      <td>030101</td>\n",
       "    </tr>\n",
       "  </tbody>\n",
       "</table>\n",
       "</div>"
      ],
      "text/plain": [
       "         id password  name   birth\n",
       "0                                 \n",
       "1      test     1234   kim  900101\n",
       "2  test0000     0123  park  000101\n",
       "3  test1234     0123   kim  900101\n",
       "4     test2     1234  park  000101\n",
       "5  test9999     0123   seo  030101"
      ]
     },
     "execution_count": 165,
     "metadata": {},
     "output_type": "execute_result"
    }
   ],
   "source": [
    "pd.DataFrame(db_data)"
   ]
  },
  {
   "cell_type": "code",
   "execution_count": 166,
   "metadata": {},
   "outputs": [],
   "source": [
    "# database.py 파일을 python 환경변수에 이동\n",
    "\n",
    "# 환경 변수의 목록을 확인하기 위해 라이브러리 하나 호출\n",
    "import sys"
   ]
  },
  {
   "cell_type": "code",
   "execution_count": 167,
   "metadata": {},
   "outputs": [
    {
     "data": {
      "text/plain": [
       "['/Users/eunseo/Documents/data_boot/lecture/code/week3',\n",
       " '/opt/homebrew/Cellar/python@3.13/3.13.7/Frameworks/Python.framework/Versions/3.13/lib/python313.zip',\n",
       " '/opt/homebrew/Cellar/python@3.13/3.13.7/Frameworks/Python.framework/Versions/3.13/lib/python3.13',\n",
       " '/opt/homebrew/Cellar/python@3.13/3.13.7/Frameworks/Python.framework/Versions/3.13/lib/python3.13/lib-dynload',\n",
       " '',\n",
       " '/Users/eunseo/Documents/data_boot/venv/lib/python3.13/site-packages']"
      ]
     },
     "execution_count": 167,
     "metadata": {},
     "output_type": "execute_result"
    }
   ],
   "source": [
    "sys.path"
   ]
  },
  {
   "cell_type": "code",
   "execution_count": null,
   "metadata": {},
   "outputs": [],
   "source": []
  }
 ],
 "metadata": {
  "kernelspec": {
   "display_name": "Python 3",
   "language": "python",
   "name": "python3"
  },
  "language_info": {
   "codemirror_mode": {
    "name": "ipython",
    "version": 3
   },
   "file_extension": ".py",
   "mimetype": "text/x-python",
   "name": "python",
   "nbconvert_exporter": "python",
   "pygments_lexer": "ipython3",
   "version": "3.13.7"
  },
  "orig_nbformat": 4
 },
 "nbformat": 4,
 "nbformat_minor": 2
}
