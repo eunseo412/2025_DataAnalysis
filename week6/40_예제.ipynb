{
 "cells": [
  {
   "cell_type": "markdown",
   "metadata": {},
   "source": [
    "## 객실의 사용 여부 관련 데이터\n",
    "1. 데이터를 로드(hotel_bookings.csv)\n",
    "2. 데이터에 대한 정보를 확인\n",
    "3. 해당 데이터에서 문제가 있는 부분을 확인하여 수정"
   ]
  },
  {
   "cell_type": "code",
   "execution_count": 353,
   "metadata": {},
   "outputs": [],
   "source": [
    "import pandas as pd\n",
    "import numpy as np\n",
    "import matplotlib.pyplot as plt"
   ]
  },
  {
   "cell_type": "code",
   "execution_count": 354,
   "metadata": {},
   "outputs": [
    {
     "data": {
      "text/html": [
       "<div>\n",
       "<style scoped>\n",
       "    .dataframe tbody tr th:only-of-type {\n",
       "        vertical-align: middle;\n",
       "    }\n",
       "\n",
       "    .dataframe tbody tr th {\n",
       "        vertical-align: top;\n",
       "    }\n",
       "\n",
       "    .dataframe thead th {\n",
       "        text-align: right;\n",
       "    }\n",
       "</style>\n",
       "<table border=\"1\" class=\"dataframe\">\n",
       "  <thead>\n",
       "    <tr style=\"text-align: right;\">\n",
       "      <th></th>\n",
       "      <th>is_canceled</th>\n",
       "      <th>deposit_type</th>\n",
       "      <th>lead_time</th>\n",
       "      <th>stays_in_weekend_nights</th>\n",
       "      <th>stays_in_week_nights</th>\n",
       "      <th>is_repeated_guest</th>\n",
       "      <th>previous_cancellations</th>\n",
       "      <th>previous_bookings_not_canceled</th>\n",
       "      <th>booking_changes</th>\n",
       "      <th>days_in_waiting_list</th>\n",
       "      <th>adr</th>\n",
       "    </tr>\n",
       "  </thead>\n",
       "  <tbody>\n",
       "    <tr>\n",
       "      <th>0</th>\n",
       "      <td>0</td>\n",
       "      <td>No Deposit</td>\n",
       "      <td>105.0</td>\n",
       "      <td>2</td>\n",
       "      <td>5</td>\n",
       "      <td>NaN</td>\n",
       "      <td>0</td>\n",
       "      <td>0</td>\n",
       "      <td>1</td>\n",
       "      <td>0</td>\n",
       "      <td>131.50</td>\n",
       "    </tr>\n",
       "    <tr>\n",
       "      <th>1</th>\n",
       "      <td>0</td>\n",
       "      <td>No Deposit</td>\n",
       "      <td>303.0</td>\n",
       "      <td>2</td>\n",
       "      <td>2</td>\n",
       "      <td>NaN</td>\n",
       "      <td>0</td>\n",
       "      <td>0</td>\n",
       "      <td>0</td>\n",
       "      <td>0</td>\n",
       "      <td>73.95</td>\n",
       "    </tr>\n",
       "    <tr>\n",
       "      <th>2</th>\n",
       "      <td>0</td>\n",
       "      <td>No Deposit</td>\n",
       "      <td>33.0</td>\n",
       "      <td>2</td>\n",
       "      <td>3</td>\n",
       "      <td>0.0</td>\n",
       "      <td>0</td>\n",
       "      <td>0</td>\n",
       "      <td>0</td>\n",
       "      <td>0</td>\n",
       "      <td>NaN</td>\n",
       "    </tr>\n",
       "    <tr>\n",
       "      <th>3</th>\n",
       "      <td>0</td>\n",
       "      <td>No Deposit</td>\n",
       "      <td>48.0</td>\n",
       "      <td>0</td>\n",
       "      <td>1</td>\n",
       "      <td>0.0</td>\n",
       "      <td>0</td>\n",
       "      <td>0</td>\n",
       "      <td>1</td>\n",
       "      <td>0</td>\n",
       "      <td>80.30</td>\n",
       "    </tr>\n",
       "    <tr>\n",
       "      <th>4</th>\n",
       "      <td>0</td>\n",
       "      <td>No Deposit</td>\n",
       "      <td>216.0</td>\n",
       "      <td>4</td>\n",
       "      <td>7</td>\n",
       "      <td>0.0</td>\n",
       "      <td>0</td>\n",
       "      <td>0</td>\n",
       "      <td>2</td>\n",
       "      <td>0</td>\n",
       "      <td>60.90</td>\n",
       "    </tr>\n",
       "  </tbody>\n",
       "</table>\n",
       "</div>"
      ],
      "text/plain": [
       "   is_canceled deposit_type  lead_time  stays_in_weekend_nights  \\\n",
       "0            0   No Deposit      105.0                        2   \n",
       "1            0   No Deposit      303.0                        2   \n",
       "2            0   No Deposit       33.0                        2   \n",
       "3            0   No Deposit       48.0                        0   \n",
       "4            0   No Deposit      216.0                        4   \n",
       "\n",
       "   stays_in_week_nights  is_repeated_guest  previous_cancellations  \\\n",
       "0                     5                NaN                       0   \n",
       "1                     2                NaN                       0   \n",
       "2                     3                0.0                       0   \n",
       "3                     1                0.0                       0   \n",
       "4                     7                0.0                       0   \n",
       "\n",
       "   previous_bookings_not_canceled  booking_changes  days_in_waiting_list  \\\n",
       "0                               0                1                     0   \n",
       "1                               0                0                     0   \n",
       "2                               0                0                     0   \n",
       "3                               0                1                     0   \n",
       "4                               0                2                     0   \n",
       "\n",
       "      adr  \n",
       "0  131.50  \n",
       "1   73.95  \n",
       "2     NaN  \n",
       "3   80.30  \n",
       "4   60.90  "
      ]
     },
     "execution_count": 354,
     "metadata": {},
     "output_type": "execute_result"
    }
   ],
   "source": [
    "# data 폴더 안에 hotel_booking.csv 파일을 로드\n",
    "hotel = pd.read_csv(\"../data_git/data/hotel_bookings.csv\")\n",
    "hotel.head()"
   ]
  },
  {
   "cell_type": "code",
   "execution_count": 355,
   "metadata": {},
   "outputs": [
    {
     "data": {
      "text/plain": [
       "is_canceled                          0\n",
       "deposit_type                         0\n",
       "lead_time                            5\n",
       "stays_in_weekend_nights              0\n",
       "stays_in_week_nights                 0\n",
       "is_repeated_guest                  358\n",
       "previous_cancellations               0\n",
       "previous_bookings_not_canceled       0\n",
       "booking_changes                      0\n",
       "days_in_waiting_list                 0\n",
       "adr                               1063\n",
       "dtype: int64"
      ]
     },
     "execution_count": 355,
     "metadata": {},
     "output_type": "execute_result"
    }
   ],
   "source": [
    "hotel.isna().sum()"
   ]
  },
  {
   "cell_type": "code",
   "execution_count": 356,
   "metadata": {},
   "outputs": [
    {
     "name": "stdout",
     "output_type": "stream",
     "text": [
      "lead_time column 결측치의 비율 :  0.03 %\n",
      "is_repeated_guest column 결측치의 비율 :  1.79 %\n",
      "adr column 결측치의 비율 :  5.32 %\n"
     ]
    }
   ],
   "source": [
    "# 결측치의 비율\n",
    "print(\"lead_time column 결측치의 비율 : \", round(5 /len(hotel) * 100, 2), '%')\n",
    "print(\"is_repeated_guest column 결측치의 비율 : \", round(358 /len(hotel) * 100, 2), '%')\n",
    "print(\"adr column 결측치의 비율 : \", round(1063 /len(hotel) * 100, 2), '%')"
   ]
  },
  {
   "cell_type": "markdown",
   "metadata": {},
   "source": [
    "- lead_time 컬럼의 결측치의 비율은 매우 작기 때문에 제거 -> 결측치인 인덱스를 제외\n",
    "- is_reapted_guest 해당 데이터에서 개수가 많은 데이터로 결측치를 채워준다.\n",
    "- adr 컬럼의 결측치는 해당 데이터를 확인하고 특정한 조건에 맞춰서 데이터를 채워준다."
   ]
  },
  {
   "cell_type": "markdown",
   "metadata": {},
   "source": [
    "- lead_time column"
   ]
  },
  {
   "cell_type": "code",
   "execution_count": 357,
   "metadata": {},
   "outputs": [],
   "source": [
    "# subset으로 dropna에 조건을 넣을 수 있다.\n",
    "hotel = hotel.dropna(subset=['lead_time'], axis = 0)\n",
    "\n",
    "# hotel['lead_time'].loc[hotel['lead_time'].isna()]   #985, 1087, 4125, 4923, 16221\n",
    "# hotel.drop([985, 1087, 4125, 4923, 16221])"
   ]
  },
  {
   "cell_type": "markdown",
   "metadata": {},
   "source": [
    "- is_repeated_guest column"
   ]
  },
  {
   "cell_type": "code",
   "execution_count": 358,
   "metadata": {},
   "outputs": [
    {
     "data": {
      "text/plain": [
       "is_repeated_guest\n",
       "0.0    18888\n",
       "1.0      749\n",
       "Name: count, dtype: int64"
      ]
     },
     "execution_count": 358,
     "metadata": {},
     "output_type": "execute_result"
    }
   ],
   "source": [
    "# is_repeated_guest 0 vs 1 확인\n",
    "# hotel['is_repeated_guest'].sum()\n",
    "hotel['is_repeated_guest'].value_counts()"
   ]
  },
  {
   "cell_type": "code",
   "execution_count": 435,
   "metadata": {},
   "outputs": [
    {
     "name": "stderr",
     "output_type": "stream",
     "text": [
      "/var/folders/v0/r6b3g15j6gd1x8947g8ly2qr0000gn/T/ipykernel_50036/2360375739.py:1: FutureWarning: A value is trying to be set on a copy of a DataFrame or Series through chained assignment using an inplace method.\n",
      "The behavior will change in pandas 3.0. This inplace method will never work because the intermediate object on which we are setting values always behaves as a copy.\n",
      "\n",
      "For example, when doing 'df[col].method(value, inplace=True)', try using 'df.method({col: value}, inplace=True)' or df[col] = df[col].method(value) instead, to perform the operation inplace on the original object.\n",
      "\n",
      "\n",
      "  hotel['is_repeated_guest'].fillna(0, inplace=True)\n"
     ]
    }
   ],
   "source": [
    "hotel['is_repeated_guest'].fillna(0, inplace=True)"
   ]
  },
  {
   "cell_type": "markdown",
   "metadata": {},
   "source": [
    "- adr column"
   ]
  },
  {
   "cell_type": "code",
   "execution_count": 436,
   "metadata": {},
   "outputs": [
    {
     "data": {
      "text/plain": [
       "count    18931.000000\n",
       "mean       101.416396\n",
       "std         49.236271\n",
       "min          0.000000\n",
       "25%         68.840000\n",
       "50%         94.500000\n",
       "75%        126.000000\n",
       "max        451.500000\n",
       "Name: adr, dtype: float64"
      ]
     },
     "execution_count": 436,
     "metadata": {},
     "output_type": "execute_result"
    }
   ],
   "source": [
    "hotel['adr'].describe()"
   ]
  },
  {
   "cell_type": "code",
   "execution_count": 437,
   "metadata": {},
   "outputs": [],
   "source": [
    "# 통계 정보를 확인하니 객실 요금 평균에 음수가 존재 -> 이상한 데이터\n",
    "# 이상치 데이터는 제거\n",
    "# 인덱스의 조건식을 생성 -> 객실 요금 데이터에서 0보다 작은\n",
    "flag = hotel['adr'] < 0\n",
    "hotel = hotel.loc[~flag]"
   ]
  },
  {
   "cell_type": "code",
   "execution_count": 440,
   "metadata": {},
   "outputs": [],
   "source": [
    "# adr의 결측치들을 deposit_type의 값에 따라 그룹화를 하고 평균의 adr의 값을 채워준다.\n",
    "\n",
    "# deposit_type에 따른 adr의 평균값을 확인\n",
    "hotel.groupby('deposit_type')['adr'].mean().to_dict()\n",
    "deposit_adr_mean = hotel.groupby('deposit_type')['adr'].mean().to_dict()"
   ]
  },
  {
   "cell_type": "code",
   "execution_count": 441,
   "metadata": {},
   "outputs": [
    {
     "data": {
      "text/plain": [
       "<pandas.core.groupby.generic.DataFrameGroupBy object at 0x140b08ad0>"
      ]
     },
     "execution_count": 441,
     "metadata": {},
     "output_type": "execute_result"
    }
   ],
   "source": [
    "hotel.groupby('deposit_type')"
   ]
  },
  {
   "cell_type": "code",
   "execution_count": 442,
   "metadata": {},
   "outputs": [],
   "source": [
    "test_hotel = hotel.copy()"
   ]
  },
  {
   "cell_type": "code",
   "execution_count": 443,
   "metadata": {},
   "outputs": [],
   "source": [
    "null_flag = test_hotel['adr'].isna()\n",
    "for key in deposit_adr_mean:\n",
    "    # 인덱스 조건식\n",
    "    flag = test_hotel['deposit_type'] == key\n",
    "    # flag와 null_flag 둘다 만족하는 인덱스 필터\n",
    "    test_hotel.loc[null_flag & flag, 'adr'] = deposit_adr_mean[key]"
   ]
  },
  {
   "cell_type": "code",
   "execution_count": 444,
   "metadata": {},
   "outputs": [
    {
     "data": {
      "text/plain": [
       "np.int64(0)"
      ]
     },
     "execution_count": 444,
     "metadata": {},
     "output_type": "execute_result"
    }
   ],
   "source": [
    "test_hotel['adr'].isna().sum()"
   ]
  },
  {
   "cell_type": "code",
   "execution_count": 445,
   "metadata": {},
   "outputs": [
    {
     "data": {
      "text/plain": [
       "np.int64(0)"
      ]
     },
     "execution_count": 445,
     "metadata": {},
     "output_type": "execute_result"
    }
   ],
   "source": [
    "null_flag = hotel['adr'].isna()\n",
    "for key in deposit_adr_mean:\n",
    "    # 인덱스 조건식\n",
    "    flag = hotel['deposit_type'] == key\n",
    "    # flag와 null_flag 둘다 만족하는 인덱스 필터\n",
    "    hotel.loc[null_flag & flag, 'adr'] = deposit_adr_mean[key]\n",
    "\n",
    "hotel['adr'].isna().sum()\n"
   ]
  },
  {
   "cell_type": "code",
   "execution_count": 446,
   "metadata": {},
   "outputs": [
    {
     "data": {
      "text/plain": [
       "is_canceled                       0\n",
       "deposit_type                      0\n",
       "lead_time                         0\n",
       "stays_in_weekend_nights           0\n",
       "stays_in_week_nights              0\n",
       "is_repeated_guest                 0\n",
       "previous_cancellations            0\n",
       "previous_bookings_not_canceled    0\n",
       "booking_changes                   0\n",
       "days_in_waiting_list              0\n",
       "adr                               0\n",
       "dtype: int64"
      ]
     },
     "execution_count": 446,
     "metadata": {},
     "output_type": "execute_result"
    }
   ],
   "source": [
    "hotel.isna().sum()"
   ]
  },
  {
   "cell_type": "code",
   "execution_count": 369,
   "metadata": {},
   "outputs": [],
   "source": [
    "# # map(), apply()\n",
    "# hotel['adr'].map(\n",
    "#     lambda x : print(x)\n",
    "# )"
   ]
  },
  {
   "cell_type": "code",
   "execution_count": 370,
   "metadata": {},
   "outputs": [],
   "source": [
    "# # map(), apply()\n",
    "# hotel['adr'].apply(\n",
    "#     lambda x : print(x)\n",
    "# )"
   ]
  },
  {
   "cell_type": "markdown",
   "metadata": {},
   "source": [
    "- 1차원 시리즈 데이터에서 map과 series는 같은 역할을 한다"
   ]
  },
  {
   "cell_type": "code",
   "execution_count": 371,
   "metadata": {},
   "outputs": [],
   "source": [
    "# hotel.map(\n",
    "#     lambda x : print(x)\n",
    "# )\n",
    "# DataFrame에서 map()함수는 첫 번째 시리즈의 values를 모두 탐색하고 다음 시리즈의 value로 넘어간다"
   ]
  },
  {
   "cell_type": "code",
   "execution_count": 372,
   "metadata": {},
   "outputs": [],
   "source": [
    "# hotel.apply(\n",
    "#     lambda x : print(x)\n",
    "# )\n",
    "\n",
    "# DataFrame에서 apply 함수는 시리즈별로 탐색을 하는 함수\n",
    "# 차원을 한 개 축소하여 데이터를 확인"
   ]
  },
  {
   "cell_type": "code",
   "execution_count": 409,
   "metadata": {},
   "outputs": [],
   "source": [
    "# hotel['is_repeated_guest'] =hotel['is_repeated_guest'].astype(int)"
   ]
  },
  {
   "cell_type": "code",
   "execution_count": 448,
   "metadata": {},
   "outputs": [],
   "source": [
    "# groupby() 함수와 apply()를 조합하여\n",
    "# deposit_type에 따라서 adr의 결측치를 평균값으로 대체\n",
    "adj_hotel = hotel.groupby('deposit_type').apply(\n",
    "    lambda x : x.fillna(x.mean()))"
   ]
  },
  {
   "cell_type": "code",
   "execution_count": 449,
   "metadata": {},
   "outputs": [],
   "source": [
    "# 멀티인덱스인 경우\n",
    "# 특정 인덱스만 초기화하고 싶으면 reset_index()에서 매개변수 설정 변경\n",
    "adj_hotel.reset_index(level='deposit_type', inplace = True)\n"
   ]
  },
  {
   "cell_type": "code",
   "execution_count": 450,
   "metadata": {},
   "outputs": [
    {
     "data": {
      "text/plain": [
       "<bound method IndexOpsMixin.value_counts of 0        0\n",
       "1        0\n",
       "2        0\n",
       "3        0\n",
       "4        0\n",
       "        ..\n",
       "15249    0\n",
       "15428    0\n",
       "15661    0\n",
       "16644    0\n",
       "16851    0\n",
       "Name: is_canceled, Length: 19994, dtype: int64>"
      ]
     },
     "execution_count": 450,
     "metadata": {},
     "output_type": "execute_result"
    }
   ],
   "source": [
    "adj_hotel['is_canceled'].value_counts"
   ]
  },
  {
   "cell_type": "code",
   "execution_count": null,
   "metadata": {},
   "outputs": [],
   "source": [
    "# hotel.loc[hotel['deposit_type'] == 'No Deposit', 'adr'].fillna(101.971806, inplace= True)"
   ]
  },
  {
   "cell_type": "code",
   "execution_count": null,
   "metadata": {},
   "outputs": [],
   "source": [
    "# hotel.loc[hotel['deposit_type'] == 'Non Refund', 'adr'].fillna(89.689476, inplace= True)"
   ]
  },
  {
   "cell_type": "code",
   "execution_count": null,
   "metadata": {},
   "outputs": [],
   "source": [
    "# hotel.loc[hotel['deposit_type'] == 'Refundable', 'adr'].fillna(67.456154, inplace = True)"
   ]
  },
  {
   "cell_type": "code",
   "execution_count": null,
   "metadata": {},
   "outputs": [],
   "source": [
    "# hotel['adr']"
   ]
  },
  {
   "cell_type": "code",
   "execution_count": 413,
   "metadata": {},
   "outputs": [
    {
     "data": {
      "text/html": [
       "<div>\n",
       "<style scoped>\n",
       "    .dataframe tbody tr th:only-of-type {\n",
       "        vertical-align: middle;\n",
       "    }\n",
       "\n",
       "    .dataframe tbody tr th {\n",
       "        vertical-align: top;\n",
       "    }\n",
       "\n",
       "    .dataframe thead th {\n",
       "        text-align: right;\n",
       "    }\n",
       "</style>\n",
       "<table border=\"1\" class=\"dataframe\">\n",
       "  <thead>\n",
       "    <tr style=\"text-align: right;\">\n",
       "      <th></th>\n",
       "      <th>deposit_type</th>\n",
       "      <th>is_canceled</th>\n",
       "      <th>lead_time</th>\n",
       "      <th>stays_in_weekend_nights</th>\n",
       "      <th>stays_in_week_nights</th>\n",
       "      <th>is_repeated_guest</th>\n",
       "      <th>previous_cancellations</th>\n",
       "      <th>previous_bookings_not_canceled</th>\n",
       "      <th>booking_changes</th>\n",
       "      <th>days_in_waiting_list</th>\n",
       "      <th>adr</th>\n",
       "    </tr>\n",
       "  </thead>\n",
       "  <tbody>\n",
       "    <tr>\n",
       "      <th>0</th>\n",
       "      <td>No Deposit</td>\n",
       "      <td>0</td>\n",
       "      <td>105.0</td>\n",
       "      <td>2</td>\n",
       "      <td>5</td>\n",
       "      <td>0</td>\n",
       "      <td>0</td>\n",
       "      <td>0</td>\n",
       "      <td>1</td>\n",
       "      <td>0</td>\n",
       "      <td>131.500000</td>\n",
       "    </tr>\n",
       "    <tr>\n",
       "      <th>1</th>\n",
       "      <td>No Deposit</td>\n",
       "      <td>0</td>\n",
       "      <td>303.0</td>\n",
       "      <td>2</td>\n",
       "      <td>2</td>\n",
       "      <td>0</td>\n",
       "      <td>0</td>\n",
       "      <td>0</td>\n",
       "      <td>0</td>\n",
       "      <td>0</td>\n",
       "      <td>73.950000</td>\n",
       "    </tr>\n",
       "    <tr>\n",
       "      <th>2</th>\n",
       "      <td>No Deposit</td>\n",
       "      <td>0</td>\n",
       "      <td>33.0</td>\n",
       "      <td>2</td>\n",
       "      <td>3</td>\n",
       "      <td>0</td>\n",
       "      <td>0</td>\n",
       "      <td>0</td>\n",
       "      <td>0</td>\n",
       "      <td>0</td>\n",
       "      <td>101.971806</td>\n",
       "    </tr>\n",
       "    <tr>\n",
       "      <th>3</th>\n",
       "      <td>No Deposit</td>\n",
       "      <td>0</td>\n",
       "      <td>48.0</td>\n",
       "      <td>0</td>\n",
       "      <td>1</td>\n",
       "      <td>0</td>\n",
       "      <td>0</td>\n",
       "      <td>0</td>\n",
       "      <td>1</td>\n",
       "      <td>0</td>\n",
       "      <td>80.300000</td>\n",
       "    </tr>\n",
       "    <tr>\n",
       "      <th>4</th>\n",
       "      <td>No Deposit</td>\n",
       "      <td>0</td>\n",
       "      <td>216.0</td>\n",
       "      <td>4</td>\n",
       "      <td>7</td>\n",
       "      <td>0</td>\n",
       "      <td>0</td>\n",
       "      <td>0</td>\n",
       "      <td>2</td>\n",
       "      <td>0</td>\n",
       "      <td>60.900000</td>\n",
       "    </tr>\n",
       "  </tbody>\n",
       "</table>\n",
       "</div>"
      ],
      "text/plain": [
       "  deposit_type  is_canceled  lead_time  stays_in_weekend_nights  \\\n",
       "0   No Deposit            0      105.0                        2   \n",
       "1   No Deposit            0      303.0                        2   \n",
       "2   No Deposit            0       33.0                        2   \n",
       "3   No Deposit            0       48.0                        0   \n",
       "4   No Deposit            0      216.0                        4   \n",
       "\n",
       "   stays_in_week_nights  is_repeated_guest  previous_cancellations  \\\n",
       "0                     5                  0                       0   \n",
       "1                     2                  0                       0   \n",
       "2                     3                  0                       0   \n",
       "3                     1                  0                       0   \n",
       "4                     7                  0                       0   \n",
       "\n",
       "   previous_bookings_not_canceled  booking_changes  days_in_waiting_list  \\\n",
       "0                               0                1                     0   \n",
       "1                               0                0                     0   \n",
       "2                               0                0                     0   \n",
       "3                               0                1                     0   \n",
       "4                               0                2                     0   \n",
       "\n",
       "          adr  \n",
       "0  131.500000  \n",
       "1   73.950000  \n",
       "2  101.971806  \n",
       "3   80.300000  \n",
       "4   60.900000  "
      ]
     },
     "execution_count": 413,
     "metadata": {},
     "output_type": "execute_result"
    }
   ],
   "source": [
    "adj_hotel.head()"
   ]
  },
  {
   "cell_type": "markdown",
   "metadata": {},
   "source": [
    "- 종속 변수 데이터의 균형 문제 발생 -> 약 7:1"
   ]
  },
  {
   "cell_type": "code",
   "execution_count": 414,
   "metadata": {},
   "outputs": [],
   "source": [
    "adj_hotel['deposit_type'] = adj_hotel['deposit_type'].map(\n",
    "    {\n",
    "        'No Deposit' : 0,\n",
    "        'Non Refund' : 1,\n",
    "        'Refundable' : 2\n",
    "    }\n",
    ")"
   ]
  },
  {
   "cell_type": "markdown",
   "metadata": {},
   "source": [
    "1. adj_hotel에서 독립변수와 종속변수로 데이터를 나눠준다.\n",
    "2. trian, test롤 데이터를 분할(7:3)\n",
    "3. 랜덤포레스트 분류모델을 생성\n",
    "4. train 데이터를 이용하여 학습\n",
    "5. test 데이터를 이용하여 예측\n",
    "6. 평가지표 중 정확도를 확인"
   ]
  },
  {
   "cell_type": "code",
   "execution_count": 415,
   "metadata": {},
   "outputs": [],
   "source": [
    "from sklearn.ensemble import RandomForestClassifier\n",
    "from sklearn.metrics import confusion_matrix, accuracy_score, classification_report\n",
    "from sklearn.model_selection import train_test_split\n",
    "import time"
   ]
  },
  {
   "cell_type": "code",
   "execution_count": 416,
   "metadata": {},
   "outputs": [],
   "source": [
    "start = time.time()\n",
    "x = adj_hotel.drop('is_canceled', axis = 1)\n",
    "y = adj_hotel['is_canceled']\n",
    "X_train, X_test, Y_train, Y_test = train_test_split(\n",
    "    x, y,\n",
    "    test_size=0.3,\n",
    "    random_state=42,\n",
    "    stratify = y\n",
    ")\n",
    "clf = RandomForestClassifier()\n",
    "clf.fit(X_train, Y_train)\n",
    "pred = clf.predict(X_test)\n",
    "end = time.time()"
   ]
  },
  {
   "cell_type": "code",
   "execution_count": 417,
   "metadata": {},
   "outputs": [
    {
     "name": "stdout",
     "output_type": "stream",
     "text": [
      "0.8810782432556152\n",
      "[[5221  429]\n",
      " [  58  291]]\n",
      "정확도 :  0.92\n",
      "              precision    recall  f1-score   support\n",
      "\n",
      "           0       0.99      0.92      0.96      5650\n",
      "           1       0.40      0.83      0.54       349\n",
      "\n",
      "    accuracy                           0.92      5999\n",
      "   macro avg       0.70      0.88      0.75      5999\n",
      "weighted avg       0.95      0.92      0.93      5999\n",
      "\n",
      "코드 진행 시간 :  0.8810782432556152\n"
     ]
    }
   ],
   "source": [
    "# sampling 안 한 경우\n",
    "print(end - start)\n",
    "cm = confusion_matrix(pred, Y_test)\n",
    "acc = accuracy_score(pred, Y_test)\n",
    "\n",
    "print(cm)\n",
    "print(\"정확도 : \", round(acc, 2))\n",
    "\n",
    "# 분류 보고서 출력\n",
    "print(classification_report(pred, Y_test))\n",
    "# 코드의 진행 시간 \n",
    "print(\"코드 진행 시간 : \", end - start)"
   ]
  },
  {
   "cell_type": "code",
   "execution_count": 451,
   "metadata": {},
   "outputs": [],
   "source": [
    "from imblearn.over_sampling import RandomOverSampler\n",
    "from collections import Counter"
   ]
  },
  {
   "cell_type": "code",
   "execution_count": 452,
   "metadata": {},
   "outputs": [],
   "source": [
    "ros = RandomOverSampler()"
   ]
  },
  {
   "cell_type": "code",
   "execution_count": 453,
   "metadata": {},
   "outputs": [],
   "source": [
    "x_ros, y_ros = ros.fit_resample(x, y)"
   ]
  },
  {
   "cell_type": "code",
   "execution_count": 466,
   "metadata": {},
   "outputs": [
    {
     "data": {
      "text/plain": [
       "Counter({0: 17594, 1: 17594})"
      ]
     },
     "execution_count": 466,
     "metadata": {},
     "output_type": "execute_result"
    }
   ],
   "source": [
    "Counter(y_ros)"
   ]
  },
  {
   "cell_type": "code",
   "execution_count": 467,
   "metadata": {},
   "outputs": [],
   "source": [
    "start = time.time()\n",
    "\n",
    "X_train_ros, X_test_ros, Y_train_ros, Y_test_ros = train_test_split(\n",
    "    x_ros, y_ros,\n",
    "    test_size=0.3,\n",
    "    random_state=42,\n",
    "    stratify = y_ros\n",
    ")\n",
    "clf = RandomForestClassifier()\n",
    "clf.fit(X_train_ros, Y_train_ros)\n",
    "pred_ros = clf.predict(X_test_ros)\n",
    "end = time.time()"
   ]
  },
  {
   "cell_type": "code",
   "execution_count": 468,
   "metadata": {},
   "outputs": [
    {
     "name": "stdout",
     "output_type": "stream",
     "text": [
      "1.4349710941314697\n",
      "[[4977   32]\n",
      " [ 302 5246]]\n",
      "정확도 :  0.97\n",
      "              precision    recall  f1-score   support\n",
      "\n",
      "           0       0.94      0.99      0.97      5009\n",
      "           1       0.99      0.95      0.97      5548\n",
      "\n",
      "    accuracy                           0.97     10557\n",
      "   macro avg       0.97      0.97      0.97     10557\n",
      "weighted avg       0.97      0.97      0.97     10557\n",
      "\n",
      "RandomOver 데이터의 소요 시간 :  1.4349710941314697\n"
     ]
    }
   ],
   "source": [
    "# randomoversampler 사용한 경우\n",
    "print(end - start)\n",
    "cm_ros= confusion_matrix(pred_ros, Y_test_ros)\n",
    "acc_ros = accuracy_score(pred_ros, Y_test_ros)\n",
    "\n",
    "print(cm_ros)\n",
    "print(\"정확도 : \", round(acc_ros, 2))\n",
    "\n",
    "# 분류 보고서 출력\n",
    "print(classification_report(pred_ros, Y_test_ros))\n",
    "# 코드의 진행 시간 \n",
    "print(\"RandomOver 데이터의 소요 시간 : \", end - start)"
   ]
  },
  {
   "cell_type": "code",
   "execution_count": 424,
   "metadata": {},
   "outputs": [],
   "source": [
    "from imblearn.over_sampling import SMOTE"
   ]
  },
  {
   "cell_type": "code",
   "execution_count": 469,
   "metadata": {},
   "outputs": [],
   "source": [
    "smote = SMOTE()"
   ]
  },
  {
   "cell_type": "code",
   "execution_count": 470,
   "metadata": {},
   "outputs": [],
   "source": [
    "x_sm, y_sm = smote.fit_resample(x, y)"
   ]
  },
  {
   "cell_type": "code",
   "execution_count": 471,
   "metadata": {},
   "outputs": [
    {
     "data": {
      "text/plain": [
       "Counter({0: 17594, 1: 17594})"
      ]
     },
     "execution_count": 471,
     "metadata": {},
     "output_type": "execute_result"
    }
   ],
   "source": [
    "Counter(y_sm)"
   ]
  },
  {
   "cell_type": "code",
   "execution_count": 472,
   "metadata": {},
   "outputs": [],
   "source": [
    "start = time.time()\n",
    "\n",
    "X_train_sm, X_test_sm, Y_train_sm, Y_test_sm = train_test_split(\n",
    "    x_sm, y_sm,\n",
    "    test_size=0.3,\n",
    "    random_state=42,\n",
    "    stratify = y_sm\n",
    ")\n",
    "clf = RandomForestClassifier()\n",
    "clf.fit(X_train_sm, Y_train_sm)\n",
    "pred = clf.predict(X_test_sm)\n",
    "end = time.time()"
   ]
  },
  {
   "cell_type": "code",
   "execution_count": 473,
   "metadata": {},
   "outputs": [
    {
     "name": "stdout",
     "output_type": "stream",
     "text": [
      "1.8078820705413818\n",
      "[[4682  623]\n",
      " [ 597 4655]]\n",
      "정확도 :  0.88\n",
      "              precision    recall  f1-score   support\n",
      "\n",
      "           0       0.89      0.88      0.88      5305\n",
      "           1       0.88      0.89      0.88      5252\n",
      "\n",
      "    accuracy                           0.88     10557\n",
      "   macro avg       0.88      0.88      0.88     10557\n",
      "weighted avg       0.88      0.88      0.88     10557\n",
      "\n",
      "코드 진행 시간 :  1.8078820705413818\n"
     ]
    }
   ],
   "source": [
    "# smote 사용한 경우\n",
    "print(end - start)\n",
    "cm = confusion_matrix(pred, Y_test)\n",
    "acc = accuracy_score(pred, Y_test)\n",
    "\n",
    "print(cm)\n",
    "print(\"정확도 : \", round(acc, 2))\n",
    "\n",
    "# 분류 보고서 출력\n",
    "print(classification_report(pred, Y_test))\n",
    "# 코드의 진행 시간 \n",
    "print(\"코드 진행 시간 : \", end - start)"
   ]
  }
 ],
 "metadata": {
  "kernelspec": {
   "display_name": "venv",
   "language": "python",
   "name": "python3"
  },
  "language_info": {
   "codemirror_mode": {
    "name": "ipython",
    "version": 3
   },
   "file_extension": ".py",
   "mimetype": "text/x-python",
   "name": "python",
   "nbconvert_exporter": "python",
   "pygments_lexer": "ipython3",
   "version": "3.13.7"
  },
  "orig_nbformat": 4
 },
 "nbformat": 4,
 "nbformat_minor": 2
}
