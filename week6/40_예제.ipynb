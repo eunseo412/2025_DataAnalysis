{
 "cells": [
  {
   "cell_type": "markdown",
   "metadata": {},
   "source": [
    "## 객실의 사용 여부 관련 데이터\n",
    "1. 데이터를 로드(hotel_bookings.csv)\n",
    "2. 데이터에 대한 정보를 확인\n",
    "3. 해당 데이터에서 문제가 있는 부분을 확인하여 수정"
   ]
  },
  {
   "cell_type": "code",
   "execution_count": 43,
   "metadata": {},
   "outputs": [],
   "source": [
    "import pandas as pd\n",
    "import numpy as np\n",
    "import matplotlib.pyplot as plt"
   ]
  },
  {
   "cell_type": "code",
   "execution_count": null,
   "metadata": {},
   "outputs": [],
   "source": [
    "# data 폴더 안에 hotel_booking.csv 파일을 로드\n",
    "hotel = pd.read_csv(\"../data_git/data/hotel_bookings.csv\")\n",
    "hotel.head()"
   ]
  },
  {
   "cell_type": "code",
   "execution_count": 77,
   "metadata": {},
   "outputs": [
    {
     "data": {
      "text/plain": [
       "is_canceled                          0\n",
       "deposit_type                         0\n",
       "lead_time                            5\n",
       "stays_in_weekend_nights              0\n",
       "stays_in_week_nights                 0\n",
       "is_repeated_guest                  358\n",
       "previous_cancellations               0\n",
       "previous_bookings_not_canceled       0\n",
       "booking_changes                      0\n",
       "days_in_waiting_list                 0\n",
       "adr                               1063\n",
       "dtype: int64"
      ]
     },
     "execution_count": 77,
     "metadata": {},
     "output_type": "execute_result"
    }
   ],
   "source": [
    "hotel.isna().sum()"
   ]
  },
  {
   "cell_type": "code",
   "execution_count": 81,
   "metadata": {},
   "outputs": [
    {
     "name": "stdout",
     "output_type": "stream",
     "text": [
      "lead_time column 결측치의 비율 :  0.03 %\n",
      "is_repeated_guest column 결측치의 비율 :  1.79 %\n",
      "adr column 결측치의 비율 :  5.32 %\n"
     ]
    }
   ],
   "source": [
    "# 결측치의 비율\n",
    "print(\"lead_time column 결측치의 비율 : \", round(5 /len(hotel) * 100, 2), '%')\n",
    "print(\"is_repeated_guest column 결측치의 비율 : \", round(358 /len(hotel) * 100, 2), '%')\n",
    "print(\"adr column 결측치의 비율 : \", round(1063 /len(hotel) * 100, 2), '%')"
   ]
  },
  {
   "cell_type": "markdown",
   "metadata": {},
   "source": [
    "- lead_time 컬럼의 결측치의 비율은 매우 작기 때문에 제거 -> 결측치인 인덱스를 제외\n",
    "- is_reapted_guest 해당 데이터에서 개수가 많은 데이터로 결측치를 채워준다.\n",
    "- adr 컬럼의 결측치는 해당 데이터를 확인하고 특정한 조건에 맞춰서 데이터를 채워준다."
   ]
  },
  {
   "cell_type": "code",
   "execution_count": null,
   "metadata": {},
   "outputs": [],
   "source": [
    "# hotel['lead_time'].loc[hotel['lead_time'].isna()]   #985, 1087, 4125, 4923, 16221\n",
    "# hotel.drop([985, 1087, 4125, 4923, 16221])"
   ]
  },
  {
   "cell_type": "code",
   "execution_count": 99,
   "metadata": {},
   "outputs": [],
   "source": [
    "# subset으로 dropna에 조건\n",
    "hotel = hotel.dropna(subset=['lead_time'], axis = 0)"
   ]
  },
  {
   "cell_type": "code",
   "execution_count": 113,
   "metadata": {},
   "outputs": [
    {
     "data": {
      "text/plain": [
       "is_repeated_guest\n",
       "0.0    18888\n",
       "1.0      749\n",
       "0.0      358\n",
       "Name: count, dtype: int64"
      ]
     },
     "execution_count": 113,
     "metadata": {},
     "output_type": "execute_result"
    }
   ],
   "source": [
    "# is_repeated_guest 0 vs 1 확인\n",
    "# hotel['is_repeated_guest'].sum()\n",
    "hotel['is_repeated_guest'].value_counts()"
   ]
  },
  {
   "cell_type": "code",
   "execution_count": 112,
   "metadata": {},
   "outputs": [
    {
     "name": "stderr",
     "output_type": "stream",
     "text": [
      "/var/folders/v0/r6b3g15j6gd1x8947g8ly2qr0000gn/T/ipykernel_50036/3013919386.py:1: SettingWithCopyWarning: \n",
      "A value is trying to be set on a copy of a slice from a DataFrame\n",
      "\n",
      "See the caveats in the documentation: https://pandas.pydata.org/pandas-docs/stable/user_guide/indexing.html#returning-a-view-versus-a-copy\n",
      "  hotel['is_repeated_guest'].fillna('0.0', inplace=True)\n"
     ]
    }
   ],
   "source": [
    "hotel['is_repeated_guest'].fillna('0.0', inplace=True)"
   ]
  },
  {
   "cell_type": "code",
   "execution_count": 135,
   "metadata": {},
   "outputs": [
    {
     "data": {
      "text/plain": [
       "count    18931.000000\n",
       "mean       101.416396\n",
       "std         49.236271\n",
       "min          0.000000\n",
       "25%         68.840000\n",
       "50%         94.500000\n",
       "75%        126.000000\n",
       "max        451.500000\n",
       "Name: adr, dtype: float64"
      ]
     },
     "execution_count": 135,
     "metadata": {},
     "output_type": "execute_result"
    }
   ],
   "source": [
    "hotel['adr'].describe()"
   ]
  },
  {
   "cell_type": "code",
   "execution_count": 134,
   "metadata": {},
   "outputs": [],
   "source": [
    "# 통계 정보를 확인하니 객실 요금 평균에 음수가 존재 -> 이상한 데이터\n",
    "# 이상치 데이터는 제거\n",
    "# 인덱스의 조건식을 생성 -> 객실 요금 데이터에서 0보다 작은\n",
    "flag = hotel['adr'] < 0\n",
    "hotel = hotel.loc[~flag]"
   ]
  },
  {
   "cell_type": "code",
   "execution_count": 141,
   "metadata": {},
   "outputs": [
    {
     "data": {
      "text/plain": [
       "deposit_type\n",
       "No Deposit    101.971806\n",
       "Non Refund     89.689476\n",
       "Refundable     67.456154\n",
       "Name: adr, dtype: float64"
      ]
     },
     "execution_count": 141,
     "metadata": {},
     "output_type": "execute_result"
    }
   ],
   "source": [
    "# adr의 결측치들을 deposit_type의 값에 따라 그룹화를 하고 평균의 adr의 값을 채워준다.\n",
    "\n",
    "# deposit_type에 따른 adr의 평균값을 확인\n",
    "hotel.groupby('deposit_type')['adr'].mean()"
   ]
  },
  {
   "cell_type": "code",
   "execution_count": 161,
   "metadata": {},
   "outputs": [
    {
     "data": {
      "text/plain": [
       "0        131.500000\n",
       "1         73.950000\n",
       "2        101.971806\n",
       "3         80.300000\n",
       "4         60.900000\n",
       "            ...    \n",
       "19987    101.971806\n",
       "19988    120.000000\n",
       "19990     76.500000\n",
       "19994    125.100000\n",
       "19998    209.000000\n",
       "Name: adr, Length: 19132, dtype: float64"
      ]
     },
     "execution_count": 161,
     "metadata": {},
     "output_type": "execute_result"
    }
   ],
   "source": [
    "hotel.loc[hotel['deposit_type'] == 'No Deposit']['adr'].fillna(101.971806)"
   ]
  },
  {
   "cell_type": "code",
   "execution_count": 163,
   "metadata": {},
   "outputs": [
    {
     "data": {
      "text/plain": [
       "446        6.0\n",
       "660       54.5\n",
       "861       85.0\n",
       "4989      54.5\n",
       "5607      76.0\n",
       "         ...  \n",
       "19993     62.0\n",
       "19995     62.0\n",
       "19996    130.0\n",
       "19997    100.0\n",
       "19999    130.0\n",
       "Name: adr, Length: 834, dtype: float64"
      ]
     },
     "execution_count": 163,
     "metadata": {},
     "output_type": "execute_result"
    }
   ],
   "source": [
    "hotel.loc[hotel['deposit_type'] == 'Non Refund']['adr'].fillna(89.689476)"
   ]
  },
  {
   "cell_type": "code",
   "execution_count": 165,
   "metadata": {},
   "outputs": [
    {
     "data": {
      "text/plain": [
       "242       66.000000\n",
       "477       66.000000\n",
       "699       66.000000\n",
       "2000      66.000000\n",
       "3673      66.000000\n",
       "4714      66.000000\n",
       "4787      99.000000\n",
       "5089      70.000000\n",
       "5751      66.000000\n",
       "6400      66.000000\n",
       "6443      66.000000\n",
       "7258      48.000000\n",
       "7316      66.000000\n",
       "7968      66.000000\n",
       "8079      60.000000\n",
       "10858     67.456154\n",
       "11270    101.000000\n",
       "11960     66.000000\n",
       "12470     72.000000\n",
       "12511     60.000000\n",
       "14059     76.000000\n",
       "14383     66.000000\n",
       "14628     72.000000\n",
       "15249     66.000000\n",
       "15428     44.360000\n",
       "15661     67.500000\n",
       "16644     60.000000\n",
       "16851     67.456154\n",
       "Name: adr, dtype: float64"
      ]
     },
     "execution_count": 165,
     "metadata": {},
     "output_type": "execute_result"
    }
   ],
   "source": [
    "hotel.loc[hotel['deposit_type'] == 'Refundable']['adr'].fillna(67.456154)"
   ]
  },
  {
   "cell_type": "code",
   "execution_count": null,
   "metadata": {},
   "outputs": [],
   "source": []
  },
  {
   "cell_type": "code",
   "execution_count": 160,
   "metadata": {},
   "outputs": [
    {
     "data": {
      "text/plain": [
       "np.int64(1063)"
      ]
     },
     "execution_count": 160,
     "metadata": {},
     "output_type": "execute_result"
    }
   ],
   "source": [
    "hotel['adr'].isna().sum()"
   ]
  },
  {
   "cell_type": "code",
   "execution_count": null,
   "metadata": {},
   "outputs": [],
   "source": []
  }
 ],
 "metadata": {
  "kernelspec": {
   "display_name": "venv",
   "language": "python",
   "name": "python3"
  },
  "language_info": {
   "codemirror_mode": {
    "name": "ipython",
    "version": 3
   },
   "file_extension": ".py",
   "mimetype": "text/x-python",
   "name": "python",
   "nbconvert_exporter": "python",
   "pygments_lexer": "ipython3",
   "version": "3.13.7"
  },
  "orig_nbformat": 4
 },
 "nbformat": 4,
 "nbformat_minor": 2
}
