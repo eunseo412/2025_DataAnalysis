{
 "cells": [
  {
   "cell_type": "code",
   "execution_count": 2,
   "metadata": {},
   "outputs": [],
   "source": [
    "# 라이브러리 로드\n",
    "# import 라이브러리명 as 별칭\n",
    "# from 라이브러리명 import 라이브러리 안의 특정 기능\n",
    "# 라이브러리 명 홈페이지에서 documentation 보면 다 나와있음\n",
    "import pandas as pd"
   ]
  },
  {
   "cell_type": "code",
   "execution_count": 3,
   "metadata": {},
   "outputs": [],
   "source": [
    "# pandas 안에 있는 Series 라는 클래스 생성\n",
    "series_1 = pd.Series(\n",
    "    [5000, 6000, 6500, 6500]\n",
    ")"
   ]
  },
  {
   "cell_type": "code",
   "execution_count": 4,
   "metadata": {},
   "outputs": [
    {
     "data": {
      "text/plain": [
       "0    5000\n",
       "1    6000\n",
       "2    6500\n",
       "3    6500\n",
       "dtype: int64"
      ]
     },
     "execution_count": 4,
     "metadata": {},
     "output_type": "execute_result"
    }
   ],
   "source": [
    "series_1"
   ]
  },
  {
   "cell_type": "code",
   "execution_count": 5,
   "metadata": {},
   "outputs": [],
   "source": [
    "series_2 = pd.Series(\n",
    "    ['A', 'B', 'C']\n",
    ")"
   ]
  },
  {
   "cell_type": "code",
   "execution_count": 6,
   "metadata": {},
   "outputs": [
    {
     "data": {
      "text/plain": [
       "0    A\n",
       "1    B\n",
       "2    C\n",
       "dtype: object"
      ]
     },
     "execution_count": 6,
     "metadata": {},
     "output_type": "execute_result"
    }
   ],
   "source": [
    "series_2"
   ]
  },
  {
   "cell_type": "code",
   "execution_count": 7,
   "metadata": {},
   "outputs": [],
   "source": [
    "# 원소들의 타입이 다른 경우 dtype 생성은?\n",
    "series_3 = pd.Series(\n",
    "    ['A', 10, True]\n",
    ")"
   ]
  },
  {
   "cell_type": "code",
   "execution_count": 8,
   "metadata": {},
   "outputs": [
    {
     "data": {
      "text/plain": [
       "0       A\n",
       "1      10\n",
       "2    True\n",
       "dtype: object"
      ]
     },
     "execution_count": 8,
     "metadata": {},
     "output_type": "execute_result"
    }
   ],
   "source": [
    "series_3"
   ]
  },
  {
   "cell_type": "code",
   "execution_count": 9,
   "metadata": {},
   "outputs": [
    {
     "data": {
      "text/plain": [
       "bool"
      ]
     },
     "execution_count": 9,
     "metadata": {},
     "output_type": "execute_result"
    }
   ],
   "source": [
    "# value 각각을 보면 type 통일 X\n",
    "type(series_3[2])"
   ]
  },
  {
   "cell_type": "code",
   "execution_count": 10,
   "metadata": {},
   "outputs": [
    {
     "name": "stdout",
     "output_type": "stream",
     "text": [
      "Series에서 values는  [5000 6000 6500 6500]\n",
      "Series에서 index는  RangeIndex(start=0, stop=4, step=1)\n"
     ]
    }
   ],
   "source": [
    "# Series 라는 class 에는 적어도 2개의 변수가 존재\n",
    "# 값들이 저장되어있는 values\n",
    "# values의 키값인 index\n",
    "print(\"Series에서 values는 \", series_1.values)\n",
    "print(\"Series에서 index는 \", series_1.index)"
   ]
  },
  {
   "cell_type": "code",
   "execution_count": 11,
   "metadata": {},
   "outputs": [],
   "source": [
    "series_1[1] = 5500"
   ]
  },
  {
   "cell_type": "code",
   "execution_count": 12,
   "metadata": {},
   "outputs": [
    {
     "data": {
      "text/plain": [
       "0    5000\n",
       "1    5500\n",
       "2    6500\n",
       "3    6500\n",
       "dtype: int64"
      ]
     },
     "execution_count": 12,
     "metadata": {},
     "output_type": "execute_result"
    }
   ],
   "source": [
    "series_1"
   ]
  },
  {
   "cell_type": "code",
   "execution_count": 13,
   "metadata": {},
   "outputs": [
    {
     "data": {
      "text/plain": [
       "array([5000, 5500, 6500, 6500])"
      ]
     },
     "execution_count": 13,
     "metadata": {},
     "output_type": "execute_result"
    }
   ],
   "source": [
    "series_1.values"
   ]
  },
  {
   "cell_type": "code",
   "execution_count": 14,
   "metadata": {},
   "outputs": [
    {
     "data": {
      "text/plain": [
       "RangeIndex(start=0, stop=4, step=1)"
      ]
     },
     "execution_count": 14,
     "metadata": {},
     "output_type": "execute_result"
    }
   ],
   "source": [
    "series_1.index"
   ]
  },
  {
   "cell_type": "code",
   "execution_count": 15,
   "metadata": {},
   "outputs": [
    {
     "data": {
      "text/plain": [
       "0      5000\n",
       "1      5500\n",
       "2      6500\n",
       "3      6500\n",
       "100      40\n",
       "dtype: int64"
      ]
     },
     "execution_count": 15,
     "metadata": {},
     "output_type": "execute_result"
    }
   ],
   "source": [
    "series_1[100] = 40\n",
    "series_1"
   ]
  },
  {
   "cell_type": "code",
   "execution_count": 16,
   "metadata": {},
   "outputs": [
    {
     "data": {
      "text/plain": [
       "0      5000\n",
       "1      5500\n",
       "2      6500\n",
       "3        30\n",
       "100      40\n",
       "dtype: int64"
      ]
     },
     "execution_count": 16,
     "metadata": {},
     "output_type": "execute_result"
    }
   ],
   "source": [
    "# values 값 바꾸기\n",
    "series_1[3] = 30\n",
    "series_1"
   ]
  },
  {
   "cell_type": "code",
   "execution_count": 17,
   "metadata": {},
   "outputs": [],
   "source": [
    "# series 안의 index 바꿔주기\n",
    "series_1.index = [0, 1, 1, 2, 3]"
   ]
  },
  {
   "cell_type": "code",
   "execution_count": 18,
   "metadata": {},
   "outputs": [],
   "source": [
    "# index가 values의 길이와 맞지 않는 경우 에러 발생\n",
    "# series_1.index = [0, 1, 1, 2, 3, 4]\n",
    "\n",
    "# index 하나만 변경 -> 에러\n",
    "# series_1[2] = 3"
   ]
  },
  {
   "cell_type": "code",
   "execution_count": 19,
   "metadata": {},
   "outputs": [
    {
     "data": {
      "text/plain": [
       "pandas.core.indexes.base.Index"
      ]
     },
     "execution_count": 19,
     "metadata": {},
     "output_type": "execute_result"
    }
   ],
   "source": [
    "series_1.index"
   ]
  },
  {
   "cell_type": "code",
   "execution_count": 132,
   "metadata": {},
   "outputs": [],
   "source": [
    "# 데이터프레임 생성\n",
    "_values = [\n",
    "    [1, 2, 3],\n",
    "    [4, 5, 6],\n",
    "    [7, 8, 9]\n",
    "]\n",
    "_index = ['a', 'b', 'c']\n",
    "_cols= ['A', 'B', 'C']\n",
    "\n",
    "df = pd.DataFrame(_values, index = _index, columns = _cols)"
   ]
  },
  {
   "cell_type": "code",
   "execution_count": 133,
   "metadata": {},
   "outputs": [
    {
     "data": {
      "text/html": [
       "<div>\n",
       "<style scoped>\n",
       "    .dataframe tbody tr th:only-of-type {\n",
       "        vertical-align: middle;\n",
       "    }\n",
       "\n",
       "    .dataframe tbody tr th {\n",
       "        vertical-align: top;\n",
       "    }\n",
       "\n",
       "    .dataframe thead th {\n",
       "        text-align: right;\n",
       "    }\n",
       "</style>\n",
       "<table border=\"1\" class=\"dataframe\">\n",
       "  <thead>\n",
       "    <tr style=\"text-align: right;\">\n",
       "      <th></th>\n",
       "      <th>A</th>\n",
       "      <th>B</th>\n",
       "      <th>C</th>\n",
       "    </tr>\n",
       "  </thead>\n",
       "  <tbody>\n",
       "    <tr>\n",
       "      <th>a</th>\n",
       "      <td>1</td>\n",
       "      <td>2</td>\n",
       "      <td>3</td>\n",
       "    </tr>\n",
       "    <tr>\n",
       "      <th>b</th>\n",
       "      <td>4</td>\n",
       "      <td>5</td>\n",
       "      <td>6</td>\n",
       "    </tr>\n",
       "    <tr>\n",
       "      <th>c</th>\n",
       "      <td>7</td>\n",
       "      <td>8</td>\n",
       "      <td>9</td>\n",
       "    </tr>\n",
       "  </tbody>\n",
       "</table>\n",
       "</div>"
      ],
      "text/plain": [
       "   A  B  C\n",
       "a  1  2  3\n",
       "b  4  5  6\n",
       "c  7  8  9"
      ]
     },
     "execution_count": 133,
     "metadata": {},
     "output_type": "execute_result"
    }
   ],
   "source": [
    "df"
   ]
  },
  {
   "cell_type": "code",
   "execution_count": 134,
   "metadata": {},
   "outputs": [
    {
     "name": "stdout",
     "output_type": "stream",
     "text": [
      "   A  B  C\n",
      "a  1  2  3\n",
      "b  4  5  6\n",
      "c  7  8  9\n"
     ]
    }
   ],
   "source": [
    "print(df)"
   ]
  },
  {
   "cell_type": "code",
   "execution_count": 135,
   "metadata": {},
   "outputs": [],
   "source": [
    "# rename() 함수를 이용해서 특정 인덱스나 특정 컬럼을 변경\n",
    "# df의 컬럼 중 B 컬럼의 이름을 F로 변경\n",
    "df = df.rename(\n",
    "    columns = {\n",
    "        'B' : 'F'\n",
    "    },\n",
    "    inplace = False\n",
    ")"
   ]
  },
  {
   "cell_type": "code",
   "execution_count": 136,
   "metadata": {},
   "outputs": [
    {
     "data": {
      "text/html": [
       "<div>\n",
       "<style scoped>\n",
       "    .dataframe tbody tr th:only-of-type {\n",
       "        vertical-align: middle;\n",
       "    }\n",
       "\n",
       "    .dataframe tbody tr th {\n",
       "        vertical-align: top;\n",
       "    }\n",
       "\n",
       "    .dataframe thead th {\n",
       "        text-align: right;\n",
       "    }\n",
       "</style>\n",
       "<table border=\"1\" class=\"dataframe\">\n",
       "  <thead>\n",
       "    <tr style=\"text-align: right;\">\n",
       "      <th></th>\n",
       "      <th>A</th>\n",
       "      <th>F</th>\n",
       "      <th>C</th>\n",
       "    </tr>\n",
       "  </thead>\n",
       "  <tbody>\n",
       "    <tr>\n",
       "      <th>a</th>\n",
       "      <td>1</td>\n",
       "      <td>2</td>\n",
       "      <td>3</td>\n",
       "    </tr>\n",
       "    <tr>\n",
       "      <th>b</th>\n",
       "      <td>4</td>\n",
       "      <td>5</td>\n",
       "      <td>6</td>\n",
       "    </tr>\n",
       "    <tr>\n",
       "      <th>c</th>\n",
       "      <td>7</td>\n",
       "      <td>8</td>\n",
       "      <td>9</td>\n",
       "    </tr>\n",
       "  </tbody>\n",
       "</table>\n",
       "</div>"
      ],
      "text/plain": [
       "   A  F  C\n",
       "a  1  2  3\n",
       "b  4  5  6\n",
       "c  7  8  9"
      ]
     },
     "execution_count": 136,
     "metadata": {},
     "output_type": "execute_result"
    }
   ],
   "source": [
    "df"
   ]
  },
  {
   "cell_type": "code",
   "execution_count": 137,
   "metadata": {},
   "outputs": [],
   "source": [
    "# 복사본 생성\n",
    "df2 = df.copy()"
   ]
  },
  {
   "cell_type": "code",
   "execution_count": 138,
   "metadata": {},
   "outputs": [],
   "source": [
    "df2 = df2.rename(\n",
    "    columns ={\n",
    "        'A' : 'C',\n",
    "    }, inplace = True\n",
    ")\n",
    "df2"
   ]
  },
  {
   "cell_type": "code",
   "execution_count": 139,
   "metadata": {},
   "outputs": [],
   "source": [
    "df2\n",
    "# inplace가 True이면 return 으로 되돌려주는 데이터가 존재하지 않는다.\n",
    "# df2 = None 들어가는 형태로 df2의 데이터를 모두 제거"
   ]
  },
  {
   "cell_type": "code",
   "execution_count": 140,
   "metadata": {},
   "outputs": [
    {
     "name": "stdout",
     "output_type": "stream",
     "text": [
      "None\n"
     ]
    }
   ],
   "source": [
    "print(df2)"
   ]
  },
  {
   "cell_type": "code",
   "execution_count": 141,
   "metadata": {},
   "outputs": [],
   "source": [
    "# DataFrame 안에 있는 colums 변수의 데이터를 변경\n",
    "df.columns = ['name', 'age', 'loc']"
   ]
  },
  {
   "cell_type": "code",
   "execution_count": 142,
   "metadata": {},
   "outputs": [
    {
     "data": {
      "text/html": [
       "<div>\n",
       "<style scoped>\n",
       "    .dataframe tbody tr th:only-of-type {\n",
       "        vertical-align: middle;\n",
       "    }\n",
       "\n",
       "    .dataframe tbody tr th {\n",
       "        vertical-align: top;\n",
       "    }\n",
       "\n",
       "    .dataframe thead th {\n",
       "        text-align: right;\n",
       "    }\n",
       "</style>\n",
       "<table border=\"1\" class=\"dataframe\">\n",
       "  <thead>\n",
       "    <tr style=\"text-align: right;\">\n",
       "      <th></th>\n",
       "      <th>name</th>\n",
       "      <th>age</th>\n",
       "      <th>loc</th>\n",
       "    </tr>\n",
       "  </thead>\n",
       "  <tbody>\n",
       "    <tr>\n",
       "      <th>a</th>\n",
       "      <td>1</td>\n",
       "      <td>2</td>\n",
       "      <td>3</td>\n",
       "    </tr>\n",
       "    <tr>\n",
       "      <th>b</th>\n",
       "      <td>4</td>\n",
       "      <td>5</td>\n",
       "      <td>6</td>\n",
       "    </tr>\n",
       "    <tr>\n",
       "      <th>c</th>\n",
       "      <td>7</td>\n",
       "      <td>8</td>\n",
       "      <td>9</td>\n",
       "    </tr>\n",
       "  </tbody>\n",
       "</table>\n",
       "</div>"
      ],
      "text/plain": [
       "   name  age  loc\n",
       "a     1    2    3\n",
       "b     4    5    6\n",
       "c     7    8    9"
      ]
     },
     "execution_count": 142,
     "metadata": {},
     "output_type": "execute_result"
    }
   ],
   "source": [
    "df"
   ]
  },
  {
   "cell_type": "markdown",
   "metadata": {},
   "source": [
    "####"
   ]
  },
  {
   "cell_type": "code",
   "execution_count": 158,
   "metadata": {},
   "outputs": [],
   "source": [
    "df = pd.read_csv(\n",
    "    \"//Users/eunseo/Documents/data_boot/lecture/code/week2/csv/example.csv\"\n",
    ")"
   ]
  },
  {
   "cell_type": "code",
   "execution_count": 159,
   "metadata": {},
   "outputs": [
    {
     "data": {
      "text/plain": [
       "pandas.core.frame.DataFrame"
      ]
     },
     "execution_count": 159,
     "metadata": {},
     "output_type": "execute_result"
    }
   ],
   "source": [
    "type(df)"
   ]
  },
  {
   "cell_type": "markdown",
   "metadata": {},
   "source": [
    "#### pandas 라이브러리를 이용하여 외부의 데이터파일 로드 \n",
    "- csv, tsv\n",
    "    - 가장 단순한 형태의 데이터 파일 \n",
    "    - pandas 안에 내장된 read_csv() 함수를 이용하여 로드 \n",
    "    - csv는 데이터를 ',' 기준으로 나눠준다. \n",
    "        - read_csv()를 기본값으로 사용 \n",
    "    - tsv는 데이터를 '\\t' 기준으로 나눠준다. \n",
    "        - read_csv() 함수에서 sep 매개변수에 인자값을 '\\t' 대입\n",
    "- json\n",
    "    - 많이 사용하는 데이터의 파일\n",
    "    - python을 기준으로 생각하면 dict 형태와 같다\n",
    "    - pandas 안에 read_json() 함수를 이용하여 로드 \n",
    "- xml \n",
    "    - html 구조 언어와 같이 tag를 이용하여 데이터 구성 \n",
    "    - pandas 안에 read_xml() 함수를 이용하여 로드 \n",
    "- 공통적으로 사용이되는 매개변수 \n",
    "    - encoding 매개변수 \n",
    "        - 기본값은 'UTF-8'\n",
    "        - 데이터 파일을 로드 하는데 해당 데이터에 한글이 존재할때 종종 에러가 발생 ( decode error )\n",
    "            - 'CP949', 'EUC-KR'로 매개변수에 대입 에러가 해결\n",
    "        - 엑셀파일을 로드하는 함수에서는 encoding 매개변수가 존재하지 않는다. \n",
    "- excel ( xls, xlsx )\n",
    "    - 엑셀 데이터 파일 \n",
    "    - pandas 안에 read_excel() 함수를 이용\n",
    "    - 특정 엑셀 파일을 로드 할때는 추가적인 라이브러리 설치 필요한 경우가 발생 \n",
    "        - 해당 라이브러리가 설치가 되지 않은 경우에는 에러 발생 (모듈을 찾을수 없다.)\n",
    "        - openpyxl 라이브러리를 설치하면 에러 해결 \n",
    "\n",
    "- read_xxx() 공통적인 부분 \n",
    "    - 첫번째 인자 : 파일의 경로\n",
    "\n",
    "#### 경로 \n",
    "- 절대 경로\n",
    "    - 절대적인 주소값\n",
    "    - 환경이 변하더라도 같은 위치를 언제나 지정 \n",
    "    - ex)\n",
    "        - window -> c:/users/admin/document/a.txt\n",
    "        - mac -> ~/Desktop/a.txt\n",
    "        - url -> https://www.google.com\n",
    "- 상대 경로\n",
    "    - 상대적인 주소값\n",
    "    - 환경이 변할때 위치도 같이 변한다. \n",
    "    - 종류\n",
    "        - ./ -> 현재 작업중인 디렉토리\n",
    "        - ../ -> 상위(부모) 디렉토리 이동\n",
    "        - 디렉토리명/ -> 하위(자식) 디렉토리 이동\n"
   ]
  },
  {
   "cell_type": "code",
   "execution_count": 145,
   "metadata": {},
   "outputs": [],
   "source": [
    "# 상대 경로 이용\n",
    "# 현재 디렉토리(./) -> 상위 디렉토리(../) -> csv 하위 디렉토리 이동(csv/)->example.csv\n",
    "# 현재 디렉토리 생략 가능\n",
    "\n",
    "df2 = pd.read_csv(\"csv/example.csv\")"
   ]
  },
  {
   "cell_type": "code",
   "execution_count": 146,
   "metadata": {},
   "outputs": [
    {
     "data": {
      "text/html": [
       "<div>\n",
       "<style scoped>\n",
       "    .dataframe tbody tr th:only-of-type {\n",
       "        vertical-align: middle;\n",
       "    }\n",
       "\n",
       "    .dataframe tbody tr th {\n",
       "        vertical-align: top;\n",
       "    }\n",
       "\n",
       "    .dataframe thead th {\n",
       "        text-align: right;\n",
       "    }\n",
       "</style>\n",
       "<table border=\"1\" class=\"dataframe\">\n",
       "  <thead>\n",
       "    <tr style=\"text-align: right;\">\n",
       "      <th></th>\n",
       "      <th>Name</th>\n",
       "      <th>Gender</th>\n",
       "      <th>Phone</th>\n",
       "    </tr>\n",
       "  </thead>\n",
       "  <tbody>\n",
       "    <tr>\n",
       "      <th>0</th>\n",
       "      <td>A</td>\n",
       "      <td>male</td>\n",
       "      <td>010-1234-5678</td>\n",
       "    </tr>\n",
       "    <tr>\n",
       "      <th>1</th>\n",
       "      <td>B</td>\n",
       "      <td>female</td>\n",
       "      <td>010-1234-5679</td>\n",
       "    </tr>\n",
       "    <tr>\n",
       "      <th>2</th>\n",
       "      <td>C</td>\n",
       "      <td>male</td>\n",
       "      <td>010-1234-5680</td>\n",
       "    </tr>\n",
       "    <tr>\n",
       "      <th>3</th>\n",
       "      <td>D</td>\n",
       "      <td>female</td>\n",
       "      <td>010-1234-5681</td>\n",
       "    </tr>\n",
       "    <tr>\n",
       "      <th>4</th>\n",
       "      <td>E</td>\n",
       "      <td>male</td>\n",
       "      <td>010-1234-5682</td>\n",
       "    </tr>\n",
       "    <tr>\n",
       "      <th>5</th>\n",
       "      <td>F</td>\n",
       "      <td>female</td>\n",
       "      <td>010-1234-5683</td>\n",
       "    </tr>\n",
       "    <tr>\n",
       "      <th>6</th>\n",
       "      <td>G</td>\n",
       "      <td>male</td>\n",
       "      <td>010-1234-5684</td>\n",
       "    </tr>\n",
       "    <tr>\n",
       "      <th>7</th>\n",
       "      <td>H</td>\n",
       "      <td>female</td>\n",
       "      <td>010-1234-5685</td>\n",
       "    </tr>\n",
       "    <tr>\n",
       "      <th>8</th>\n",
       "      <td>I</td>\n",
       "      <td>male</td>\n",
       "      <td>010-1234-5686</td>\n",
       "    </tr>\n",
       "    <tr>\n",
       "      <th>9</th>\n",
       "      <td>J</td>\n",
       "      <td>female</td>\n",
       "      <td>010-1234-5687</td>\n",
       "    </tr>\n",
       "  </tbody>\n",
       "</table>\n",
       "</div>"
      ],
      "text/plain": [
       "  Name  Gender          Phone\n",
       "0    A    male  010-1234-5678\n",
       "1    B  female  010-1234-5679\n",
       "2    C    male  010-1234-5680\n",
       "3    D  female  010-1234-5681\n",
       "4    E    male  010-1234-5682\n",
       "5    F  female  010-1234-5683\n",
       "6    G    male  010-1234-5684\n",
       "7    H  female  010-1234-5685\n",
       "8    I    male  010-1234-5686\n",
       "9    J  female  010-1234-5687"
      ]
     },
     "execution_count": 146,
     "metadata": {},
     "output_type": "execute_result"
    }
   ],
   "source": [
    "df2"
   ]
  },
  {
   "cell_type": "code",
   "execution_count": 147,
   "metadata": {},
   "outputs": [
    {
     "name": "stderr",
     "output_type": "stream",
     "text": [
      "/var/folders/v0/r6b3g15j6gd1x8947g8ly2qr0000gn/T/ipykernel_35774/1657562775.py:5: ParserWarning: Falling back to the 'python' engine because the 'c' engine does not support regex separators (separators > 1 char and different from '\\s+' are interpreted as regex); you can avoid this warning by specifying engine='python'.\n",
      "  df3 = pd.read_csv(\"./csv/num_1/chipotle.tsv\", sep = '/t')\n"
     ]
    }
   ],
   "source": [
    "# tsv 파일을 로드\n",
    "# read_csv() 함수를 이용\n",
    "# 상대경로\n",
    "\n",
    "df3 = pd.read_csv(\"./csv/num_1/chipotle.tsv\", sep = '/t')"
   ]
  },
  {
   "cell_type": "code",
   "execution_count": 148,
   "metadata": {},
   "outputs": [
    {
     "data": {
      "text/html": [
       "<div>\n",
       "<style scoped>\n",
       "    .dataframe tbody tr th:only-of-type {\n",
       "        vertical-align: middle;\n",
       "    }\n",
       "\n",
       "    .dataframe tbody tr th {\n",
       "        vertical-align: top;\n",
       "    }\n",
       "\n",
       "    .dataframe thead th {\n",
       "        text-align: right;\n",
       "    }\n",
       "</style>\n",
       "<table border=\"1\" class=\"dataframe\">\n",
       "  <thead>\n",
       "    <tr style=\"text-align: right;\">\n",
       "      <th></th>\n",
       "      <th>order_id\\tquantity\\titem_name\\tchoice_description\\titem_price</th>\n",
       "    </tr>\n",
       "  </thead>\n",
       "  <tbody>\n",
       "    <tr>\n",
       "      <th>0</th>\n",
       "      <td>1\\t1\\tChips and Fresh Tomato Salsa\\tNULL\\t$2.39</td>\n",
       "    </tr>\n",
       "    <tr>\n",
       "      <th>1</th>\n",
       "      <td>1\\t1\\tIzze\\t[Clementine]\\t$3.39</td>\n",
       "    </tr>\n",
       "    <tr>\n",
       "      <th>2</th>\n",
       "      <td>1\\t1\\tNantucket Nectar\\t[Apple]\\t$3.39</td>\n",
       "    </tr>\n",
       "    <tr>\n",
       "      <th>3</th>\n",
       "      <td>1\\t1\\tChips and Tomatillo-Green Chili Salsa\\tN...</td>\n",
       "    </tr>\n",
       "    <tr>\n",
       "      <th>4</th>\n",
       "      <td>2\\t2\\tChicken Bowl\\t[Tomatillo-Red Chili Salsa...</td>\n",
       "    </tr>\n",
       "    <tr>\n",
       "      <th>...</th>\n",
       "      <td>...</td>\n",
       "    </tr>\n",
       "    <tr>\n",
       "      <th>4617</th>\n",
       "      <td>1833\\t1\\tSteak Burrito\\t[Fresh Tomato Salsa, [...</td>\n",
       "    </tr>\n",
       "    <tr>\n",
       "      <th>4618</th>\n",
       "      <td>1833\\t1\\tSteak Burrito\\t[Fresh Tomato Salsa, [...</td>\n",
       "    </tr>\n",
       "    <tr>\n",
       "      <th>4619</th>\n",
       "      <td>1834\\t1\\tChicken Salad Bowl\\t[Fresh Tomato Sal...</td>\n",
       "    </tr>\n",
       "    <tr>\n",
       "      <th>4620</th>\n",
       "      <td>1834\\t1\\tChicken Salad Bowl\\t[Fresh Tomato Sal...</td>\n",
       "    </tr>\n",
       "    <tr>\n",
       "      <th>4621</th>\n",
       "      <td>1834\\t1\\tChicken Salad Bowl\\t[Fresh Tomato Sal...</td>\n",
       "    </tr>\n",
       "  </tbody>\n",
       "</table>\n",
       "<p>4622 rows × 1 columns</p>\n",
       "</div>"
      ],
      "text/plain": [
       "     order_id\\tquantity\\titem_name\\tchoice_description\\titem_price\n",
       "0       1\\t1\\tChips and Fresh Tomato Salsa\\tNULL\\t$2.39           \n",
       "1                       1\\t1\\tIzze\\t[Clementine]\\t$3.39           \n",
       "2                1\\t1\\tNantucket Nectar\\t[Apple]\\t$3.39           \n",
       "3     1\\t1\\tChips and Tomatillo-Green Chili Salsa\\tN...           \n",
       "4     2\\t2\\tChicken Bowl\\t[Tomatillo-Red Chili Salsa...           \n",
       "...                                                 ...           \n",
       "4617  1833\\t1\\tSteak Burrito\\t[Fresh Tomato Salsa, [...           \n",
       "4618  1833\\t1\\tSteak Burrito\\t[Fresh Tomato Salsa, [...           \n",
       "4619  1834\\t1\\tChicken Salad Bowl\\t[Fresh Tomato Sal...           \n",
       "4620  1834\\t1\\tChicken Salad Bowl\\t[Fresh Tomato Sal...           \n",
       "4621  1834\\t1\\tChicken Salad Bowl\\t[Fresh Tomato Sal...           \n",
       "\n",
       "[4622 rows x 1 columns]"
      ]
     },
     "execution_count": 148,
     "metadata": {},
     "output_type": "execute_result"
    }
   ],
   "source": [
    "df3"
   ]
  },
  {
   "cell_type": "code",
   "execution_count": 149,
   "metadata": {},
   "outputs": [],
   "source": [
    "# json 데이터 로드\n",
    "\n",
    "df4 = pd.read_json('./csv/2021/202103_expense_list.json')"
   ]
  },
  {
   "cell_type": "code",
   "execution_count": 150,
   "metadata": {},
   "outputs": [
    {
     "data": {
      "text/html": [
       "<div>\n",
       "<style scoped>\n",
       "    .dataframe tbody tr th:only-of-type {\n",
       "        vertical-align: middle;\n",
       "    }\n",
       "\n",
       "    .dataframe tbody tr th {\n",
       "        vertical-align: top;\n",
       "    }\n",
       "\n",
       "    .dataframe thead th {\n",
       "        text-align: right;\n",
       "    }\n",
       "</style>\n",
       "<table border=\"1\" class=\"dataframe\">\n",
       "  <thead>\n",
       "    <tr style=\"text-align: right;\">\n",
       "      <th></th>\n",
       "      <th>nid</th>\n",
       "      <th>title</th>\n",
       "      <th>url</th>\n",
       "      <th>dept_nm_lvl_1</th>\n",
       "      <th>dept_nm_lvl_2</th>\n",
       "      <th>dept_nm_lvl_3</th>\n",
       "      <th>dept_nm_lvl_4</th>\n",
       "      <th>dept_nm_lvl_5</th>\n",
       "      <th>exec_yr</th>\n",
       "      <th>exec_month</th>\n",
       "      <th>...</th>\n",
       "      <th>expense_execution</th>\n",
       "      <th>category</th>\n",
       "      <th>dept_nm_full</th>\n",
       "      <th>exec_dt</th>\n",
       "      <th>exec_loc</th>\n",
       "      <th>exec_purpose</th>\n",
       "      <th>target_nm</th>\n",
       "      <th>payment_method</th>\n",
       "      <th>exec_amount</th>\n",
       "      <th>bimok</th>\n",
       "    </tr>\n",
       "  </thead>\n",
       "  <tbody>\n",
       "    <tr>\n",
       "      <th>0</th>\n",
       "      <td>22581299</td>\n",
       "      <td>2021년 3월 소방재난본부(소방서) 소방학교 소방과학연구센터 업무추진비 - 부서운영</td>\n",
       "      <td>http://opengov.seoul.go.kr/public/22581299</td>\n",
       "      <td>소방재난본부(소방서)</td>\n",
       "      <td>소방학교</td>\n",
       "      <td>소방과학연구센터</td>\n",
       "      <td></td>\n",
       "      <td></td>\n",
       "      <td>2021</td>\n",
       "      <td>3</td>\n",
       "      <td>...</td>\n",
       "      <td>NaN</td>\n",
       "      <td></td>\n",
       "      <td>소방학교  소방과학연구센터</td>\n",
       "      <td>2021-03-17 14:30</td>\n",
       "      <td>롯데마트 은평점(은평구 통일로 1051)</td>\n",
       "      <td>부서운영물품구입(커피 등)</td>\n",
       "      <td>센터장 윤영란 등 6명</td>\n",
       "      <td>제로페이</td>\n",
       "      <td>249210</td>\n",
       "      <td>부서</td>\n",
       "    </tr>\n",
       "  </tbody>\n",
       "</table>\n",
       "<p>1 rows × 21 columns</p>\n",
       "</div>"
      ],
      "text/plain": [
       "        nid                                            title  \\\n",
       "0  22581299  2021년 3월 소방재난본부(소방서) 소방학교 소방과학연구센터 업무추진비 - 부서운영   \n",
       "\n",
       "                                          url dept_nm_lvl_1 dept_nm_lvl_2  \\\n",
       "0  http://opengov.seoul.go.kr/public/22581299   소방재난본부(소방서)          소방학교   \n",
       "\n",
       "  dept_nm_lvl_3 dept_nm_lvl_4 dept_nm_lvl_5  exec_yr  exec_month  ...  \\\n",
       "0      소방과학연구센터                                 2021           3  ...   \n",
       "\n",
       "   expense_execution  category    dept_nm_full           exec_dt  \\\n",
       "0                NaN            소방학교  소방과학연구센터  2021-03-17 14:30   \n",
       "\n",
       "                 exec_loc    exec_purpose     target_nm payment_method  \\\n",
       "0  롯데마트 은평점(은평구 통일로 1051)  부서운영물품구입(커피 등)  센터장 윤영란 등 6명           제로페이   \n",
       "\n",
       "  exec_amount  bimok  \n",
       "0      249210     부서  \n",
       "\n",
       "[1 rows x 21 columns]"
      ]
     },
     "execution_count": 150,
     "metadata": {},
     "output_type": "execute_result"
    }
   ],
   "source": [
    "df4.head(1)"
   ]
  },
  {
   "cell_type": "code",
   "execution_count": 151,
   "metadata": {},
   "outputs": [],
   "source": [
    "df5 = pd.read_xml(\"./csv/2021/202102_expense_list.xml\")"
   ]
  },
  {
   "cell_type": "code",
   "execution_count": 152,
   "metadata": {},
   "outputs": [],
   "source": [
    "# !pip install lxml"
   ]
  },
  {
   "cell_type": "code",
   "execution_count": 153,
   "metadata": {},
   "outputs": [],
   "source": [
    "# 같은 경로에 있는 excel 파일 로드\n",
    "df6 = pd.read_excel('./csv/2021/202101_expense_list.xlsx')"
   ]
  },
  {
   "cell_type": "code",
   "execution_count": 154,
   "metadata": {},
   "outputs": [],
   "source": [
    "# !pip install openpyxl"
   ]
  },
  {
   "cell_type": "code",
   "execution_count": 155,
   "metadata": {},
   "outputs": [],
   "source": [
    "# data 파일에서 한글때문에 에러가 발생하는 경우\n",
    "# csv 폴더 안에 '주민등록.csv' 파일을 로드\n",
    "\n",
    "df7 = pd.read_csv(\n",
    "    \"./csv/주민등록.csv\", encoding = 'CP949'\n",
    ")"
   ]
  },
  {
   "cell_type": "code",
   "execution_count": 156,
   "metadata": {},
   "outputs": [
    {
     "data": {
      "text/html": [
       "<div>\n",
       "<style scoped>\n",
       "    .dataframe tbody tr th:only-of-type {\n",
       "        vertical-align: middle;\n",
       "    }\n",
       "\n",
       "    .dataframe tbody tr th {\n",
       "        vertical-align: top;\n",
       "    }\n",
       "\n",
       "    .dataframe thead th {\n",
       "        text-align: right;\n",
       "    }\n",
       "</style>\n",
       "<table border=\"1\" class=\"dataframe\">\n",
       "  <thead>\n",
       "    <tr style=\"text-align: right;\">\n",
       "      <th></th>\n",
       "      <th>자치구코드(atdrc_code_se)</th>\n",
       "      <th>자치구명(atdrc_nm)</th>\n",
       "      <th>년월(년월)</th>\n",
       "      <th>총인구수(tot_popltn_co)</th>\n",
       "      <th>세대수(tot_hshld_co)</th>\n",
       "      <th>세대당인구(hshld_popltn_avrg_co)</th>\n",
       "      <th>남자인구수(male_popltn_co)</th>\n",
       "      <th>여자인구수(female_popltn_co)</th>\n",
       "      <th>적재일시(ldadng_dt)</th>\n",
       "    </tr>\n",
       "  </thead>\n",
       "  <tbody>\n",
       "    <tr>\n",
       "      <th>0</th>\n",
       "      <td>금천구</td>\n",
       "      <td>11110</td>\n",
       "      <td>201907</td>\n",
       "      <td>228755</td>\n",
       "      <td>171426</td>\n",
       "      <td>2.44</td>\n",
       "      <td>319062</td>\n",
       "      <td>118352</td>\n",
       "      <td>2018-01-05 16:52:25</td>\n",
       "    </tr>\n",
       "    <tr>\n",
       "      <th>1</th>\n",
       "      <td>서대문구</td>\n",
       "      <td>11290</td>\n",
       "      <td>201607</td>\n",
       "      <td>153780</td>\n",
       "      <td>186744</td>\n",
       "      <td>2.12</td>\n",
       "      <td>75614</td>\n",
       "      <td>116393</td>\n",
       "      <td>2018-12-05 10:20:57</td>\n",
       "    </tr>\n",
       "  </tbody>\n",
       "</table>\n",
       "</div>"
      ],
      "text/plain": [
       "  자치구코드(atdrc_code_se)  자치구명(atdrc_nm)  년월(년월)  총인구수(tot_popltn_co)  \\\n",
       "0                  금천구           11110  201907               228755   \n",
       "1                 서대문구           11290  201607               153780   \n",
       "\n",
       "   세대수(tot_hshld_co)  세대당인구(hshld_popltn_avrg_co)  남자인구수(male_popltn_co)  \\\n",
       "0             171426                         2.44                 319062   \n",
       "1             186744                         2.12                  75614   \n",
       "\n",
       "   여자인구수(female_popltn_co)      적재일시(ldadng_dt)  \n",
       "0                   118352  2018-01-05 16:52:25  \n",
       "1                   116393  2018-12-05 10:20:57  "
      ]
     },
     "execution_count": 156,
     "metadata": {},
     "output_type": "execute_result"
    }
   ],
   "source": [
    "df7.head(2)"
   ]
  },
  {
   "cell_type": "markdown",
   "metadata": {},
   "source": [
    "#### 결측치\n",
    "- 데이터프레임에서 특정 부분에 데이터가 존재하지 않는 경우\n",
    "- NaN 표시\n"
   ]
  }
 ],
 "metadata": {
  "kernelspec": {
   "display_name": "Python 3",
   "language": "python",
   "name": "python3"
  },
  "language_info": {
   "codemirror_mode": {
    "name": "ipython",
    "version": 3
   },
   "file_extension": ".py",
   "mimetype": "text/x-python",
   "name": "python",
   "nbconvert_exporter": "python",
   "pygments_lexer": "ipython3",
   "version": "3.13.7"
  },
  "orig_nbformat": 4
 },
 "nbformat": 4,
 "nbformat_minor": 2
}
