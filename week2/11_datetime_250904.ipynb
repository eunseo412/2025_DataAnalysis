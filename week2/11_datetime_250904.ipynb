{
 "cells": [
  {
   "cell_type": "markdown",
   "metadata": {},
   "source": [
    "### 시계열 데이터\n",
    "- 여러 개의 데이터가 하나로 모여서 시계열 데이터 완성\n",
    "- type(format) -> 시계열데이터의 폼을 뜻한다.\n",
    "    - 년도 표기(4자리수) : %Y\n",
    "    - 년도 표기(2자리수) : %y\n",
    "    - 월을 숫자로 표기 : %m\n",
    "    - 월을 문자로 표기 : %B\n",
    "    - 월의 이름을 축약해서 표기 : %b\n",
    "    - 일을 표기 : %d\n",
    "    - 시를 24시 기준으로 표기 : %H\n",
    "    - 시를 12시 기준으로 표기 : %I\n",
    "    - AM/PM 표기 : %p\n",
    "    - 분을 표기 : %M\n",
    "    - 초를 표기 : %S\n",
    "    - 요일을 이름으로 표기 : %A\n",
    "    - 요일을 숫자로 표기 : %w (0: 일, 1: 월, ... , 6: 토)"
   ]
  },
  {
   "cell_type": "code",
   "execution_count": 1,
   "metadata": {},
   "outputs": [],
   "source": [
    "# datatime 라이브러리 로드\n",
    "from datetime import datetime"
   ]
  },
  {
   "cell_type": "code",
   "execution_count": 2,
   "metadata": {},
   "outputs": [],
   "source": [
    "# 문자로 되어있는 데이터를 시간 데이터로 변환\n",
    "time_str = \"2025-09-04\""
   ]
  },
  {
   "cell_type": "code",
   "execution_count": 3,
   "metadata": {},
   "outputs": [
    {
     "data": {
      "text/plain": [
       "str"
      ]
     },
     "execution_count": 3,
     "metadata": {},
     "output_type": "execute_result"
    }
   ],
   "source": [
    "type(time_str)"
   ]
  },
  {
   "cell_type": "code",
   "execution_count": 4,
   "metadata": {},
   "outputs": [],
   "source": [
    "# 문자열 데이터를 시계열 데이터로 변환\n",
    "# datatime 안에 있는 함수를 호출 -> 문자 데이터 시계열\n",
    "# strptime()\n",
    "    # 필수 매개변수 2개\n",
    "        # 문자열 데이터 (시게열 데이터로 변경할 문자)\n",
    "        # format -> 문자열 데이터가 어떠한 방식으로 이루어져있는가?\n",
    "\n",
    "time_data = datetime.strptime(\n",
    "    time_str,\n",
    "    '%Y-%m-%d'\n",
    ")"
   ]
  },
  {
   "cell_type": "code",
   "execution_count": 5,
   "metadata": {},
   "outputs": [
    {
     "data": {
      "text/plain": [
       "datetime.datetime"
      ]
     },
     "execution_count": 5,
     "metadata": {},
     "output_type": "execute_result"
    }
   ],
   "source": [
    "type(time_data)"
   ]
  },
  {
   "cell_type": "code",
   "execution_count": 6,
   "metadata": {},
   "outputs": [
    {
     "data": {
      "text/plain": [
       "datetime.datetime(2025, 9, 4, 0, 0)"
      ]
     },
     "execution_count": 6,
     "metadata": {},
     "output_type": "execute_result"
    }
   ],
   "source": [
    "time_data"
   ]
  },
  {
   "cell_type": "code",
   "execution_count": 7,
   "metadata": {},
   "outputs": [
    {
     "data": {
      "text/plain": [
       "'4'"
      ]
     },
     "execution_count": 7,
     "metadata": {},
     "output_type": "execute_result"
    }
   ],
   "source": [
    "# 시간 데이터를 문자로 변경\n",
    "# strftime()\n",
    "time_data.strftime(\n",
    "    '%w'\n",
    ")"
   ]
  }
 ],
 "metadata": {
  "kernelspec": {
   "display_name": "venv",
   "language": "python",
   "name": "python3"
  },
  "language_info": {
   "codemirror_mode": {
    "name": "ipython",
    "version": 3
   },
   "file_extension": ".py",
   "mimetype": "text/x-python",
   "name": "python",
   "nbconvert_exporter": "python",
   "pygments_lexer": "ipython3",
   "version": "3.13.7"
  },
  "orig_nbformat": 4
 },
 "nbformat": 4,
 "nbformat_minor": 2
}
