{
 "cells": [
  {
   "cell_type": "code",
   "execution_count": 330,
   "metadata": {},
   "outputs": [
    {
     "name": "stdout",
     "output_type": "stream",
     "text": [
      "[1, 4, 9, 16, 25]\n"
     ]
    }
   ],
   "source": [
    "# map() -> 1차원 데이터를 각각 원소별 변환 필요할 때 사용\n",
    "# map(함수, 1차원 데이터)\n",
    "\n",
    "list_a = [1, 2, 3, 4, 5]\n",
    "# list에서 각각의 원소들에 제곱을 한 새로운 리스트 생성해보자\n",
    "# case1\n",
    "# for문\n",
    "new_list = []\n",
    "for i in list_a:\n",
    "    # i는? -> list_a의 원소의 값(1, 2, 3, 4, 5)\n",
    "    new_list.append(i ** 2)\n",
    "\n",
    "# for i in range(5):\n",
    "#     # i는? -> list_a의 위치의 값(0, 1, 2, 3, 4)\n",
    "#     new_list.append(\n",
    "#         list_a[i] ** 2\n",
    "#     )\n",
    "    \n",
    "print(new_list)"
   ]
  },
  {
   "cell_type": "code",
   "execution_count": 331,
   "metadata": {},
   "outputs": [
    {
     "name": "stdout",
     "output_type": "stream",
     "text": [
      "False True True True\n"
     ]
    }
   ],
   "source": [
    "# while 조건식:\n",
    "# 조건식이 들어가는 부분은 bool 형태\n",
    "# bool형태가 아닌 데이터가 들어오면 강제로 bool 형태로 변환\n",
    "print(\n",
    "    bool(0),\n",
    "    bool(1),\n",
    "    bool(10),\n",
    "    bool(-2)\n",
    ")"
   ]
  },
  {
   "cell_type": "code",
   "execution_count": 332,
   "metadata": {},
   "outputs": [
    {
     "name": "stdout",
     "output_type": "stream",
     "text": [
      "False True True\n"
     ]
    }
   ],
   "source": [
    "print(\n",
    "    bool(\"\"),\n",
    "    bool(\" \"),\n",
    "    bool(\"xxx\")\n",
    ")"
   ]
  },
  {
   "cell_type": "code",
   "execution_count": 333,
   "metadata": {},
   "outputs": [
    {
     "name": "stdout",
     "output_type": "stream",
     "text": [
      "False True\n"
     ]
    }
   ],
   "source": [
    "print(\n",
    "    bool([]),\n",
    "    bool([1])\n",
    ")"
   ]
  },
  {
   "cell_type": "code",
   "execution_count": 334,
   "metadata": {},
   "outputs": [
    {
     "data": {
      "text/plain": [
       "2"
      ]
     },
     "execution_count": 334,
     "metadata": {},
     "output_type": "execute_result"
    }
   ],
   "source": [
    "True + True"
   ]
  },
  {
   "cell_type": "code",
   "execution_count": 335,
   "metadata": {},
   "outputs": [
    {
     "data": {
      "text/plain": [
       "[1, 4, 9, 16, 25]"
      ]
     },
     "execution_count": 335,
     "metadata": {},
     "output_type": "execute_result"
    }
   ],
   "source": [
    "# while 조건식\n",
    "# 조건식은? -> 초기값을 지정하고 초기값이 list_a의 길이보다 작을때까지\n",
    "# 조건식은> -> 무한 -> 초기값이 list_a의 길이보다 같을 때 반복문 강제종료\n",
    "#                -> 에러가 발생한다면 강제 종료\n",
    "\n",
    "# # case2\n",
    "# # while문\n",
    "# # 초기값을 지정\n",
    "i = 0\n",
    "# # 빈 리스트 생성\n",
    "new_list = list()\n",
    "\n",
    "# while i < len(list_a):\n",
    "#     new_list.append(\n",
    "#         list_a[i] ** 2\n",
    "#     )\n",
    "#     # i의 값을 1씩 증가\n",
    "#     i += 1\n",
    "\n",
    "# case3\n",
    "while True: \n",
    "    new_list.append(\n",
    "        list_a[i] ** 2\n",
    "    )  \n",
    "    i += 1\n",
    "    if i >= len(list_a):\n",
    "        break\n",
    "new_list"
   ]
  },
  {
   "cell_type": "code",
   "execution_count": 336,
   "metadata": {},
   "outputs": [
    {
     "data": {
      "text/plain": [
       "[1, 4, 9, 16, 25]"
      ]
     },
     "execution_count": 336,
     "metadata": {},
     "output_type": "execute_result"
    }
   ],
   "source": [
    "new_list = []\n",
    "i = 0\n",
    "# case4\n",
    "while True:\n",
    "    # 예외처리\n",
    "    try:\n",
    "        new_list.append(\n",
    "            list_a[i] ** 2\n",
    "        )\n",
    "        i += 1\n",
    "    except:\n",
    "        #try문 안에서 실행되는 코드가 에러가 발생한다면 반복문을 종료\n",
    "        break\n",
    "\n",
    "new_list"
   ]
  },
  {
   "cell_type": "code",
   "execution_count": 337,
   "metadata": {},
   "outputs": [
    {
     "data": {
      "text/plain": [
       "[1, 4, 9, 16, 25]"
      ]
     },
     "execution_count": 337,
     "metadata": {},
     "output_type": "execute_result"
    }
   ],
   "source": [
    "# map() 함수를 이용\n",
    "# map() + 일반 함수\n",
    "\n",
    "def func_1(x):\n",
    "    result = x ** 2\n",
    "    return result\n",
    "\n",
    "# map() -> list_a의 데이터들은 각각 func_1 함수에 대입\n",
    "\n",
    "list(\n",
    "    map(\n",
    "        func_1,\n",
    "        list_a\n",
    "    )\n",
    ")"
   ]
  },
  {
   "cell_type": "code",
   "execution_count": 338,
   "metadata": {},
   "outputs": [
    {
     "data": {
      "text/plain": [
       "[1, 4, 9, 16, 25]"
      ]
     },
     "execution_count": 338,
     "metadata": {},
     "output_type": "execute_result"
    }
   ],
   "source": [
    "# lambda 함수 + map()\n",
    "# lambda 매개변수: 매개변수 변환하는 코드 (return 필요없음)\n",
    "list(\n",
    "    map(\n",
    "        lambda x : x ** 2,\n",
    "        list_a\n",
    "    )\n",
    ")"
   ]
  },
  {
   "cell_type": "code",
   "execution_count": 339,
   "metadata": {},
   "outputs": [
    {
     "name": "stdout",
     "output_type": "stream",
     "text": [
      "10\n",
      "7\n"
     ]
    }
   ],
   "source": [
    "f = lambda x : x + 5\n",
    "print(f(5))\n",
    "\n",
    "add = lambda x, y: x + y\n",
    "print(add(3, 4))"
   ]
  },
  {
   "cell_type": "code",
   "execution_count": 340,
   "metadata": {},
   "outputs": [
    {
     "data": {
      "text/plain": [
       "[6, 6, 6, 6, 6]"
      ]
     },
     "execution_count": 340,
     "metadata": {},
     "output_type": "execute_result"
    }
   ],
   "source": [
    "# map() 함수의 첫 번째 인자는 함수로 고정\n",
    "# 두 번째 인자부터는 1차원 데이터의 가변의 매개변수\n",
    "\n",
    "list(\n",
    "    map(\n",
    "        lambda x, y : x + y,\n",
    "        [1, 2, 3, 4, 5],\n",
    "        [5, 4, 3, 2, 1]\n",
    "    )\n",
    ")"
   ]
  },
  {
   "cell_type": "code",
   "execution_count": 341,
   "metadata": {},
   "outputs": [
    {
     "data": {
      "text/plain": [
       "[(1, 5), (2, 4), (3, 3), (4, 2), (5, 1)]"
      ]
     },
     "execution_count": 341,
     "metadata": {},
     "output_type": "execute_result"
    }
   ],
   "source": [
    "list(\n",
    "    map(\n",
    "        lambda *x : x,\n",
    "        [1, 2, 3, 4, 5],\n",
    "        [5, 4, 3, 2, 1]\n",
    "    )\n",
    ")"
   ]
  },
  {
   "cell_type": "code",
   "execution_count": 342,
   "metadata": {},
   "outputs": [
    {
     "data": {
      "text/plain": [
       "[6, 6, 6, 6, 6]"
      ]
     },
     "execution_count": 342,
     "metadata": {},
     "output_type": "execute_result"
    }
   ],
   "source": [
    "# 위의 map 함수가 하는 기능을 반복문으로 작성한다면?\n",
    "list_1 = [1, 2, 3, 4, 5]\n",
    "list_2 = [5, 4, 3, 2, 1]\n",
    "\n",
    "new_list = []\n",
    "\n",
    "for i in range(len(list_1)):\n",
    "    new_list.append(\n",
    "        list_1[i] + list_2[i]\n",
    "    )\n",
    "\n",
    "new_list"
   ]
  },
  {
   "cell_type": "code",
   "execution_count": 343,
   "metadata": {},
   "outputs": [
    {
     "data": {
      "text/plain": [
       "[6, 6, 6, 6, 6]"
      ]
     },
     "execution_count": 343,
     "metadata": {},
     "output_type": "execute_result"
    }
   ],
   "source": [
    "new_list = []\n",
    "for x, y in zip(list_1, list_2):\n",
    "    new_list.append(x + y)\n",
    "new_list"
   ]
  },
  {
   "cell_type": "code",
   "execution_count": 344,
   "metadata": {},
   "outputs": [
    {
     "data": {
      "text/plain": [
       "[(1, 5), (2, 4), (3, 3), (4, 2), (5, 1)]"
      ]
     },
     "execution_count": 344,
     "metadata": {},
     "output_type": "execute_result"
    }
   ],
   "source": [
    "list(zip(list_1, list_2))"
   ]
  },
  {
   "cell_type": "code",
   "execution_count": 345,
   "metadata": {},
   "outputs": [],
   "source": [
    "# map(), zip() 함수를 확인하며 0x....과 같은 출력 생성\n",
    "class A:\n",
    "    def __init__(self, _x):\n",
    "        self.x = _x\n",
    "    \n",
    "class_a = A(10)"
   ]
  },
  {
   "cell_type": "code",
   "execution_count": 346,
   "metadata": {},
   "outputs": [
    {
     "data": {
      "text/plain": [
       "<__main__.A at 0x114c5ad10>"
      ]
     },
     "execution_count": 346,
     "metadata": {},
     "output_type": "execute_result"
    }
   ],
   "source": [
    "# 일반적으로 생성된 클래스는 주소값 확인이 가능\n",
    "class_a"
   ]
  },
  {
   "cell_type": "code",
   "execution_count": 347,
   "metadata": {},
   "outputs": [],
   "source": [
    "class B:\n",
    "    def __init__(self, _x):\n",
    "        self.x = _x\n",
    "    def __repr__(self):\n",
    "        # __repr__함수가 설정이 되어있는 클래스만 위치 데이터를 바꿔서 데이터를 보여주고\n",
    "        return str(self.x)\n",
    "    \n",
    "# classA와 같이 __repr__함수가 없는 클래스의 경우 주소값을 보여준다."
   ]
  },
  {
   "cell_type": "code",
   "execution_count": 348,
   "metadata": {},
   "outputs": [],
   "source": [
    "class_b = B(20)"
   ]
  },
  {
   "cell_type": "code",
   "execution_count": 349,
   "metadata": {},
   "outputs": [
    {
     "data": {
      "text/plain": [
       "20"
      ]
     },
     "execution_count": 349,
     "metadata": {},
     "output_type": "execute_result"
    }
   ],
   "source": [
    "class_b"
   ]
  },
  {
   "cell_type": "markdown",
   "metadata": {},
   "source": [
    "### 연습\n",
    "- 함수(func_2) 생성\n",
    "    - 매개변수 1개 -> n (기본값이 존재x)\n",
    "    - n팩터리얼의 값을 되돌려주는 함수"
   ]
  },
  {
   "cell_type": "code",
   "execution_count": 350,
   "metadata": {},
   "outputs": [],
   "source": [
    "# 함수 생성 -> 매개변수, 함수의 결과에 대한 힌트를 포함\n",
    "# 방법1\n",
    "def func_2( n : int ) -> int :\n",
    "    # 1부터 시작해서 자기 자신까지 1씩 증가시키면서 누적 곱\n",
    "    result = 1\n",
    "    for i in range(2, n+1):\n",
    "        result *= i\n",
    "    return result"
   ]
  },
  {
   "cell_type": "code",
   "execution_count": 351,
   "metadata": {},
   "outputs": [
    {
     "data": {
      "text/plain": [
       "120"
      ]
     },
     "execution_count": 351,
     "metadata": {},
     "output_type": "execute_result"
    }
   ],
   "source": [
    "func_2(5)"
   ]
  },
  {
   "cell_type": "code",
   "execution_count": 352,
   "metadata": {},
   "outputs": [],
   "source": [
    "# 방법2 - 반복횟수 줄이기\n",
    "def func_3(n):\n",
    "    result = n\n",
    "    for i in range(n-1, 1, -1):\n",
    "        result *= i\n",
    "    return result"
   ]
  },
  {
   "cell_type": "code",
   "execution_count": 353,
   "metadata": {},
   "outputs": [
    {
     "data": {
      "text/plain": [
       "120"
      ]
     },
     "execution_count": 353,
     "metadata": {},
     "output_type": "execute_result"
    }
   ],
   "source": [
    "func_3(5)"
   ]
  },
  {
   "cell_type": "markdown",
   "metadata": {},
   "source": [
    "### 재귀함수\n",
    "- 어떤 이벤트에서 자기 자신을 포함하고 다시 자기 자신을 사용하여 정의되는 것을 의미\n",
    "- 재귀를 효과적으로 사용하면 프로그램을 간결하고 효율성이 좋게 작성이 가능하다"
   ]
  },
  {
   "cell_type": "code",
   "execution_count": 354,
   "metadata": {},
   "outputs": [
    {
     "data": {
      "text/plain": [
       "120"
      ]
     },
     "execution_count": 354,
     "metadata": {},
     "output_type": "execute_result"
    }
   ],
   "source": [
    "def func_4(n : int) -> int:\n",
    "    if n > 0:\n",
    "        return n * func_4(n - 1)\n",
    "    else:\n",
    "        return 1\n",
    "func_4(5)"
   ]
  },
  {
   "cell_type": "code",
   "execution_count": 355,
   "metadata": {},
   "outputs": [],
   "source": [
    "# list에 내장된 reverse() 함수를 생성\n",
    "# def list_reverse(_x):\n",
    "#     # 가장 마지막의 데이터를 추출하여 새로운 리스트에 추가\n",
    "#     result = []\n",
    "#     for i in range(-1, -len(_x)-1, -1):\n",
    "#         result.append(_x[i])\n",
    "#     return result"
   ]
  },
  {
   "cell_type": "code",
   "execution_count": 356,
   "metadata": {},
   "outputs": [],
   "source": [
    "# list에 내장된 reverse() 함수를 생성\n",
    "def list_reverse(_x):\n",
    "    # 가장 마지막의 데이터를 추출하여 새로운 리스트에 추가\n",
    "    result = []\n",
    "    for i in range(1, len(_x)+1):\n",
    "        result.append(_x[-i])\n",
    "    return result"
   ]
  },
  {
   "cell_type": "code",
   "execution_count": 357,
   "metadata": {},
   "outputs": [],
   "source": [
    "test_list =[1, 2, 3, 4, 5]"
   ]
  },
  {
   "cell_type": "code",
   "execution_count": 358,
   "metadata": {},
   "outputs": [
    {
     "data": {
      "text/plain": [
       "[5, 4, 3, 2, 1]"
      ]
     },
     "execution_count": 358,
     "metadata": {},
     "output_type": "execute_result"
    }
   ],
   "source": [
    "list_reverse(test_list)"
   ]
  },
  {
   "cell_type": "code",
   "execution_count": 359,
   "metadata": {},
   "outputs": [],
   "source": [
    "def list_reverse2(_x):\n",
    "    # _x의 복사본 생성\n",
    "    result = _x.copy()\n",
    "    for i in range(len(result)//2):\n",
    "        result[i], result[-1-i] = result[-1-i], result[i]\n",
    "    return result"
   ]
  },
  {
   "cell_type": "code",
   "execution_count": 360,
   "metadata": {},
   "outputs": [
    {
     "data": {
      "text/plain": [
       "[5, 4, 3, 2, 1]"
      ]
     },
     "execution_count": 360,
     "metadata": {},
     "output_type": "execute_result"
    }
   ],
   "source": [
    "list_reverse2(test_list)"
   ]
  },
  {
   "cell_type": "code",
   "execution_count": 361,
   "metadata": {},
   "outputs": [
    {
     "data": {
      "text/plain": [
       "[1, 2, 3, 4, 5]"
      ]
     },
     "execution_count": 361,
     "metadata": {},
     "output_type": "execute_result"
    }
   ],
   "source": [
    "test_list"
   ]
  },
  {
   "cell_type": "markdown",
   "metadata": {},
   "source": [
    "### 연습\n",
    "- find 함수를 생성해보자\n",
    "    - 함수의 이름은 c_find\n",
    "    - 매개변수 2개 (_data, _word)\n",
    "    - _data에서 _word의 위치를 출력하는 기능\n",
    "    - 찾는 _word가 여러개라면 여러개를 동시에 출력\n",
    "    - 찾는 _word가 존재하지 않는다면 ()출력"
   ]
  },
  {
   "cell_type": "code",
   "execution_count": 362,
   "metadata": {},
   "outputs": [
    {
     "data": {
      "text/plain": [
       "([1, 2], (1, 2))"
      ]
     },
     "execution_count": 362,
     "metadata": {},
     "output_type": "execute_result"
    }
   ],
   "source": [
    "# find(), index() 함수를 모른다는 기준으로 함수 구성\n",
    "def c_find(_data, _word):\n",
    "    # index들이 저장될 공간을 설정\n",
    "    result = []\n",
    "    result2 = ()\n",
    "    for i in range(len(_data)):\n",
    "        if _data[i] == _word:\n",
    "            # list데이터에서 데이터를 추가할 때\n",
    "            result.append(i)\n",
    "            # result2는 tuple에 데이터를 추가?\n",
    "            result2 += (i,)\n",
    "    return result, result2\n",
    "\n",
    "c_find('apple', 'p')"
   ]
  },
  {
   "cell_type": "code",
   "execution_count": 373,
   "metadata": {},
   "outputs": [],
   "source": [
    "####### 다시 보기!!!!!1 #########\n",
    "\n",
    "def c_find(_data, _word):\n",
    "    result = []\n",
    "    for i in range(len(_data)):\n",
    "        # _data가 문자인가? -> 변수의 타입이 무엇인가\n",
    "        if type(_data) == str:\n",
    "            flag = _data[i:i+len(_word)] == _word\n",
    "        else:\n",
    "            flag = _data[i] == _word\n",
    "\n",
    "        if flag:\n",
    "            result.append(i)\n",
    "    return result     "
   ]
  },
  {
   "cell_type": "code",
   "execution_count": 374,
   "metadata": {},
   "outputs": [
    {
     "data": {
      "text/plain": [
       "[1]"
      ]
     },
     "execution_count": 374,
     "metadata": {},
     "output_type": "execute_result"
    }
   ],
   "source": [
    "c_find('apple', 'pp')"
   ]
  },
  {
   "cell_type": "code",
   "execution_count": 375,
   "metadata": {},
   "outputs": [
    {
     "data": {
      "text/plain": [
       "[0, 4]"
      ]
     },
     "execution_count": 375,
     "metadata": {},
     "output_type": "execute_result"
    }
   ],
   "source": [
    "c_find(['a', 'b', 'c', 'd', 'a'], 'a')"
   ]
  },
  {
   "cell_type": "code",
   "execution_count": 376,
   "metadata": {},
   "outputs": [
    {
     "data": {
      "text/plain": [
       "[]"
      ]
     },
     "execution_count": 376,
     "metadata": {},
     "output_type": "execute_result"
    }
   ],
   "source": [
    "c_find('apple', 'b')"
   ]
  },
  {
   "cell_type": "code",
   "execution_count": 377,
   "metadata": {},
   "outputs": [
    {
     "data": {
      "text/plain": [
       "'e'"
      ]
     },
     "execution_count": 377,
     "metadata": {},
     "output_type": "execute_result"
    }
   ],
   "source": [
    "'apple'[4:6]"
   ]
  },
  {
   "cell_type": "code",
   "execution_count": 379,
   "metadata": {},
   "outputs": [
    {
     "data": {
      "text/plain": [
       "-1"
      ]
     },
     "execution_count": 379,
     "metadata": {},
     "output_type": "execute_result"
    }
   ],
   "source": [
    "'apple'.find('n')"
   ]
  },
  {
   "cell_type": "code",
   "execution_count": 381,
   "metadata": {},
   "outputs": [
    {
     "data": {
      "text/plain": [
       "1"
      ]
     },
     "execution_count": 381,
     "metadata": {},
     "output_type": "execute_result"
    }
   ],
   "source": [
    "'apple'.find('p')"
   ]
  },
  {
   "cell_type": "code",
   "execution_count": 382,
   "metadata": {},
   "outputs": [
    {
     "data": {
      "text/plain": [
       "1"
      ]
     },
     "execution_count": 382,
     "metadata": {},
     "output_type": "execute_result"
    }
   ],
   "source": [
    "'apple'.index('p')"
   ]
  },
  {
   "cell_type": "markdown",
   "metadata": {},
   "source": [
    "#### 연습\n",
    "- 소수를 구하는 함수를 생성하시오\n",
    "    - 매개변수: 2개 (_start(기본값 2), _end(기본값 100))\n",
    "    - 소수란?\n",
    "        - 1과 자기 자신 이외에는 나누어 떨어지지 않는 수를 의미\n",
    "            - 조건: 2부터 시작해서 (자기 자신 -1)까지 어떤 정수로도 나누어 떨어지지 않는다.\n",
    "    - _start부터 _end까지의 수를 반복하여 소수인 데이터를 비어있는 리스트에 추가한다.\n",
    "    - 소수의 리스트와 반복 횟수를 되돌려준다."
   ]
  },
  {
   "cell_type": "code",
   "execution_count": 418,
   "metadata": {},
   "outputs": [
    {
     "data": {
      "text/plain": [
       "([], 1158)"
      ]
     },
     "execution_count": 418,
     "metadata": {},
     "output_type": "execute_result"
    }
   ],
   "source": [
    "# def prime_list(_start = 2, _end = 100):\n",
    "#     result = []\n",
    "#     cnt = 0\n",
    "#     # 반복문을 이용하여 _start부터 _end까지 +1 반복\n",
    "#     while _start <= _end:\n",
    "#         # 2부터 자기 자신의 -1까지 반복을 하는 반복문\n",
    "#         for i in range(2, _end):\n",
    "#             # 반복 횟수를 1 증가\n",
    "#             cnt += 1\n",
    "#             # 나눠서 나머지가 0인가 체크 (조건문)\n",
    "#             if _start % i == 0:\n",
    "#                 # 참이라면 반복문을 종료\n",
    "#                 break\n",
    "#         # 조건문이 거짓이라면\n",
    "#         else:\n",
    "#             result.append(_start)\n",
    "        \n",
    "#         _start += 1\n",
    "#     return result, cnt\n",
    "\n",
    "# prime_list()\n"
   ]
  },
  {
   "cell_type": "code",
   "execution_count": 416,
   "metadata": {},
   "outputs": [
    {
     "data": {
      "text/plain": [
       "(1084,\n",
       " [2,\n",
       "  3,\n",
       "  5,\n",
       "  7,\n",
       "  11,\n",
       "  13,\n",
       "  17,\n",
       "  19,\n",
       "  23,\n",
       "  29,\n",
       "  31,\n",
       "  37,\n",
       "  41,\n",
       "  43,\n",
       "  47,\n",
       "  53,\n",
       "  59,\n",
       "  61,\n",
       "  67,\n",
       "  71,\n",
       "  73,\n",
       "  79,\n",
       "  83,\n",
       "  89,\n",
       "  97])"
      ]
     },
     "execution_count": 416,
     "metadata": {},
     "output_type": "execute_result"
    }
   ],
   "source": [
    "def prime_list(_start = 2, _end = 100):\n",
    "    cnt = 0\n",
    "    # 소수가 들어갈 비어있는 리스트를 생성\n",
    "    # _start가 2라면 result는 -> 2\n",
    "    if _start == 2:\n",
    "        result = [2]\n",
    "    else:\n",
    "        result = []\n",
    "\n",
    "    # 반복문을 이용하여 _start부터 _end까지 +1 반복\n",
    "    # 짝수는 2를 제외한 나머지는 소수가 될 수 없으므로 홀수만 반복 실행\n",
    "    # _start가 짝수라면 _start + 1\n",
    "    if _start % 2 == 0:\n",
    "        _start += 1\n",
    "    for n in range(_start, _end + 1, 2):\n",
    "        # flag = 1\n",
    "        # 2부터 자기 자신의 -1까지 반복을 하는 반복문\n",
    "        for i in range(2, n):\n",
    "            # 반복 횟수를 1 증가\n",
    "            cnt += 1\n",
    "            # 나눠서 나머지가 0인가 체크 (조건문)\n",
    "            if n % i == 0:\n",
    "                # flag = 0\n",
    "                # 참이라면 반복문을 종료\n",
    "                break\n",
    "        # 조건문이 거짓이라면\n",
    "        # if flag\n",
    "        else:\n",
    "            result.append(n)\n",
    "    return cnt, result\n",
    "\n",
    "prime_list()\n"
   ]
  },
  {
   "cell_type": "code",
   "execution_count": 407,
   "metadata": {},
   "outputs": [
    {
     "name": "stdout",
     "output_type": "stream",
     "text": [
      "362\n",
      "[2, 3, 5, 7, 11, 13, 17, 19, 23, 29, 31, 37, 41, 43, 47, 53, 59, 61, 67, 71, 73, 79, 83, 89, 97]\n"
     ]
    }
   ],
   "source": [
    "# 개선\n",
    "cnt = 0\n",
    "result = [2]\n",
    "\n",
    "for n in range(3, 101, 2):\n",
    "    # 이미 찾은 소수의 데이터로 반복하여 나눠준다.\n",
    "    for i in result:\n",
    "        cnt += 1\n",
    "        if n % i == 0:\n",
    "            break\n",
    "    else:\n",
    "        result.append(n)\n",
    "\n",
    "print(cnt)\n",
    "print(result)"
   ]
  }
 ],
 "metadata": {
  "kernelspec": {
   "display_name": "Python 3",
   "language": "python",
   "name": "python3"
  },
  "language_info": {
   "codemirror_mode": {
    "name": "ipython",
    "version": 3
   },
   "file_extension": ".py",
   "mimetype": "text/x-python",
   "name": "python",
   "nbconvert_exporter": "python",
   "pygments_lexer": "ipython3",
   "version": "3.13.7"
  },
  "orig_nbformat": 4
 },
 "nbformat": 4,
 "nbformat_minor": 2
}
