{
 "cells": [
  {
   "cell_type": "markdown",
   "metadata": {},
   "source": [
    "- mysql과 python 연동\n",
    " 1. 연동 기능이 존재하는 라이브러리(pymysql) 설치\n",
    " 2. 라이브러리 로드\n",
    " 3. 데이터베이스 서버와의 연결\n",
    "    - 서버의 정보\n",
    "        - 주소 \n",
    "        - port\n",
    "        - 사용자 아이디 \n",
    "        - 비밀번호\n",
    "        - 사용할 데이터베이스명\n",
    "4. 커서(가상공간)를 생성\n",
    "5. query문을 작성하여 질의를 한다.\n",
    "    - insert, update, delete: return이 존재X\n",
    "    - select: return이 존재 o\n",
    "        - fetchall(): cursor에서 데이터를 가져온다(cursor에는 데이터가 삭제)\n",
    "6. DB server와 Cursor을 동기화\n",
    "7. DB server와의 연결을 종료"
   ]
  },
  {
   "cell_type": "code",
   "execution_count": 74,
   "metadata": {},
   "outputs": [],
   "source": [
    "# 라이브러리 설치\n",
    "# !pip install pymysql"
   ]
  },
  {
   "cell_type": "code",
   "execution_count": 75,
   "metadata": {},
   "outputs": [],
   "source": [
    "# 라이브러리 로드\n",
    "import pymysql"
   ]
  },
  {
   "cell_type": "code",
   "execution_count": 76,
   "metadata": {},
   "outputs": [],
   "source": [
    "# DB server과의 연결 - > 연결되는 정보를 변수에 저장\n",
    "\n",
    "_db = pymysql.connect(\n",
    "    # host = \"localhost\"\n",
    "    host = '127.0.0.1',      # 서버의 주소\n",
    "    port = 3306,    # port 번호 (숫자)\n",
    "    user = 'root',   # 유저의 아이디\n",
    "    password = '',\n",
    "    db = 'multicam'\n",
    ")"
   ]
  },
  {
   "cell_type": "code",
   "execution_count": 77,
   "metadata": {},
   "outputs": [],
   "source": [
    "# !pip install cryptography"
   ]
  },
  {
   "cell_type": "code",
   "execution_count": 78,
   "metadata": {},
   "outputs": [],
   "source": [
    "# _db를 이용하여 Cursor 생성\n",
    "# 기본값으로 커서 생성 -> select문을 이용하여 데이터를 로드할 때 데이터의 타입이 tuple\n",
    "cursor = _db.cursor()\n",
    "# DictCursor 옵션 사용해서 커서를 생성 -> select문을 이용하여 데이터를 로드할 때 데이터의 타입이 dict\n",
    "cursor2 = _db.cursor(pymysql.cursors.DictCursor)"
   ]
  },
  {
   "cell_type": "code",
   "execution_count": 79,
   "metadata": {},
   "outputs": [
    {
     "data": {
      "text/plain": [
       "14"
      ]
     },
     "execution_count": 79,
     "metadata": {},
     "output_type": "execute_result"
    }
   ],
   "source": [
    "# query문을 작성해서 커서에게 질의 보낸다.\n",
    "select_query = \"\"\"\n",
    "    select\n",
    "    *\n",
    "    from\n",
    "    `emp`\n",
    "\"\"\"\n",
    "\n",
    "# select_query를 커서에게 보낸다 (Cursor.execute())\n",
    "cursor.execute(select_query)\n",
    "cursor2.execute(select_query)\n"
   ]
  },
  {
   "cell_type": "code",
   "execution_count": 80,
   "metadata": {},
   "outputs": [
    {
     "data": {
      "text/plain": [
       "((7369.0, 'SMITH', 'CLERK', 7902.0, '1980-12-17', 800.0, 0.0, 20.0),\n",
       " (7499.0, 'ALLEN', 'SALESMAN', 7698.0, '1981-02-20', 1600.0, 300.0, 30.0),\n",
       " (7521.0, 'WARD', 'SALESMAN', 7698.0, '1981-02-22', 1250.0, 500.0, 30.0),\n",
       " (7566.0, 'JONES', 'MANAGER', 7839.0, '1981-04-02', 2975.0, 0.0, 20.0),\n",
       " (7654.0, 'MARTIN', 'SALESMAN', 7698.0, '1981-09-28', 1250.0, 1400.0, 30.0),\n",
       " (7698.0, 'BLAKE', 'MANAGER', 7839.0, '1981-05-01', 2850.0, 0.0, 30.0),\n",
       " (7782.0, 'CLARK', 'MANAGER', 7839.0, '1981-06-09', 2450.0, 0.0, 10.0),\n",
       " (7788.0, 'SCOTT', 'ANALYST', 7566.0, '1987-06-28', 3000.0, 0.0, 20.0),\n",
       " (7839.0, 'KING', 'PRESIDENT', 0.0, '1981-11-17', 5000.0, 0.0, 10.0),\n",
       " (7844.0, 'TURNER', 'SALESMAN', 7698.0, '1981-09-08', 1500.0, 0.0, 30.0),\n",
       " (7876.0, 'ADAMS', 'CLERK', 7788.0, '1987-07-13', 1100.0, 0.0, 20.0),\n",
       " (7900.0, 'JAMES', 'CLERK', 7698.0, '1981-12-03', 950.0, 0.0, 30.0),\n",
       " (7902.0, 'FORD', 'ANALYST', 7566.0, '1981-12-03', 3000.0, 0.0, 20.0),\n",
       " (7934.0, 'MILLER', 'CLERK', 7782.0, '1982-01-23', 1300.0, 0.0, 10.0))"
      ]
     },
     "execution_count": 80,
     "metadata": {},
     "output_type": "execute_result"
    }
   ],
   "source": [
    "# fetchall 하면 커서에는 데이터 삭제, python으로 가져옴\n",
    "cursor.fetchall()"
   ]
  },
  {
   "cell_type": "code",
   "execution_count": 81,
   "metadata": {},
   "outputs": [
    {
     "data": {
      "text/plain": [
       "[{'EMPNO': 7369.0,\n",
       "  'ENAME': 'SMITH',\n",
       "  'JOB': 'CLERK',\n",
       "  'MGR': 7902.0,\n",
       "  'HIREDATE': '1980-12-17',\n",
       "  'SAL': 800.0,\n",
       "  'COMM': 0.0,\n",
       "  'DEPTNO': 20.0},\n",
       " {'EMPNO': 7499.0,\n",
       "  'ENAME': 'ALLEN',\n",
       "  'JOB': 'SALESMAN',\n",
       "  'MGR': 7698.0,\n",
       "  'HIREDATE': '1981-02-20',\n",
       "  'SAL': 1600.0,\n",
       "  'COMM': 300.0,\n",
       "  'DEPTNO': 30.0},\n",
       " {'EMPNO': 7521.0,\n",
       "  'ENAME': 'WARD',\n",
       "  'JOB': 'SALESMAN',\n",
       "  'MGR': 7698.0,\n",
       "  'HIREDATE': '1981-02-22',\n",
       "  'SAL': 1250.0,\n",
       "  'COMM': 500.0,\n",
       "  'DEPTNO': 30.0},\n",
       " {'EMPNO': 7566.0,\n",
       "  'ENAME': 'JONES',\n",
       "  'JOB': 'MANAGER',\n",
       "  'MGR': 7839.0,\n",
       "  'HIREDATE': '1981-04-02',\n",
       "  'SAL': 2975.0,\n",
       "  'COMM': 0.0,\n",
       "  'DEPTNO': 20.0},\n",
       " {'EMPNO': 7654.0,\n",
       "  'ENAME': 'MARTIN',\n",
       "  'JOB': 'SALESMAN',\n",
       "  'MGR': 7698.0,\n",
       "  'HIREDATE': '1981-09-28',\n",
       "  'SAL': 1250.0,\n",
       "  'COMM': 1400.0,\n",
       "  'DEPTNO': 30.0},\n",
       " {'EMPNO': 7698.0,\n",
       "  'ENAME': 'BLAKE',\n",
       "  'JOB': 'MANAGER',\n",
       "  'MGR': 7839.0,\n",
       "  'HIREDATE': '1981-05-01',\n",
       "  'SAL': 2850.0,\n",
       "  'COMM': 0.0,\n",
       "  'DEPTNO': 30.0},\n",
       " {'EMPNO': 7782.0,\n",
       "  'ENAME': 'CLARK',\n",
       "  'JOB': 'MANAGER',\n",
       "  'MGR': 7839.0,\n",
       "  'HIREDATE': '1981-06-09',\n",
       "  'SAL': 2450.0,\n",
       "  'COMM': 0.0,\n",
       "  'DEPTNO': 10.0},\n",
       " {'EMPNO': 7788.0,\n",
       "  'ENAME': 'SCOTT',\n",
       "  'JOB': 'ANALYST',\n",
       "  'MGR': 7566.0,\n",
       "  'HIREDATE': '1987-06-28',\n",
       "  'SAL': 3000.0,\n",
       "  'COMM': 0.0,\n",
       "  'DEPTNO': 20.0},\n",
       " {'EMPNO': 7839.0,\n",
       "  'ENAME': 'KING',\n",
       "  'JOB': 'PRESIDENT',\n",
       "  'MGR': 0.0,\n",
       "  'HIREDATE': '1981-11-17',\n",
       "  'SAL': 5000.0,\n",
       "  'COMM': 0.0,\n",
       "  'DEPTNO': 10.0},\n",
       " {'EMPNO': 7844.0,\n",
       "  'ENAME': 'TURNER',\n",
       "  'JOB': 'SALESMAN',\n",
       "  'MGR': 7698.0,\n",
       "  'HIREDATE': '1981-09-08',\n",
       "  'SAL': 1500.0,\n",
       "  'COMM': 0.0,\n",
       "  'DEPTNO': 30.0},\n",
       " {'EMPNO': 7876.0,\n",
       "  'ENAME': 'ADAMS',\n",
       "  'JOB': 'CLERK',\n",
       "  'MGR': 7788.0,\n",
       "  'HIREDATE': '1987-07-13',\n",
       "  'SAL': 1100.0,\n",
       "  'COMM': 0.0,\n",
       "  'DEPTNO': 20.0},\n",
       " {'EMPNO': 7900.0,\n",
       "  'ENAME': 'JAMES',\n",
       "  'JOB': 'CLERK',\n",
       "  'MGR': 7698.0,\n",
       "  'HIREDATE': '1981-12-03',\n",
       "  'SAL': 950.0,\n",
       "  'COMM': 0.0,\n",
       "  'DEPTNO': 30.0},\n",
       " {'EMPNO': 7902.0,\n",
       "  'ENAME': 'FORD',\n",
       "  'JOB': 'ANALYST',\n",
       "  'MGR': 7566.0,\n",
       "  'HIREDATE': '1981-12-03',\n",
       "  'SAL': 3000.0,\n",
       "  'COMM': 0.0,\n",
       "  'DEPTNO': 20.0},\n",
       " {'EMPNO': 7934.0,\n",
       "  'ENAME': 'MILLER',\n",
       "  'JOB': 'CLERK',\n",
       "  'MGR': 7782.0,\n",
       "  'HIREDATE': '1982-01-23',\n",
       "  'SAL': 1300.0,\n",
       "  'COMM': 0.0,\n",
       "  'DEPTNO': 10.0}]"
      ]
     },
     "execution_count": 81,
     "metadata": {},
     "output_type": "execute_result"
    }
   ],
   "source": [
    "cursor2.fetchall()"
   ]
  },
  {
   "cell_type": "code",
   "execution_count": 82,
   "metadata": {},
   "outputs": [],
   "source": [
    "# insert_query = \"\"\"\n",
    "#     insert into\n",
    "#     `user_info`\n",
    "#     values\n",
    "#     (\"test2\", \"1234\", \"park\", \"000101\")\n",
    "# \"\"\"\n",
    "# 커서에게 insert_query 질의를 보낸다.\n",
    "# cursor2.execute(insert_query)"
   ]
  },
  {
   "cell_type": "code",
   "execution_count": 83,
   "metadata": {},
   "outputs": [
    {
     "data": {
      "text/plain": [
       "[{'id': 'test', 'password': '1234', 'name': 'kim', 'birth': '900101'},\n",
       " {'id': 'test2', 'password': '1234', 'name': 'park', 'birth': '000101'}]"
      ]
     },
     "execution_count": 83,
     "metadata": {},
     "output_type": "execute_result"
    }
   ],
   "source": [
    "select_query2  =\"\"\"\n",
    "    select * from `user_info`\n",
    "\"\"\"\n",
    "cursor2.execute(select_query2)\n",
    "cursor2.fetchall()\n"
   ]
  },
  {
   "cell_type": "code",
   "execution_count": 84,
   "metadata": {},
   "outputs": [],
   "source": [
    "# 현재까지의 작업은 커서(가상공간)에 데이터의 변화만 존재"
   ]
  },
  {
   "cell_type": "code",
   "execution_count": 85,
   "metadata": {},
   "outputs": [],
   "source": [
    "# cursor와 DBserver와의 동기화\n",
    "_db.commit()"
   ]
  },
  {
   "cell_type": "code",
   "execution_count": 86,
   "metadata": {},
   "outputs": [],
   "source": [
    "# 데이터베이스와의 연결을 종료\n",
    "_db.close()"
   ]
  }
 ],
 "metadata": {
  "kernelspec": {
   "display_name": "venv",
   "language": "python",
   "name": "python3"
  },
  "language_info": {
   "codemirror_mode": {
    "name": "ipython",
    "version": 3
   },
   "file_extension": ".py",
   "mimetype": "text/x-python",
   "name": "python",
   "nbconvert_exporter": "python",
   "pygments_lexer": "ipython3",
   "version": "3.13.7"
  },
  "orig_nbformat": 4
 },
 "nbformat": 4,
 "nbformat_minor": 2
}
