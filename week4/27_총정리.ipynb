{
 "cells": [
  {
   "cell_type": "markdown",
   "metadata": {},
   "source": [
    "# 변수\n",
    "- 데이터가 저장되는 공간의 이름 (접근성 좋아짐) \n",
    "    - 데이터 종류\n",
    "        - 단일 데이터\n",
    "            - 문자 (str)\n",
    "            - 숫자 (int, float)\n",
    "            - bool(참/거짓)\n",
    "        - 다차원 데이터\n",
    "            - tuple\n",
    "            - list\n",
    "            - dict\n",
    "    - 변수의 종류\n",
    "        - 전역 변수\n",
    "            - 어디서든 사용이 가능한 변수\n",
    "            - glabals()를 이용하여 확인\n",
    "        - 지역 변수\n",
    "            - 특정한 영역에서만 사용이 가능\n",
    "            - 함수 내에서 생성된 변수나 매개변수 등\n",
    "        - 매개 변수(지역 변수에 포함)\n",
    "            - 함수가 호출될 때 입력 값(인자)을 받아오기 위한 공간의 이름\n",
    "            - 기본 값을 지정하여 인자가 없더라도 기본값을 이용하여 함수가 실행\n",
    "            - 인자의 개수가 가변인 경우 변수명 앞에 * 붙여서 변수를 생성\n",
    "        - 객체 변수(지역 변수에 포함)\n",
    "            - class 내부에서 사용을 하는 데이터들을 저장하는 공간의 이름\n",
    "            - self.변수명을 이용하여 데이터들을 저장\n",
    "            - 생성이 되는 class마다 독립적인 데이터를 저장\n",
    "        - 클래스 변수\n",
    "            - class 내부에서 사용하는 데이터들을 저장하는 공간의 이름\n",
    "            - 클래스 선언 시 함수와 같은 영역에 변수를 생성\n",
    "            - 같은 class가 생성이 될 때 서로 공유할 수 있는 변수"
   ]
  },
  {
   "cell_type": "code",
   "execution_count": 174,
   "metadata": {},
   "outputs": [
    {
     "name": "stdout",
     "output_type": "stream",
     "text": [
      "hello\n"
     ]
    }
   ],
   "source": [
    "# python에서는 변수를 생성할 때 데이터가 같이 대입\n",
    "vari_1 = \"hello\"\n",
    "print(vari_1)"
   ]
  },
  {
   "cell_type": "code",
   "execution_count": 175,
   "metadata": {},
   "outputs": [
    {
     "name": "stdout",
     "output_type": "stream",
     "text": [
      "1111\n"
     ]
    }
   ],
   "source": [
    "def func_1():\n",
    "    result = 1111\n",
    "    return result\n",
    "\n",
    "a = func_1()\n",
    "print(a)"
   ]
  },
  {
   "cell_type": "code",
   "execution_count": 176,
   "metadata": {},
   "outputs": [],
   "source": [
    "# result는 함수 내부에서 생성된 지역 변수이므로 외부에서는 사용이 불가능\n",
    "# print(result)\n",
    "\n",
    "# return은 1) 값을 반환, 2) 함수 종료. return밑에 아무리 써도 실행 안 됨\n",
    "# print와 return 차이점: return은 다른 곳에 값을 저장가능. 반환이 있기 때문"
   ]
  },
  {
   "cell_type": "code",
   "execution_count": 177,
   "metadata": {},
   "outputs": [
    {
     "name": "stdout",
     "output_type": "stream",
     "text": [
      "1111\n",
      "None\n"
     ]
    }
   ],
   "source": [
    "def func_2():\n",
    "    result = 1111\n",
    "    print(result)\n",
    "    \n",
    "b = func_2()\n",
    "print(b)"
   ]
  },
  {
   "cell_type": "code",
   "execution_count": 178,
   "metadata": {},
   "outputs": [
    {
     "name": "stdout",
     "output_type": "stream",
     "text": [
      "True\n",
      "True\n",
      "False\n"
     ]
    }
   ],
   "source": [
    "# bool-> True/False 2가지의 타입을 가진 데이터\n",
    "# 조건식에서 사용 -> if문, while문\n",
    "# 조건식이 들어가는 부분에서 변수를 사용하는 경우가 종종 발생\n",
    "# 변수를 강제적으로 bool 형태로 변환\n",
    "# 문자 타입의 강제 bool로 변환\n",
    "print(bool('a'))    # True\n",
    "print(bool(' '))    # True\n",
    "print(bool(''))     # False"
   ]
  },
  {
   "cell_type": "markdown",
   "metadata": {},
   "source": [
    "# 경로\n",
    "- 절대 경로\n",
    "    - 절대적인 주소 값\n",
    "    - 어떤 환경에서도 같은 위치를 나타냄\n",
    "        - 환경 -> 컴퓨터\n",
    "    - ex\n",
    "        - c:/users/admin/document/a.txt\n",
    "            - 컴퓨터 안의 파일들을 불러오는 경우에는 절대 경로보다는 상대 경로 사용이 유리\n",
    "        - https://www.google.com\n",
    "            - url 이용시에는 절대 경로로 사용\n",
    "        - Database server의 주소\n",
    "- 상대 경로\n",
    "    - 상대적인 주소 값\n",
    "    - 환경이 변하면 위치도 변한다.\n",
    "        - ./ : 현재 디렉토리(경로)\n",
    "        - ../ : 현재 디렉토리의 상위 디렉토리로 이동\n",
    "        - 디렉토리명(폴더명)/ : 하위 디렉토리로 이동"
   ]
  },
  {
   "cell_type": "code",
   "execution_count": 179,
   "metadata": {},
   "outputs": [],
   "source": [
    "import pandas as pd"
   ]
  },
  {
   "cell_type": "code",
   "execution_count": 180,
   "metadata": {},
   "outputs": [],
   "source": [
    "# 절대 경로를 이용하여 csv파일 불러오기\n",
    "df = pd.read_csv('/Users/eunseo/Documents/data_boot/lecture/code/data_git/csv/2014.csv', encoding = 'CP949')"
   ]
  },
  {
   "cell_type": "code",
   "execution_count": 181,
   "metadata": {},
   "outputs": [],
   "source": [
    "# 상대 경로를 이용하여 csv 파일 불러오기\n",
    "import pandas as pd\n",
    "df2 = pd.read_csv('../data_git/csv/2014.csv', encoding = 'CP949')"
   ]
  },
  {
   "cell_type": "markdown",
   "metadata": {},
   "source": [
    "# 함수\n",
    "- 특정 행동(기능)을 특정 공간에 저장하고 함수의 이름을 호출하여 반복적으로 사용\n",
    "- 사용하는 이유? -> 같은 행동을 여러 곳에서 사용하는 경우 함수를 이용한다면 코드의 라인이 줄어들고 가독성이 올라가고 오류가 날 확률이 줄어든다.\n",
    "- def 키워드를 이용해서 함수를 생성\n",
    "- 이름없는 함수 : lambda 함수\n",
    "    - 간단한 작업을 특정 영역에서 반복적으로 실행을 할 때 사용\n",
    "    - map()함수나 apply()함수에서 자주 사용\n",
    "- 재귀함수\n",
    "    - 내가 나 자신을 호출하는 함수\n",
    "    - 루프를 돌려서 반복 실행하고 특정 결과가 완성되었을 때 출력을 돌려주는 함수\n",
    "    - 일반적인 반복문을 이용하는 것보다 가독성이 올라간다."
   ]
  },
  {
   "cell_type": "code",
   "execution_count": 182,
   "metadata": {},
   "outputs": [],
   "source": [
    "# 매개변수가 존재하지 않는 함수 생성\n",
    "def func_3():\n",
    "    # 함수가 호출될 때 일반적으로 동일한 데이터를 되돌려준다.\n",
    "    result = \"Hello\"\n",
    "    return result"
   ]
  },
  {
   "cell_type": "code",
   "execution_count": 183,
   "metadata": {},
   "outputs": [
    {
     "data": {
      "text/plain": [
       "'Hello'"
      ]
     },
     "execution_count": 183,
     "metadata": {},
     "output_type": "execute_result"
    }
   ],
   "source": [
    "func_3()"
   ]
  },
  {
   "cell_type": "code",
   "execution_count": 184,
   "metadata": {},
   "outputs": [],
   "source": [
    "# 매개변수가 존재하는 함수\n",
    "def func_4(x, y):\n",
    "    # x, y는 함수가 호출될 때 입력 값들이 대입되는 공간\n",
    "    # 매개변수가 2개인 함수는 호출 시 인자도 2개\n",
    "    result = x + y\n",
    "    return result"
   ]
  },
  {
   "cell_type": "code",
   "execution_count": 185,
   "metadata": {},
   "outputs": [
    {
     "data": {
      "text/plain": [
       "12"
      ]
     },
     "execution_count": 185,
     "metadata": {},
     "output_type": "execute_result"
    }
   ],
   "source": [
    "func_4(10, 2)"
   ]
  },
  {
   "cell_type": "code",
   "execution_count": 186,
   "metadata": {},
   "outputs": [],
   "source": [
    "# 매개변수가 2개인데 호출 시 인자의 개수가 다르다면?\n",
    "# func_4(9)\n",
    "# func_4(9, 10, 11)\n",
    "# 에러 발생"
   ]
  },
  {
   "cell_type": "code",
   "execution_count": 187,
   "metadata": {},
   "outputs": [],
   "source": [
    "# 매개변수에 기본값을 설정한 함수\n",
    "def load_data(servicekey, cnt = 10):\n",
    "    # servicekey 매개변수는 입력이 필수 항목\n",
    "    # cnt 매개변수는 기본값이 설정되어있으므로 선택 항목\n",
    "    # servicekey 확인\n",
    "    if servicekey == 'abcd' :\n",
    "        df = pd.read_csv('../data_git/csv/boston.csv')\n",
    "        result = df.head(cnt).to_dict\n",
    "    else:\n",
    "        result = \"등록된 servicekey가 아닙니다.\"\n",
    "    return result"
   ]
  },
  {
   "cell_type": "code",
   "execution_count": 188,
   "metadata": {},
   "outputs": [
    {
     "data": {
      "text/plain": [
       "'등록된 servicekey가 아닙니다.'"
      ]
     },
     "execution_count": 188,
     "metadata": {},
     "output_type": "execute_result"
    }
   ],
   "source": [
    "load_data('abca')"
   ]
  },
  {
   "cell_type": "code",
   "execution_count": 189,
   "metadata": {},
   "outputs": [
    {
     "data": {
      "text/plain": [
       "<bound method DataFrame.to_dict of        CRIM    ZN  INDUS  CHAS    NOX     RM    AGE     DIS  RAD    TAX  \\\n",
       "0   0.00632  18.0   2.31   0.0  0.538  6.575   65.2  4.0900  1.0  296.0   \n",
       "1   0.02731   0.0   7.07   0.0  0.469  6.421   78.9  4.9671  2.0  242.0   \n",
       "2   0.02729   0.0   7.07   0.0  0.469  7.185   61.1  4.9671  2.0  242.0   \n",
       "3   0.03237   0.0   2.18   0.0  0.458  6.998   45.8  6.0622  3.0  222.0   \n",
       "4   0.06905   0.0   2.18   0.0  0.458  7.147   54.2  6.0622  3.0  222.0   \n",
       "5   0.02985   0.0   2.18   0.0  0.458  6.430   58.7  6.0622  3.0  222.0   \n",
       "6   0.08829  12.5   7.87   0.0  0.524  6.012   66.6  5.5605  5.0  311.0   \n",
       "7   0.14455  12.5   7.87   0.0  0.524  6.172   96.1  5.9505  5.0  311.0   \n",
       "8   0.21124  12.5   7.87   0.0  0.524  5.631  100.0  6.0821  5.0  311.0   \n",
       "9   0.17004  12.5   7.87   0.0  0.524  6.004   85.9  6.5921  5.0  311.0   \n",
       "10  0.22489  12.5   7.87   0.0  0.524  6.377   94.3  6.3467  5.0  311.0   \n",
       "11  0.11747  12.5   7.87   0.0  0.524  6.009   82.9  6.2267  5.0  311.0   \n",
       "\n",
       "    PTRATIO       B  LSTAT  Price  \n",
       "0      15.3  396.90   4.98   24.0  \n",
       "1      17.8  396.90   9.14   21.6  \n",
       "2      17.8  392.83   4.03   34.7  \n",
       "3      18.7  394.63   2.94   33.4  \n",
       "4      18.7  396.90   5.33   36.2  \n",
       "5      18.7  394.12   5.21   28.7  \n",
       "6      15.2  395.60  12.43   22.9  \n",
       "7      15.2  396.90  19.15   27.1  \n",
       "8      15.2  386.63  29.93   16.5  \n",
       "9      15.2  386.71  17.10   18.9  \n",
       "10     15.2  392.52  20.45   15.0  \n",
       "11     15.2  396.90  13.27   18.9  >"
      ]
     },
     "execution_count": 189,
     "metadata": {},
     "output_type": "execute_result"
    }
   ],
   "source": [
    "load_data('abcd', cnt = 12)"
   ]
  },
  {
   "cell_type": "code",
   "execution_count": 190,
   "metadata": {},
   "outputs": [],
   "source": [
    "# 인지의 개수가 가변인 경우 매개변수 생성하는 함수\n",
    "# 가변 인자는 무조건 tuple로 묶어준다\n",
    "def func_5(x, *y):\n",
    "    print(type(x))\n",
    "    print(type(y))\n",
    "    print(y)"
   ]
  },
  {
   "cell_type": "code",
   "execution_count": 191,
   "metadata": {},
   "outputs": [
    {
     "name": "stdout",
     "output_type": "stream",
     "text": [
      "<class 'str'>\n",
      "<class 'tuple'>\n",
      "('b', 'c', 'd')\n"
     ]
    }
   ],
   "source": [
    "func_5('a', 'b', 'c', 'd')"
   ]
  },
  {
   "cell_type": "code",
   "execution_count": 192,
   "metadata": {},
   "outputs": [
    {
     "name": "stdout",
     "output_type": "stream",
     "text": [
      "<class 'int'>\n",
      "<class 'tuple'>\n",
      "(2, 3, 4)\n"
     ]
    }
   ],
   "source": [
    "func_5(1, 2, 3, 4)"
   ]
  },
  {
   "cell_type": "code",
   "execution_count": 193,
   "metadata": {},
   "outputs": [],
   "source": [
    "def func_6(*_numbers, _type):\n",
    "    if _type == 'sum':\n",
    "        result = 0\n",
    "        for num in _numbers:\n",
    "            result += num\n",
    "    else:\n",
    "        result = 1\n",
    "        for num in _numbers:\n",
    "            result *= num\n",
    "    return result"
   ]
  },
  {
   "cell_type": "code",
   "execution_count": 194,
   "metadata": {},
   "outputs": [
    {
     "data": {
      "text/plain": [
       "15"
      ]
     },
     "execution_count": 194,
     "metadata": {},
     "output_type": "execute_result"
    }
   ],
   "source": [
    "input_type = 'sum'\n",
    "input_numbers = [1, 2, 3, 4, 5]\n",
    "\n",
    "# 가변인자에 다차원 데이터 넣을 떄 * 붙이기\n",
    "func_6(*input_numbers, _type = input_type)"
   ]
  },
  {
   "cell_type": "markdown",
   "metadata": {},
   "source": [
    "# class\n",
    "- 변수, 함수들의 모음\n",
    "- 특징\n",
    "    - 동일한 class를 여러 곳에서 생성(사용) 가능\n",
    "    - 여러 곳에서 같은 기능 사용 가능\n",
    "- python에서 클래스를 사용하는 이유?\n",
    "    - python의 모든 데이터의 타입은 class로 구성\n",
    "    - 같은 class를 생성하여도 독립적인 데이터를 이용해서 함수 사용 가능\n",
    "    - 클래스에 이미 데이터가 저장되어있으므로 클래스 내부 함수를 사용할 때 어떤 데이터를 사용할 지 새로 넣어주지 않아도 됨\n",
    "- 상속\n",
    "    - 부모 클래스에 있는 변수와 함수들을 자식 클래스가 사용하도록 물려받는 기능\n",
    "    - 부모 클래스에서의 기능은 그대로 유지한 채로 자식 클래스에서는 그 외의 기능들을 추가해서 사용\n",
    "    - 파일을 분할 관리하듯이 클래스도 기능별 각각 분할하여 관리 가능\n"
   ]
  },
  {
   "cell_type": "code",
   "execution_count": 195,
   "metadata": {},
   "outputs": [],
   "source": [
    "# 특정 경로에 있는 파일의 목록을 불러와서 파일들을 모두 로드하는 방법\n",
    "import os\n",
    "from glob import glob"
   ]
  },
  {
   "cell_type": "code",
   "execution_count": 196,
   "metadata": {},
   "outputs": [
    {
     "data": {
      "text/plain": [
       "['2022년 06월 교통카드통계자료.xls',\n",
       " '2022',\n",
       " 'customer_master.csv',\n",
       " 'corona.csv',\n",
       " '태블로',\n",
       " 'example.csv',\n",
       " 'card',\n",
       " '2017_expense_list.csv',\n",
       " '주민등록.csv',\n",
       " 'Koweps_Codebook.xlsx',\n",
       " 'drinks.csv',\n",
       " 'emp.csv',\n",
       " 'AMZN.csv',\n",
       " 'GM.csv',\n",
       " 'class_master.csv',\n",
       " 'boston.csv',\n",
       " 'MSFT.csv',\n",
       " 'tran_1.csv',\n",
       " 'uriage.csv',\n",
       " 'USM.csv',\n",
       " '2017_expense_list.xlsx',\n",
       " 'tran_2.csv',\n",
       " 'num_1',\n",
       " '2017',\n",
       " '2019',\n",
       " '2021',\n",
       " '2014.csv',\n",
       " '2020',\n",
       " '2018',\n",
       " 'Superstore KR - VizLab 2022.xlsx',\n",
       " 'use_log.csv',\n",
       " 'Sales Records.csv',\n",
       " 'csv_exam.csv',\n",
       " 'dept.csv',\n",
       " 'tran_d_2.csv',\n",
       " 'tran_d_1.csv',\n",
       " 'item_master.csv',\n",
       " 'num_3',\n",
       " 'AAPL.csv',\n",
       " 'campaign_master.csv',\n",
       " 'num_2']"
      ]
     },
     "execution_count": 196,
     "metadata": {},
     "output_type": "execute_result"
    }
   ],
   "source": [
    "# 특정 경로에 있는 파일의 목록을 불러온다.\n",
    "# 목록(list) + 디렉토리(dir)\n",
    "os.listdir( '../data_git/csv' )"
   ]
  },
  {
   "cell_type": "code",
   "execution_count": 197,
   "metadata": {},
   "outputs": [
    {
     "data": {
      "text/plain": [
       "['../data_git/csv/2022년 06월 교통카드통계자료.xls']"
      ]
     },
     "execution_count": 197,
     "metadata": {},
     "output_type": "execute_result"
    }
   ],
   "source": [
    "glob(\"../data_git/csv/*.xls\")"
   ]
  },
  {
   "cell_type": "markdown",
   "metadata": {},
   "source": [
    "## 특정 경로에 있는 데이터 파일을 모두 로드\n",
    "- 파일 로드 방식\n",
    "    1. os 라이브러리 안에 있는 listdir()\n",
    "    2. glob 라이브러리 안에 있는 glob()\n",
    "- 파일 저장 방식\n",
    "    1. 각각의 전역 변수에 저장\n",
    "    2. 하나의 리스트에 저장\n",
    "    3. 하나의 데이터프레임으로 결합(단순한 행 결합 union)"
   ]
  },
  {
   "cell_type": "code",
   "execution_count": 198,
   "metadata": {},
   "outputs": [
    {
     "data": {
      "text/plain": [
       "['201702_expense_list.csv',\n",
       " '201709_expense_list.csv',\n",
       " '201712_expense_list.csv',\n",
       " '201706_expense_list.csv',\n",
       " '201703_expense_list.csv',\n",
       " '201708_expense_list.csv',\n",
       " '201707_expense_list.csv',\n",
       " '201704_expense_list.csv',\n",
       " '201710_expense_list.csv',\n",
       " '201701_expense_list.csv',\n",
       " '201705_expense_list.csv',\n",
       " '201711_expense_list.csv']"
      ]
     },
     "execution_count": 198,
     "metadata": {},
     "output_type": "execute_result"
    }
   ],
   "source": [
    "# 파일의 목록\n",
    "file_path = \"../data_git/csv/2017/\"\n",
    "file_list = os.listdir(file_path)\n",
    "file_list"
   ]
  },
  {
   "cell_type": "code",
   "execution_count": 199,
   "metadata": {},
   "outputs": [
    {
     "data": {
      "text/html": [
       "<div>\n",
       "<style scoped>\n",
       "    .dataframe tbody tr th:only-of-type {\n",
       "        vertical-align: middle;\n",
       "    }\n",
       "\n",
       "    .dataframe tbody tr th {\n",
       "        vertical-align: top;\n",
       "    }\n",
       "\n",
       "    .dataframe thead th {\n",
       "        text-align: right;\n",
       "    }\n",
       "</style>\n",
       "<table border=\"1\" class=\"dataframe\">\n",
       "  <thead>\n",
       "    <tr style=\"text-align: right;\">\n",
       "      <th></th>\n",
       "      <th>nid</th>\n",
       "      <th>title</th>\n",
       "      <th>url</th>\n",
       "      <th>dept_nm_lvl_1</th>\n",
       "      <th>dept_nm_lvl_2</th>\n",
       "      <th>dept_nm_lvl_3</th>\n",
       "      <th>dept_nm_lvl_4</th>\n",
       "      <th>dept_nm_lvl_5</th>\n",
       "      <th>exec_yr</th>\n",
       "      <th>exec_month</th>\n",
       "      <th>expense_budget</th>\n",
       "      <th>expense_execution</th>\n",
       "      <th>category</th>\n",
       "      <th>dept_nm_full</th>\n",
       "      <th>exec_dt</th>\n",
       "      <th>exec_loc</th>\n",
       "      <th>exec_purpose</th>\n",
       "      <th>target_nm</th>\n",
       "      <th>payment_method</th>\n",
       "      <th>exec_amount</th>\n",
       "    </tr>\n",
       "  </thead>\n",
       "  <tbody>\n",
       "    <tr>\n",
       "      <th>0</th>\n",
       "      <td>14038792</td>\n",
       "      <td>2017년 11월 서울시본청_기획조정실_정책기획관_평가담당관 업무추진비 내역</td>\n",
       "      <td>http://opengov.seoul.go.kr/public/14038792</td>\n",
       "      <td>서울시본청</td>\n",
       "      <td>기획조정실</td>\n",
       "      <td>정책기획관</td>\n",
       "      <td>NaN</td>\n",
       "      <td>NaN</td>\n",
       "      <td>2017</td>\n",
       "      <td>11</td>\n",
       "      <td>NaN</td>\n",
       "      <td>NaN</td>\n",
       "      <td>NaN</td>\n",
       "      <td>평가담당관</td>\n",
       "      <td>2017-11-30 12:52</td>\n",
       "      <td>한라담(중구 무교동 45)</td>\n",
       "      <td>종로BRT 점검관련 간담회 개최</td>\n",
       "      <td>평가담당관, 평가4팀장 외 4</td>\n",
       "      <td>카드</td>\n",
       "      <td>108000</td>\n",
       "    </tr>\n",
       "    <tr>\n",
       "      <th>1</th>\n",
       "      <td>14038792</td>\n",
       "      <td>2017년 11월 서울시본청_기획조정실_정책기획관_평가담당관 업무추진비 내역</td>\n",
       "      <td>http://opengov.seoul.go.kr/public/14038792</td>\n",
       "      <td>서울시본청</td>\n",
       "      <td>기획조정실</td>\n",
       "      <td>정책기획관</td>\n",
       "      <td>NaN</td>\n",
       "      <td>NaN</td>\n",
       "      <td>2017</td>\n",
       "      <td>11</td>\n",
       "      <td>NaN</td>\n",
       "      <td>NaN</td>\n",
       "      <td>NaN</td>\n",
       "      <td>평가담당관</td>\n",
       "      <td>2017-11-29 13:01</td>\n",
       "      <td>메드포갈릭(종로구 종로3길 17)</td>\n",
       "      <td>서울하수도과학관 평가관련 간담회 개최</td>\n",
       "      <td>평가담당관, 지속가능평가팀장 외 3명</td>\n",
       "      <td>카드</td>\n",
       "      <td>112400</td>\n",
       "    </tr>\n",
       "    <tr>\n",
       "      <th>2</th>\n",
       "      <td>14038792</td>\n",
       "      <td>2017년 11월 서울시본청_기획조정실_정책기획관_평가담당관 업무추진비 내역</td>\n",
       "      <td>http://opengov.seoul.go.kr/public/14038792</td>\n",
       "      <td>서울시본청</td>\n",
       "      <td>기획조정실</td>\n",
       "      <td>정책기획관</td>\n",
       "      <td>NaN</td>\n",
       "      <td>NaN</td>\n",
       "      <td>2017</td>\n",
       "      <td>11</td>\n",
       "      <td>NaN</td>\n",
       "      <td>NaN</td>\n",
       "      <td>NaN</td>\n",
       "      <td>평가담당관</td>\n",
       "      <td>2017-11-28 21:27</td>\n",
       "      <td>만복림(중구 무교로 17-17)</td>\n",
       "      <td>마스터플랜 후속조치 관련 간담회 개최</td>\n",
       "      <td>평가담당관, 평가총괄팀장 외 3명</td>\n",
       "      <td>카드</td>\n",
       "      <td>109000</td>\n",
       "    </tr>\n",
       "    <tr>\n",
       "      <th>3</th>\n",
       "      <td>14038792</td>\n",
       "      <td>2017년 11월 서울시본청_기획조정실_정책기획관_평가담당관 업무추진비 내역</td>\n",
       "      <td>http://opengov.seoul.go.kr/public/14038792</td>\n",
       "      <td>서울시본청</td>\n",
       "      <td>기획조정실</td>\n",
       "      <td>정책기획관</td>\n",
       "      <td>NaN</td>\n",
       "      <td>NaN</td>\n",
       "      <td>2017</td>\n",
       "      <td>11</td>\n",
       "      <td>NaN</td>\n",
       "      <td>NaN</td>\n",
       "      <td>NaN</td>\n",
       "      <td>평가담당관</td>\n",
       "      <td>2017-11-27 18:48</td>\n",
       "      <td>동원참치(중구 세종대로22길 16)</td>\n",
       "      <td>제3차 대중교통계획 지속가능성 평가관련 간담회 개최</td>\n",
       "      <td>지속가능평가팀장 외 5명</td>\n",
       "      <td>카드</td>\n",
       "      <td>160000</td>\n",
       "    </tr>\n",
       "    <tr>\n",
       "      <th>4</th>\n",
       "      <td>14038792</td>\n",
       "      <td>2017년 11월 서울시본청_기획조정실_정책기획관_평가담당관 업무추진비 내역</td>\n",
       "      <td>http://opengov.seoul.go.kr/public/14038792</td>\n",
       "      <td>서울시본청</td>\n",
       "      <td>기획조정실</td>\n",
       "      <td>정책기획관</td>\n",
       "      <td>NaN</td>\n",
       "      <td>NaN</td>\n",
       "      <td>2017</td>\n",
       "      <td>11</td>\n",
       "      <td>NaN</td>\n",
       "      <td>NaN</td>\n",
       "      <td>NaN</td>\n",
       "      <td>평가담당관</td>\n",
       "      <td>2017-11-27 12:22</td>\n",
       "      <td>충무집(중구 다동140)</td>\n",
       "      <td>서울혁신파크 1단계 준공예정시설 점검관련 간담회 개최</td>\n",
       "      <td>평가담당관, 평가총괄팀장 외 4명</td>\n",
       "      <td>카드</td>\n",
       "      <td>80000</td>\n",
       "    </tr>\n",
       "  </tbody>\n",
       "</table>\n",
       "</div>"
      ],
      "text/plain": [
       "        nid                                       title  \\\n",
       "0  14038792  2017년 11월 서울시본청_기획조정실_정책기획관_평가담당관 업무추진비 내역   \n",
       "1  14038792  2017년 11월 서울시본청_기획조정실_정책기획관_평가담당관 업무추진비 내역   \n",
       "2  14038792  2017년 11월 서울시본청_기획조정실_정책기획관_평가담당관 업무추진비 내역   \n",
       "3  14038792  2017년 11월 서울시본청_기획조정실_정책기획관_평가담당관 업무추진비 내역   \n",
       "4  14038792  2017년 11월 서울시본청_기획조정실_정책기획관_평가담당관 업무추진비 내역   \n",
       "\n",
       "                                          url dept_nm_lvl_1 dept_nm_lvl_2  \\\n",
       "0  http://opengov.seoul.go.kr/public/14038792         서울시본청         기획조정실   \n",
       "1  http://opengov.seoul.go.kr/public/14038792         서울시본청         기획조정실   \n",
       "2  http://opengov.seoul.go.kr/public/14038792         서울시본청         기획조정실   \n",
       "3  http://opengov.seoul.go.kr/public/14038792         서울시본청         기획조정실   \n",
       "4  http://opengov.seoul.go.kr/public/14038792         서울시본청         기획조정실   \n",
       "\n",
       "  dept_nm_lvl_3 dept_nm_lvl_4 dept_nm_lvl_5  exec_yr  exec_month  \\\n",
       "0         정책기획관           NaN           NaN     2017          11   \n",
       "1         정책기획관           NaN           NaN     2017          11   \n",
       "2         정책기획관           NaN           NaN     2017          11   \n",
       "3         정책기획관           NaN           NaN     2017          11   \n",
       "4         정책기획관           NaN           NaN     2017          11   \n",
       "\n",
       "   expense_budget  expense_execution category dept_nm_full           exec_dt  \\\n",
       "0             NaN                NaN      NaN        평가담당관  2017-11-30 12:52   \n",
       "1             NaN                NaN      NaN        평가담당관  2017-11-29 13:01   \n",
       "2             NaN                NaN      NaN        평가담당관  2017-11-28 21:27   \n",
       "3             NaN                NaN      NaN        평가담당관  2017-11-27 18:48   \n",
       "4             NaN                NaN      NaN        평가담당관  2017-11-27 12:22   \n",
       "\n",
       "              exec_loc                   exec_purpose             target_nm  \\\n",
       "0       한라담(중구 무교동 45)              종로BRT 점검관련 간담회 개최      평가담당관, 평가4팀장 외 4   \n",
       "1   메드포갈릭(종로구 종로3길 17)           서울하수도과학관 평가관련 간담회 개최  평가담당관, 지속가능평가팀장 외 3명   \n",
       "2    만복림(중구 무교로 17-17)           마스터플랜 후속조치 관련 간담회 개최    평가담당관, 평가총괄팀장 외 3명   \n",
       "3  동원참치(중구 세종대로22길 16)   제3차 대중교통계획 지속가능성 평가관련 간담회 개최         지속가능평가팀장 외 5명   \n",
       "4        충무집(중구 다동140)  서울혁신파크 1단계 준공예정시설 점검관련 간담회 개최    평가담당관, 평가총괄팀장 외 4명   \n",
       "\n",
       "  payment_method  exec_amount  \n",
       "0             카드       108000  \n",
       "1             카드       112400  \n",
       "2             카드       109000  \n",
       "3             카드       160000  \n",
       "4             카드        80000  "
      ]
     },
     "execution_count": 199,
     "metadata": {},
     "output_type": "execute_result"
    }
   ],
   "source": [
    "for file in file_list:\n",
    "    # df에 1월부터 12월까지 데이터가 로드될 때마다 대입하기 때문에 결과적으로는 12월 데이터만 df에 남는다.\n",
    "    df = pd.read_csv(file_path+file)\n",
    "df.head(5)"
   ]
  },
  {
   "cell_type": "code",
   "execution_count": 200,
   "metadata": {},
   "outputs": [
    {
     "data": {
      "text/plain": [
       "12"
      ]
     },
     "execution_count": 200,
     "metadata": {},
     "output_type": "execute_result"
    }
   ],
   "source": [
    "# 수정1 -> 빈 리스트에 반복 실행할 때마다 데이터프레임을 추가\n",
    "dfs = []\n",
    "for file in file_list:\n",
    "    df = pd.read_csv(file_path+file)\n",
    "    dfs.append(df)\n",
    "len(dfs)"
   ]
  },
  {
   "cell_type": "code",
   "execution_count": 201,
   "metadata": {},
   "outputs": [],
   "source": [
    "# 수정2 -> 반복 실행할 때마다 각각의 전역 변수에 데이터프레임을 대입\n",
    "for file in file_list:\n",
    "    # file의 이름으로 변수를 생성\n",
    "    # file에서 2017xx로 되어있는 문자만 출력\n",
    "    # 방법1\n",
    "    # print(file[:6])\n",
    "    # 방법2\n",
    "    var_name = file.split('_')[0]\n",
    "    globals()[f\"df_{var_name}\"] = pd.read_csv(file_path+file)\n",
    "\n",
    "    # globals()[f\"file\"] = pd.read_csv(file_path + file)"
   ]
  },
  {
   "cell_type": "code",
   "execution_count": 202,
   "metadata": {},
   "outputs": [
    {
     "data": {
      "text/html": [
       "<div>\n",
       "<style scoped>\n",
       "    .dataframe tbody tr th:only-of-type {\n",
       "        vertical-align: middle;\n",
       "    }\n",
       "\n",
       "    .dataframe tbody tr th {\n",
       "        vertical-align: top;\n",
       "    }\n",
       "\n",
       "    .dataframe thead th {\n",
       "        text-align: right;\n",
       "    }\n",
       "</style>\n",
       "<table border=\"1\" class=\"dataframe\">\n",
       "  <thead>\n",
       "    <tr style=\"text-align: right;\">\n",
       "      <th></th>\n",
       "      <th>nid</th>\n",
       "      <th>title</th>\n",
       "      <th>url</th>\n",
       "      <th>dept_nm_lvl_1</th>\n",
       "      <th>dept_nm_lvl_2</th>\n",
       "      <th>dept_nm_lvl_3</th>\n",
       "      <th>dept_nm_lvl_4</th>\n",
       "      <th>dept_nm_lvl_5</th>\n",
       "      <th>exec_yr</th>\n",
       "      <th>exec_month</th>\n",
       "      <th>expense_budget</th>\n",
       "      <th>expense_execution</th>\n",
       "      <th>category</th>\n",
       "      <th>dept_nm_full</th>\n",
       "      <th>exec_dt</th>\n",
       "      <th>exec_loc</th>\n",
       "      <th>exec_purpose</th>\n",
       "      <th>target_nm</th>\n",
       "      <th>payment_method</th>\n",
       "      <th>exec_amount</th>\n",
       "    </tr>\n",
       "  </thead>\n",
       "  <tbody>\n",
       "    <tr>\n",
       "      <th>0</th>\n",
       "      <td>11430252</td>\n",
       "      <td>2017년 1월 장애인복지정책과 업무추진비 집행내역</td>\n",
       "      <td>http://opengov.seoul.go.kr/public/11430252</td>\n",
       "      <td>서울시본청</td>\n",
       "      <td>복지본부</td>\n",
       "      <td>장애인복지정책과</td>\n",
       "      <td>NaN</td>\n",
       "      <td>NaN</td>\n",
       "      <td>2017</td>\n",
       "      <td>1</td>\n",
       "      <td>NaN</td>\n",
       "      <td>NaN</td>\n",
       "      <td>NaN</td>\n",
       "      <td>복지본부 장애인복지정책과</td>\n",
       "      <td>2017-01-26 13:10</td>\n",
       "      <td>동해일식 (중구 무교동)</td>\n",
       "      <td>기본소득과 장애인복지 논의간담회</td>\n",
       "      <td>장애인복지정책팀장 외 2명</td>\n",
       "      <td>카드</td>\n",
       "      <td>76000</td>\n",
       "    </tr>\n",
       "  </tbody>\n",
       "</table>\n",
       "</div>"
      ],
      "text/plain": [
       "        nid                         title  \\\n",
       "0  11430252  2017년 1월 장애인복지정책과 업무추진비 집행내역   \n",
       "\n",
       "                                          url dept_nm_lvl_1 dept_nm_lvl_2  \\\n",
       "0  http://opengov.seoul.go.kr/public/11430252         서울시본청          복지본부   \n",
       "\n",
       "  dept_nm_lvl_3 dept_nm_lvl_4 dept_nm_lvl_5  exec_yr  exec_month  \\\n",
       "0      장애인복지정책과           NaN           NaN     2017           1   \n",
       "\n",
       "   expense_budget  expense_execution category   dept_nm_full  \\\n",
       "0             NaN                NaN      NaN  복지본부 장애인복지정책과   \n",
       "\n",
       "            exec_dt       exec_loc       exec_purpose       target_nm  \\\n",
       "0  2017-01-26 13:10  동해일식 (중구 무교동)  기본소득과 장애인복지 논의간담회  장애인복지정책팀장 외 2명   \n",
       "\n",
       "  payment_method  exec_amount  \n",
       "0             카드        76000  "
      ]
     },
     "execution_count": 202,
     "metadata": {},
     "output_type": "execute_result"
    }
   ],
   "source": [
    "df_201701.head(1)"
   ]
  },
  {
   "cell_type": "code",
   "execution_count": 203,
   "metadata": {},
   "outputs": [],
   "source": [
    "# globals()\n",
    "for i in range(3):\n",
    "    globals()[f\"a{i}\"] = i"
   ]
  },
  {
   "cell_type": "code",
   "execution_count": 204,
   "metadata": {},
   "outputs": [
    {
     "data": {
      "text/plain": [
       "2"
      ]
     },
     "execution_count": 204,
     "metadata": {},
     "output_type": "execute_result"
    }
   ],
   "source": [
    "a2"
   ]
  },
  {
   "cell_type": "code",
   "execution_count": 205,
   "metadata": {},
   "outputs": [
    {
     "data": {
      "text/plain": [
       "70132"
      ]
     },
     "execution_count": 205,
     "metadata": {},
     "output_type": "execute_result"
    }
   ],
   "source": [
    "# 해당하는 경로의 모든 데이터들이 같은 구조의 데이터프레임이라면\n",
    "# 데이터프레임으로 반복적으로 로드하고 유니언 결합(concat())\n",
    "df2017 = pd.DataFrame()\n",
    "\n",
    "for file in file_list:\n",
    "    df = pd.read_csv(file_path + file)\n",
    "    df2017 = pd.concat([df2017, df], axis = 0)\n",
    "\n",
    "len(df2017)"
   ]
  },
  {
   "cell_type": "code",
   "execution_count": 206,
   "metadata": {},
   "outputs": [
    {
     "data": {
      "text/plain": [
       "['201912_expense_list.json',\n",
       " '201909_expense_list.json',\n",
       " '201910_expense_list.json',\n",
       " '201908_expense_list.json',\n",
       " '201911_expense_list.json',\n",
       " '201904_expense_list.json',\n",
       " '201901_expense_list.json',\n",
       " '201905_expense_list.json',\n",
       " '201906_expense_list.json',\n",
       " '201903_expense_list.json',\n",
       " '201907_expense_list.json',\n",
       " '201902_expense_list.json']"
      ]
     },
     "execution_count": 206,
     "metadata": {},
     "output_type": "execute_result"
    }
   ],
   "source": [
    "file_path = \"../data_git/csv/2019/\"\n",
    "file_list = os.listdir(file_path)\n",
    "file_list"
   ]
  },
  {
   "cell_type": "code",
   "execution_count": 207,
   "metadata": {},
   "outputs": [
    {
     "data": {
      "text/plain": [
       "74207"
      ]
     },
     "execution_count": 207,
     "metadata": {},
     "output_type": "execute_result"
    }
   ],
   "source": [
    "df2019 = pd.DataFrame()\n",
    "\n",
    "for file in file_list:\n",
    "    df = pd.read_json(file_path + file)\n",
    "    df2019 = pd.concat([df2019, df], axis = 0)\n",
    "\n",
    "len(df2019)"
   ]
  },
  {
   "cell_type": "code",
   "execution_count": 208,
   "metadata": {},
   "outputs": [
    {
     "data": {
      "text/plain": [
       "('', '')"
      ]
     },
     "execution_count": 208,
     "metadata": {},
     "output_type": "execute_result"
    }
   ],
   "source": [
    "# 특정 경로에 파일의 확장자가 같은 확장자라면 위의 방식으로 그대로 유지\n",
    "# 2021년도 폴더에는 여러 확장자 존재 -> 위의 방법으로는 불가능\n",
    "# 전체의 목록을 로드 -> 원하는 확장자 파일의 목록을 새로 생성\n",
    "\n",
    "# file_path = \"../csv/2019/201901_expense_list.csv\"\n",
    "# os에서 제공하는 함수 path.split()-> 경로와 파일을 나눠주는 함수\n",
    "file_dir, file_name = os.path.split(file_path)\n",
    "# path.splitext() -> 파일명과 확장자로 나눠주는 함수\n",
    "os.path.splitext(file_name)"
   ]
  },
  {
   "cell_type": "code",
   "execution_count": 215,
   "metadata": {},
   "outputs": [],
   "source": [
    "file_path = \"../data_git/csv/2017/\"\n",
    "file_list = os.listdir(file_path)"
   ]
  },
  {
   "cell_type": "code",
   "execution_count": 216,
   "metadata": {},
   "outputs": [
    {
     "data": {
      "text/plain": [
       "['201702_expense_list.csv',\n",
       " '201709_expense_list.csv',\n",
       " '201712_expense_list.csv',\n",
       " '201706_expense_list.csv',\n",
       " '201703_expense_list.csv',\n",
       " '201708_expense_list.csv',\n",
       " '201707_expense_list.csv',\n",
       " '201704_expense_list.csv',\n",
       " '201710_expense_list.csv',\n",
       " '201701_expense_list.csv',\n",
       " '201705_expense_list.csv',\n",
       " '201711_expense_list.csv']"
      ]
     },
     "execution_count": 216,
     "metadata": {},
     "output_type": "execute_result"
    }
   ],
   "source": [
    "new_list = []\n",
    "for file in file_list:\n",
    "    # if file.split('.')[-1] == 'csv':\n",
    "    # if file.endswith('.csv):\n",
    "    name, ext = os.path.splitext(file)\n",
    "    if ext == '.csv':\n",
    "        new_list.append(file)\n",
    "\n",
    "new_list"
   ]
  },
  {
   "cell_type": "markdown",
   "metadata": {},
   "source": [
    "# 특정 경로의 파일을 모두 로드하는 함수 생성\n",
    "- 매개변수 3개\n",
    "    - file_path : str\n",
    "    - ext : str -> .csv\n",
    "    - concat : bool -> False\n",
    "- file_path를 이용해서 파일의 목록을 생성\n",
    "- 확장자에 따라서 새로운 목록을 생성\n",
    "- concat이 True라면 \n",
    "    - 빈 데이터프레임\n",
    "- False라면\n",
    "    - 빈 리스트 생성\n",
    "- 새로운 목록을 이용하여 반복문 생성\n",
    "    - 확장자에 따라서 read함수를 지정하고 파일을 로드\n",
    "    - concat에 따라 concat(), append() 지정\n",
    "- 결과물을 되돌려준다\n",
    "\n"
   ]
  },
  {
   "cell_type": "code",
   "execution_count": 217,
   "metadata": {},
   "outputs": [],
   "source": [
    "def data_load_os(file_path, ext = '.csv', concat = False):\n",
    "    # 파일 경로에 / 더해준다\n",
    "    file_path += '/'\n",
    "    # 파일 목록 로드\n",
    "    file_list = os.listdir(file_path)\n",
    "    new_list = []\n",
    "\n",
    "    for name in file_list:\n",
    "        if name.endswith(ext):\n",
    "            new_list.append(name)\n",
    "    if concat:\n",
    "        result = pd.DataFrame()\n",
    "    else:\n",
    "        result = []\n",
    "    \n",
    "    for name in new_list:\n",
    "        if ext == '.csv':\n",
    "            try:\n",
    "                df = pd.read_csv(file_path + name)\n",
    "            except:\n",
    "                df = pd.read_csv(file_path + name, encoding= 'cp949')\n",
    "        elif ext == '.json':\n",
    "            try:\n",
    "                df = pd.read_json(file_path + name)\n",
    "            except:\n",
    "                df = pd.read_json(file_path + name, encoding= 'cp949')\n",
    "        elif ext == '.xml':\n",
    "            try:\n",
    "                df = pd.read_xml(file_path + name)\n",
    "            except:\n",
    "                df = pd.read_xml(file_path + name, encoding = 'cp949')\n",
    "        elif ext in ['.xlsx', '.xls']:\n",
    "            df = pd.read_excel(file_path + name)\n",
    "        else: \n",
    "            return \" 사용 가능 확장자가 아닙니다.\"\n",
    "        \n",
    "        if concat:\n",
    "            result  = pd.concat([result, df], axis = 0)\n",
    "        else:\n",
    "            result.append(df)\n",
    "    return result\n"
   ]
  },
  {
   "cell_type": "code",
   "execution_count": 218,
   "metadata": {},
   "outputs": [],
   "source": [
    "df2, df3, df4, df5 = data_load_os(\n",
    "    '../data_git/csv/2022'\n",
    ")"
   ]
  },
  {
   "cell_type": "code",
   "execution_count": null,
   "metadata": {},
   "outputs": [],
   "source": [
    "data_load_os(\"../data_git/csv/2022\", concat = True)"
   ]
  },
  {
   "cell_type": "markdown",
   "metadata": {},
   "source": [
    "### 특정 경로의 파일 목록을 불러와서 확장자에 따라 read 함수를 지정하는 함수\n",
    "- 매개변수 1개\n",
    "    - 파일의 경로\n",
    "- 파일의 경로를 이용하여 파일 전체 목록 로드\n",
    "- 로드한 데이터들이 저장될 빈 리스트 생성\n",
    "- 목록을 이용하여 반복문 실행\n",
    "- 파일의 확장자를 따로 추출하여 확장자에 따라 read_함수를 지정\n",
    "- 예외처리로 encoding 변환\n",
    "- 로드가 된 데이터프레임을 빈 리스트에 추가\n",
    "- 결과를 되돌려준다."
   ]
  },
  {
   "cell_type": "code",
   "execution_count": 229,
   "metadata": {},
   "outputs": [],
   "source": [
    "def data_load_glob(file_path):\n",
    "    # file_path + /* --> 폴더를 포함한 리스트 생성\n",
    "    # file_path + /*.* --> 폴더를 제외한 리스트 생성\n",
    "    file_list = glob(file_path+'/*.*')\n",
    "    # 결과값이 빈 리스트 생성\n",
    "    result = []\n",
    "    for name in file_list:\n",
    "        file_ext = os.path.splitext(name)[-1]\n",
    "        if file_ext == '.csv':\n",
    "            try:\n",
    "                df = pd.read_csv(name)\n",
    "            except: \n",
    "                df = pd.read_csv(name, encoding = 'cp949')\n",
    "        elif file_ext == '.json':\n",
    "            try:\n",
    "                df = pd.read_json(name) \n",
    "            except:\n",
    "                df = pd.read_json(name, encoding = 'cp949')\n",
    "        elif file_ext == '.xml':\n",
    "            try: \n",
    "                df = pd.read_xml(name)\n",
    "            except:\n",
    "                df = pd.read_xml(name, encoding = 'cp949')\n",
    "        elif file_ext in ['.xlsx', '.xls']:\n",
    "            df = pd.read_excel(name)\n",
    "        result.append(df)\n",
    "    return result"
   ]
  },
  {
   "cell_type": "code",
   "execution_count": 230,
   "metadata": {},
   "outputs": [],
   "source": [
    "test1, test2, test3 = data_load_glob('../data_git/csv/test')"
   ]
  },
  {
   "cell_type": "code",
   "execution_count": 232,
   "metadata": {},
   "outputs": [
    {
     "data": {
      "text/html": [
       "<div>\n",
       "<style scoped>\n",
       "    .dataframe tbody tr th:only-of-type {\n",
       "        vertical-align: middle;\n",
       "    }\n",
       "\n",
       "    .dataframe tbody tr th {\n",
       "        vertical-align: top;\n",
       "    }\n",
       "\n",
       "    .dataframe thead th {\n",
       "        text-align: right;\n",
       "    }\n",
       "</style>\n",
       "<table border=\"1\" class=\"dataframe\">\n",
       "  <thead>\n",
       "    <tr style=\"text-align: right;\">\n",
       "      <th></th>\n",
       "      <th>nid</th>\n",
       "      <th>title</th>\n",
       "      <th>url</th>\n",
       "      <th>dept_nm_lvl_1</th>\n",
       "      <th>dept_nm_lvl_2</th>\n",
       "      <th>dept_nm_lvl_3</th>\n",
       "      <th>dept_nm_lvl_4</th>\n",
       "      <th>dept_nm_lvl_5</th>\n",
       "      <th>exec_yr</th>\n",
       "      <th>exec_month</th>\n",
       "      <th>expense_budget</th>\n",
       "      <th>expense_execution</th>\n",
       "      <th>category</th>\n",
       "      <th>dept_nm_full</th>\n",
       "      <th>exec_dt</th>\n",
       "      <th>exec_loc</th>\n",
       "      <th>exec_purpose</th>\n",
       "      <th>target_nm</th>\n",
       "      <th>payment_method</th>\n",
       "      <th>exec_amount</th>\n",
       "    </tr>\n",
       "  </thead>\n",
       "  <tbody>\n",
       "    <tr>\n",
       "      <th>0</th>\n",
       "      <td>25844143</td>\n",
       "      <td>2022년 2월 사업소 도로사업소 서부도로사업소 업무추진비 - 기관운영 시책추진 부서운영</td>\n",
       "      <td>http://opengov.seoul.go.kr/expense/25844143</td>\n",
       "      <td>사업소</td>\n",
       "      <td>도로사업소</td>\n",
       "      <td>서부도로사업소</td>\n",
       "      <td></td>\n",
       "      <td></td>\n",
       "      <td>2022</td>\n",
       "      <td>2</td>\n",
       "      <td>0</td>\n",
       "      <td>0</td>\n",
       "      <td></td>\n",
       "      <td>서부도로사업소 기전과</td>\n",
       "      <td>2022-02-11 14:52</td>\n",
       "      <td>다농마트(마포구 월드컵로 235)</td>\n",
       "      <td>부서운영 물품구입</td>\n",
       "      <td>기전과장 외 48명</td>\n",
       "      <td>제로페이</td>\n",
       "      <td>230630</td>\n",
       "    </tr>\n",
       "    <tr>\n",
       "      <th>1</th>\n",
       "      <td>25844143</td>\n",
       "      <td>2022년 2월 사업소 도로사업소 서부도로사업소 업무추진비 - 기관운영 시책추진 부서운영</td>\n",
       "      <td>http://opengov.seoul.go.kr/expense/25844143</td>\n",
       "      <td>사업소</td>\n",
       "      <td>도로사업소</td>\n",
       "      <td>서부도로사업소</td>\n",
       "      <td></td>\n",
       "      <td></td>\n",
       "      <td>2022</td>\n",
       "      <td>2</td>\n",
       "      <td>0</td>\n",
       "      <td>0</td>\n",
       "      <td></td>\n",
       "      <td>서부도로사업소 시설보수과</td>\n",
       "      <td>2022-02-14 09:58</td>\n",
       "      <td>다농마트(마포구 월드컵로)</td>\n",
       "      <td>부서운영물품 구입(공무직)</td>\n",
       "      <td>김민철 등 3명</td>\n",
       "      <td>카드</td>\n",
       "      <td>120600</td>\n",
       "    </tr>\n",
       "    <tr>\n",
       "      <th>2</th>\n",
       "      <td>25844143</td>\n",
       "      <td>2022년 2월 사업소 도로사업소 서부도로사업소 업무추진비 - 기관운영 시책추진 부서운영</td>\n",
       "      <td>http://opengov.seoul.go.kr/expense/25844143</td>\n",
       "      <td>사업소</td>\n",
       "      <td>도로사업소</td>\n",
       "      <td>서부도로사업소</td>\n",
       "      <td></td>\n",
       "      <td></td>\n",
       "      <td>2022</td>\n",
       "      <td>2</td>\n",
       "      <td>0</td>\n",
       "      <td>0</td>\n",
       "      <td></td>\n",
       "      <td>서부도로사업소 도로보수과</td>\n",
       "      <td>2022-02-22 14:53</td>\n",
       "      <td>다농마트(마포구 월드컵로)</td>\n",
       "      <td>도로보수과 직원 물품구매</td>\n",
       "      <td>윤옥광외 9명</td>\n",
       "      <td>제로페이</td>\n",
       "      <td>112350</td>\n",
       "    </tr>\n",
       "  </tbody>\n",
       "</table>\n",
       "</div>"
      ],
      "text/plain": [
       "        nid                                              title  \\\n",
       "0  25844143  2022년 2월 사업소 도로사업소 서부도로사업소 업무추진비 - 기관운영 시책추진 부서운영   \n",
       "1  25844143  2022년 2월 사업소 도로사업소 서부도로사업소 업무추진비 - 기관운영 시책추진 부서운영   \n",
       "2  25844143  2022년 2월 사업소 도로사업소 서부도로사업소 업무추진비 - 기관운영 시책추진 부서운영   \n",
       "\n",
       "                                           url dept_nm_lvl_1 dept_nm_lvl_2  \\\n",
       "0  http://opengov.seoul.go.kr/expense/25844143           사업소         도로사업소   \n",
       "1  http://opengov.seoul.go.kr/expense/25844143           사업소         도로사업소   \n",
       "2  http://opengov.seoul.go.kr/expense/25844143           사업소         도로사업소   \n",
       "\n",
       "  dept_nm_lvl_3 dept_nm_lvl_4 dept_nm_lvl_5  exec_yr  exec_month  \\\n",
       "0       서부도로사업소                                 2022           2   \n",
       "1       서부도로사업소                                 2022           2   \n",
       "2       서부도로사업소                                 2022           2   \n",
       "\n",
       "   expense_budget  expense_execution category   dept_nm_full  \\\n",
       "0               0                  0             서부도로사업소 기전과   \n",
       "1               0                  0           서부도로사업소 시설보수과   \n",
       "2               0                  0           서부도로사업소 도로보수과   \n",
       "\n",
       "            exec_dt            exec_loc    exec_purpose   target_nm  \\\n",
       "0  2022-02-11 14:52  다농마트(마포구 월드컵로 235)       부서운영 물품구입  기전과장 외 48명   \n",
       "1  2022-02-14 09:58      다농마트(마포구 월드컵로)  부서운영물품 구입(공무직)    김민철 등 3명   \n",
       "2  2022-02-22 14:53      다농마트(마포구 월드컵로)   도로보수과 직원 물품구매     윤옥광외 9명   \n",
       "\n",
       "  payment_method  exec_amount  \n",
       "0           제로페이       230630  \n",
       "1             카드       120600  \n",
       "2           제로페이       112350  "
      ]
     },
     "execution_count": 232,
     "metadata": {},
     "output_type": "execute_result"
    }
   ],
   "source": [
    "test1.head(3)"
   ]
  },
  {
   "cell_type": "code",
   "execution_count": null,
   "metadata": {},
   "outputs": [],
   "source": []
  }
 ],
 "metadata": {
  "kernelspec": {
   "display_name": "venv",
   "language": "python",
   "name": "python3"
  },
  "language_info": {
   "codemirror_mode": {
    "name": "ipython",
    "version": 3
   },
   "file_extension": ".py",
   "mimetype": "text/x-python",
   "name": "python",
   "nbconvert_exporter": "python",
   "pygments_lexer": "ipython3",
   "version": "3.13.7"
  },
  "orig_nbformat": 4
 },
 "nbformat": 4,
 "nbformat_minor": 2
}
