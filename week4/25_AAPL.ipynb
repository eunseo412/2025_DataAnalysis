{
 "cells": [
  {
   "cell_type": "code",
   "execution_count": null,
   "id": "61f8caf6",
   "metadata": {},
   "outputs": [],
   "source": [
    "import pandas as pd\n",
    "import matplotlib.pyplot as plt"
   ]
  },
  {
   "cell_type": "code",
   "execution_count": null,
   "id": "a1694c3d",
   "metadata": {},
   "outputs": [],
   "source": [
    "# AAPL.csv 로드 -> 인덱스 지정 \n",
    "df = pd.read_csv(\"../csv/AAPL.csv\")\n",
    "df.head()"
   ]
  },
  {
   "cell_type": "code",
   "execution_count": null,
   "id": "61401017",
   "metadata": {},
   "outputs": [],
   "source": [
    "# 인덱스를 지정하는 함수 set_index()\n",
    "df.set_index('Date')[['Adj Close']]"
   ]
  },
  {
   "cell_type": "code",
   "execution_count": 14,
   "id": "abcfb7f2",
   "metadata": {},
   "outputs": [],
   "source": [
    "# read_csv()에서 인덱스를 지정하고 사용할 컬럼을 지정 \n",
    "df2 = \\\n",
    "    pd.read_csv(\"../csv/AAPL.csv\", \n",
    "                usecols=['Date', 'Adj Close'], index_col='Date')"
   ]
  },
  {
   "cell_type": "code",
   "execution_count": 15,
   "id": "fe7de4d4",
   "metadata": {},
   "outputs": [
    {
     "name": "stdout",
     "output_type": "stream",
     "text": [
      "<class 'pandas.core.frame.DataFrame'>\n",
      "Index: 9715 entries, 1980-12-12 to 2019-06-24\n",
      "Data columns (total 1 columns):\n",
      " #   Column     Non-Null Count  Dtype  \n",
      "---  ------     --------------  -----  \n",
      " 0   Adj Close  9714 non-null   float64\n",
      "dtypes: float64(1)\n",
      "memory usage: 151.8+ KB\n"
     ]
    }
   ],
   "source": [
    "df2.info()"
   ]
  },
  {
   "cell_type": "code",
   "execution_count": 16,
   "id": "b0949e40",
   "metadata": {},
   "outputs": [
    {
     "data": {
      "text/plain": [
       "Adj Close    1\n",
       "dtype: int64"
      ]
     },
     "execution_count": 16,
     "metadata": {},
     "output_type": "execute_result"
    }
   ],
   "source": [
    "# 결측치가 존재하는 데이터를 확인 \n",
    "df2.isna().sum()"
   ]
  },
  {
   "cell_type": "code",
   "execution_count": 20,
   "id": "7c772bc8",
   "metadata": {},
   "outputs": [
    {
     "data": {
      "text/plain": [
       "Date\n",
       "1980-12-12    False\n",
       "1980-12-15    False\n",
       "1980-12-16    False\n",
       "1980-12-17    False\n",
       "1980-12-18    False\n",
       "              ...  \n",
       "2019-06-18    False\n",
       "2019-06-19    False\n",
       "2019-06-20    False\n",
       "2019-06-21    False\n",
       "2019-06-24    False\n",
       "Name: Adj Close, Length: 9715, dtype: bool"
      ]
     },
     "execution_count": 20,
     "metadata": {},
     "output_type": "execute_result"
    }
   ],
   "source": [
    "df2['Adj Close'].isna()"
   ]
  },
  {
   "cell_type": "code",
   "execution_count": 21,
   "id": "f2ea2fef",
   "metadata": {},
   "outputs": [
    {
     "data": {
      "text/html": [
       "<div>\n",
       "<style scoped>\n",
       "    .dataframe tbody tr th:only-of-type {\n",
       "        vertical-align: middle;\n",
       "    }\n",
       "\n",
       "    .dataframe tbody tr th {\n",
       "        vertical-align: top;\n",
       "    }\n",
       "\n",
       "    .dataframe thead th {\n",
       "        text-align: right;\n",
       "    }\n",
       "</style>\n",
       "<table border=\"1\" class=\"dataframe\">\n",
       "  <thead>\n",
       "    <tr style=\"text-align: right;\">\n",
       "      <th></th>\n",
       "      <th>Adj Close</th>\n",
       "    </tr>\n",
       "    <tr>\n",
       "      <th>Date</th>\n",
       "      <th></th>\n",
       "    </tr>\n",
       "  </thead>\n",
       "  <tbody>\n",
       "    <tr>\n",
       "      <th>1981-08-10</th>\n",
       "      <td>NaN</td>\n",
       "    </tr>\n",
       "  </tbody>\n",
       "</table>\n",
       "</div>"
      ],
      "text/plain": [
       "            Adj Close\n",
       "Date                 \n",
       "1981-08-10        NaN"
      ]
     },
     "execution_count": 21,
     "metadata": {},
     "output_type": "execute_result"
    }
   ],
   "source": [
    "df2.loc[\n",
    "    df2['Adj Close'].isna(), \n",
    "]"
   ]
  },
  {
   "cell_type": "code",
   "execution_count": 22,
   "id": "f33f99f0",
   "metadata": {},
   "outputs": [],
   "source": [
    "from datetime import datetime"
   ]
  },
  {
   "cell_type": "code",
   "execution_count": 23,
   "id": "acb4ed3d",
   "metadata": {},
   "outputs": [],
   "source": [
    "index_list = df2.loc[\n",
    "    df2['Adj Close'].isna(), \n",
    "].index"
   ]
  },
  {
   "cell_type": "code",
   "execution_count": 31,
   "id": "3b8e62a7",
   "metadata": {},
   "outputs": [
    {
     "name": "stdout",
     "output_type": "stream",
     "text": [
      "Monday\n"
     ]
    }
   ],
   "source": [
    "for idx in index_list:\n",
    "    # print(type(idx))\n",
    "    # 인덱스의 문자열을 시계열데이터로 변환\n",
    "    time_idx = datetime.strptime(idx, '%Y-%m-%d')\n",
    "    # print(time_idx)\n",
    "    # 시계열 데이터에서 요일을 추출하려 문자로 출력 \n",
    "    print(time_idx.strftime('%A'))\n"
   ]
  },
  {
   "cell_type": "code",
   "execution_count": 33,
   "id": "df6cd182",
   "metadata": {},
   "outputs": [],
   "source": [
    "# 결측치를 제외한다.\n",
    "df2.dropna(axis=0, inplace=True)"
   ]
  },
  {
   "cell_type": "code",
   "execution_count": null,
   "id": "4169424d",
   "metadata": {},
   "outputs": [
    {
     "data": {
      "text/plain": [
       "np.float64(0.4432777)"
      ]
     },
     "execution_count": 39,
     "metadata": {},
     "output_type": "execute_result"
    }
   ],
   "source": [
    "# 이동평균선 -> 오늘에서부터 과거의 n개의 데이터를 \n",
    "# 모아서 평균을 낸 데이터\n",
    "# 20일 평균선  -> 첫데이터에서 20일 후부터 생성이되는 데이터 \n",
    "# 20번째의 데이터에서 첫 이동평균선 데이터가 생성\n",
    "df2.iloc[ 0:20, 0].mean() # df2.iloc[ 19, 1] 대입\n",
    "df2.iloc[ 1:21, 0].mean() # df2.iloc[ 20, 1] 대입\n",
    "# df2.iloc[ i + 19, 1 ] = df2.iloc[i : i+20, 0].mean()"
   ]
  },
  {
   "cell_type": "code",
   "execution_count": 40,
   "id": "048a7433",
   "metadata": {},
   "outputs": [],
   "source": [
    "import numpy as np"
   ]
  },
  {
   "cell_type": "code",
   "execution_count": 41,
   "id": "5ad4c61a",
   "metadata": {},
   "outputs": [],
   "source": [
    "df2['center'] = np.nan"
   ]
  },
  {
   "cell_type": "code",
   "execution_count": 44,
   "id": "704af51d",
   "metadata": {},
   "outputs": [],
   "source": [
    "for i in range( len(df2) - 19 ):\n",
    "    df2.iloc[i + 19, 1] = df2.iloc[ i : i + 20 , 0 ].mean()"
   ]
  },
  {
   "cell_type": "code",
   "execution_count": 47,
   "id": "5246f972",
   "metadata": {},
   "outputs": [
    {
     "data": {
      "text/html": [
       "<div>\n",
       "<style scoped>\n",
       "    .dataframe tbody tr th:only-of-type {\n",
       "        vertical-align: middle;\n",
       "    }\n",
       "\n",
       "    .dataframe tbody tr th {\n",
       "        vertical-align: top;\n",
       "    }\n",
       "\n",
       "    .dataframe thead th {\n",
       "        text-align: right;\n",
       "    }\n",
       "</style>\n",
       "<table border=\"1\" class=\"dataframe\">\n",
       "  <thead>\n",
       "    <tr style=\"text-align: right;\">\n",
       "      <th></th>\n",
       "      <th>Adj Close</th>\n",
       "      <th>center</th>\n",
       "    </tr>\n",
       "    <tr>\n",
       "      <th>Date</th>\n",
       "      <th></th>\n",
       "      <th></th>\n",
       "    </tr>\n",
       "  </thead>\n",
       "  <tbody>\n",
       "    <tr>\n",
       "      <th>1981-01-09</th>\n",
       "      <td>0.455147</td>\n",
       "      <td>NaN</td>\n",
       "    </tr>\n",
       "    <tr>\n",
       "      <th>1981-01-12</th>\n",
       "      <td>0.451577</td>\n",
       "      <td>0.443278</td>\n",
       "    </tr>\n",
       "    <tr>\n",
       "      <th>1981-01-13</th>\n",
       "      <td>0.435513</td>\n",
       "      <td>0.444527</td>\n",
       "    </tr>\n",
       "    <tr>\n",
       "      <th>1981-01-14</th>\n",
       "      <td>0.437298</td>\n",
       "      <td>0.446937</td>\n",
       "    </tr>\n",
       "  </tbody>\n",
       "</table>\n",
       "</div>"
      ],
      "text/plain": [
       "            Adj Close    center\n",
       "Date                           \n",
       "1981-01-09   0.455147       NaN\n",
       "1981-01-12   0.451577  0.443278\n",
       "1981-01-13   0.435513  0.444527\n",
       "1981-01-14   0.437298  0.446937"
      ]
     },
     "execution_count": 47,
     "metadata": {},
     "output_type": "execute_result"
    }
   ],
   "source": [
    "df2.iloc[18:22]"
   ]
  },
  {
   "cell_type": "code",
   "execution_count": 48,
   "id": "39be5b71",
   "metadata": {},
   "outputs": [],
   "source": [
    "df2['while_center'] = np.nan"
   ]
  },
  {
   "cell_type": "code",
   "execution_count": 49,
   "id": "7fd7e059",
   "metadata": {},
   "outputs": [],
   "source": [
    "i = 0\n",
    "\n",
    "while True:\n",
    "    try:\n",
    "        df2.iloc[i + 19, 2] = df2.iloc[ i : i + 20 , 0 ].mean()\n",
    "        i += 1\n",
    "    except:\n",
    "        break"
   ]
  },
  {
   "cell_type": "code",
   "execution_count": null,
   "id": "818da32e",
   "metadata": {},
   "outputs": [],
   "source": [
    "df2.tail()"
   ]
  },
  {
   "cell_type": "code",
   "execution_count": 53,
   "id": "a08c1396",
   "metadata": {},
   "outputs": [],
   "source": [
    "# 데이터를 n개 만큼 묶여서 그룹화 함수 \n",
    "# rolling(n)\n",
    "df2['center2'] = df2['Adj Close'].rolling(20).mean()"
   ]
  },
  {
   "cell_type": "code",
   "execution_count": 55,
   "id": "d030b2cb",
   "metadata": {},
   "outputs": [],
   "source": [
    "# 인덱스를 시계열 변환\n",
    "df2.index = pd.to_datetime(df2.index)"
   ]
  },
  {
   "cell_type": "code",
   "execution_count": 57,
   "id": "ee21c741",
   "metadata": {},
   "outputs": [],
   "source": [
    "df2 = df2.tail(100)"
   ]
  },
  {
   "cell_type": "code",
   "execution_count": 58,
   "id": "80f0c5b1",
   "metadata": {},
   "outputs": [
    {
     "data": {
      "image/png": "[encoded data removed]",
      "text/plain": [
       "<Figure size 2000x800 with 1 Axes>"
      ]
     },
     "metadata": {},
     "output_type": "display_data"
    }
   ],
   "source": [
    "plt.figure(figsize=(20, 8))\n",
    "\n",
    "plt.plot(df2.index, df2['Adj Close'])\n",
    "plt.plot(df2.index, df2['center'], 'r--')\n",
    "\n",
    "plt.show()"
   ]
  },
  {
   "cell_type": "code",
   "execution_count": null,
   "id": "f0fb711e",
   "metadata": {},
   "outputs": [],
   "source": []
  }
 ],
 "metadata": {
  "kernelspec": {
   "display_name": "Python 3",
   "language": "python",
   "name": "python3"
  },
  "language_info": {
   "codemirror_mode": {
    "name": "ipython",
    "version": 3
   },
   "file_extension": ".py",
   "mimetype": "text/x-python",
   "name": "python",
   "nbconvert_exporter": "python",
   "pygments_lexer": "ipython3",
   "version": "3.11.9"
  }
 },
 "nbformat": 4,
 "nbformat_minor": 5
}
