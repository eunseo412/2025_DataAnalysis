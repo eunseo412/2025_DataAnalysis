{
 "cells": [
  {
   "cell_type": "markdown",
   "metadata": {},
   "source": [
    "### 은행 계좌 class 생성\n",
    "- 클래스 변수 생성 (동일한 class를 생성하였을 때 서로 공유하는 변수)\n",
    "    - total_cost = 0\n",
    "    - user_cnt = 0\n",
    "- 생성자 함수 (class 간 독립적인 변수 생성)\n",
    "    - 유저의 이름 : name (str)\n",
    "    - 유저의 생년월일 : birth (str)\n",
    "    - 계좌의 잔액 : cost (int)\n",
    "    - 계좌의 기록 : log ( list )\n",
    "    - 유저의 숫자(user_cnt)를 1 증가\n",
    "- 함수 생성\n",
    "    - 입/출금 함수\n",
    "        - 매개변수 (바뀌는 것들을 매개변수로 설정)\n",
    "            - 입금과 출금을 확인하는 변수 (_type) : 0이면 입금, 1이면 출금\n",
    "            - 금액 (_cost)\n",
    "        - _type이 0이라면 계좌의 잔액(독립적인 변수)을 증가시킨다. 은행이 가지고 있는 총액(class 변수)을 증가\n",
    "        - _type 이 1이라면 계좌의 잔액을 감소시킨다. 은행이 가지고 있는 총액을 감소\n",
    "            - _cost 가 self.cost보다 작거나 같은 경우\n",
    "                -계좌의 잔액이 감소, 은행의 총액 감소\n",
    "            - 위의 조건이 거짓이라면\n",
    "                - 계좌는 그대로 유지\n",
    "                - '잔액 부족' 메시지 출력\n",
    "        - 입/출금 내역을 self.log에 추가(append())\n",
    "    - 계좌의 입출금 내역을 보여주는 함수\n",
    "        - 매개변수\n",
    "            - 입금, 출금, 전체 내역을 확인할 수 있는 변수 (_mode)\n",
    "                - 기본값은 9\n",
    "                - 입금 내역은 0\n",
    "                - 출금 내역은 1\n",
    "        - _mode에 따라서 self.log에 있는 데이터를 필터해서 되돌려준다."
   ]
  },
  {
   "cell_type": "code",
   "execution_count": 289,
   "metadata": {},
   "outputs": [],
   "source": [
    "# class 선언\n",
    "class Bank:\n",
    "    total_cost = 0  #유저가 입금 시 증가 출금 시 감소\n",
    "    user_cnt = 0    # class 생성이 될 때 (유저가 계좌를 생성할 때) 1씩 증가\n",
    "\n",
    "    def __init__(self, _name, _birth):\n",
    "        # 독립적인 변수를 선언\n",
    "        # class 내의 변수, class 내의 함수 내의 변수 등은 모두 .을 사용해서 위치를 표현하는군\n",
    "        self.name = _name\n",
    "        self.birth = _birth\n",
    "        self.cost = 0\n",
    "        self.log = []\n",
    "        # 유저의 수(class 변수)를 1 증가시킨다.\n",
    "        Bank.user_cnt += 1\n",
    "\n",
    "    # 입출금 함수 선언\n",
    "    def change_cost(self, _type, _cost):\n",
    "        # _type이 0이라면 -> 입금\n",
    "        if _type == 0:\n",
    "            self.cost += _cost\n",
    "            Bank.total_cost += _cost\n",
    "            # log를 추가 -> dict 형태의 데이터를 추가\n",
    "            dict_data = {\n",
    "                '타입' : '입금',\n",
    "                '금액' : _cost,\n",
    "                '잔액' : self.cost\n",
    "            }\n",
    "            self.log.append(dict_data)\n",
    "            print(f'입금완료 : 잔액은 {self.cost}입니다.')\n",
    "        elif _type == 1:\n",
    "            # 출금\n",
    "            # 크기 비교\n",
    "            if self.cost >= _cost:\n",
    "                self.cost -= _cost\n",
    "                Bank.total_cost -= _cost\n",
    "                dict_data = {\n",
    "                    '타입' : '출금',\n",
    "                    '금액' : _cost,\n",
    "                    '잔액' : self.cost\n",
    "                }\n",
    "                self.log.append(dict_data)\n",
    "                print(f'출금 완료 : 잔액은 {self.cost}입니다.')\n",
    "            else: \n",
    "                print('현재 잔액이 부족합니다.')\n",
    "        else: \n",
    "            #_type에 데이터가 잘못 들어왔을때\n",
    "            print(\"_type의 값이 잘못되었습니다.\")\n",
    "\n",
    "\n",
    "\n",
    "    def view_log(self, _mode = 9):\n",
    "        # 입출금 내역을 출력\n",
    "        # _mode가 9인 경우 : 전체 내역 출력\n",
    "        if _mode == 9:\n",
    "            # self.log를 기준으로 반복물을 생성\n",
    "            for log_data in self.log:\n",
    "                print(log_data)\n",
    "        # _mode가 0인 경우 : 입금 내역만 출력\n",
    "        elif _mode == 0:\n",
    "            for log_data in self.log:\n",
    "                # log_data의 타입 -> dict{'타입': xxx, '금액' : xxx, '잔액' : xxx}\n",
    "                # log_data에서 key가 '타입'인 value의 값이 '입금'이라면 출력\n",
    "                if log_data['타입'] == '입금':\n",
    "                    print(log_data)\n",
    "                # else:\n",
    "                #     print('입금 내역이 없습니다.')\n",
    "        # _mode가 1인 경우 : 출금 내역만 출력\n",
    "        elif _mode == 1:\n",
    "            for log_data in self.log:\n",
    "                if log_data['타입'] == '출금':\n",
    "                    print(log_data)\n",
    "        else:\n",
    "            print(\"mode의 값이 잘못되었습니다.\")"
   ]
  },
  {
   "cell_type": "code",
   "execution_count": 290,
   "metadata": {},
   "outputs": [],
   "source": [
    "# class 생성 -> 은행의 계좌 생성\n",
    "user1 = Bank('kim', '900101')\n",
    "user2 = Bank('park', '001020')"
   ]
  },
  {
   "cell_type": "code",
   "execution_count": 291,
   "metadata": {},
   "outputs": [
    {
     "name": "stdout",
     "output_type": "stream",
     "text": [
      "2\n",
      "2\n",
      "2\n"
     ]
    }
   ],
   "source": [
    "print(user1.user_cnt)\n",
    "print(user2.user_cnt)\n",
    "print(Bank.user_cnt)"
   ]
  },
  {
   "cell_type": "code",
   "execution_count": 292,
   "metadata": {},
   "outputs": [
    {
     "name": "stdout",
     "output_type": "stream",
     "text": [
      "입금완료 : 잔액은 10000입니다.\n"
     ]
    }
   ],
   "source": [
    "user1.change_cost(_cost = 10000, _type = 0)\n",
    "# 순서 기억 안나면 이렇게 명시해줘도 됨"
   ]
  },
  {
   "cell_type": "code",
   "execution_count": 293,
   "metadata": {},
   "outputs": [
    {
     "name": "stdout",
     "output_type": "stream",
     "text": [
      "현재 잔액이 부족합니다.\n"
     ]
    }
   ],
   "source": [
    "user2.change_cost(1, 10000)"
   ]
  },
  {
   "cell_type": "code",
   "execution_count": 294,
   "metadata": {},
   "outputs": [
    {
     "name": "stdout",
     "output_type": "stream",
     "text": [
      "10000\n",
      "10000\n",
      "10000\n",
      "0\n"
     ]
    }
   ],
   "source": [
    "print(user1.total_cost)\n",
    "print(user1.cost)\n",
    "print(user2.total_cost)\n",
    "print(user2.cost)"
   ]
  },
  {
   "cell_type": "code",
   "execution_count": 295,
   "metadata": {},
   "outputs": [
    {
     "name": "stdout",
     "output_type": "stream",
     "text": [
      "출금 완료 : 잔액은 0입니다.\n"
     ]
    }
   ],
   "source": [
    "user1.change_cost(1, 10000)"
   ]
  },
  {
   "cell_type": "code",
   "execution_count": 296,
   "metadata": {},
   "outputs": [
    {
     "name": "stdout",
     "output_type": "stream",
     "text": [
      "입금완료 : 잔액은 10000입니다.\n"
     ]
    }
   ],
   "source": [
    "user1.change_cost(_cost = 10000, _type = 0)\n",
    "# 순서 기억 안나면 이렇게 명시해줘도 됨"
   ]
  },
  {
   "cell_type": "code",
   "execution_count": 297,
   "metadata": {},
   "outputs": [
    {
     "name": "stdout",
     "output_type": "stream",
     "text": [
      "{'타입': '입금', '금액': 10000, '잔액': 10000}\n",
      "{'타입': '출금', '금액': 10000, '잔액': 0}\n",
      "{'타입': '입금', '금액': 10000, '잔액': 10000}\n"
     ]
    }
   ],
   "source": [
    "user1.view_log()"
   ]
  },
  {
   "cell_type": "code",
   "execution_count": 298,
   "metadata": {},
   "outputs": [
    {
     "name": "stdout",
     "output_type": "stream",
     "text": [
      "{'타입': '입금', '금액': 10000, '잔액': 10000}\n",
      "{'타입': '입금', '금액': 10000, '잔액': 10000}\n"
     ]
    }
   ],
   "source": [
    "user1.view_log(_mode = 0)"
   ]
  },
  {
   "cell_type": "markdown",
   "metadata": {},
   "source": [
    "### class의 상속\n",
    "- 상속? -> 물려받다.\n",
    "    - class 간의 상속은 부모 클래스에 있는 기능(변수, 함수)을 자식 클래스에서 사용이 가능하게 만드는 기능\n",
    "    - 부모 클래스의 기능은 그대로 유지한 상태에서 자식 클래스에서 해당 기능을 그대로 사용하거나 약간의 변형을 하여 사용이 가능\n",
    "    - 자식 클래스에서 부모 클래스에 접근하는 방법 : super()"
   ]
  },
  {
   "cell_type": "code",
   "execution_count": 299,
   "metadata": {},
   "outputs": [],
   "source": [
    "# 부모 클래스 선언\n",
    "class A:\n",
    "    # 생성자 함수 (클래스 안에서 독립적으로 사용한 변수를 생성)\n",
    "    def __init__(self, _name, _age):\n",
    "        # 변수 입력값 받아서 독립적인 변수에 넣겠다\n",
    "        self.name = _name\n",
    "        self.age = _age\n",
    "    # class에 저장된 유저의 정보를 출력하는 함수\n",
    "    def view_info(self):\n",
    "        print(f\"이름은 {self.name}이고 나이는 {self.age}입니다.\")"
   ]
  },
  {
   "cell_type": "code",
   "execution_count": 300,
   "metadata": {},
   "outputs": [
    {
     "name": "stdout",
     "output_type": "stream",
     "text": [
      "이름은 kim이고 나이는 20입니다.\n"
     ]
    }
   ],
   "source": [
    "test_user = A(\"kim\", 20)\n",
    "test_user.view_info()"
   ]
  },
  {
   "cell_type": "code",
   "execution_count": 301,
   "metadata": {},
   "outputs": [],
   "source": [
    "# 자식 클래스 선언 -> A 클래스의 기능을 상속 받는다.\n",
    "# 상속받지 않을 때에는 class 선언 시 뒤에 () 생략 가능\n",
    "class B(A):\n",
    "    # B class는 A의 변수 2개와 view_info() 함수를 사용 가능\n",
    "    def __init__(self, _name, _age, _loc):\n",
    "        # 부모클래스에서 저장하는 부분\n",
    "        # self.name = _name\n",
    "        # self.age = _age\n",
    "        # 간단하게 저장이 되지 않는 경우\n",
    "        # 부모클래스(super())에 안에(.) 생성자함수(__init__()) 호출\n",
    "        super().__init__(_name, _age)\n",
    "        self.loc = _loc\n",
    "\n",
    "    def view_info(self):\n",
    "        print(f\"이름은 {self.name}이고 나이는 {self.age}이고 지역은 {self.loc}입니다.\")"
   ]
  },
  {
   "cell_type": "code",
   "execution_count": 302,
   "metadata": {},
   "outputs": [],
   "source": [
    "test_user2 = B('park', 20, 'seoul')"
   ]
  },
  {
   "cell_type": "code",
   "execution_count": 303,
   "metadata": {},
   "outputs": [
    {
     "name": "stdout",
     "output_type": "stream",
     "text": [
      "이름은 park이고 나이는 20이고 지역은 seoul입니다.\n",
      "None\n"
     ]
    }
   ],
   "source": [
    "# test_user2에 사용가능한 함수는 2개 -> view_info, view_info2\n",
    "# test_user2.view_info()에 대한 return이 없기 때문에 print하면 None이 나옴\n",
    "print(test_user2.view_info())"
   ]
  },
  {
   "cell_type": "markdown",
   "metadata": {},
   "source": [
    "### User class 선언\n",
    "- Bank 클래스의 기능을 상속받는다.\n",
    "- 일의 종류와 금액을 나타내는 dict 형태의 데이터를 클래스 변수에 저장\n",
    "- 구매할 상품의 종류와 금액을 나타내는 dict 형태의 데이터를 클래스에 저장\n",
    "- 생성자 함수 선언\n",
    "    - Bank 클래스 안에 변수 _name, _age 데이터를 받는다.\n",
    "    - 구매한 물건의 목록을 저장하기 위해 비어있는 리스트를 생성\n",
    "- 일을 한다 -> work() 함수 선언\n",
    "    - 매개변수\n",
    "        - 일의 종류(_type)\n",
    "    - _type에 따라서 금액 지정\n",
    "        - dict을 이용한다.\n",
    "    - 유저의 잔액을 금액만큼 증가\n",
    "        - Bank(부모 클래스) 안에 있는 change_cost 함수를 이용\n",
    "- 지출, 구매 -> buy() 함수 선언\n",
    "    - 매개변수\n",
    "        -물건의 종류(_type)\n",
    "    - type에 따라서 금액 지정\n",
    "        - dict를 이용한다.\n",
    "    - 구매하려는 물건의 금액과 유저의 잔액(self.cost)을 비교\n",
    "        - 유저의 잔액이 크거나 같다면\n",
    "            -부모클래스의 change_cost() 함수를 이용\n",
    "            -구매한 물건의 종류를 목록에 추가\n",
    "        - 작다면\n",
    "            - \"잔액이 부족합니다.\" 메시지 출력"
   ]
  },
  {
   "cell_type": "code",
   "execution_count": 304,
   "metadata": {},
   "outputs": [],
   "source": [
    "class User(Bank):\n",
    "    work_types = {\n",
    "        'A' : 10000,\n",
    "        'B' : 20000,\n",
    "        'C' : 30000\n",
    "    }\n",
    "    item_list ={\n",
    "        '돈까스' : 7000,\n",
    "        '학식' : 6000,\n",
    "        '햄버거' : 8000,\n",
    "        '탕수육' : 19000\n",
    "    }\n",
    "    # 생성자 함수 -> 변수들을 저장\n",
    "    def __init__(self, _name, _birth):\n",
    "        super().__init__(_name, _birth)\n",
    "        self.items = []\n",
    "\n",
    "    def work(self, _type):\n",
    "        # type에 따라 금액이 지정 -> work_types에 저장\n",
    "        # work_types에 없는 key를 지정하면 error 발생 -> 예외처리\n",
    "        try:\n",
    "            # 실행할 코드 작성\n",
    "            # 클래스변수는 해당하는 클래스명 작성하고 쓴다.\n",
    "            cost = User.work_types[_type]\n",
    "            # 잔액을 증가시킨다.\n",
    "            # 부모 클래스에 있는 change_cost() 함수를 호출\n",
    "            super().change_cost(_type = 0, _cost = cost)\n",
    "        except:\n",
    "            # try 영역에 있는 코드들이 실행되다가 문제가 발생했을 때\n",
    "            print(\"work_types에 존재하지 않는 _type 을 입력하였습니다.\")\n",
    "\n",
    "    def buy(self, _type, _cnt = 1):\n",
    "        # type에 따라 금액 지정\n",
    "        try:\n",
    "            # item_list에 있는 물건의 금액을 불러온다.\n",
    "            cost = User.item_list[_type] * _cnt\n",
    "            \n",
    "            # 현재 잔액과 cost를 비교\n",
    "            if self.cost >= cost:\n",
    "                # 구매가 성공하는 조건\n",
    "                super().change_cost(_type = 1, _cost = cost)\n",
    "                self.items.append(\n",
    "                    f\"{_type} X {_cnt}\"\n",
    "                )\n",
    "            # 구매가 실패하는 조건\n",
    "            else:\n",
    "                print(\"구매 실패 : 잔액이 부족합니다.\")\n",
    "        except:\n",
    "            print(\"구매 실패 : 구매하려는 물건의 정보가 존재하지 않습니다.\")\n",
    "\n",
    "    def user_info(self):\n",
    "        print(f\"\"\" \n",
    "        이름 : {self.name}\n",
    "        생년월일 : {self.birth}\n",
    "        잔액 : {self.cost}\n",
    "        구매한 물건의 목록 : {self.items}\n",
    "        \"\"\")\n",
    "\n",
    "    # 함수 생성 -> 매개변수 3개(_select, _key, _value)\n",
    "    def add_type(self, _select, _key, _value):\n",
    "        # _select가 work라면\n",
    "        if _select == 'work':\n",
    "            #클래스변수 work_types에 _key : _value를 추가\n",
    "            User.work_types[_key] = _value\n",
    "        # _select가 item이라면\n",
    "        elif _select == 'item':\n",
    "            # 클래스변수 item_list에 _key : _value를 추가\n",
    "            User.item_list[_key] = _value\n",
    "        else: \n",
    "            print(\"_select에서는 work / item 만 입력이 가능합니다.\")"
   ]
  },
  {
   "cell_type": "code",
   "execution_count": 305,
   "metadata": {},
   "outputs": [
    {
     "name": "stdout",
     "output_type": "stream",
     "text": [
      "입금완료 : 잔액은 10000입니다.\n"
     ]
    }
   ],
   "source": [
    "user1 = User('Kim', '040101')\n",
    "user1.work('A')"
   ]
  },
  {
   "cell_type": "code",
   "execution_count": 306,
   "metadata": {},
   "outputs": [
    {
     "name": "stdout",
     "output_type": "stream",
     "text": [
      "work_types에 존재하지 않는 _type 을 입력하였습니다.\n"
     ]
    }
   ],
   "source": [
    "user1.work('D')"
   ]
  },
  {
   "cell_type": "code",
   "execution_count": 307,
   "metadata": {},
   "outputs": [
    {
     "name": "stdout",
     "output_type": "stream",
     "text": [
      "입금완료 : 잔액은 30000입니다.\n"
     ]
    }
   ],
   "source": [
    "user1.work('B')"
   ]
  },
  {
   "cell_type": "code",
   "execution_count": 308,
   "metadata": {},
   "outputs": [
    {
     "name": "stdout",
     "output_type": "stream",
     "text": [
      "입금완료 : 잔액은 60000입니다.\n"
     ]
    }
   ],
   "source": [
    "user1.work('C')"
   ]
  },
  {
   "cell_type": "code",
   "execution_count": 309,
   "metadata": {},
   "outputs": [
    {
     "name": "stdout",
     "output_type": "stream",
     "text": [
      "출금 완료 : 잔액은 53000입니다.\n"
     ]
    }
   ],
   "source": [
    "user1.buy('돈까스')"
   ]
  },
  {
   "cell_type": "code",
   "execution_count": 310,
   "metadata": {},
   "outputs": [
    {
     "name": "stdout",
     "output_type": "stream",
     "text": [
      "출금 완료 : 잔액은 21000입니다.\n"
     ]
    }
   ],
   "source": [
    "user1.buy('햄버거', 4)"
   ]
  },
  {
   "cell_type": "code",
   "execution_count": 311,
   "metadata": {},
   "outputs": [
    {
     "name": "stdout",
     "output_type": "stream",
     "text": [
      "구매 실패 : 잔액이 부족합니다.\n"
     ]
    }
   ],
   "source": [
    "user1.buy('탕수육', 2)"
   ]
  },
  {
   "cell_type": "code",
   "execution_count": 312,
   "metadata": {},
   "outputs": [
    {
     "name": "stdout",
     "output_type": "stream",
     "text": [
      "구매 실패 : 구매하려는 물건의 정보가 존재하지 않습니다.\n"
     ]
    }
   ],
   "source": [
    "user1.buy('크림새우')"
   ]
  },
  {
   "cell_type": "code",
   "execution_count": 313,
   "metadata": {},
   "outputs": [
    {
     "name": "stdout",
     "output_type": "stream",
     "text": [
      "{'타입': '입금', '금액': 10000, '잔액': 10000}\n",
      "{'타입': '입금', '금액': 20000, '잔액': 30000}\n",
      "{'타입': '입금', '금액': 30000, '잔액': 60000}\n",
      "{'타입': '출금', '금액': 7000, '잔액': 53000}\n",
      "{'타입': '출금', '금액': 32000, '잔액': 21000}\n"
     ]
    }
   ],
   "source": [
    "user1.view_log()"
   ]
  },
  {
   "cell_type": "code",
   "execution_count": 314,
   "metadata": {},
   "outputs": [
    {
     "data": {
      "text/plain": [
       "['돈까스 X 1', '햄버거 X 4']"
      ]
     },
     "execution_count": 314,
     "metadata": {},
     "output_type": "execute_result"
    }
   ],
   "source": [
    "user1.items"
   ]
  },
  {
   "cell_type": "code",
   "execution_count": 315,
   "metadata": {},
   "outputs": [],
   "source": [
    "# add_type() 함수 호출\n",
    "user1.add_type(_select = 'work', _key = 'D', _value = 60000)"
   ]
  },
  {
   "cell_type": "code",
   "execution_count": 316,
   "metadata": {},
   "outputs": [
    {
     "name": "stdout",
     "output_type": "stream",
     "text": [
      "{'A': 10000, 'B': 20000, 'C': 30000, 'D': 60000}\n"
     ]
    }
   ],
   "source": [
    "print(User.work_types)"
   ]
  },
  {
   "cell_type": "code",
   "execution_count": 317,
   "metadata": {},
   "outputs": [
    {
     "name": "stdout",
     "output_type": "stream",
     "text": [
      "입금완료 : 잔액은 81000입니다.\n"
     ]
    }
   ],
   "source": [
    "user1.work(\"D\")"
   ]
  },
  {
   "cell_type": "code",
   "execution_count": 318,
   "metadata": {},
   "outputs": [
    {
     "name": "stdout",
     "output_type": "stream",
     "text": [
      " \n",
      "        이름 : Kim\n",
      "        생년월일 : 040101\n",
      "        잔액 : 81000\n",
      "        구매한 물건의 목록 : ['돈까스 X 1', '햄버거 X 4']\n",
      "        \n"
     ]
    }
   ],
   "source": [
    "user1.user_info()"
   ]
  },
  {
   "cell_type": "code",
   "execution_count": 319,
   "metadata": {},
   "outputs": [
    {
     "data": {
      "text/plain": [
       "{'A': 10000, 'B': 20000, 'C': 30000, 'D': 60000}"
      ]
     },
     "execution_count": 319,
     "metadata": {},
     "output_type": "execute_result"
    }
   ],
   "source": [
    "user1.work_types"
   ]
  },
  {
   "cell_type": "code",
   "execution_count": 322,
   "metadata": {},
   "outputs": [],
   "source": [
    "user1.add_type(_select = 'item', _key = '크림새우', _value = 25000)"
   ]
  },
  {
   "cell_type": "code",
   "execution_count": 323,
   "metadata": {},
   "outputs": [
    {
     "name": "stdout",
     "output_type": "stream",
     "text": [
      "출금 완료 : 잔액은 56000입니다.\n"
     ]
    }
   ],
   "source": [
    "user1.buy('크림새우')"
   ]
  },
  {
   "cell_type": "code",
   "execution_count": 324,
   "metadata": {},
   "outputs": [
    {
     "data": {
      "text/plain": [
       "{'돈까스': 7000, '학식': 6000, '햄버거': 8000, '탕수육': 19000, '크림새우': 25000}"
      ]
     },
     "execution_count": 324,
     "metadata": {},
     "output_type": "execute_result"
    }
   ],
   "source": [
    "user1.item_list"
   ]
  },
  {
   "cell_type": "code",
   "execution_count": null,
   "metadata": {},
   "outputs": [],
   "source": []
  }
 ],
 "metadata": {
  "kernelspec": {
   "display_name": "Python 3",
   "language": "python",
   "name": "python3"
  },
  "language_info": {
   "codemirror_mode": {
    "name": "ipython",
    "version": 3
   },
   "file_extension": ".py",
   "mimetype": "text/x-python",
   "name": "python",
   "nbconvert_exporter": "python",
   "pygments_lexer": "ipython3",
   "version": "3.11.5"
  },
  "orig_nbformat": 4
 },
 "nbformat": 4,
 "nbformat_minor": 2
}
