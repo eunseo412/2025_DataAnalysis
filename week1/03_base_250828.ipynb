{
 "cells": [
  {
   "cell_type": "markdown",
   "metadata": {},
   "source": [
    "#### 문자열에서 제공하는 내장 함수\n",
    "- upper() : 문자열을 모두 대문자로 변경\n",
    "- lower() : 문자열을 모두 소문자로 변경\n",
    "- swapcase() : 대문자를 소문자로 소문자를 대문자로 변경\n",
    "- title() : 단어의 첫글자만 대문자로 변경\n",
    "- strip() : 기본적으로는 문자열의 시작과 끝에 존재하는 공백을 제거\n",
    "    - rstrip() : 문자열의 끝의 공백을 제거\n",
    "    - lstrip() : 문자열의 시작의 공백을 제거\n",
    "- replace() : 특정 문자를 찾아서 다른 문자로 치환\n",
    "- split() : 특정 문자를 찾아서 문자를 잘라주는 기능 -> 결과 list"
   ]
  },
  {
   "cell_type": "code",
   "execution_count": 41,
   "metadata": {},
   "outputs": [],
   "source": [
    "text_a = 'Apple'\n",
    "text_b = 'apple'"
   ]
  },
  {
   "cell_type": "code",
   "execution_count": 42,
   "metadata": {},
   "outputs": [
    {
     "data": {
      "text/plain": [
       "False"
      ]
     },
     "execution_count": 42,
     "metadata": {},
     "output_type": "execute_result"
    }
   ],
   "source": [
    "text_a == text_b"
   ]
  },
  {
   "cell_type": "code",
   "execution_count": 43,
   "metadata": {},
   "outputs": [],
   "source": [
    "# text_a와 text_b를 비교했을 때 같다 라는 결과를 만들려면\n",
    "# 두개의 데이터의 형태를 같게 만든다.\n",
    "\n",
    "# text_a.upper()\n",
    "#'문자열' '안에있는' upper 함수\n",
    "# 앞에있는 문자열을 바꿔줌\n",
    "# 함수만 썼을 때 출력이 됐으므로 text_a는 안바뀜\n",
    "\n",
    "text_a = text_a.upper()\n",
    "# 제대로 실행은 됐는데 뭐가 안나옴 -> 메모리 상의 데이터가 변함"
   ]
  },
  {
   "cell_type": "code",
   "execution_count": 44,
   "metadata": {},
   "outputs": [],
   "source": [
    "text_b = text_b.upper()"
   ]
  },
  {
   "cell_type": "code",
   "execution_count": 45,
   "metadata": {},
   "outputs": [
    {
     "data": {
      "text/plain": [
       "True"
      ]
     },
     "execution_count": 45,
     "metadata": {},
     "output_type": "execute_result"
    }
   ],
   "source": [
    "text_a == text_b"
   ]
  },
  {
   "cell_type": "code",
   "execution_count": 46,
   "metadata": {},
   "outputs": [
    {
     "data": {
      "text/plain": [
       "'  hello, world  '"
      ]
     },
     "execution_count": 46,
     "metadata": {},
     "output_type": "execute_result"
    }
   ],
   "source": [
    "text_c = '  Hello, world  '\n",
    "text_c.lower()"
   ]
  },
  {
   "cell_type": "code",
   "execution_count": 47,
   "metadata": {},
   "outputs": [
    {
     "data": {
      "text/plain": [
       "False"
      ]
     },
     "execution_count": 47,
     "metadata": {},
     "output_type": "execute_result"
    }
   ],
   "source": [
    "# 좌우에 공백있는 str\n",
    "text_c == 'Hello, world'"
   ]
  },
  {
   "cell_type": "code",
   "execution_count": 48,
   "metadata": {},
   "outputs": [
    {
     "data": {
      "text/plain": [
       "'Hello, world  '"
      ]
     },
     "execution_count": 48,
     "metadata": {},
     "output_type": "execute_result"
    }
   ],
   "source": [
    "text_c.lstrip()"
   ]
  },
  {
   "cell_type": "code",
   "execution_count": 49,
   "metadata": {},
   "outputs": [
    {
     "data": {
      "text/plain": [
       "'  hELLO, WORLD  '"
      ]
     },
     "execution_count": 49,
     "metadata": {},
     "output_type": "execute_result"
    }
   ],
   "source": [
    "text_c.swapcase()"
   ]
  },
  {
   "cell_type": "code",
   "execution_count": 50,
   "metadata": {},
   "outputs": [
    {
     "data": {
      "text/plain": [
       "'  Hello, World  '"
      ]
     },
     "execution_count": 50,
     "metadata": {},
     "output_type": "execute_result"
    }
   ],
   "source": [
    "text_c.title()"
   ]
  },
  {
   "cell_type": "code",
   "execution_count": 51,
   "metadata": {},
   "outputs": [
    {
     "data": {
      "text/plain": [
       "['Hello,', 'world']"
      ]
     },
     "execution_count": 51,
     "metadata": {},
     "output_type": "execute_result"
    }
   ],
   "source": [
    "text_c.split()"
   ]
  },
  {
   "cell_type": "code",
   "execution_count": 52,
   "metadata": {},
   "outputs": [
    {
     "data": {
      "text/plain": [
       "['  Hello', ' world  ']"
      ]
     },
     "execution_count": 52,
     "metadata": {},
     "output_type": "execute_result"
    }
   ],
   "source": [
    "text_c.split(',')"
   ]
  },
  {
   "cell_type": "code",
   "execution_count": 53,
   "metadata": {},
   "outputs": [
    {
     "data": {
      "text/plain": [
       "'  Hi, world  '"
      ]
     },
     "execution_count": 53,
     "metadata": {},
     "output_type": "execute_result"
    }
   ],
   "source": [
    "text_c.replace('Hello', 'Hi')"
   ]
  },
  {
   "cell_type": "code",
   "execution_count": 54,
   "metadata": {},
   "outputs": [
    {
     "name": "stdout",
     "output_type": "stream",
     "text": [
      "Hello, world\n",
      "Hello, world  \n"
     ]
    }
   ],
   "source": [
    "print(text_c.strip())\n",
    "print(text_c.lstrip())\n",
    "#print 사용하면 헷갈림"
   ]
  },
  {
   "cell_type": "code",
   "execution_count": 55,
   "metadata": {},
   "outputs": [],
   "source": [
    "# 문자열을 숫자형으로 변환\n",
    "# 금액을 숫자로 변경하여 계산\n",
    "price_1 = '$10.00'\n",
    "price_2 = '$20.00'"
   ]
  },
  {
   "cell_type": "code",
   "execution_count": 56,
   "metadata": {},
   "outputs": [
    {
     "data": {
      "text/plain": [
       "'$10.00$20.00'"
      ]
     },
     "execution_count": 56,
     "metadata": {},
     "output_type": "execute_result"
    }
   ],
   "source": [
    "price_1 + price_2"
   ]
  },
  {
   "cell_type": "code",
   "execution_count": 57,
   "metadata": {},
   "outputs": [],
   "source": [
    "# error : '$'를 숫자로 변경이 불가능하기 때문에\n",
    "# float(price_1)"
   ]
  },
  {
   "cell_type": "code",
   "execution_count": 58,
   "metadata": {},
   "outputs": [
    {
     "data": {
      "text/plain": [
       "'10.00'"
      ]
     },
     "execution_count": 58,
     "metadata": {},
     "output_type": "execute_result"
    }
   ],
   "source": [
    "price_1.strip('$')"
   ]
  },
  {
   "cell_type": "code",
   "execution_count": 59,
   "metadata": {},
   "outputs": [
    {
     "data": {
      "text/plain": [
       "30.0"
      ]
     },
     "execution_count": 59,
     "metadata": {},
     "output_type": "execute_result"
    }
   ],
   "source": [
    "price_1 = float(price_1.strip('$'))\n",
    "price_2 = float(price_2.strip('$'))\n",
    "# price_2\n",
    "price_1 + price_2"
   ]
  },
  {
   "cell_type": "code",
   "execution_count": 60,
   "metadata": {},
   "outputs": [
    {
     "data": {
      "text/plain": [
       "int"
      ]
     },
     "execution_count": 60,
     "metadata": {},
     "output_type": "execute_result"
    }
   ],
   "source": [
    "price_2 = int(price_2)\n",
    "type(price_2)"
   ]
  },
  {
   "cell_type": "code",
   "execution_count": 61,
   "metadata": {},
   "outputs": [],
   "source": [
    "price_3 = '1,000원'\n",
    "price_4 = '3,000원'"
   ]
  },
  {
   "cell_type": "code",
   "execution_count": 62,
   "metadata": {},
   "outputs": [],
   "source": [
    "#문자열 마지막의 '원'문자를 제거\n",
    "# int(price_3.rstrip('원'))\n",
    "# ','도 특수문자이므로 error"
   ]
  },
  {
   "cell_type": "code",
   "execution_count": 63,
   "metadata": {},
   "outputs": [
    {
     "data": {
      "text/plain": [
       "1000"
      ]
     },
     "execution_count": 63,
     "metadata": {},
     "output_type": "execute_result"
    }
   ],
   "source": [
    "# strip() 함수는 문자의 시작과 끝의 데이터를 제거하는 용도\n",
    "# 문자열 사이에 있는 문자를 변경 X\n",
    "# replace() : 특정문자를 치환 -> 문자를 변경, 문자를 제거\n",
    "\n",
    "int(price_3.replace(',', '').rstrip('원'))"
   ]
  },
  {
   "cell_type": "code",
   "execution_count": 64,
   "metadata": {},
   "outputs": [],
   "source": [
    "item_1 = '상품A'\n",
    "item_2 = '상품a'\n",
    "item_3 = '상 품 a'"
   ]
  },
  {
   "cell_type": "code",
   "execution_count": 65,
   "metadata": {},
   "outputs": [
    {
     "data": {
      "text/plain": [
       "False"
      ]
     },
     "execution_count": 65,
     "metadata": {},
     "output_type": "execute_result"
    }
   ],
   "source": [
    "(item_1 == item_2) and (item_2 == item_3)"
   ]
  },
  {
   "cell_type": "code",
   "execution_count": 66,
   "metadata": {},
   "outputs": [],
   "source": [
    "# item_1을 기준으로 item_2, item_3 데이터를 변경\n",
    "# item_2 = ~ 작성하기 전에, 원하는대로 upper() 잘 되는지 확인되는지 확인 하고 변수에 넣기\n",
    "item_2 = item_2.upper()"
   ]
  },
  {
   "cell_type": "code",
   "execution_count": 67,
   "metadata": {},
   "outputs": [],
   "source": [
    "item_3 = item_3.upper()"
   ]
  },
  {
   "cell_type": "code",
   "execution_count": 68,
   "metadata": {},
   "outputs": [],
   "source": [
    "item_3 = item_3.replace(' ', '')"
   ]
  },
  {
   "cell_type": "code",
   "execution_count": 69,
   "metadata": {},
   "outputs": [
    {
     "data": {
      "text/plain": [
       "True"
      ]
     },
     "execution_count": 69,
     "metadata": {},
     "output_type": "execute_result"
    }
   ],
   "source": [
    "(item_1 == item_2) and (item_2 == item_3)"
   ]
  },
  {
   "cell_type": "code",
   "execution_count": 70,
   "metadata": {},
   "outputs": [
    {
     "data": {
      "text/plain": [
       "['a', 'b', 'c', 'd']"
      ]
     },
     "execution_count": 70,
     "metadata": {},
     "output_type": "execute_result"
    }
   ],
   "source": [
    "# 문자열을 나눠주는 함수 -> split\n",
    "# 공백을 기준으로 문자를 나눠주는 함수\n",
    "# 인자로 특정 문자를 입력하면 특정 문자로 문자를 나눠준다\n",
    "text_1 = 'a b c d'\n",
    "text_1.split()"
   ]
  },
  {
   "cell_type": "code",
   "execution_count": 71,
   "metadata": {},
   "outputs": [
    {
     "data": {
      "text/plain": [
       "['a', 'b', 'c']"
      ]
     },
     "execution_count": 71,
     "metadata": {},
     "output_type": "execute_result"
    }
   ],
   "source": [
    "text_2 = 'ammbmmc'\n",
    "text_2.split('mm')"
   ]
  },
  {
   "cell_type": "code",
   "execution_count": 72,
   "metadata": {},
   "outputs": [],
   "source": [
    "# sql query문\n",
    "query_1 = \"select * from table\"\n",
    "query_2 = \"SELECT * FROM table\"\n",
    "query_3 = \"\"\"\n",
    "    INSERT INTO\n",
    "    table\n",
    "    VALUES\n",
    "    ('a')\n",
    "\"\"\"\n",
    "query_4 = '''\n",
    "    select\n",
    "    *\n",
    "    from\n",
    "    table\n",
    "'''"
   ]
  },
  {
   "cell_type": "code",
   "execution_count": 73,
   "metadata": {},
   "outputs": [
    {
     "data": {
      "text/plain": [
       "True"
      ]
     },
     "execution_count": 73,
     "metadata": {},
     "output_type": "execute_result"
    }
   ],
   "source": [
    "#query가 select문인가?\n",
    "find_word = 'select'\n",
    "query_1[ 0 : len(find_word) ] == find_word"
   ]
  },
  {
   "cell_type": "code",
   "execution_count": 74,
   "metadata": {},
   "outputs": [
    {
     "data": {
      "text/plain": [
       "True"
      ]
     },
     "execution_count": 74,
     "metadata": {},
     "output_type": "execute_result"
    }
   ],
   "source": [
    "query_2[:len(find_word)].lower() == find_word"
   ]
  },
  {
   "cell_type": "code",
   "execution_count": 75,
   "metadata": {},
   "outputs": [
    {
     "data": {
      "text/plain": [
       "True"
      ]
     },
     "execution_count": 75,
     "metadata": {},
     "output_type": "execute_result"
    }
   ],
   "source": [
    "query_1.lstrip()[ : len(find_word) ] == find_word"
   ]
  },
  {
   "cell_type": "code",
   "execution_count": 76,
   "metadata": {},
   "outputs": [
    {
     "data": {
      "text/plain": [
       "True"
      ]
     },
     "execution_count": 76,
     "metadata": {},
     "output_type": "execute_result"
    }
   ],
   "source": [
    "query_4.split()[0] == find_word"
   ]
  },
  {
   "cell_type": "code",
   "execution_count": 77,
   "metadata": {},
   "outputs": [
    {
     "data": {
      "text/plain": [
       "True"
      ]
     },
     "execution_count": 77,
     "metadata": {},
     "output_type": "execute_result"
    }
   ],
   "source": [
    "query_4.split()[0] == find_word"
   ]
  },
  {
   "cell_type": "code",
   "execution_count": 78,
   "metadata": {},
   "outputs": [
    {
     "data": {
      "text/plain": [
       "True"
      ]
     },
     "execution_count": 78,
     "metadata": {},
     "output_type": "execute_result"
    }
   ],
   "source": [
    "query_2.split()[0].lower() == find_word"
   ]
  },
  {
   "cell_type": "code",
   "execution_count": 81,
   "metadata": {},
   "outputs": [
    {
     "data": {
      "text/plain": [
       "True"
      ]
     },
     "execution_count": 81,
     "metadata": {},
     "output_type": "execute_result"
    }
   ],
   "source": [
    "query_2.lower().startswith(find_word)"
   ]
  },
  {
   "cell_type": "code",
   "execution_count": 83,
   "metadata": {},
   "outputs": [
    {
     "data": {
      "text/plain": [
       "True"
      ]
     },
     "execution_count": 83,
     "metadata": {},
     "output_type": "execute_result"
    }
   ],
   "source": [
    "query_4.lstrip().startswith(find_word)"
   ]
  },
  {
   "cell_type": "code",
   "execution_count": 84,
   "metadata": {},
   "outputs": [
    {
     "data": {
      "text/plain": [
       "False"
      ]
     },
     "execution_count": 84,
     "metadata": {},
     "output_type": "execute_result"
    }
   ],
   "source": [
    "query_3.lstrip().startswith(find_word)"
   ]
  },
  {
   "cell_type": "code",
   "execution_count": 85,
   "metadata": {},
   "outputs": [],
   "source": [
    "file_list = [\n",
    "    \"/csv/a.csv\",\n",
    "    \"/csv/b.txt\",\n",
    "    \"/csv/c.csv\",\n",
    "    \"/csv/d.json\"\n",
    "]"
   ]
  },
  {
   "cell_type": "code",
   "execution_count": 86,
   "metadata": {},
   "outputs": [
    {
     "data": {
      "text/plain": [
       "['/csv/a.csv', '/csv/c.csv']"
      ]
     },
     "execution_count": 86,
     "metadata": {},
     "output_type": "execute_result"
    }
   ],
   "source": [
    "# file_list에서 확장자가 csv인 목록만 출력하자\n",
    "# 방법1\n",
    "\n",
    "file_csv = []\n",
    "for i in range(len(file_list)):\n",
    "    # 이때 i에 들어오는 데이터의 의미: index\n",
    "    if file_list[i].endswith('csv') == True:\n",
    "        file_csv.append(file_list[i])\n",
    "file_csv\n"
   ]
  },
  {
   "cell_type": "code",
   "execution_count": 87,
   "metadata": {},
   "outputs": [
    {
     "data": {
      "text/plain": [
       "['/csv/a.csv', '/csv/c.csv']"
      ]
     },
     "execution_count": 87,
     "metadata": {},
     "output_type": "execute_result"
    }
   ],
   "source": [
    "#방법2\n",
    "# range를 쓸때는 보통 i를 쓰고, list에서 가져올 때는 다른 변수명 사용하면 명확함\n",
    "file_csv_2 = []\n",
    "for name in file_list:\n",
    "    # 이때 i에 들어오는 데이터: 문자열\n",
    "    if name.endswith('csv') == True:\n",
    "        file_csv_2.append(name)\n",
    "file_csv_2\n"
   ]
  },
  {
   "cell_type": "code",
   "execution_count": 88,
   "metadata": {},
   "outputs": [],
   "source": [
    "# 함수\n",
    "# 특정한 행동을 코드로 표현하고 이름 붙이는 작업\n",
    "# 특정 입력값을 통해서 연산을 하고 결과를 되돌려주는 작업\n",
    "# python에서 def 키워드를 이용해서 함수를 생성\n",
    "def func_1():\n",
    "    #결과 되돌려준다\n",
    "    return \"Hello\"\n",
    "\n",
    "def func_2():\n",
    "    print('Hello')"
   ]
  },
  {
   "cell_type": "code",
   "execution_count": 89,
   "metadata": {},
   "outputs": [],
   "source": [
    "res_1 = func_1()"
   ]
  },
  {
   "cell_type": "code",
   "execution_count": 90,
   "metadata": {},
   "outputs": [
    {
     "name": "stdout",
     "output_type": "stream",
     "text": [
      "Hello\n"
     ]
    }
   ],
   "source": [
    "res_2 = func_2()"
   ]
  },
  {
   "cell_type": "code",
   "execution_count": 91,
   "metadata": {},
   "outputs": [
    {
     "data": {
      "text/plain": [
       "'Hello'"
      ]
     },
     "execution_count": 91,
     "metadata": {},
     "output_type": "execute_result"
    }
   ],
   "source": [
    "res_1"
   ]
  },
  {
   "cell_type": "code",
   "execution_count": 92,
   "metadata": {},
   "outputs": [],
   "source": [
    "res_2"
   ]
  },
  {
   "cell_type": "code",
   "execution_count": 93,
   "metadata": {},
   "outputs": [],
   "source": [
    "# 매개변수가 존재하지 않는 함수에 입력값을 사용해서 호출 한다면?\n",
    "# 입력값을 저장할 수 있는 공간이 존재하지 않기 때문에 에러가 발생\n",
    "# func_1('a')"
   ]
  },
  {
   "cell_type": "code",
   "execution_count": 94,
   "metadata": {},
   "outputs": [],
   "source": [
    "# 매개변수가 존재하는 함수 생성\n",
    "def func_3(a, b):\n",
    "    c = a + b\n",
    "    return c"
   ]
  },
  {
   "cell_type": "code",
   "execution_count": 95,
   "metadata": {},
   "outputs": [
    {
     "data": {
      "text/plain": [
       "15"
      ]
     },
     "execution_count": 95,
     "metadata": {},
     "output_type": "execute_result"
    }
   ],
   "source": [
    "func_3(10, 5)\n",
    "# a = 10\n",
    "# b = 5\n",
    "# c = 10 + 5\n",
    "# c를 되돌려준다."
   ]
  },
  {
   "cell_type": "code",
   "execution_count": 96,
   "metadata": {},
   "outputs": [],
   "source": [
    "# 매개변수가 2개인 함수를 호출하면서 인자를 1개만 입력하는 경우?\n",
    "# 데이터가 입력되는 공간이 2개인데 데이터는 1개만 입력하면 나머지 하나의 공간에 데이터가 없으므로 에러\n",
    "# func_3(10)"
   ]
  },
  {
   "cell_type": "code",
   "execution_count": 97,
   "metadata": {},
   "outputs": [
    {
     "name": "stdout",
     "output_type": "stream",
     "text": [
      "a b c\n"
     ]
    }
   ],
   "source": [
    "# print() : 입력 데이터를 출력하는 기능\n",
    "print('a', 'b', 'c')\n"
   ]
  },
  {
   "cell_type": "code",
   "execution_count": 98,
   "metadata": {},
   "outputs": [
    {
     "name": "stdout",
     "output_type": "stream",
     "text": [
      "a\n",
      "b\n",
      "c\n"
     ]
    }
   ],
   "source": [
    "# sep 매개변수에 입력 데이터를 대입하려면 매개변수명 = data\n",
    "# 첫번째 매개변수가 가변의 인자를 받는 형태이기때문에\n",
    "print('a', 'b', 'c', sep = '\\n')\n",
    "\n",
    "\n",
    "# print 함수 위에 마우스 대면 나오는 정보들 - 매개변수 정보 확인\n",
    "# 매개 변수 바꿀 수 있음\n",
    "# 이미 '='로 되어있는건 따로 설정 안 했을 때 기본값\n",
    "# '=' 없는 매개변수는 필수로 넣어주어야하는 부분\n",
    "# sep은 문자 사이에 뭘 넣을건지."
   ]
  },
  {
   "cell_type": "code",
   "execution_count": 99,
   "metadata": {},
   "outputs": [],
   "source": [
    "def func_4(a, b = 5):\n",
    "    # 매개변수는 2개 a, b\n",
    "    # a는 함수를 호출할 때 필수 입력 공간\n",
    "    # b는 선택 입력 공간\n",
    "    c = a ** b\n",
    "    return c"
   ]
  },
  {
   "cell_type": "code",
   "execution_count": 100,
   "metadata": {},
   "outputs": [
    {
     "data": {
      "text/plain": [
       "32"
      ]
     },
     "execution_count": 100,
     "metadata": {},
     "output_type": "execute_result"
    }
   ],
   "source": [
    "func_4(2)\n",
    "# a = 2\n",
    "# b = 5\n",
    "# c = 2 ** 5\n",
    "# 32를 되돌려준다"
   ]
  },
  {
   "cell_type": "code",
   "execution_count": 101,
   "metadata": {},
   "outputs": [
    {
     "data": {
      "text/plain": [
       "16"
      ]
     },
     "execution_count": 101,
     "metadata": {},
     "output_type": "execute_result"
    }
   ],
   "source": [
    "func_4(2,4)\n",
    "# a = 2\n",
    "# b = 5\n",
    "# b = 4\n",
    "# c = 2 ** 4\n",
    "# 16을 되돌려준다."
   ]
  },
  {
   "cell_type": "markdown",
   "metadata": {},
   "source": [
    "### 변수의 종류\n",
    "- 컴퓨터의 메모리에 데이터가 저장되는 공간에 이름을 붙이는 작업\n",
    "\n",
    "    - 전역 변수\n",
    "        - 전역의 의미 -> 모든 영역\n",
    "        - 해당하는 파일 안에서 어디서든 사용이 가능한 변수\n",
    "        - globals() 함수를 호출하면 전역 변수의 목록이 확인 가능\n",
    "        \n",
    "\n",
    "    - 지역 변수\n",
    "        - 지역의 의미 -> 특정 영역\n",
    "        - 함수나 클래스 안에서만 사용이 가능한 변수\n",
    "        - 함수에서 값을 되돌려주는 행동(return) 뒤에는 함수에서 사용된 변수들은 외부에서는 사용이 불가능"
   ]
  },
  {
   "cell_type": "code",
   "execution_count": 102,
   "metadata": {},
   "outputs": [
    {
     "data": {
      "text/plain": [
       "{'__name__': '__main__',\n",
       " '__doc__': 'Automatically created module for IPython interactive environment',\n",
       " '__package__': None,\n",
       " '__loader__': None,\n",
       " '__spec__': None,\n",
       " '__builtin__': <module 'builtins' (built-in)>,\n",
       " '__builtins__': <module 'builtins' (built-in)>,\n",
       " '_ih': ['',\n",
       "  '# func_7() 함수를 호출하는데 입력 데이터가 리스트인 경우\\n# 인자에 *를 쓰는 경우\\nfunc_7(*[2, 3, 4])',\n",
       "  \"text_a = 'Apple'\\ntext_b = 'apple'\",\n",
       "  'text_a == text_b',\n",
       "  \"# text_a와 text_b를 비교했을 때 같다 라는 결과를 만들려면\\n# 두개의 데이터의 형태를 같게 만든다.\\n\\n# text_a.upper()\\n#'문자열' '안에있는' upper 함수\\n# 앞에있는 문자열을 바꿔줌\\n# 함수만 썼을 때 출력이 됐으므로 text_a는 안바뀜\\n\\ntext_a = text_a.upper()\\n# 제대로 실행은 됐는데 뭐가 안나옴 -> 메모리 상의 데이터가 변함\",\n",
       "  'text_b = text_b.upper()',\n",
       "  'text_a == text_b',\n",
       "  \"text_c = '  Hello, world  '\\ntext_c.lower()\",\n",
       "  \"# 좌우에 공백있는 str\\ntext_c == 'Hello, world'\",\n",
       "  'text_c.lstrip()',\n",
       "  'text_c.swapcase()',\n",
       "  'text_c.title()',\n",
       "  'text_c.split()',\n",
       "  \"text_c.split(',')\",\n",
       "  \"text_c.replace('Hello', 'Hi')\",\n",
       "  'print(text_c.strip())\\nprint(text_c.lstrip())\\n#print 사용하면 헷갈림',\n",
       "  \"# 문자열을 숫자형으로 변환\\n# 금액을 숫자로 변경하여 계산\\nprice_1 = '$10.00'\\nprice_2 = '$20.00'\",\n",
       "  'price_1 + price_2',\n",
       "  \"# error : '$'를 숫자로 변경이 불가능하기 때문에\\n# float(price_1)\",\n",
       "  \"price_1.strip('$')\",\n",
       "  \"price_1 = float(price_1.strip('$'))\\nprice_2 = float(price_2.strip('$'))\\n# price_2\\nprice_1 + price_2\",\n",
       "  'price_2 = int(price_2)\\ntype(price_2)',\n",
       "  \"price_3 = '1,000원'\\nprice_4 = '3,000원'\",\n",
       "  \"#문자열 마지막의 '원'문자를 제거\\n# int(price_3.rstrip('원'))\\n# ','도 특수문자이므로 error\",\n",
       "  \"# strip() 함수는 문자의 시작과 끝의 데이터를 제거하는 용도\\n# 문자열 사이에 있는 문자를 변경 X\\n# replace() : 특정문자를 치환 -> 문자를 변경, 문자를 제거\\n\\nint(price_3.replace(',', '').rstrip('원'))\",\n",
       "  \"item_1 = '상품A'\\nitem_2 = '상품a'\\nitem_3 = '상 품 a'\",\n",
       "  '(item_1 == item_2) and (item_2 == item_3)',\n",
       "  '# item_1을 기준으로 item_2, item_3 데이터를 변경\\n# item_2 = ~ 작성하기 전에, 원하는대로 upper() 잘 되는지 확인되는지 확인 하고 변수에 넣기\\nitem_2 = item_2.upper()',\n",
       "  'item_3 = item_3.upper()',\n",
       "  \"item_3 = item_3.replace(' ', '')\",\n",
       "  '(item_1 == item_2) and (item_2 == item_3)',\n",
       "  \"# 문자열을 나눠주는 함수 -> split\\n# 공백을 기준으로 문자를 나눠주는 함수\\n# 인자로 특정 문자를 입력하면 특정 문자로 문자를 나눠준다\\ntext_1 = 'a b c d'\\ntext_1.split()\",\n",
       "  \"text_2 = 'ammbmmc'\\ntext_2.split('mm')\",\n",
       "  '# sql query문\\nquery_1 = \"select * from table\"\\nquery_2 = \"SELECT * FROM table\"\\nquery_3 = \"\"\"\\n    INSERT INTO\\n    table\\n    VALUES\\n    (\\'a\\')\\n\"\"\"\\nquery_4 = \\'\\'\\'\\n    select\\n    *\\n    from\\n    table\\n\\'\\'\\'',\n",
       "  \"#query가 select문인가?\\nfind_word = 'select'\\nquery_1[ 0 : len(find_word) ] == find_word\",\n",
       "  'query_2[:len(find_word)].lower() == find_word',\n",
       "  'query_1.lstrip()[ : len(find_word) ] == find_word',\n",
       "  'query_4.split()[0] == find_word',\n",
       "  'query_4.split()[0] == find_word',\n",
       "  'query_2.split()[0].lower() == find_word',\n",
       "  'query_1.(find_word)',\n",
       "  \"text_a = 'Apple'\\ntext_b = 'apple'\",\n",
       "  'text_a == text_b',\n",
       "  \"# text_a와 text_b를 비교했을 때 같다 라는 결과를 만들려면\\n# 두개의 데이터의 형태를 같게 만든다.\\n\\n# text_a.upper()\\n#'문자열' '안에있는' upper 함수\\n# 앞에있는 문자열을 바꿔줌\\n# 함수만 썼을 때 출력이 됐으므로 text_a는 안바뀜\\n\\ntext_a = text_a.upper()\\n# 제대로 실행은 됐는데 뭐가 안나옴 -> 메모리 상의 데이터가 변함\",\n",
       "  'text_b = text_b.upper()',\n",
       "  'text_a == text_b',\n",
       "  \"text_c = '  Hello, world  '\\ntext_c.lower()\",\n",
       "  \"# 좌우에 공백있는 str\\ntext_c == 'Hello, world'\",\n",
       "  'text_c.lstrip()',\n",
       "  'text_c.swapcase()',\n",
       "  'text_c.title()',\n",
       "  'text_c.split()',\n",
       "  \"text_c.split(',')\",\n",
       "  \"text_c.replace('Hello', 'Hi')\",\n",
       "  'print(text_c.strip())\\nprint(text_c.lstrip())\\n#print 사용하면 헷갈림',\n",
       "  \"# 문자열을 숫자형으로 변환\\n# 금액을 숫자로 변경하여 계산\\nprice_1 = '$10.00'\\nprice_2 = '$20.00'\",\n",
       "  'price_1 + price_2',\n",
       "  \"# error : '$'를 숫자로 변경이 불가능하기 때문에\\n# float(price_1)\",\n",
       "  \"price_1.strip('$')\",\n",
       "  \"price_1 = float(price_1.strip('$'))\\nprice_2 = float(price_2.strip('$'))\\n# price_2\\nprice_1 + price_2\",\n",
       "  'price_2 = int(price_2)\\ntype(price_2)',\n",
       "  \"price_3 = '1,000원'\\nprice_4 = '3,000원'\",\n",
       "  \"#문자열 마지막의 '원'문자를 제거\\n# int(price_3.rstrip('원'))\\n# ','도 특수문자이므로 error\",\n",
       "  \"# strip() 함수는 문자의 시작과 끝의 데이터를 제거하는 용도\\n# 문자열 사이에 있는 문자를 변경 X\\n# replace() : 특정문자를 치환 -> 문자를 변경, 문자를 제거\\n\\nint(price_3.replace(',', '').rstrip('원'))\",\n",
       "  \"item_1 = '상품A'\\nitem_2 = '상품a'\\nitem_3 = '상 품 a'\",\n",
       "  '(item_1 == item_2) and (item_2 == item_3)',\n",
       "  '# item_1을 기준으로 item_2, item_3 데이터를 변경\\n# item_2 = ~ 작성하기 전에, 원하는대로 upper() 잘 되는지 확인되는지 확인 하고 변수에 넣기\\nitem_2 = item_2.upper()',\n",
       "  'item_3 = item_3.upper()',\n",
       "  \"item_3 = item_3.replace(' ', '')\",\n",
       "  '(item_1 == item_2) and (item_2 == item_3)',\n",
       "  \"# 문자열을 나눠주는 함수 -> split\\n# 공백을 기준으로 문자를 나눠주는 함수\\n# 인자로 특정 문자를 입력하면 특정 문자로 문자를 나눠준다\\ntext_1 = 'a b c d'\\ntext_1.split()\",\n",
       "  \"text_2 = 'ammbmmc'\\ntext_2.split('mm')\",\n",
       "  '# sql query문\\nquery_1 = \"select * from table\"\\nquery_2 = \"SELECT * FROM table\"\\nquery_3 = \"\"\"\\n    INSERT INTO\\n    table\\n    VALUES\\n    (\\'a\\')\\n\"\"\"\\nquery_4 = \\'\\'\\'\\n    select\\n    *\\n    from\\n    table\\n\\'\\'\\'',\n",
       "  \"#query가 select문인가?\\nfind_word = 'select'\\nquery_1[ 0 : len(find_word) ] == find_word\",\n",
       "  'query_2[:len(find_word)].lower() == find_word',\n",
       "  'query_1.lstrip()[ : len(find_word) ] == find_word',\n",
       "  'query_4.split()[0] == find_word',\n",
       "  'query_4.split()[0] == find_word',\n",
       "  'query_2.split()[0].lower() == find_word',\n",
       "  'query_1.(find_word)',\n",
       "  'query_1(find_word)',\n",
       "  'query_2.lower().startswith(find_word)',\n",
       "  'query_4.lstrip().startswith(find_word)',\n",
       "  'query_4.lstrip().startswith(find_word)',\n",
       "  'query_3.lstrip().startswith(find_word)',\n",
       "  'file_list = [\\n    \"/csv/a.csv\",\\n    \"/csv/b.txt\",\\n    \"/csv/c.csv\",\\n    \"/csv/d.json\"\\n]',\n",
       "  \"# file_list에서 확장자가 csv인 목록만 출력하자\\n# 방법1\\n\\nfile_csv = []\\nfor i in range(len(file_list)):\\n    # 이때 i에 들어오는 데이터의 의미: index\\n    if file_list[i].endswith('csv') == True:\\n        file_csv.append(file_list[i])\\nfile_csv\",\n",
       "  \"#방법2\\n# range를 쓸때는 보통 i를 쓰고, list에서 가져올 때는 다른 변수명 사용하면 명확함\\nfile_csv_2 = []\\nfor name in file_list:\\n    # 이때 i에 들어오는 데이터: 문자열\\n    if name.endswith('csv') == True:\\n        file_csv_2.append(name)\\nfile_csv_2\",\n",
       "  '# 함수\\n# 특정한 행동을 코드로 표현하고 이름 붙이는 작업\\n# 특정 입력값을 통해서 연산을 하고 결과를 되돌려주는 작업\\n# python에서 def 키워드를 이용해서 함수를 생성\\ndef func_1():\\n    #결과 되돌려준다\\n    return \"Hello\"\\n\\ndef func_2():\\n    print(\\'Hello\\')',\n",
       "  'res_1 = func_1()',\n",
       "  'res_2 = func_2()',\n",
       "  'res_1',\n",
       "  'res_2',\n",
       "  \"# 매개변수가 존재하지 않는 함수에 입력값을 사용해서 호출 한다면?\\n# 입력값을 저장할 수 있는 공간이 존재하지 않기 때문에 에러가 발생\\n# func_1('a')\",\n",
       "  '# 매개변수가 존재하는 함수 생성\\ndef func_3(a, b):\\n    c = a + b\\n    return c',\n",
       "  'func_3(10, 5)\\n# a = 10\\n# b = 5\\n# c = 10 + 5\\n# c를 되돌려준다.',\n",
       "  '# 매개변수가 2개인 함수를 호출하면서 인자를 1개만 입력하는 경우?\\n# 데이터가 입력되는 공간이 2개인데 데이터는 1개만 입력하면 나머지 하나의 공간에 데이터가 없으므로 에러\\n# func_3(10)',\n",
       "  \"# print() : 입력 데이터를 출력하는 기능\\nprint('a', 'b', 'c')\",\n",
       "  \"# sep 매개변수에 입력 데이터를 대입하려면 매개변수명 = data\\n# 첫번째 매개변수가 가변의 인자를 받는 형태이기때문에\\nprint('a', 'b', 'c', sep = '\\\\n')\\n\\n\\n# print 함수 위에 마우스 대면 나오는 정보들 - 매개변수 정보 확인\\n# 매개 변수 바꿀 수 있음\\n# 이미 '='로 되어있는건 따로 설정 안 했을 때 기본값\\n# '=' 없는 매개변수는 필수로 넣어주어야하는 부분\\n# sep은 문자 사이에 뭘 넣을건지.\",\n",
       "  'def func_4(a, b = 5):\\n    # 매개변수는 2개 a, b\\n    # a는 함수를 호출할 때 필수 입력 공간\\n    # b는 선택 입력 공간\\n    c = a ** b\\n    return c',\n",
       "  'func_4(2)\\n# a = 2\\n# b = 5\\n# c = 2 ** 5\\n# 32를 되돌려준다',\n",
       "  'func_4(2,4)\\n# a = 2\\n# b = 5\\n# b = 4\\n# c = 2 ** 4\\n# 16을 되돌려준다.',\n",
       "  '# 모든 영역에서 사용할 수 있는 변수의 목록 확인\\nglobals()'],\n",
       " '_oh': {3: False,\n",
       "  6: True,\n",
       "  7: '  hello, world  ',\n",
       "  8: False,\n",
       "  9: 'Hello, world  ',\n",
       "  10: '  hELLO, WORLD  ',\n",
       "  11: '  Hello, World  ',\n",
       "  12: ['Hello,', 'world'],\n",
       "  13: ['  Hello', ' world  '],\n",
       "  14: '  Hi, world  ',\n",
       "  17: '$10.00$20.00',\n",
       "  19: '10.00',\n",
       "  20: 30.0,\n",
       "  21: int,\n",
       "  24: 1000,\n",
       "  26: False,\n",
       "  30: True,\n",
       "  31: ['a', 'b', 'c', 'd'],\n",
       "  32: ['a', 'b', 'c'],\n",
       "  34: True,\n",
       "  35: True,\n",
       "  36: True,\n",
       "  37: True,\n",
       "  38: True,\n",
       "  39: True,\n",
       "  42: False,\n",
       "  45: True,\n",
       "  46: '  hello, world  ',\n",
       "  47: False,\n",
       "  48: 'Hello, world  ',\n",
       "  49: '  hELLO, WORLD  ',\n",
       "  50: '  Hello, World  ',\n",
       "  51: ['Hello,', 'world'],\n",
       "  52: ['  Hello', ' world  '],\n",
       "  53: '  Hi, world  ',\n",
       "  56: '$10.00$20.00',\n",
       "  58: '10.00',\n",
       "  59: 30.0,\n",
       "  60: int,\n",
       "  63: 1000,\n",
       "  65: False,\n",
       "  69: True,\n",
       "  70: ['a', 'b', 'c', 'd'],\n",
       "  71: ['a', 'b', 'c'],\n",
       "  73: True,\n",
       "  74: True,\n",
       "  75: True,\n",
       "  76: True,\n",
       "  77: True,\n",
       "  78: True,\n",
       "  81: True,\n",
       "  82: True,\n",
       "  83: True,\n",
       "  84: False,\n",
       "  86: ['/csv/a.csv', '/csv/c.csv'],\n",
       "  87: ['/csv/a.csv', '/csv/c.csv'],\n",
       "  91: 'Hello',\n",
       "  95: 15,\n",
       "  100: 32,\n",
       "  101: 16},\n",
       " '_dh': [PosixPath('/Users/eunseo/Documents/data_boot/lecture/code/week1'),\n",
       "  PosixPath('/Users/eunseo/Documents/data_boot/lecture/code/week1')],\n",
       " 'In': ['',\n",
       "  '# func_7() 함수를 호출하는데 입력 데이터가 리스트인 경우\\n# 인자에 *를 쓰는 경우\\nfunc_7(*[2, 3, 4])',\n",
       "  \"text_a = 'Apple'\\ntext_b = 'apple'\",\n",
       "  'text_a == text_b',\n",
       "  \"# text_a와 text_b를 비교했을 때 같다 라는 결과를 만들려면\\n# 두개의 데이터의 형태를 같게 만든다.\\n\\n# text_a.upper()\\n#'문자열' '안에있는' upper 함수\\n# 앞에있는 문자열을 바꿔줌\\n# 함수만 썼을 때 출력이 됐으므로 text_a는 안바뀜\\n\\ntext_a = text_a.upper()\\n# 제대로 실행은 됐는데 뭐가 안나옴 -> 메모리 상의 데이터가 변함\",\n",
       "  'text_b = text_b.upper()',\n",
       "  'text_a == text_b',\n",
       "  \"text_c = '  Hello, world  '\\ntext_c.lower()\",\n",
       "  \"# 좌우에 공백있는 str\\ntext_c == 'Hello, world'\",\n",
       "  'text_c.lstrip()',\n",
       "  'text_c.swapcase()',\n",
       "  'text_c.title()',\n",
       "  'text_c.split()',\n",
       "  \"text_c.split(',')\",\n",
       "  \"text_c.replace('Hello', 'Hi')\",\n",
       "  'print(text_c.strip())\\nprint(text_c.lstrip())\\n#print 사용하면 헷갈림',\n",
       "  \"# 문자열을 숫자형으로 변환\\n# 금액을 숫자로 변경하여 계산\\nprice_1 = '$10.00'\\nprice_2 = '$20.00'\",\n",
       "  'price_1 + price_2',\n",
       "  \"# error : '$'를 숫자로 변경이 불가능하기 때문에\\n# float(price_1)\",\n",
       "  \"price_1.strip('$')\",\n",
       "  \"price_1 = float(price_1.strip('$'))\\nprice_2 = float(price_2.strip('$'))\\n# price_2\\nprice_1 + price_2\",\n",
       "  'price_2 = int(price_2)\\ntype(price_2)',\n",
       "  \"price_3 = '1,000원'\\nprice_4 = '3,000원'\",\n",
       "  \"#문자열 마지막의 '원'문자를 제거\\n# int(price_3.rstrip('원'))\\n# ','도 특수문자이므로 error\",\n",
       "  \"# strip() 함수는 문자의 시작과 끝의 데이터를 제거하는 용도\\n# 문자열 사이에 있는 문자를 변경 X\\n# replace() : 특정문자를 치환 -> 문자를 변경, 문자를 제거\\n\\nint(price_3.replace(',', '').rstrip('원'))\",\n",
       "  \"item_1 = '상품A'\\nitem_2 = '상품a'\\nitem_3 = '상 품 a'\",\n",
       "  '(item_1 == item_2) and (item_2 == item_3)',\n",
       "  '# item_1을 기준으로 item_2, item_3 데이터를 변경\\n# item_2 = ~ 작성하기 전에, 원하는대로 upper() 잘 되는지 확인되는지 확인 하고 변수에 넣기\\nitem_2 = item_2.upper()',\n",
       "  'item_3 = item_3.upper()',\n",
       "  \"item_3 = item_3.replace(' ', '')\",\n",
       "  '(item_1 == item_2) and (item_2 == item_3)',\n",
       "  \"# 문자열을 나눠주는 함수 -> split\\n# 공백을 기준으로 문자를 나눠주는 함수\\n# 인자로 특정 문자를 입력하면 특정 문자로 문자를 나눠준다\\ntext_1 = 'a b c d'\\ntext_1.split()\",\n",
       "  \"text_2 = 'ammbmmc'\\ntext_2.split('mm')\",\n",
       "  '# sql query문\\nquery_1 = \"select * from table\"\\nquery_2 = \"SELECT * FROM table\"\\nquery_3 = \"\"\"\\n    INSERT INTO\\n    table\\n    VALUES\\n    (\\'a\\')\\n\"\"\"\\nquery_4 = \\'\\'\\'\\n    select\\n    *\\n    from\\n    table\\n\\'\\'\\'',\n",
       "  \"#query가 select문인가?\\nfind_word = 'select'\\nquery_1[ 0 : len(find_word) ] == find_word\",\n",
       "  'query_2[:len(find_word)].lower() == find_word',\n",
       "  'query_1.lstrip()[ : len(find_word) ] == find_word',\n",
       "  'query_4.split()[0] == find_word',\n",
       "  'query_4.split()[0] == find_word',\n",
       "  'query_2.split()[0].lower() == find_word',\n",
       "  'query_1.(find_word)',\n",
       "  \"text_a = 'Apple'\\ntext_b = 'apple'\",\n",
       "  'text_a == text_b',\n",
       "  \"# text_a와 text_b를 비교했을 때 같다 라는 결과를 만들려면\\n# 두개의 데이터의 형태를 같게 만든다.\\n\\n# text_a.upper()\\n#'문자열' '안에있는' upper 함수\\n# 앞에있는 문자열을 바꿔줌\\n# 함수만 썼을 때 출력이 됐으므로 text_a는 안바뀜\\n\\ntext_a = text_a.upper()\\n# 제대로 실행은 됐는데 뭐가 안나옴 -> 메모리 상의 데이터가 변함\",\n",
       "  'text_b = text_b.upper()',\n",
       "  'text_a == text_b',\n",
       "  \"text_c = '  Hello, world  '\\ntext_c.lower()\",\n",
       "  \"# 좌우에 공백있는 str\\ntext_c == 'Hello, world'\",\n",
       "  'text_c.lstrip()',\n",
       "  'text_c.swapcase()',\n",
       "  'text_c.title()',\n",
       "  'text_c.split()',\n",
       "  \"text_c.split(',')\",\n",
       "  \"text_c.replace('Hello', 'Hi')\",\n",
       "  'print(text_c.strip())\\nprint(text_c.lstrip())\\n#print 사용하면 헷갈림',\n",
       "  \"# 문자열을 숫자형으로 변환\\n# 금액을 숫자로 변경하여 계산\\nprice_1 = '$10.00'\\nprice_2 = '$20.00'\",\n",
       "  'price_1 + price_2',\n",
       "  \"# error : '$'를 숫자로 변경이 불가능하기 때문에\\n# float(price_1)\",\n",
       "  \"price_1.strip('$')\",\n",
       "  \"price_1 = float(price_1.strip('$'))\\nprice_2 = float(price_2.strip('$'))\\n# price_2\\nprice_1 + price_2\",\n",
       "  'price_2 = int(price_2)\\ntype(price_2)',\n",
       "  \"price_3 = '1,000원'\\nprice_4 = '3,000원'\",\n",
       "  \"#문자열 마지막의 '원'문자를 제거\\n# int(price_3.rstrip('원'))\\n# ','도 특수문자이므로 error\",\n",
       "  \"# strip() 함수는 문자의 시작과 끝의 데이터를 제거하는 용도\\n# 문자열 사이에 있는 문자를 변경 X\\n# replace() : 특정문자를 치환 -> 문자를 변경, 문자를 제거\\n\\nint(price_3.replace(',', '').rstrip('원'))\",\n",
       "  \"item_1 = '상품A'\\nitem_2 = '상품a'\\nitem_3 = '상 품 a'\",\n",
       "  '(item_1 == item_2) and (item_2 == item_3)',\n",
       "  '# item_1을 기준으로 item_2, item_3 데이터를 변경\\n# item_2 = ~ 작성하기 전에, 원하는대로 upper() 잘 되는지 확인되는지 확인 하고 변수에 넣기\\nitem_2 = item_2.upper()',\n",
       "  'item_3 = item_3.upper()',\n",
       "  \"item_3 = item_3.replace(' ', '')\",\n",
       "  '(item_1 == item_2) and (item_2 == item_3)',\n",
       "  \"# 문자열을 나눠주는 함수 -> split\\n# 공백을 기준으로 문자를 나눠주는 함수\\n# 인자로 특정 문자를 입력하면 특정 문자로 문자를 나눠준다\\ntext_1 = 'a b c d'\\ntext_1.split()\",\n",
       "  \"text_2 = 'ammbmmc'\\ntext_2.split('mm')\",\n",
       "  '# sql query문\\nquery_1 = \"select * from table\"\\nquery_2 = \"SELECT * FROM table\"\\nquery_3 = \"\"\"\\n    INSERT INTO\\n    table\\n    VALUES\\n    (\\'a\\')\\n\"\"\"\\nquery_4 = \\'\\'\\'\\n    select\\n    *\\n    from\\n    table\\n\\'\\'\\'',\n",
       "  \"#query가 select문인가?\\nfind_word = 'select'\\nquery_1[ 0 : len(find_word) ] == find_word\",\n",
       "  'query_2[:len(find_word)].lower() == find_word',\n",
       "  'query_1.lstrip()[ : len(find_word) ] == find_word',\n",
       "  'query_4.split()[0] == find_word',\n",
       "  'query_4.split()[0] == find_word',\n",
       "  'query_2.split()[0].lower() == find_word',\n",
       "  'query_1.(find_word)',\n",
       "  'query_1(find_word)',\n",
       "  'query_2.lower().startswith(find_word)',\n",
       "  'query_4.lstrip().startswith(find_word)',\n",
       "  'query_4.lstrip().startswith(find_word)',\n",
       "  'query_3.lstrip().startswith(find_word)',\n",
       "  'file_list = [\\n    \"/csv/a.csv\",\\n    \"/csv/b.txt\",\\n    \"/csv/c.csv\",\\n    \"/csv/d.json\"\\n]',\n",
       "  \"# file_list에서 확장자가 csv인 목록만 출력하자\\n# 방법1\\n\\nfile_csv = []\\nfor i in range(len(file_list)):\\n    # 이때 i에 들어오는 데이터의 의미: index\\n    if file_list[i].endswith('csv') == True:\\n        file_csv.append(file_list[i])\\nfile_csv\",\n",
       "  \"#방법2\\n# range를 쓸때는 보통 i를 쓰고, list에서 가져올 때는 다른 변수명 사용하면 명확함\\nfile_csv_2 = []\\nfor name in file_list:\\n    # 이때 i에 들어오는 데이터: 문자열\\n    if name.endswith('csv') == True:\\n        file_csv_2.append(name)\\nfile_csv_2\",\n",
       "  '# 함수\\n# 특정한 행동을 코드로 표현하고 이름 붙이는 작업\\n# 특정 입력값을 통해서 연산을 하고 결과를 되돌려주는 작업\\n# python에서 def 키워드를 이용해서 함수를 생성\\ndef func_1():\\n    #결과 되돌려준다\\n    return \"Hello\"\\n\\ndef func_2():\\n    print(\\'Hello\\')',\n",
       "  'res_1 = func_1()',\n",
       "  'res_2 = func_2()',\n",
       "  'res_1',\n",
       "  'res_2',\n",
       "  \"# 매개변수가 존재하지 않는 함수에 입력값을 사용해서 호출 한다면?\\n# 입력값을 저장할 수 있는 공간이 존재하지 않기 때문에 에러가 발생\\n# func_1('a')\",\n",
       "  '# 매개변수가 존재하는 함수 생성\\ndef func_3(a, b):\\n    c = a + b\\n    return c',\n",
       "  'func_3(10, 5)\\n# a = 10\\n# b = 5\\n# c = 10 + 5\\n# c를 되돌려준다.',\n",
       "  '# 매개변수가 2개인 함수를 호출하면서 인자를 1개만 입력하는 경우?\\n# 데이터가 입력되는 공간이 2개인데 데이터는 1개만 입력하면 나머지 하나의 공간에 데이터가 없으므로 에러\\n# func_3(10)',\n",
       "  \"# print() : 입력 데이터를 출력하는 기능\\nprint('a', 'b', 'c')\",\n",
       "  \"# sep 매개변수에 입력 데이터를 대입하려면 매개변수명 = data\\n# 첫번째 매개변수가 가변의 인자를 받는 형태이기때문에\\nprint('a', 'b', 'c', sep = '\\\\n')\\n\\n\\n# print 함수 위에 마우스 대면 나오는 정보들 - 매개변수 정보 확인\\n# 매개 변수 바꿀 수 있음\\n# 이미 '='로 되어있는건 따로 설정 안 했을 때 기본값\\n# '=' 없는 매개변수는 필수로 넣어주어야하는 부분\\n# sep은 문자 사이에 뭘 넣을건지.\",\n",
       "  'def func_4(a, b = 5):\\n    # 매개변수는 2개 a, b\\n    # a는 함수를 호출할 때 필수 입력 공간\\n    # b는 선택 입력 공간\\n    c = a ** b\\n    return c',\n",
       "  'func_4(2)\\n# a = 2\\n# b = 5\\n# c = 2 ** 5\\n# 32를 되돌려준다',\n",
       "  'func_4(2,4)\\n# a = 2\\n# b = 5\\n# b = 4\\n# c = 2 ** 4\\n# 16을 되돌려준다.',\n",
       "  '# 모든 영역에서 사용할 수 있는 변수의 목록 확인\\nglobals()'],\n",
       " 'Out': {3: False,\n",
       "  6: True,\n",
       "  7: '  hello, world  ',\n",
       "  8: False,\n",
       "  9: 'Hello, world  ',\n",
       "  10: '  hELLO, WORLD  ',\n",
       "  11: '  Hello, World  ',\n",
       "  12: ['Hello,', 'world'],\n",
       "  13: ['  Hello', ' world  '],\n",
       "  14: '  Hi, world  ',\n",
       "  17: '$10.00$20.00',\n",
       "  19: '10.00',\n",
       "  20: 30.0,\n",
       "  21: int,\n",
       "  24: 1000,\n",
       "  26: False,\n",
       "  30: True,\n",
       "  31: ['a', 'b', 'c', 'd'],\n",
       "  32: ['a', 'b', 'c'],\n",
       "  34: True,\n",
       "  35: True,\n",
       "  36: True,\n",
       "  37: True,\n",
       "  38: True,\n",
       "  39: True,\n",
       "  42: False,\n",
       "  45: True,\n",
       "  46: '  hello, world  ',\n",
       "  47: False,\n",
       "  48: 'Hello, world  ',\n",
       "  49: '  hELLO, WORLD  ',\n",
       "  50: '  Hello, World  ',\n",
       "  51: ['Hello,', 'world'],\n",
       "  52: ['  Hello', ' world  '],\n",
       "  53: '  Hi, world  ',\n",
       "  56: '$10.00$20.00',\n",
       "  58: '10.00',\n",
       "  59: 30.0,\n",
       "  60: int,\n",
       "  63: 1000,\n",
       "  65: False,\n",
       "  69: True,\n",
       "  70: ['a', 'b', 'c', 'd'],\n",
       "  71: ['a', 'b', 'c'],\n",
       "  73: True,\n",
       "  74: True,\n",
       "  75: True,\n",
       "  76: True,\n",
       "  77: True,\n",
       "  78: True,\n",
       "  81: True,\n",
       "  82: True,\n",
       "  83: True,\n",
       "  84: False,\n",
       "  86: ['/csv/a.csv', '/csv/c.csv'],\n",
       "  87: ['/csv/a.csv', '/csv/c.csv'],\n",
       "  91: 'Hello',\n",
       "  95: 15,\n",
       "  100: 32,\n",
       "  101: 16},\n",
       " 'get_ipython': <bound method InteractiveShell.get_ipython of <ipykernel.zmqshell.ZMQInteractiveShell object at 0x10b931be0>>,\n",
       " 'exit': <IPython.core.autocall.ZMQExitAutocall at 0x10b9dd6a0>,\n",
       " 'quit': <IPython.core.autocall.ZMQExitAutocall at 0x10b9dd6a0>,\n",
       " 'open': <function _io.open(file, mode='r', buffering=-1, encoding=None, errors=None, newline=None, closefd=True, opener=None)>,\n",
       " '_': 16,\n",
       " '__': 32,\n",
       " '___': 15,\n",
       " '__vsc_ipynb_file__': '/Users/eunseo/Documents/data_boot/lecture/code/week1/03_base_250828.ipynb',\n",
       " '_i': 'func_4(2,4)\\n# a = 2\\n# b = 5\\n# b = 4\\n# c = 2 ** 4\\n# 16을 되돌려준다.',\n",
       " '_ii': 'func_4(2)\\n# a = 2\\n# b = 5\\n# c = 2 ** 5\\n# 32를 되돌려준다',\n",
       " '_iii': 'def func_4(a, b = 5):\\n    # 매개변수는 2개 a, b\\n    # a는 함수를 호출할 때 필수 입력 공간\\n    # b는 선택 입력 공간\\n    c = a ** b\\n    return c',\n",
       " '_i1': '# func_7() 함수를 호출하는데 입력 데이터가 리스트인 경우\\n# 인자에 *를 쓰는 경우\\nfunc_7(*[2, 3, 4])',\n",
       " '_i2': \"text_a = 'Apple'\\ntext_b = 'apple'\",\n",
       " 'text_a': 'APPLE',\n",
       " 'text_b': 'APPLE',\n",
       " '_i3': 'text_a == text_b',\n",
       " '_3': False,\n",
       " '_i4': \"# text_a와 text_b를 비교했을 때 같다 라는 결과를 만들려면\\n# 두개의 데이터의 형태를 같게 만든다.\\n\\n# text_a.upper()\\n#'문자열' '안에있는' upper 함수\\n# 앞에있는 문자열을 바꿔줌\\n# 함수만 썼을 때 출력이 됐으므로 text_a는 안바뀜\\n\\ntext_a = text_a.upper()\\n# 제대로 실행은 됐는데 뭐가 안나옴 -> 메모리 상의 데이터가 변함\",\n",
       " '_i5': 'text_b = text_b.upper()',\n",
       " '_i6': 'text_a == text_b',\n",
       " '_6': True,\n",
       " '_i7': \"text_c = '  Hello, world  '\\ntext_c.lower()\",\n",
       " 'text_c': '  Hello, world  ',\n",
       " '_7': '  hello, world  ',\n",
       " '_i8': \"# 좌우에 공백있는 str\\ntext_c == 'Hello, world'\",\n",
       " '_8': False,\n",
       " '_i9': 'text_c.lstrip()',\n",
       " '_9': 'Hello, world  ',\n",
       " '_i10': 'text_c.swapcase()',\n",
       " '_10': '  hELLO, WORLD  ',\n",
       " '_i11': 'text_c.title()',\n",
       " '_11': '  Hello, World  ',\n",
       " '_i12': 'text_c.split()',\n",
       " '_12': ['Hello,', 'world'],\n",
       " '_i13': \"text_c.split(',')\",\n",
       " '_13': ['  Hello', ' world  '],\n",
       " '_i14': \"text_c.replace('Hello', 'Hi')\",\n",
       " '_14': '  Hi, world  ',\n",
       " '_i15': 'print(text_c.strip())\\nprint(text_c.lstrip())\\n#print 사용하면 헷갈림',\n",
       " '_i16': \"# 문자열을 숫자형으로 변환\\n# 금액을 숫자로 변경하여 계산\\nprice_1 = '$10.00'\\nprice_2 = '$20.00'\",\n",
       " 'price_1': 10.0,\n",
       " 'price_2': 20,\n",
       " '_i17': 'price_1 + price_2',\n",
       " '_17': '$10.00$20.00',\n",
       " '_i18': \"# error : '$'를 숫자로 변경이 불가능하기 때문에\\n# float(price_1)\",\n",
       " '_i19': \"price_1.strip('$')\",\n",
       " '_19': '10.00',\n",
       " '_i20': \"price_1 = float(price_1.strip('$'))\\nprice_2 = float(price_2.strip('$'))\\n# price_2\\nprice_1 + price_2\",\n",
       " '_20': 30.0,\n",
       " '_i21': 'price_2 = int(price_2)\\ntype(price_2)',\n",
       " '_21': int,\n",
       " '_i22': \"price_3 = '1,000원'\\nprice_4 = '3,000원'\",\n",
       " 'price_3': '1,000원',\n",
       " 'price_4': '3,000원',\n",
       " '_i23': \"#문자열 마지막의 '원'문자를 제거\\n# int(price_3.rstrip('원'))\\n# ','도 특수문자이므로 error\",\n",
       " '_i24': \"# strip() 함수는 문자의 시작과 끝의 데이터를 제거하는 용도\\n# 문자열 사이에 있는 문자를 변경 X\\n# replace() : 특정문자를 치환 -> 문자를 변경, 문자를 제거\\n\\nint(price_3.replace(',', '').rstrip('원'))\",\n",
       " '_24': 1000,\n",
       " '_i25': \"item_1 = '상품A'\\nitem_2 = '상품a'\\nitem_3 = '상 품 a'\",\n",
       " 'item_1': '상품A',\n",
       " 'item_2': '상품A',\n",
       " 'item_3': '상품A',\n",
       " '_i26': '(item_1 == item_2) and (item_2 == item_3)',\n",
       " '_26': False,\n",
       " '_i27': '# item_1을 기준으로 item_2, item_3 데이터를 변경\\n# item_2 = ~ 작성하기 전에, 원하는대로 upper() 잘 되는지 확인되는지 확인 하고 변수에 넣기\\nitem_2 = item_2.upper()',\n",
       " '_i28': 'item_3 = item_3.upper()',\n",
       " '_i29': \"item_3 = item_3.replace(' ', '')\",\n",
       " '_i30': '(item_1 == item_2) and (item_2 == item_3)',\n",
       " '_30': True,\n",
       " '_i31': \"# 문자열을 나눠주는 함수 -> split\\n# 공백을 기준으로 문자를 나눠주는 함수\\n# 인자로 특정 문자를 입력하면 특정 문자로 문자를 나눠준다\\ntext_1 = 'a b c d'\\ntext_1.split()\",\n",
       " 'text_1': 'a b c d',\n",
       " '_31': ['a', 'b', 'c', 'd'],\n",
       " '_i32': \"text_2 = 'ammbmmc'\\ntext_2.split('mm')\",\n",
       " 'text_2': 'ammbmmc',\n",
       " '_32': ['a', 'b', 'c'],\n",
       " '_i33': '# sql query문\\nquery_1 = \"select * from table\"\\nquery_2 = \"SELECT * FROM table\"\\nquery_3 = \"\"\"\\n    INSERT INTO\\n    table\\n    VALUES\\n    (\\'a\\')\\n\"\"\"\\nquery_4 = \\'\\'\\'\\n    select\\n    *\\n    from\\n    table\\n\\'\\'\\'',\n",
       " 'query_1': 'select * from table',\n",
       " 'query_2': 'SELECT * FROM table',\n",
       " 'query_3': \"\\n    INSERT INTO\\n    table\\n    VALUES\\n    ('a')\\n\",\n",
       " 'query_4': '\\n    select\\n    *\\n    from\\n    table\\n',\n",
       " '_i34': \"#query가 select문인가?\\nfind_word = 'select'\\nquery_1[ 0 : len(find_word) ] == find_word\",\n",
       " 'find_word': 'select',\n",
       " '_34': True,\n",
       " '_i35': 'query_2[:len(find_word)].lower() == find_word',\n",
       " '_35': True,\n",
       " '_i36': 'query_1.lstrip()[ : len(find_word) ] == find_word',\n",
       " '_36': True,\n",
       " '_i37': 'query_4.split()[0] == find_word',\n",
       " '_37': True,\n",
       " '_i38': 'query_4.split()[0] == find_word',\n",
       " '_38': True,\n",
       " '_i39': 'query_2.split()[0].lower() == find_word',\n",
       " '_39': True,\n",
       " '_i40': 'query_1.(find_word)',\n",
       " '_i41': \"text_a = 'Apple'\\ntext_b = 'apple'\",\n",
       " '_i42': 'text_a == text_b',\n",
       " '_42': False,\n",
       " '_i43': \"# text_a와 text_b를 비교했을 때 같다 라는 결과를 만들려면\\n# 두개의 데이터의 형태를 같게 만든다.\\n\\n# text_a.upper()\\n#'문자열' '안에있는' upper 함수\\n# 앞에있는 문자열을 바꿔줌\\n# 함수만 썼을 때 출력이 됐으므로 text_a는 안바뀜\\n\\ntext_a = text_a.upper()\\n# 제대로 실행은 됐는데 뭐가 안나옴 -> 메모리 상의 데이터가 변함\",\n",
       " '_i44': 'text_b = text_b.upper()',\n",
       " '_i45': 'text_a == text_b',\n",
       " '_45': True,\n",
       " '_i46': \"text_c = '  Hello, world  '\\ntext_c.lower()\",\n",
       " '_46': '  hello, world  ',\n",
       " '_i47': \"# 좌우에 공백있는 str\\ntext_c == 'Hello, world'\",\n",
       " '_47': False,\n",
       " '_i48': 'text_c.lstrip()',\n",
       " '_48': 'Hello, world  ',\n",
       " '_i49': 'text_c.swapcase()',\n",
       " '_49': '  hELLO, WORLD  ',\n",
       " '_i50': 'text_c.title()',\n",
       " '_50': '  Hello, World  ',\n",
       " '_i51': 'text_c.split()',\n",
       " '_51': ['Hello,', 'world'],\n",
       " '_i52': \"text_c.split(',')\",\n",
       " '_52': ['  Hello', ' world  '],\n",
       " '_i53': \"text_c.replace('Hello', 'Hi')\",\n",
       " '_53': '  Hi, world  ',\n",
       " '_i54': 'print(text_c.strip())\\nprint(text_c.lstrip())\\n#print 사용하면 헷갈림',\n",
       " '_i55': \"# 문자열을 숫자형으로 변환\\n# 금액을 숫자로 변경하여 계산\\nprice_1 = '$10.00'\\nprice_2 = '$20.00'\",\n",
       " '_i56': 'price_1 + price_2',\n",
       " '_56': '$10.00$20.00',\n",
       " '_i57': \"# error : '$'를 숫자로 변경이 불가능하기 때문에\\n# float(price_1)\",\n",
       " '_i58': \"price_1.strip('$')\",\n",
       " '_58': '10.00',\n",
       " '_i59': \"price_1 = float(price_1.strip('$'))\\nprice_2 = float(price_2.strip('$'))\\n# price_2\\nprice_1 + price_2\",\n",
       " '_59': 30.0,\n",
       " '_i60': 'price_2 = int(price_2)\\ntype(price_2)',\n",
       " '_60': int,\n",
       " '_i61': \"price_3 = '1,000원'\\nprice_4 = '3,000원'\",\n",
       " '_i62': \"#문자열 마지막의 '원'문자를 제거\\n# int(price_3.rstrip('원'))\\n# ','도 특수문자이므로 error\",\n",
       " '_i63': \"# strip() 함수는 문자의 시작과 끝의 데이터를 제거하는 용도\\n# 문자열 사이에 있는 문자를 변경 X\\n# replace() : 특정문자를 치환 -> 문자를 변경, 문자를 제거\\n\\nint(price_3.replace(',', '').rstrip('원'))\",\n",
       " '_63': 1000,\n",
       " '_i64': \"item_1 = '상품A'\\nitem_2 = '상품a'\\nitem_3 = '상 품 a'\",\n",
       " '_i65': '(item_1 == item_2) and (item_2 == item_3)',\n",
       " '_65': False,\n",
       " '_i66': '# item_1을 기준으로 item_2, item_3 데이터를 변경\\n# item_2 = ~ 작성하기 전에, 원하는대로 upper() 잘 되는지 확인되는지 확인 하고 변수에 넣기\\nitem_2 = item_2.upper()',\n",
       " '_i67': 'item_3 = item_3.upper()',\n",
       " '_i68': \"item_3 = item_3.replace(' ', '')\",\n",
       " '_i69': '(item_1 == item_2) and (item_2 == item_3)',\n",
       " '_69': True,\n",
       " '_i70': \"# 문자열을 나눠주는 함수 -> split\\n# 공백을 기준으로 문자를 나눠주는 함수\\n# 인자로 특정 문자를 입력하면 특정 문자로 문자를 나눠준다\\ntext_1 = 'a b c d'\\ntext_1.split()\",\n",
       " '_70': ['a', 'b', 'c', 'd'],\n",
       " '_i71': \"text_2 = 'ammbmmc'\\ntext_2.split('mm')\",\n",
       " '_71': ['a', 'b', 'c'],\n",
       " '_i72': '# sql query문\\nquery_1 = \"select * from table\"\\nquery_2 = \"SELECT * FROM table\"\\nquery_3 = \"\"\"\\n    INSERT INTO\\n    table\\n    VALUES\\n    (\\'a\\')\\n\"\"\"\\nquery_4 = \\'\\'\\'\\n    select\\n    *\\n    from\\n    table\\n\\'\\'\\'',\n",
       " '_i73': \"#query가 select문인가?\\nfind_word = 'select'\\nquery_1[ 0 : len(find_word) ] == find_word\",\n",
       " '_73': True,\n",
       " '_i74': 'query_2[:len(find_word)].lower() == find_word',\n",
       " '_74': True,\n",
       " '_i75': 'query_1.lstrip()[ : len(find_word) ] == find_word',\n",
       " '_75': True,\n",
       " '_i76': 'query_4.split()[0] == find_word',\n",
       " '_76': True,\n",
       " '_i77': 'query_4.split()[0] == find_word',\n",
       " '_77': True,\n",
       " '_i78': 'query_2.split()[0].lower() == find_word',\n",
       " '_78': True,\n",
       " '_i79': 'query_1.(find_word)',\n",
       " '_i80': 'query_1(find_word)',\n",
       " '_i81': 'query_2.lower().startswith(find_word)',\n",
       " '_81': True,\n",
       " '_i82': 'query_4.lstrip().startswith(find_word)',\n",
       " '_82': True,\n",
       " '_i83': 'query_4.lstrip().startswith(find_word)',\n",
       " '_83': True,\n",
       " '_i84': 'query_3.lstrip().startswith(find_word)',\n",
       " '_84': False,\n",
       " '_i85': 'file_list = [\\n    \"/csv/a.csv\",\\n    \"/csv/b.txt\",\\n    \"/csv/c.csv\",\\n    \"/csv/d.json\"\\n]',\n",
       " 'file_list': ['/csv/a.csv', '/csv/b.txt', '/csv/c.csv', '/csv/d.json'],\n",
       " '_i86': \"# file_list에서 확장자가 csv인 목록만 출력하자\\n# 방법1\\n\\nfile_csv = []\\nfor i in range(len(file_list)):\\n    # 이때 i에 들어오는 데이터의 의미: index\\n    if file_list[i].endswith('csv') == True:\\n        file_csv.append(file_list[i])\\nfile_csv\",\n",
       " 'file_csv': ['/csv/a.csv', '/csv/c.csv'],\n",
       " 'i': 3,\n",
       " '_86': ['/csv/a.csv', '/csv/c.csv'],\n",
       " '_i87': \"#방법2\\n# range를 쓸때는 보통 i를 쓰고, list에서 가져올 때는 다른 변수명 사용하면 명확함\\nfile_csv_2 = []\\nfor name in file_list:\\n    # 이때 i에 들어오는 데이터: 문자열\\n    if name.endswith('csv') == True:\\n        file_csv_2.append(name)\\nfile_csv_2\",\n",
       " 'file_csv_2': ['/csv/a.csv', '/csv/c.csv'],\n",
       " 'name': '/csv/d.json',\n",
       " '_87': ['/csv/a.csv', '/csv/c.csv'],\n",
       " '_i88': '# 함수\\n# 특정한 행동을 코드로 표현하고 이름 붙이는 작업\\n# 특정 입력값을 통해서 연산을 하고 결과를 되돌려주는 작업\\n# python에서 def 키워드를 이용해서 함수를 생성\\ndef func_1():\\n    #결과 되돌려준다\\n    return \"Hello\"\\n\\ndef func_2():\\n    print(\\'Hello\\')',\n",
       " 'func_1': <function __main__.func_1()>,\n",
       " 'func_2': <function __main__.func_2()>,\n",
       " '_i89': 'res_1 = func_1()',\n",
       " 'res_1': 'Hello',\n",
       " '_i90': 'res_2 = func_2()',\n",
       " 'res_2': None,\n",
       " '_i91': 'res_1',\n",
       " '_91': 'Hello',\n",
       " '_i92': 'res_2',\n",
       " '_i93': \"# 매개변수가 존재하지 않는 함수에 입력값을 사용해서 호출 한다면?\\n# 입력값을 저장할 수 있는 공간이 존재하지 않기 때문에 에러가 발생\\n# func_1('a')\",\n",
       " '_i94': '# 매개변수가 존재하는 함수 생성\\ndef func_3(a, b):\\n    c = a + b\\n    return c',\n",
       " 'func_3': <function __main__.func_3(a, b)>,\n",
       " '_i95': 'func_3(10, 5)\\n# a = 10\\n# b = 5\\n# c = 10 + 5\\n# c를 되돌려준다.',\n",
       " '_95': 15,\n",
       " '_i96': '# 매개변수가 2개인 함수를 호출하면서 인자를 1개만 입력하는 경우?\\n# 데이터가 입력되는 공간이 2개인데 데이터는 1개만 입력하면 나머지 하나의 공간에 데이터가 없으므로 에러\\n# func_3(10)',\n",
       " '_i97': \"# print() : 입력 데이터를 출력하는 기능\\nprint('a', 'b', 'c')\",\n",
       " '_i98': \"# sep 매개변수에 입력 데이터를 대입하려면 매개변수명 = data\\n# 첫번째 매개변수가 가변의 인자를 받는 형태이기때문에\\nprint('a', 'b', 'c', sep = '\\\\n')\\n\\n\\n# print 함수 위에 마우스 대면 나오는 정보들 - 매개변수 정보 확인\\n# 매개 변수 바꿀 수 있음\\n# 이미 '='로 되어있는건 따로 설정 안 했을 때 기본값\\n# '=' 없는 매개변수는 필수로 넣어주어야하는 부분\\n# sep은 문자 사이에 뭘 넣을건지.\",\n",
       " '_i99': 'def func_4(a, b = 5):\\n    # 매개변수는 2개 a, b\\n    # a는 함수를 호출할 때 필수 입력 공간\\n    # b는 선택 입력 공간\\n    c = a ** b\\n    return c',\n",
       " 'func_4': <function __main__.func_4(a, b=5)>,\n",
       " '_i100': 'func_4(2)\\n# a = 2\\n# b = 5\\n# c = 2 ** 5\\n# 32를 되돌려준다',\n",
       " '_100': 32,\n",
       " '_i101': 'func_4(2,4)\\n# a = 2\\n# b = 5\\n# b = 4\\n# c = 2 ** 4\\n# 16을 되돌려준다.',\n",
       " '_101': 16,\n",
       " '_i102': '# 모든 영역에서 사용할 수 있는 변수의 목록 확인\\nglobals()'}"
      ]
     },
     "execution_count": 102,
     "metadata": {},
     "output_type": "execute_result"
    }
   ],
   "source": [
    "# 모든 영역에서 사용할 수 있는 변수의 목록 확인\n",
    "globals()"
   ]
  },
  {
   "cell_type": "code",
   "execution_count": 103,
   "metadata": {},
   "outputs": [
    {
     "data": {
      "text/plain": [
       "'APPLE'"
      ]
     },
     "execution_count": 103,
     "metadata": {},
     "output_type": "execute_result"
    }
   ],
   "source": [
    "text_a"
   ]
  },
  {
   "cell_type": "code",
   "execution_count": 104,
   "metadata": {},
   "outputs": [
    {
     "data": {
      "text/plain": [
       "'APPLE'"
      ]
     },
     "execution_count": 104,
     "metadata": {},
     "output_type": "execute_result"
    }
   ],
   "source": [
    "globals()['text_a']\n",
    "#glocals() 자체가 dict임\n",
    "#dict하면 key값과 value 떠올리기"
   ]
  },
  {
   "cell_type": "code",
   "execution_count": 105,
   "metadata": {},
   "outputs": [],
   "source": [
    "# 반복문을 이용해서 전역변수를 생성\n",
    "for i in range(3, 10, 2):\n",
    "    # globals()를 이용하여 전역 변수 생성\n",
    "    globals()[f'a{i}'] = i"
   ]
  },
  {
   "cell_type": "code",
   "execution_count": 106,
   "metadata": {},
   "outputs": [
    {
     "data": {
      "text/plain": [
       "3"
      ]
     },
     "execution_count": 106,
     "metadata": {},
     "output_type": "execute_result"
    }
   ],
   "source": [
    "a3"
   ]
  },
  {
   "cell_type": "code",
   "execution_count": 107,
   "metadata": {},
   "outputs": [
    {
     "data": {
      "text/plain": [
       "5"
      ]
     },
     "execution_count": 107,
     "metadata": {},
     "output_type": "execute_result"
    }
   ],
   "source": [
    "a5"
   ]
  },
  {
   "cell_type": "code",
   "execution_count": 108,
   "metadata": {},
   "outputs": [
    {
     "data": {
      "text/plain": [
       "7"
      ]
     },
     "execution_count": 108,
     "metadata": {},
     "output_type": "execute_result"
    }
   ],
   "source": [
    "a7"
   ]
  },
  {
   "cell_type": "code",
   "execution_count": 109,
   "metadata": {},
   "outputs": [
    {
     "data": {
      "text/plain": [
       "9"
      ]
     },
     "execution_count": 109,
     "metadata": {},
     "output_type": "execute_result"
    }
   ],
   "source": [
    "a9"
   ]
  },
  {
   "cell_type": "code",
   "execution_count": 110,
   "metadata": {},
   "outputs": [],
   "source": [
    "# 지역 변수 확인\n",
    "def func_5(input_a, input_b):\n",
    "    func_res = input_a + input_b\n",
    "    return func_res\n",
    "res_3 = func_5(20, 1)\n",
    "\n",
    "# 세로 라인마다 하나의 지역인거임.\n",
    "# 맨 앞에 있는 세로선 기준의 변수들이 전역변수 "
   ]
  },
  {
   "cell_type": "code",
   "execution_count": 111,
   "metadata": {},
   "outputs": [
    {
     "name": "stdout",
     "output_type": "stream",
     "text": [
      "21\n"
     ]
    }
   ],
   "source": [
    "print(res_3)\n",
    "# func_res, input_a 는 지역변수이므로 전역에서는 사용이 불가능\n",
    "# print(func_res)\n",
    "# print(input_a)"
   ]
  },
  {
   "cell_type": "code",
   "execution_count": 112,
   "metadata": {},
   "outputs": [
    {
     "name": "stdout",
     "output_type": "stream",
     "text": [
      "10 10 10\n"
     ]
    }
   ],
   "source": [
    "# 변수 생성\n",
    "a = b = c = 10\n",
    "print(a, b, c)"
   ]
  },
  {
   "cell_type": "code",
   "execution_count": 113,
   "metadata": {},
   "outputs": [
    {
     "name": "stdout",
     "output_type": "stream",
     "text": [
      "3 A True\n"
     ]
    }
   ],
   "source": [
    "d, e, f = 3, 'A', True\n",
    "print(d, e, f)"
   ]
  },
  {
   "cell_type": "code",
   "execution_count": 114,
   "metadata": {},
   "outputs": [],
   "source": [
    "# return data가 2개 이상인 경우\n",
    "def func_6(a, b):\n",
    "    c = a + b\n",
    "    d = a - b\n",
    "    return c, d"
   ]
  },
  {
   "cell_type": "code",
   "execution_count": 115,
   "metadata": {},
   "outputs": [
    {
     "data": {
      "text/plain": [
       "(13, 7)"
      ]
     },
     "execution_count": 115,
     "metadata": {},
     "output_type": "execute_result"
    }
   ],
   "source": [
    "func_6(10, 3)"
   ]
  },
  {
   "cell_type": "code",
   "execution_count": 116,
   "metadata": {},
   "outputs": [
    {
     "data": {
      "text/plain": [
       "(13, 7)"
      ]
     },
     "execution_count": 116,
     "metadata": {},
     "output_type": "execute_result"
    }
   ],
   "source": [
    "res_4 = func_6(10, 3)\n",
    "res_4"
   ]
  },
  {
   "cell_type": "code",
   "execution_count": 117,
   "metadata": {},
   "outputs": [
    {
     "data": {
      "text/plain": [
       "13"
      ]
     },
     "execution_count": 117,
     "metadata": {},
     "output_type": "execute_result"
    }
   ],
   "source": [
    "# return이 여러개인 함수를 쓸 때는 앞에 변수를 여러개 설정해주면 각각 들어감. 예를들어 train_test_split\n",
    "res_5, res_6 = func_6(10, 3)\n",
    "res_5"
   ]
  },
  {
   "cell_type": "code",
   "execution_count": 118,
   "metadata": {},
   "outputs": [
    {
     "name": "stdout",
     "output_type": "stream",
     "text": [
      "<class 'tuple'>\n"
     ]
    }
   ],
   "source": [
    "# 인자의 개수가 가변인 경우\n",
    "# * 은 매개변수의 개수를 가변으로 만드는 거임\n",
    "def func_7(*args):\n",
    "    # 함수 내에서는 * 안써도 됨\n",
    "    # args의 타입?\n",
    "    print(type(args))\n",
    "\n",
    "func_7(2, 3, 4)"
   ]
  },
  {
   "cell_type": "code",
   "execution_count": 119,
   "metadata": {},
   "outputs": [
    {
     "data": {
      "text/plain": [
       "9"
      ]
     },
     "execution_count": 119,
     "metadata": {},
     "output_type": "execute_result"
    }
   ],
   "source": [
    "# 인자의 개수가 가변인 경우\n",
    "def func_7(*args):\n",
    "    # 인자의 누적합 구해서 되돌려주는 기능\n",
    "    result = 0\n",
    "    for i in args:\n",
    "        result += i\n",
    "    return result\n",
    "\n",
    "func_7(2, 3, 4)"
   ]
  },
  {
   "cell_type": "code",
   "execution_count": 120,
   "metadata": {},
   "outputs": [
    {
     "data": {
      "text/plain": [
       "2"
      ]
     },
     "execution_count": 120,
     "metadata": {},
     "output_type": "execute_result"
    }
   ],
   "source": [
    "# 인자의 개수가 가변인 경우\n",
    "def func_7(*args):\n",
    "    # 인자의 누적합 구해서 되돌려주는 기능\n",
    "    result = 0\n",
    "    for i in args:\n",
    "        result += i\n",
    "        # 만약 아래와 같이 return이 반복문 안에 있다 -> return 되자마자 함수 종료. for문도 당연히 종료\n",
    "        return result\n",
    "\n",
    "func_7(2, 3, 4)"
   ]
  },
  {
   "cell_type": "code",
   "execution_count": 121,
   "metadata": {},
   "outputs": [],
   "source": [
    "def func_8(args):\n",
    "    result = 0\n",
    "    for i in args:\n",
    "        result += i\n",
    "    return result"
   ]
  },
  {
   "cell_type": "code",
   "execution_count": 122,
   "metadata": {},
   "outputs": [
    {
     "data": {
      "text/plain": [
       "9"
      ]
     },
     "execution_count": 122,
     "metadata": {},
     "output_type": "execute_result"
    }
   ],
   "source": [
    "func_8([2, 3, 4])"
   ]
  },
  {
   "cell_type": "code",
   "execution_count": 123,
   "metadata": {},
   "outputs": [
    {
     "data": {
      "text/plain": [
       "2"
      ]
     },
     "execution_count": 123,
     "metadata": {},
     "output_type": "execute_result"
    }
   ],
   "source": [
    "# func_7() 함수를 호출하는데 입력 데이터가 리스트인 경우\n",
    "# 인자에 *를 쓰는 경우\n",
    "func_7(*[2, 3, 4])"
   ]
  },
  {
   "cell_type": "code",
   "execution_count": 124,
   "metadata": {},
   "outputs": [],
   "source": [
    "# 인자의 개수가 가변인 매개변수와 개수가 1개인 매개변수가 존재하는 함수\n",
    "def func_9(*args, data):\n",
    "    result = 0\n",
    "    #data가 1이라면 누적합을 되돌려주고\n",
    "    if data == 1:\n",
    "        result = 0\n",
    "        for i in args:\n",
    "            result += i\n",
    "    # data가 0이라면 누적곱을 되돌려준다.\n",
    "    if data == 0:\n",
    "        result = 1\n",
    "        for i in args:\n",
    "            result *= i\n",
    "    return result"
   ]
  },
  {
   "cell_type": "code",
   "execution_count": 125,
   "metadata": {},
   "outputs": [
    {
     "data": {
      "text/plain": [
       "15"
      ]
     },
     "execution_count": 125,
     "metadata": {},
     "output_type": "execute_result"
    }
   ],
   "source": [
    "func_9(1, 2, 3, 4, 5, data = 1)"
   ]
  },
  {
   "cell_type": "code",
   "execution_count": 126,
   "metadata": {},
   "outputs": [],
   "source": [
    "# 매개변수에 기본값이 설정이 되어있는 함수\n",
    "def func_10(a, b = 2, c = 3):\n",
    "    # 매개변수는 3개: a는 필수 입력 / b, c는 선택 입력\n",
    "    # 인자의 개수가 1개, 2개, 3개 모두 호출이 가능\n",
    "    result = (a + b) ** c\n",
    "    return result"
   ]
  },
  {
   "cell_type": "code",
   "execution_count": 127,
   "metadata": {},
   "outputs": [
    {
     "name": "stdout",
     "output_type": "stream",
     "text": [
      "125\n",
      "216\n",
      "4\n"
     ]
    }
   ],
   "source": [
    "print(func_10(3))\n",
    "print(func_10(5,1))\n",
    "print(func_10(3, 1, 1))"
   ]
  },
  {
   "cell_type": "code",
   "execution_count": 128,
   "metadata": {},
   "outputs": [
    {
     "data": {
      "text/plain": [
       "25"
      ]
     },
     "execution_count": 128,
     "metadata": {},
     "output_type": "execute_result"
    }
   ],
   "source": [
    "# func_10에서 b매개변수는 기본값을 사용하고 c의 매개변수에는 새로운 입력값을 사용\n",
    "func_10(3, c=2)"
   ]
  },
  {
   "cell_type": "code",
   "execution_count": 129,
   "metadata": {},
   "outputs": [],
   "source": [
    "# 함수를 생성시 매개변수의 기본값을 설정하려면\n",
    "# 가장 뒤의 매개변수부터 기본값을 설정\n",
    "# 중간의 매개변수에만 기본값을 설정하면 에러가 발생\n",
    "# def func_11(a, b = 2, c):\n",
    "#     result = a + b + c\n",
    "#     return result"
   ]
  },
  {
   "cell_type": "markdown",
   "metadata": {},
   "source": [
    "### 연습\n",
    "- 함수를 생성\n",
    "    - 매개변수 2개\n",
    "        - _datas : 인자의 개수가 가변인 매개변수\n",
    "        - _type : 기본값이 설정 ('max')\n",
    "    -_type이 'max'라면 _datas 중 가장 큰 값을 되돌려준다.\n",
    "    -_type이 'min'라면 -datas 중 가장 작은 값을 되돌려준다.\n",
    "    -_type이 'mean'이라면 _datas 들의 평균을 되돌려준다.\n",
    "    - 위에 3가지의 경우가 아니라면 \"_type이 맞지 않습니다.\"를 되돌려준다."
   ]
  },
  {
   "cell_type": "markdown",
   "metadata": {},
   "source": []
  },
  {
   "cell_type": "code",
   "execution_count": 130,
   "metadata": {},
   "outputs": [
    {
     "data": {
      "text/plain": [
       "2.5"
      ]
     },
     "execution_count": 130,
     "metadata": {},
     "output_type": "execute_result"
    }
   ],
   "source": [
    "# 보통 입력받은 변수는 input_변수 또는 _변수 로 작성한다.\n",
    "# 내가 작성\n",
    "\n",
    "def func_11(*_datas, _type = 'max'):\n",
    "    data_list = []\n",
    "    for num in _datas:\n",
    "        data_list.append(num)\n",
    "\n",
    "    if _type == 'max':\n",
    "        result = max(data_list)\n",
    "\n",
    "    elif _type == 'min':\n",
    "        result = min(data_list)\n",
    "\n",
    "    elif _type == 'mean':\n",
    "        sum = 0 \n",
    "        for i in data_list:\n",
    "            sum += i\n",
    "            result = sum / len(data_list)\n",
    "\n",
    "    else:\n",
    "        print(\"_type이 맞지 않습니다.\")\n",
    "\n",
    "    return result\n",
    "\n",
    "func_11(1, 2, 3, 4, _type = 'mean')\n"
   ]
  },
  {
   "cell_type": "code",
   "execution_count": 131,
   "metadata": {},
   "outputs": [
    {
     "data": {
      "text/plain": [
       "1"
      ]
     },
     "execution_count": 131,
     "metadata": {},
     "output_type": "execute_result"
    }
   ],
   "source": [
    "def func_11(*_datas, _type = 'max'):\n",
    "\n",
    "    if _type == 'max':\n",
    "        result = max(_datas)\n",
    "\n",
    "    elif _type == 'min':\n",
    "        result = min(_datas)\n",
    "\n",
    "    elif _type == 'mean':\n",
    "        result = sum(_datas) / len(_datas)\n",
    "\n",
    "    else:\n",
    "        result = \"_type이 맞지 않습니다.\"\n",
    "\n",
    "    return result\n",
    "\n",
    "func_11(1, 2, 3, 4, _type = 'min')"
   ]
  },
  {
   "cell_type": "code",
   "execution_count": 132,
   "metadata": {},
   "outputs": [
    {
     "data": {
      "text/plain": [
       "5"
      ]
     },
     "execution_count": 132,
     "metadata": {},
     "output_type": "execute_result"
    }
   ],
   "source": [
    "func_11(1, 2, 3, 4, 5)"
   ]
  },
  {
   "cell_type": "code",
   "execution_count": null,
   "metadata": {},
   "outputs": [],
   "source": []
  }
 ],
 "metadata": {
  "kernelspec": {
   "display_name": "Python 3",
   "language": "python",
   "name": "python3"
  },
  "language_info": {
   "codemirror_mode": {
    "name": "ipython",
    "version": 3
   },
   "file_extension": ".py",
   "mimetype": "text/x-python",
   "name": "python",
   "nbconvert_exporter": "python",
   "pygments_lexer": "ipython3",
   "version": "3.13.7"
  },
  "orig_nbformat": 4
 },
 "nbformat": 4,
 "nbformat_minor": 2
}
