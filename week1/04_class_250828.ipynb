{
 "cells": [
  {
   "cell_type": "markdown",
   "metadata": {},
   "source": [
    "### class 선언\n",
    "    - class 키워드를 이용해서 class를 선언\n",
    "    - class의 이름은 일반적으로 단어의 첫글자를 대문자로 표기\n",
    "\n",
    "### class 생성\n",
    "    - 선언이 된 class를 특정 공간에 저장하는 과정 (변수를 생성해서 class를 대입)\n",
    "    - 생성된 class 안에는 변수와 함수가 존재 (같은 변수명을 사용해도 각각 저장)\n",
    "    - 생성자함수: class를 생성할 때 한 번 자동으로 실행되는 함수\n",
    "\n",
    "### class 내부의 변수, 함수를 호출\n",
    "    - class가 저장되어있는 공간(변수명) + ~안에(.) + class에 존재하는 변수(변수명), 함수(함수명()) 호출"
   ]
  },
  {
   "cell_type": "code",
   "execution_count": 17,
   "metadata": {},
   "outputs": [],
   "source": [
    "# 가장 기본적인 class 선언\n",
    "\n",
    "class Class_1: \n",
    "    # 생성자 함수(초기화 함수)\n",
    "    # class 내부에 함수를 생성할 때는 일반적으로 매개변수 self는 기본\n",
    "    # self : 자기 자신(생성되는 class 공간)\n",
    "    # __init__함수는 class가 생성이 될 때 한 번 실행이 되는 함수\n",
    "    # 따로 호출할 필요가 없음\n",
    "\n",
    "    def __init__(self, _a, _b):\n",
    "        #class 내부에서 사용할 변수들을 저장하는 기능\n",
    "        #self.a -> self(자기자신) + .(안에) + a(변수명)\n",
    "        self.a = _a\n",
    "        self.b = _b\n",
    "        # __init__함수를 class 내부에서 사용할 데이터를 저장하는 기능\n",
    "        # return 따로 만들지 않는다\n",
    "\n",
    "    def add_value(self):\n",
    "        result = self.a + self.b\n",
    "        return result"
   ]
  },
  {
   "cell_type": "code",
   "execution_count": 18,
   "metadata": {},
   "outputs": [],
   "source": [
    "# class 생성\n",
    "# Class_1 을 생성 -> __init__ 함수를 호출\n",
    "# -> __init__함수를 매개변수 3개 -> 입력값 3개\n",
    "# -> self 에는 변수의 위치가 자동으로 입력 -> 인자는 2개를 입력\n",
    "test = Class_1(10, 7)"
   ]
  },
  {
   "cell_type": "code",
   "execution_count": 19,
   "metadata": {},
   "outputs": [],
   "source": [
    "# 3번째 인자는 저장될 수 있는 공간이 존재하지 않는다. -> 에러\n",
    "# test2 = Class_1(10, 7, 1)"
   ]
  },
  {
   "cell_type": "code",
   "execution_count": 20,
   "metadata": {},
   "outputs": [],
   "source": [
    "test2 = Class_1(20,4)"
   ]
  },
  {
   "cell_type": "code",
   "execution_count": 21,
   "metadata": {},
   "outputs": [
    {
     "name": "stdout",
     "output_type": "stream",
     "text": [
      "10\n",
      "20\n"
     ]
    }
   ],
   "source": [
    "# class 내부에 있는 변수를 호출\n",
    "# 생성이 된 클래스의 위치(변수명) + 안에(.) + 변수명\n",
    "print(test.a)\n",
    "print(test2.a)"
   ]
  },
  {
   "cell_type": "code",
   "execution_count": 22,
   "metadata": {},
   "outputs": [
    {
     "data": {
      "text/plain": [
       "17"
      ]
     },
     "execution_count": 22,
     "metadata": {},
     "output_type": "execute_result"
    }
   ],
   "source": [
    "# class 내부에 있는 함수를 호출\n",
    "# 생성이 된 클래스의 위치(변수명) + 안에(.) + 함수()\n",
    "test.add_value()"
   ]
  },
  {
   "cell_type": "code",
   "execution_count": 23,
   "metadata": {},
   "outputs": [
    {
     "data": {
      "text/plain": [
       "24"
      ]
     },
     "execution_count": 23,
     "metadata": {},
     "output_type": "execute_result"
    }
   ],
   "source": [
    "test2.add_value()"
   ]
  },
  {
   "cell_type": "code",
   "execution_count": 24,
   "metadata": {},
   "outputs": [],
   "source": [
    "# # 계산기 class 선언\n",
    "class Calculate:\n",
    "\n",
    "    # 생성자 함수 -> 두개의 숫자 데이터를 저장하기 위한 기능\n",
    "    # 생성자 함수는 필수 X\n",
    "    def __init__(self, _a, _b):\n",
    "        self.a = _a\n",
    "        self.b = _b\n",
    "    # 두 개의 데이터를 더한 뒤 되돌려주는 함수\n",
    "    def add(self):\n",
    "        result = self.a + self.b\n",
    "        return result\n",
    "    #\n",
    "    def sub(self):\n",
    "        result = self.a - self.b\n",
    "        return result\n",
    "    #\n",
    "    def multi(self):\n",
    "        result = self.a * self.b\n",
    "        return result\n",
    "    #\n",
    "    def dev(self):\n",
    "        result = self.a / self.b\n",
    "        return result\n",
    "    \n",
    "\n",
    "    ## list 내장함수, str 내장함수 등 \n",
    "    # 예를들어 list명.append(), 문자열명.split()\n",
    "    # list와 str이 클래스이기 때문에 가능했던 것임\n",
    "    # list_1 = list()라고 클래스 생성한 것임.\n",
    "    # 그래서 list_1.remove() 등이 가능"
   ]
  },
  {
   "cell_type": "code",
   "execution_count": 25,
   "metadata": {},
   "outputs": [],
   "source": [
    "#생성\n",
    "#__init__에 필수로 넣어줘야하는 변수가 있으면 class 생성할 때 넣어줘야함\n",
    "cal1 = Calculate(20,4)\n",
    "cal2 = Calculate(5,10)"
   ]
  },
  {
   "cell_type": "code",
   "execution_count": 26,
   "metadata": {},
   "outputs": [
    {
     "name": "stdout",
     "output_type": "stream",
     "text": [
      "24 16 80 5.0\n",
      "15 -5 50 0.5\n"
     ]
    }
   ],
   "source": [
    "print(cal1. add(), cal1.sub(), cal1.multi(), cal1.dev())\n",
    "print(cal2. add(), cal2.sub(), cal2.multi(), cal2.dev())"
   ]
  },
  {
   "cell_type": "code",
   "execution_count": 27,
   "metadata": {},
   "outputs": [],
   "source": [
    "# cal1, cal2 함수들을 호출할 때 출력이 나온다 \n",
    "# -> 클래스 내부의 데이터가 변경이 되지 않는다."
   ]
  },
  {
   "cell_type": "code",
   "execution_count": 33,
   "metadata": {},
   "outputs": [],
   "source": [
    "# class 내부의 변수 데이터를 변경하는 class 선언\n",
    "class Class_2:\n",
    "    def __init__(self, _a):\n",
    "        self.a = _a\n",
    "\n",
    "    #self.a의 연산하는 함수 -> 매개변수 2개 추가\n",
    "    def func_1(self, _val, inplace = False):\n",
    "        #inplace가 True 라면 -> self.a에 _val을 더하고 self.a를 변경\n",
    "        if inplace:\n",
    "            self.a += _val\n",
    "            return self.a\n",
    "        \n",
    "        #inplace가 False 라면 -> self.a에 _val을 더한 데이터를 되돌려준다.\n",
    "        else:\n",
    "            result = self.a + _val\n",
    "\n",
    "        return result"
   ]
  },
  {
   "cell_type": "code",
   "execution_count": 35,
   "metadata": {},
   "outputs": [],
   "source": [
    "test3 = Class_2(10)"
   ]
  },
  {
   "cell_type": "code",
   "execution_count": 34,
   "metadata": {},
   "outputs": [
    {
     "data": {
      "text/plain": [
       "20"
      ]
     },
     "execution_count": 34,
     "metadata": {},
     "output_type": "execute_result"
    }
   ],
   "source": [
    "# test3 내부에 있는 func_1() 함수를 호출\n",
    "# 해당 함수는 매개벼수 3개 -> self(test3의 위치가 자동 입력),\n",
    "# _val(필수입력)\n",
    "# inplace(기본값이 False)\n",
    "test3.func_1(5)"
   ]
  },
  {
   "cell_type": "code",
   "execution_count": 31,
   "metadata": {},
   "outputs": [
    {
     "data": {
      "text/plain": [
       "10"
      ]
     },
     "execution_count": 31,
     "metadata": {},
     "output_type": "execute_result"
    }
   ],
   "source": [
    "test3.a"
   ]
  },
  {
   "cell_type": "code",
   "execution_count": 36,
   "metadata": {},
   "outputs": [
    {
     "data": {
      "text/plain": [
       "15"
      ]
     },
     "execution_count": 36,
     "metadata": {},
     "output_type": "execute_result"
    }
   ],
   "source": [
    "# func_2() 호출하는데 inplace를 True로 변경\n",
    "test3.func_1(5, inplace = True)\n"
   ]
  },
  {
   "cell_type": "code",
   "execution_count": null,
   "metadata": {},
   "outputs": [],
   "source": [
    "# class 변수\n",
    "# 같은 class를 생성하는 경우 서로 공유하는 변수\n",
    "\n",
    "class Class_3:\n",
    "    # self 변수들의 생성위치 -> 함수 안에서 생성\n",
    "    # class 변수는 생성위치 함수 밖에서 생성\n",
    "    cnt = 0\n",
    "    users = []\n",
    "    # 유저를 등록하는 함수\n",
    "    def add_user(self, _name):\n",
    "        # 유저가 등록됨에 따라 cnt는 1씩 증가\n",
    "        Class_3.cnt += 1\n",
    "        # 유저의 이름은 users에 추가\n",
    "        Class_3.users.append(_name)\n"
   ]
  },
  {
   "cell_type": "code",
   "execution_count": null,
   "metadata": {},
   "outputs": [],
   "source": [
    "user1 = Class_3()\n",
    "user2 = Class_3()"
   ]
  },
  {
   "cell_type": "code",
   "execution_count": null,
   "metadata": {},
   "outputs": [],
   "source": [
    "user1.add_user('kim')"
   ]
  },
  {
   "cell_type": "code",
   "execution_count": null,
   "metadata": {},
   "outputs": [],
   "source": [
    "user2.add_user('park')"
   ]
  },
  {
   "cell_type": "code",
   "execution_count": null,
   "metadata": {},
   "outputs": [
    {
     "name": "stdout",
     "output_type": "stream",
     "text": [
      "3 ['kim', 'park', 'park']\n",
      "3 ['kim', 'park', 'park']\n"
     ]
    }
   ],
   "source": [
    "print(user1.cnt, user1.users)\n",
    "print(user2.cnt, user2.users)"
   ]
  },
  {
   "cell_type": "code",
   "execution_count": null,
   "metadata": {},
   "outputs": [],
   "source": []
  }
 ],
 "metadata": {
  "kernelspec": {
   "display_name": "Python 3",
   "language": "python",
   "name": "python3"
  },
  "language_info": {
   "codemirror_mode": {
    "name": "ipython",
    "version": 3
   },
   "file_extension": ".py",
   "mimetype": "text/x-python",
   "name": "python",
   "nbconvert_exporter": "python",
   "pygments_lexer": "ipython3",
   "version": "3.11.5"
  },
  "orig_nbformat": 4
 },
 "nbformat": 4,
 "nbformat_minor": 2
}
