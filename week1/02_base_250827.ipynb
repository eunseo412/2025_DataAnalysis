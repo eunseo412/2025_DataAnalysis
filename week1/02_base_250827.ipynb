{
 "cells": [
  {
   "cell_type": "markdown",
   "metadata": {},
   "source": [
    "### markdown\n",
    "### tuple\n",
    "### list\n",
    "### dict"
   ]
  },
  {
   "cell_type": "markdown",
   "metadata": {},
   "source": [
    "# 제목1\n",
    "## 제목2\n",
    "### 제목3\n",
    "#### 제목4\n",
    "\n",
    "### 리스트 형태 텍스트\n",
    "\n",
    "#### 순서형\n",
    "1. list1\n",
    "1. list2\n",
    "7. list3\n",
    "#### 비순서형\n",
    "- list1\n",
    "- list2\n",
    "- list3\n",
    "#### 리스트 안에 리스트\n",
    "1. list1\n",
    "    1. sub1\n",
    "    1. sub2\n",
    "2. list2\n",
    "    - sub1\n",
    "    - sub2"
   ]
  },
  {
   "cell_type": "markdown",
   "metadata": {},
   "source": [
    "### 자료형 데이터\n",
    "- 여러개의 데이터를 하나의 변수에 저장시키기 위한 형태\n",
    "\n",
    "- tuple\n",
    "    - 자료형 데이터 중에 가장 기본적인 형태\n",
    "    - ()를 이용해서 데이터를 생성\n",
    "    - 한번 생성이 되면 수정이 불가능 (새로운 tuple을 생성 해야함)\n",
    "\n",
    "- list\n",
    "    - []를 이용하여 데이터를 생성\n",
    "    - tuple과는 다르게 각 원소들을 수정하거나 삭제, 추가 작업이 가능 (리스트의 내부 함수를 이용)\n",
    "    - 원소의 개수를 0개부터 생성이 가능 (비어있는 리스트가 생성 -> 여러개의 데이터를 하나의 변수에 담을 준비과정)\n",
    "    \n",
    "- dict\n",
    "    - {}을 이용하여 데이터를 생성\n",
    "    - key : value의 형태로 데이터가 구성 (list에서는 위치를 기준으로 데이터를 추출한다면 dict는 key를 기준으로 데이터를 추출)\n",
    "    - 원소의 개수는 0부터 생성이 가능"
   ]
  },
  {
   "cell_type": "code",
   "execution_count": 1,
   "metadata": {},
   "outputs": [
    {
     "name": "stdout",
     "output_type": "stream",
     "text": [
      "(1, 'Hello')\n",
      "(3, 3.14)\n",
      "<class 'tuple'>\n"
     ]
    }
   ],
   "source": [
    "# tuple 데이터 생성\n",
    "# 원소마다 타입이 달라도 생성이 가능\n",
    "tuple_a = (1, \"Hello\")\n",
    "tuple_b = (3, 3.14)\n",
    "print(tuple_a)\n",
    "print(tuple_b)\n",
    "print(type(tuple_a))"
   ]
  },
  {
   "cell_type": "code",
   "execution_count": 2,
   "metadata": {},
   "outputs": [
    {
     "name": "stdout",
     "output_type": "stream",
     "text": [
      "1\n",
      "3.14\n"
     ]
    }
   ],
   "source": [
    "# tuple에서 특정 위치의 데이터를 추출 (index값은 0부터 시작)\n",
    "print(tuple_a[0]) \n",
    "print(tuple_b[1])"
   ]
  },
  {
   "cell_type": "code",
   "execution_count": 3,
   "metadata": {},
   "outputs": [
    {
     "data": {
      "text/plain": [
       "(1, 'Hello', 3, 3.14)"
      ]
     },
     "execution_count": 3,
     "metadata": {},
     "output_type": "execute_result"
    }
   ],
   "source": [
    "#tuple 끼리의 합 -> 문자의 합과 같은 결과\n",
    "tuple_a + tuple_b"
   ]
  },
  {
   "cell_type": "code",
   "execution_count": 4,
   "metadata": {},
   "outputs": [],
   "source": [
    "# tuple이랑 숫자의 합? -> 에러가 발생 -> tuple과 숫자 데이터는 합이 불가능\n",
    "# tuple_b + 1"
   ]
  },
  {
   "cell_type": "code",
   "execution_count": 5,
   "metadata": {},
   "outputs": [],
   "source": [
    "#list 형태의 데이터\n",
    "list_a = [30, 20, 50, 10]\n",
    "list_b = ['abc', 'fi', 'be']"
   ]
  },
  {
   "cell_type": "code",
   "execution_count": 6,
   "metadata": {},
   "outputs": [],
   "source": [
    "#list의 함수 중 정렬을 변경하는 함수\n",
    "# sort() : 기본적으로는 리스트의 원소들을 오름차순 정렬로 변경\n",
    "# reverse() : 리스트의 원소들을 역순으로 변경\n",
    "# 위의 2개의 함수는 list를 변경 -> print()함수를 이용하지 않는 이상 출력 X\n",
    "\n",
    "list_a.sort()"
   ]
  },
  {
   "cell_type": "code",
   "execution_count": 7,
   "metadata": {},
   "outputs": [
    {
     "data": {
      "text/plain": [
       "[10, 20, 30, 50]"
      ]
     },
     "execution_count": 7,
     "metadata": {},
     "output_type": "execute_result"
    }
   ],
   "source": [
    "list_a"
   ]
  },
  {
   "cell_type": "code",
   "execution_count": 8,
   "metadata": {},
   "outputs": [
    {
     "data": {
      "text/plain": [
       "['fi', 'be', 'abc']"
      ]
     },
     "execution_count": 8,
     "metadata": {},
     "output_type": "execute_result"
    }
   ],
   "source": [
    "# 내림차순 정렬? \n",
    "# 방법1: 오름차순 정렬을 하고 순서를 역순으로 변경\n",
    "list_b.sort()\n",
    "list_b.reverse()\n",
    "\n",
    "list_b"
   ]
  },
  {
   "cell_type": "code",
   "execution_count": 9,
   "metadata": {},
   "outputs": [
    {
     "data": {
      "text/plain": [
       "[50, 30, 20, 10]"
      ]
     },
     "execution_count": 9,
     "metadata": {},
     "output_type": "execute_result"
    }
   ],
   "source": [
    "# 방법2\n",
    "# sort(): 매개변수 reverse 존재 (기본값이 False)\n",
    "\n",
    "# 지금 다 list의 내부함수..\n",
    "list_a.sort(reverse=True)\n",
    "list_a"
   ]
  },
  {
   "cell_type": "code",
   "execution_count": 10,
   "metadata": {},
   "outputs": [
    {
     "data": {
      "text/plain": [
       "[50, 30, 5, 20, 10, 100]"
      ]
     },
     "execution_count": 10,
     "metadata": {},
     "output_type": "execute_result"
    }
   ],
   "source": [
    "# 리스트의 원소를 추가하는 방법\n",
    "# 가장 마지막에 원소를 추가하는 방법 : append('data')\n",
    "# 특정 위치에 데이터를 대입 : insert(index, 'data')\n",
    "list_a.append(100)\n",
    "list_a.insert(2, 5)\n",
    "list_a"
   ]
  },
  {
   "cell_type": "code",
   "execution_count": 11,
   "metadata": {},
   "outputs": [],
   "source": [
    "# list에 update 함수가 존재하지 않기 때문에 에러 발생\n",
    "# list_a.update(2,3)"
   ]
  },
  {
   "cell_type": "code",
   "execution_count": 12,
   "metadata": {},
   "outputs": [
    {
     "data": {
      "text/plain": [
       "[50, 15, 5, 20, 10, 100]"
      ]
     },
     "execution_count": 12,
     "metadata": {},
     "output_type": "execute_result"
    }
   ],
   "source": [
    "# list 내부의 데이터를 수정하는 방법?\n",
    "# 어떠한 데이터를 수정할것인가? -> 수정할 데이터를 선택\n",
    "list_a[1]\n",
    "# 30을 15로 변경하고 싶다. -> 30의 데이터를 제거하고 15를 대입\n",
    "list_a[1] = 15\n",
    "list_a"
   ]
  },
  {
   "cell_type": "code",
   "execution_count": 13,
   "metadata": {},
   "outputs": [
    {
     "data": {
      "text/plain": [
       "100"
      ]
     },
     "execution_count": 13,
     "metadata": {},
     "output_type": "execute_result"
    }
   ],
   "source": [
    "# list에서 데이터를 삭제\n",
    "# 가장 마지막 데이터를 제거 : pop()\n",
    "# 특정 값의 데이터를 제거 : remove('data')\n",
    "# 특정 위치의 데이터를 제거 : del list[index]\n",
    "list_a.pop()"
   ]
  },
  {
   "cell_type": "code",
   "execution_count": 14,
   "metadata": {},
   "outputs": [
    {
     "data": {
      "text/plain": [
       "[50, 15, 5, 20, 10]"
      ]
     },
     "execution_count": 14,
     "metadata": {},
     "output_type": "execute_result"
    }
   ],
   "source": [
    "list_a"
   ]
  },
  {
   "cell_type": "code",
   "execution_count": 15,
   "metadata": {},
   "outputs": [
    {
     "data": {
      "text/plain": [
       "[50, 15, 5, 20, 10, 15]"
      ]
     },
     "execution_count": 15,
     "metadata": {},
     "output_type": "execute_result"
    }
   ],
   "source": [
    "list_a.append(15)\n",
    "list_a"
   ]
  },
  {
   "cell_type": "code",
   "execution_count": 16,
   "metadata": {},
   "outputs": [
    {
     "data": {
      "text/plain": [
       "[50, 5, 20, 10, 15]"
      ]
     },
     "execution_count": 16,
     "metadata": {},
     "output_type": "execute_result"
    }
   ],
   "source": [
    "list_a.remove(15)\n",
    "list_a"
   ]
  },
  {
   "cell_type": "code",
   "execution_count": 17,
   "metadata": {},
   "outputs": [
    {
     "data": {
      "text/plain": [
       "[50, 5, 20, 15]"
      ]
     },
     "execution_count": 17,
     "metadata": {},
     "output_type": "execute_result"
    }
   ],
   "source": [
    "# 특정 위치의 데이터를 제거하는 del\n",
    "del list_a[3]\n",
    "list_a"
   ]
  },
  {
   "cell_type": "code",
   "execution_count": 18,
   "metadata": {},
   "outputs": [
    {
     "name": "stdout",
     "output_type": "stream",
     "text": [
      "10\n",
      "10\n"
     ]
    }
   ],
   "source": [
    "# 복사본 생성 (백업)\n",
    "a = 10\n",
    "b = a\n",
    "print(a)\n",
    "print(b)"
   ]
  },
  {
   "cell_type": "code",
   "execution_count": 19,
   "metadata": {},
   "outputs": [
    {
     "name": "stdout",
     "output_type": "stream",
     "text": [
      "11\n",
      "10\n"
     ]
    }
   ],
   "source": [
    "a += 1\n",
    "print(a)\n",
    "print(b)"
   ]
  },
  {
   "cell_type": "code",
   "execution_count": 20,
   "metadata": {},
   "outputs": [],
   "source": [
    "list_clone = list_a"
   ]
  },
  {
   "cell_type": "code",
   "execution_count": 21,
   "metadata": {},
   "outputs": [
    {
     "name": "stdout",
     "output_type": "stream",
     "text": [
      "[50, 5, 20, 15]\n",
      "[50, 5, 20, 15]\n"
     ]
    }
   ],
   "source": [
    "print(list_a)\n",
    "print(list_clone)"
   ]
  },
  {
   "cell_type": "code",
   "execution_count": 22,
   "metadata": {},
   "outputs": [
    {
     "data": {
      "text/plain": [
       "15"
      ]
     },
     "execution_count": 22,
     "metadata": {},
     "output_type": "execute_result"
    }
   ],
   "source": [
    "# list_clone을 수정\n",
    "list_clone.pop()"
   ]
  },
  {
   "cell_type": "code",
   "execution_count": 23,
   "metadata": {},
   "outputs": [
    {
     "name": "stdout",
     "output_type": "stream",
     "text": [
      "[50, 5, 20]\n",
      "[50, 5, 20]\n"
     ]
    }
   ],
   "source": [
    "print(list_a)\n",
    "print(list_clone)"
   ]
  },
  {
   "cell_type": "code",
   "execution_count": 24,
   "metadata": {},
   "outputs": [],
   "source": [
    "#  list = list -> 같은 위치의 데이터를 의미\n",
    "#  실제 복사본을 생성하려면 copy() 함수를 이용\n",
    "list_clone2 = list_a.copy()"
   ]
  },
  {
   "cell_type": "code",
   "execution_count": 25,
   "metadata": {},
   "outputs": [],
   "source": [
    "list_clone2.append(1)"
   ]
  },
  {
   "cell_type": "code",
   "execution_count": 26,
   "metadata": {},
   "outputs": [
    {
     "name": "stdout",
     "output_type": "stream",
     "text": [
      "[50, 5, 20]\n",
      "[50, 5, 20]\n",
      "[50, 5, 20, 1]\n"
     ]
    }
   ],
   "source": [
    "print(list_a)\n",
    "print(list_clone)\n",
    "print(list_clone2)"
   ]
  },
  {
   "cell_type": "code",
   "execution_count": 27,
   "metadata": {},
   "outputs": [],
   "source": [
    "# list에서 정렬을 변경하고 원본의 데이터는 그대로 유지\n",
    "# sorted(list명)\n",
    "\n",
    "sort_list_a = sorted(list_a)"
   ]
  },
  {
   "cell_type": "code",
   "execution_count": 28,
   "metadata": {},
   "outputs": [
    {
     "name": "stdout",
     "output_type": "stream",
     "text": [
      "[50, 5, 20]\n",
      "[5, 20, 50]\n"
     ]
    }
   ],
   "source": [
    "print(list_a)\n",
    "print(sort_list_a)"
   ]
  },
  {
   "cell_type": "code",
   "execution_count": 29,
   "metadata": {},
   "outputs": [
    {
     "data": {
      "text/plain": [
       "[50, 5, 20, 'fi', 'be', 'abc']"
      ]
     },
     "execution_count": 29,
     "metadata": {},
     "output_type": "execute_result"
    }
   ],
   "source": [
    "# list 간의 합\n",
    "list_a + list_b"
   ]
  },
  {
   "cell_type": "code",
   "execution_count": 30,
   "metadata": {},
   "outputs": [],
   "source": [
    "# list와 숫자의 합 -> 에러가 발생 -> list도 단일 데이터와의 합은 문제 발생\n",
    "# list_a + 1"
   ]
  },
  {
   "cell_type": "code",
   "execution_count": 31,
   "metadata": {},
   "outputs": [
    {
     "data": {
      "text/plain": [
       "2"
      ]
     },
     "execution_count": 31,
     "metadata": {},
     "output_type": "execute_result"
    }
   ],
   "source": [
    "# 데이터를 찾는 함수\n",
    "# index(data): 특정 데이터의 첫번째 위치를 출력\n",
    "list_a.index(20)"
   ]
  },
  {
   "cell_type": "code",
   "execution_count": 32,
   "metadata": {},
   "outputs": [],
   "source": [
    "# index() 함수를 이용해서 없는 데이터를 찾는 경우? -> 에러가 발생\n",
    "# list_a.index(10)"
   ]
  },
  {
   "cell_type": "code",
   "execution_count": 33,
   "metadata": {},
   "outputs": [],
   "source": [
    "# 2차원데이터: 리스트 안에 리스트, 리스트 안에 튜플, 리스트 안에 딕셔너라, 튜플 안에 리스트, 딕셔너리 안에 리스트\n",
    "\n",
    "list_c = [\n",
    "    [10, 20],\n",
    "    [30, 40],\n",
    "    [50, 60]\n",
    "]"
   ]
  },
  {
   "cell_type": "code",
   "execution_count": 34,
   "metadata": {},
   "outputs": [
    {
     "data": {
      "text/plain": [
       "[30, 40]"
      ]
     },
     "execution_count": 34,
     "metadata": {},
     "output_type": "execute_result"
    }
   ],
   "source": [
    "# 2차원 데이터에서 특정 위치 하나를 선택하면 -> 1차원 데이터 변경\n",
    "list_c[1] # list_c에서 2번째 위치의 데이터를 추출"
   ]
  },
  {
   "cell_type": "code",
   "execution_count": 35,
   "metadata": {},
   "outputs": [
    {
     "name": "stdout",
     "output_type": "stream",
     "text": [
      "[30, 40]\n",
      "30\n"
     ]
    }
   ],
   "source": [
    "# list_c에서 30이라는 데이터를 추출\n",
    "# list_c 30은 2번째 위치의 원소 안에 포함\n",
    "print(list_c[1])\n",
    "print(list_c[1][0])"
   ]
  },
  {
   "cell_type": "markdown",
   "metadata": {},
   "source": [
    "### dict"
   ]
  },
  {
   "cell_type": "code",
   "execution_count": 36,
   "metadata": {},
   "outputs": [],
   "source": [
    "dict_a = {\n",
    "    'name' : 'test',\n",
    "    'age' : 20,\n",
    "    'phone' : '01099998888'\n",
    "}"
   ]
  },
  {
   "cell_type": "code",
   "execution_count": 37,
   "metadata": {},
   "outputs": [],
   "source": [
    "# dict는 위치를 기준으로 하는 list와 달리 key를 기준으로 데이터를 추출\n",
    "# dict_a[0] --> 0이라는 키값에 대응하는 value를 출력한다.\n",
    "# 0이라는 key가 존재하지 않기 때문에 에러 발생\n",
    "# dict_a[0]\n",
    "# 위 내용 중요!!"
   ]
  },
  {
   "cell_type": "code",
   "execution_count": 38,
   "metadata": {},
   "outputs": [
    {
     "data": {
      "text/plain": [
       "'test'"
      ]
     },
     "execution_count": 38,
     "metadata": {},
     "output_type": "execute_result"
    }
   ],
   "source": [
    "dict_a[\"name\"]"
   ]
  },
  {
   "cell_type": "code",
   "execution_count": 39,
   "metadata": {},
   "outputs": [],
   "source": [
    "dict_b = {\n",
    "    'age' : 30,\n",
    "    'name' : 'test2',\n",
    "    'phone' : '01088887777'\n",
    "}"
   ]
  },
  {
   "cell_type": "code",
   "execution_count": 40,
   "metadata": {},
   "outputs": [
    {
     "data": {
      "text/plain": [
       "'test2'"
      ]
     },
     "execution_count": 40,
     "metadata": {},
     "output_type": "execute_result"
    }
   ],
   "source": [
    "# 순서 상관없이 key만으로 !\n",
    "dict_b[\"name\"]"
   ]
  },
  {
   "cell_type": "code",
   "execution_count": 41,
   "metadata": {},
   "outputs": [
    {
     "data": {
      "text/plain": [
       "{'name': 'test', 'age': 20, 'phone': '01099998888', 'loc': 'seoul'}"
      ]
     },
     "execution_count": 41,
     "metadata": {},
     "output_type": "execute_result"
    }
   ],
   "source": [
    "# 데이터를 추가하려면 -> key value 를 추가\n",
    "# 추가 기능과 수정 기능의 코드 차이가 거의 없다.(list에서는 insert, append, 그 위치 값 바꿔주기 모두 달랐음)\n",
    "# 추가 -> 새로운 key = data\n",
    "# 수정-> 기존 key = data\n",
    "# dict_a에 loc라는 키 값으로 value는 seoul 데이터를 추가\n",
    "dict_a['loc'] = 'seoul'\n",
    "dict_a"
   ]
  },
  {
   "cell_type": "code",
   "execution_count": 42,
   "metadata": {},
   "outputs": [
    {
     "data": {
      "text/plain": [
       "{'name': 'test', 'age': 30, 'phone': '01099998888', 'loc': 'seoul'}"
      ]
     },
     "execution_count": 42,
     "metadata": {},
     "output_type": "execute_result"
    }
   ],
   "source": [
    "# 기존의 key값을 선택하고 데이터를 입력하면\n",
    "# 기존의 value는 제거되고 새로운 value가 추가 (데이터 수정)\n",
    "dict_a['age'] = 30\n",
    "dict_a"
   ]
  },
  {
   "cell_type": "code",
   "execution_count": 43,
   "metadata": {},
   "outputs": [
    {
     "data": {
      "text/plain": [
       "{'age': 30, 'phone': '01099998888', 'loc': 'seoul'}"
      ]
     },
     "execution_count": 43,
     "metadata": {},
     "output_type": "execute_result"
    }
   ],
   "source": [
    "# dict에서 데이터를 제거 -> key와 value를 모두 제거\n",
    "del dict_a['name']\n",
    "dict_a"
   ]
  },
  {
   "cell_type": "code",
   "execution_count": 44,
   "metadata": {},
   "outputs": [],
   "source": [
    "# 데이터를 수집하는 경우\n",
    "# open api(data api) 사용하는 경우\n",
    "# 리스트 안에 딕셔너리거나 딕셔너리 안에 리스트인 경우가 과반\n",
    "sample_data = {\n",
    "    'name' : ['kim', 'park', 'lee'],\n",
    "    'age' : [20, 25,30],\n",
    "    'gender' : ['F', 'M', \"F\"]\n",
    "}"
   ]
  },
  {
   "cell_type": "code",
   "execution_count": 45,
   "metadata": {},
   "outputs": [
    {
     "data": {
      "text/plain": [
       "['F', 'M', 'F']"
      ]
     },
     "execution_count": 45,
     "metadata": {},
     "output_type": "execute_result"
    }
   ],
   "source": [
    "# sample_data에서 'M'을 추출하려면?\n",
    "# sample_data의 타입이? -> dict이므로 'M'이 위치한 key는 -> 'gender'\n",
    "sample_data['gender']"
   ]
  },
  {
   "cell_type": "code",
   "execution_count": 46,
   "metadata": {},
   "outputs": [
    {
     "data": {
      "text/plain": [
       "'M'"
      ]
     },
     "execution_count": 46,
     "metadata": {},
     "output_type": "execute_result"
    }
   ],
   "source": [
    "# 위의 결과에서 나온 1차원 데이터에서 'M'은 몇 번째 위치? -> 1\n",
    "sample_data['gender'][1]"
   ]
  },
  {
   "cell_type": "code",
   "execution_count": 47,
   "metadata": {},
   "outputs": [
    {
     "data": {
      "text/plain": [
       "{'name': ['kim', 'park', 'lee'],\n",
       " 'age': [20, 25, 30],\n",
       " 'gender': ['F', 'M', 'F'],\n",
       " 'loc': ['seoul', 'naju', 'jeju']}"
      ]
     },
     "execution_count": 47,
     "metadata": {},
     "output_type": "execute_result"
    }
   ],
   "source": [
    "sample_data['loc'] = ['seoul', 'naju', 'jeju']\n",
    "\n",
    "sample_data"
   ]
  },
  {
   "cell_type": "code",
   "execution_count": 48,
   "metadata": {},
   "outputs": [
    {
     "data": {
      "text/plain": [
       "{'name': ['kim', 'park', 'lee'],\n",
       " 'age': [20, 25, 30],\n",
       " 'gender': ['F', 'M', 'F'],\n",
       " 'loc': ['seoul', 'kentech', 'jeju']}"
      ]
     },
     "execution_count": 48,
     "metadata": {},
     "output_type": "execute_result"
    }
   ],
   "source": [
    "sample_data['loc'][1] = 'kentech'\n",
    "sample_data"
   ]
  },
  {
   "cell_type": "code",
   "execution_count": 49,
   "metadata": {},
   "outputs": [],
   "source": [
    "sample_data_2 = [\n",
    "    {\n",
    "        'name' : 'kim',\n",
    "        'age' : 20,\n",
    "        'gender' : 'F'\n",
    "    },\n",
    "    {\n",
    "        'name' : 'park',\n",
    "        'age' : 25,\n",
    "        'gender' : 'M'\n",
    "    },\n",
    "    {\n",
    "        'name' : 'lee',\n",
    "        'age' : 30,\n",
    "        'gender' : 'F'\n",
    "    }\n",
    "]"
   ]
  },
  {
   "cell_type": "code",
   "execution_count": 50,
   "metadata": {},
   "outputs": [],
   "source": [
    "# sample_data_2.append({'name' : 'jung',\n",
    "#                       'age' : 35,\n",
    "#                       'gender' : 'M'})\n",
    "# sample_data_2"
   ]
  },
  {
   "cell_type": "code",
   "execution_count": 51,
   "metadata": {},
   "outputs": [],
   "source": [
    "# sample_data_2.insert(3, {'name' : 'seo',\n",
    "#                       'age' : 40,\n",
    "#                       'gender' : 'M'})\n",
    "# sample_data_2"
   ]
  },
  {
   "cell_type": "code",
   "execution_count": 52,
   "metadata": {},
   "outputs": [
    {
     "data": {
      "text/plain": [
       "'park'"
      ]
     },
     "execution_count": 52,
     "metadata": {},
     "output_type": "execute_result"
    }
   ],
   "source": [
    "sample_data_2[1]['name']"
   ]
  },
  {
   "cell_type": "code",
   "execution_count": 53,
   "metadata": {},
   "outputs": [
    {
     "name": "stdout",
     "output_type": "stream",
     "text": [
      "<class 'list'>\n",
      "4\n"
     ]
    }
   ],
   "source": [
    "print(type(sample_data_2))\n",
    "print(len(sample_data))"
   ]
  },
  {
   "cell_type": "code",
   "execution_count": 54,
   "metadata": {},
   "outputs": [
    {
     "name": "stdout",
     "output_type": "stream",
     "text": [
      "['kim', 'park', 'lee']\n"
     ]
    }
   ],
   "source": [
    "# sample_data2에서 이름들을 따로 새로운 리스트를 생성\n",
    "# 이름들을 저장할 수 있는 공간을 생성 -> 변수에 여러개의 이름이 저장 -> 리스트가 딕셔터리 생성\n",
    "\n",
    "name_list = []\n",
    "# sample_data2에서 i번째 원소의 'name'값을 추출하여 name_list에 추가\n",
    "for i in range(len(sample_data_2)):\n",
    "    name = sample_data_2[i]['name']\n",
    "    name_list.append(name)\n",
    "    \n",
    "print(name_list)\n",
    "\n",
    "\n"
   ]
  },
  {
   "cell_type": "code",
   "execution_count": 55,
   "metadata": {},
   "outputs": [
    {
     "name": "stdout",
     "output_type": "stream",
     "text": [
      "10\n",
      "30\n",
      "20\n",
      "50\n",
      "10\n",
      "30\n",
      "20\n",
      "50\n"
     ]
    }
   ],
   "source": [
    "list_n = [10, 30, 20, 50]\n",
    "for i in list_n:\n",
    "    # i는\n",
    "    print(i)\n",
    "\n",
    "for i in range(len(list_n)):\n",
    "    # i는 list_n의 위치값\n",
    "    print(list_n[i])"
   ]
  },
  {
   "cell_type": "code",
   "execution_count": 56,
   "metadata": {},
   "outputs": [
    {
     "name": "stdout",
     "output_type": "stream",
     "text": [
      "['kim', 'park', 'lee']\n"
     ]
    }
   ],
   "source": [
    "name_list_3 = []\n",
    "\n",
    "for i in sample_data_2:\n",
    "    #i는 ?? -> sample_data2에 있는 원소들(dict)\n",
    "    # print(i)\n",
    "    #i에서 name이라는 key의 value를 추출\n",
    "    name_list_3.append(i['name'])\n",
    "\n",
    "print(name_list_3)"
   ]
  },
  {
   "cell_type": "code",
   "execution_count": 57,
   "metadata": {},
   "outputs": [
    {
     "name": "stdout",
     "output_type": "stream",
     "text": [
      "[20, 25, 30]\n"
     ]
    }
   ],
   "source": [
    "age_data = []\n",
    "for i in sample_data_2:\n",
    "    age = i['age']\n",
    "    age_data.append(age)\n",
    "\n",
    "print(age_data)"
   ]
  },
  {
   "cell_type": "code",
   "execution_count": 58,
   "metadata": {},
   "outputs": [
    {
     "name": "stdout",
     "output_type": "stream",
     "text": [
      "['kim', 'park', 'lee']\n",
      "[20, 25, 30]\n",
      "['F', 'M', 'F']\n",
      "['seoul', 'kentech', 'jeju']\n"
     ]
    }
   ],
   "source": [
    "# dict 형태의 데이터를 가지고 반복문을 이용한다면?\n",
    "for i in sample_data:\n",
    "    # i는??-> dict 데이터에서 key값\n",
    "    # print(i)\n",
    "    print(sample_data[i])"
   ]
  },
  {
   "cell_type": "code",
   "execution_count": 59,
   "metadata": {},
   "outputs": [
    {
     "data": {
      "text/plain": [
       "[7, 10, 30, 50]"
      ]
     },
     "execution_count": 59,
     "metadata": {},
     "output_type": "execute_result"
    }
   ],
   "source": [
    "# sort() -> 리스트 각각의 원소들을 비교하여 가장 작은 데이터를 처음으로 가장 큰 데이터를 마지막으로 하여 정렬을 변경하는 함수\n",
    "sample_list = [30, 10, 50, 7]\n",
    "\n",
    "# sort\n",
    "sort_list = []\n",
    "\n",
    "# sample_list의 길이만큼 반복을 하는 반복문을 생성\n",
    "for i in range(0, len(sample_list)):    #4번\n",
    "    # 첫번쨰 원소의 데이터를 최솟값으로 지정\n",
    "    min_value = sample_list[0]\n",
    "    # 2번째 원소(1)부터 마지막 원소(len)까지 min_value 비교해서 작은 데이터를 min_value에 추가\n",
    "    for j in range(1, len(sample_list)):    #3번\n",
    "        # min_value와 sample_list[j] 데이터를 비교하여 작은 값을 찾는다.\n",
    "        if min_value > sample_list[j]:\n",
    "            # min_value가 리스트의 원소보다 크다면 실행이 되는 부분\n",
    "            min_value = sample_list[j]\n",
    "            # sort_list.append(0,sample_data[j])\n",
    "\n",
    "    # print(min_value)\n",
    "    sort_list.append(min_value)\n",
    "    sample_list.remove(min_value)\n",
    "\n",
    "sort_list\n"
   ]
  },
  {
   "cell_type": "code",
   "execution_count": 60,
   "metadata": {},
   "outputs": [
    {
     "data": {
      "text/plain": [
       "[7, 10, 30, 50]"
      ]
     },
     "execution_count": 60,
     "metadata": {},
     "output_type": "execute_result"
    }
   ],
   "source": [
    "sample_list = [30, 10, 50, 7]\n",
    "sort_list = []\n",
    "\n",
    "for i in range(len(sample_list)):\n",
    "    min_value = min(sample_list)\n",
    "    sample_list.remove(min_value)\n",
    "    # print(min_value)\n",
    "    sort_list.append(min_value)\n",
    "\n",
    "sort_list\n",
    "\n",
    "## 반복의 배경은 반복할 때마다 달라질 수 있구나!"
   ]
  },
  {
   "cell_type": "code",
   "execution_count": 61,
   "metadata": {},
   "outputs": [
    {
     "data": {
      "text/plain": [
       "[7, 10, 30, 50]"
      ]
     },
     "execution_count": 61,
     "metadata": {},
     "output_type": "execute_result"
    }
   ],
   "source": [
    "sample_list = [30, 10, 50, 7]\n",
    "sorted(sample_list)"
   ]
  },
  {
   "cell_type": "code",
   "execution_count": 62,
   "metadata": {},
   "outputs": [],
   "source": [
    "# sample_list = [30, 10, 50, 7]\n",
    "\n",
    "# sort_sample_list = []\n",
    "# for i in range(len(sample_list)):\n",
    "#     for j in range(0, 4, 1):\n",
    "#         if sample_list[i] > sample_list[j]:\n",
    "#             sort_sample_list.append(sample_list(i))\n",
    "\n",
    "# sort_sample_list\n",
    "\n",
    "# 걍 내 생각으로 해본거"
   ]
  }
 ],
 "metadata": {
  "kernelspec": {
   "display_name": "Python 3",
   "language": "python",
   "name": "python3"
  },
  "language_info": {
   "codemirror_mode": {
    "name": "ipython",
    "version": 3
   },
   "file_extension": ".py",
   "mimetype": "text/x-python",
   "name": "python",
   "nbconvert_exporter": "python",
   "pygments_lexer": "ipython3",
   "version": "3.11.5"
  },
  "orig_nbformat": 4
 },
 "nbformat": 4,
 "nbformat_minor": 2
}
