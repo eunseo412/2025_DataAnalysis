{
 "cells": [
  {
   "cell_type": "markdown",
   "id": "ac1365cd",
   "metadata": {},
   "source": [
    "# 산술 연산자, 대입 연산자\n",
    "# 비교 연산자\n",
    "# if 조건문\n",
    "# for 반복문\n",
    "# while 반복문"
   ]
  },
  {
   "cell_type": "code",
   "execution_count": null,
   "id": "25cc5baf",
   "metadata": {},
   "outputs": [],
   "source": [
    "a = 10"
   ]
  },
  {
   "cell_type": "code",
   "execution_count": null,
   "id": "d6a26385",
   "metadata": {},
   "outputs": [],
   "source": [
    "# 주석\n",
    "# 변수 생성\n",
    "# 변수명 = 데이터\n",
    "a = 'test'\n",
    "b = 10\n",
    "# 변수에 데이터를 대입 -> 출력 x"
   ]
  },
  {
   "cell_type": "code",
   "execution_count": null,
   "id": "c15f7bea",
   "metadata": {},
   "outputs": [
    {
     "data": {
      "text/plain": [
       "'test'"
      ]
     },
     "metadata": {},
     "output_type": "display_data"
    }
   ],
   "source": [
    "a\n",
    "# 출력이 나오는 것은 -> 메모리의 데이터의 변화 x"
   ]
  },
  {
   "cell_type": "code",
   "execution_count": null,
   "id": "9ef8c9a9",
   "metadata": {},
   "outputs": [
    {
     "name": "stdout",
     "output_type": "stream",
     "text": [
      "test\n"
     ]
    }
   ],
   "source": [
    "print(a)"
   ]
  },
  {
   "cell_type": "code",
   "execution_count": null,
   "id": "831cf0b9",
   "metadata": {},
   "outputs": [
    {
     "name": "stdout",
     "output_type": "stream",
     "text": [
      "13\n",
      "7\n",
      "30\n",
      "3.3333333333333335\n",
      "3\n",
      "1\n",
      "1000\n"
     ]
    }
   ],
   "source": [
    "# 산술연산자 \n",
    "x = 10\n",
    "y = 3\n",
    "\n",
    "# 사칙연산 \n",
    "print(x + y) # 13\n",
    "print(x - y) # 7\n",
    "print(x * y) # 30\n",
    "print(x / y) # 3.3333333...\n",
    "# 나눈 값의 몫\n",
    "print(x // y) # 3\n",
    "# 나눈 값의 나머지 \n",
    "print(x % y) # 1\n",
    "# 지수 승\n",
    "print(x ** y) # 1000\n"
   ]
  },
  {
   "cell_type": "code",
   "execution_count": null,
   "id": "dce027bc",
   "metadata": {},
   "outputs": [],
   "source": [
    "# 대입 연산자 \n",
    "# 산술연산자 + 대입연산자(=)\n",
    "x += 3 \n",
    "# x = x + 3"
   ]
  },
  {
   "cell_type": "code",
   "execution_count": null,
   "id": "67c4e89d",
   "metadata": {},
   "outputs": [
    {
     "data": {
      "text/plain": [
       "16"
      ]
     },
     "metadata": {},
     "output_type": "display_data"
    }
   ],
   "source": [
    "x + 3"
   ]
  },
  {
   "cell_type": "code",
   "execution_count": null,
   "id": "2880e07c",
   "metadata": {},
   "outputs": [
    {
     "data": {
      "text/plain": [
       "13"
      ]
     },
     "metadata": {},
     "output_type": "display_data"
    }
   ],
   "source": [
    "x"
   ]
  },
  {
   "cell_type": "code",
   "execution_count": null,
   "id": "877efb39",
   "metadata": {},
   "outputs": [],
   "source": [
    "x -= 2\n",
    "x *= 5"
   ]
  },
  {
   "cell_type": "code",
   "execution_count": null,
   "id": "bd44dada",
   "metadata": {},
   "outputs": [
    {
     "data": {
      "text/plain": [
       "1315"
      ]
     },
     "metadata": {},
     "output_type": "display_data"
    }
   ],
   "source": [
    "x"
   ]
  },
  {
   "cell_type": "code",
   "execution_count": null,
   "id": "79a6966b",
   "metadata": {},
   "outputs": [
    {
     "name": "stdout",
     "output_type": "stream",
     "text": [
      "False\n",
      "True\n",
      "False\n"
     ]
    }
   ],
   "source": [
    "# 비교 연산자 -> 결과 참 / 거짓\n",
    "data_1 = 100\n",
    "data_2 = 95\n",
    "print(data_1 == data_2) # 100과 95가 같은가? -> 거짓 \n",
    "print(data_1 != data_2) # 100과 95가 다른가? -> 참\n",
    "data_3 = 'A'\n",
    "data_4 = 'a'\n",
    "print(data_3 == data_4)"
   ]
  },
  {
   "cell_type": "code",
   "execution_count": 3,
   "id": "422868eb",
   "metadata": {},
   "outputs": [],
   "source": [
    "# 문자의 산술연산자 사용\n",
    "text_1 = 'test'\n",
    "text_2 = '10'\n",
    "text_3 = '20'"
   ]
  },
  {
   "cell_type": "code",
   "execution_count": 4,
   "id": "35e200a0",
   "metadata": {},
   "outputs": [
    {
     "name": "stdout",
     "output_type": "stream",
     "text": [
      "test10\n",
      "1020\n"
     ]
    }
   ],
   "source": [
    "print(text_1 + text_2)\n",
    "print(text_2 + text_3)"
   ]
  },
  {
   "cell_type": "code",
   "execution_count": null,
   "id": "ab953dd4",
   "metadata": {},
   "outputs": [
    {
     "data": {
      "text/plain": [
       "-10"
      ]
     },
     "metadata": {},
     "output_type": "display_data"
    }
   ],
   "source": [
    "# 문자와 문자는 - 연산자가 사용이 불가능\n",
    "# 문자를 숫자형태로 변환하고 - 연산자 사용\n",
    "# int(str) : 문자 데이터를 정수형 데이터로 변환\n",
    "# text_2 - text_3 (에러)\n",
    "int(text_2) - int(text_3)"
   ]
  },
  {
   "cell_type": "code",
   "execution_count": null,
   "id": "a8f233d3",
   "metadata": {},
   "outputs": [
    {
     "name": "stdout",
     "output_type": "stream",
     "text": [
      "a는 10보다 크거나 같다\n"
     ]
    }
   ],
   "source": [
    "# if 조건문 \n",
    "# 참인 경우 실행하는 코드와 거짓인 경우 실행하는 코드를 작성 \n",
    "# 참 아니면 거짓인 경우의 코드 하나만 실행 \n",
    "# if 조건식(bool 데이터):\n",
    "#   실행할 코드(들여쓰기)\n",
    "# else :\n",
    "#   조건식이 거짓인 경우 실행할 코드(들여쓰기)\n",
    "a = 11\n",
    "if a < 10:\n",
    "    # a가 10보다 작은 경우 실행이 되는 부분 \n",
    "    print(\"a는 10보다 작다\")\n",
    "else:\n",
    "    # a가 10보다 크거나 같은 경우 실행이 되는 부분\n",
    "    print(\"a는 10보다 크거나 같다\")"
   ]
  },
  {
   "cell_type": "code",
   "execution_count": null,
   "id": "3b5e845f",
   "metadata": {},
   "outputs": [
    {
     "name": "stdout",
     "output_type": "stream",
     "text": [
      "B\n"
     ]
    }
   ],
   "source": [
    "# 조건식이 여러개인 경우 \n",
    "score = int(\n",
    "    # input() : 실행할때마다 데이터를 입력하는 창이 생성 되고\n",
    "    #           입력값을 받아온다. -> 문자 \n",
    "    input(\"점수를 입력하시오 : \")\n",
    ")\n",
    "# print(score)\n",
    "# score에 따라서 학점 출력 \n",
    "# A : score가 90점 이상인 경우 \n",
    "if score >= 90:\n",
    "    print('A')\n",
    "# B : score가 90점 미만 80점 이상\n",
    "if (score < 90) and (score >= 80):\n",
    "    print('B')\n",
    "# C : score가 80점 미만 70점 이상\n",
    "if (score < 80) and (score >= 70):\n",
    "    print('C')\n",
    "# F : score가 70점 미만\n",
    "if (score < 70):\n",
    "    print('F')"
   ]
  },
  {
   "cell_type": "code",
   "execution_count": null,
   "id": "62a92c13",
   "metadata": {},
   "outputs": [
    {
     "name": "stdout",
     "output_type": "stream",
     "text": [
      "B\n"
     ]
    }
   ],
   "source": [
    "if score >= 90:\n",
    "    # score가 90점 이상\n",
    "    print('A')\n",
    "else:\n",
    "    # score가 90점 미만\n",
    "    if score >= 80:\n",
    "        # score가 90점 미만이고 80점 이상인 경우\n",
    "        print('B')\n",
    "    else:\n",
    "        # score가 80점 미만\n",
    "        if score >= 70:\n",
    "            "
   ]
  },
  {
   "cell_type": "code",
   "execution_count": 3,
   "id": "331a9adb",
   "metadata": {},
   "outputs": [
    {
     "name": "stdout",
     "output_type": "stream",
     "text": [
      "B\n"
     ]
    }
   ],
   "source": [
    "# if ~ elif ~ else문\n",
    "if score >= 90:\n",
    "    print('A')\n",
    "elif score >= 80:\n",
    "    # if 조건식의 90점 이상이 거짓이고 score가 80점 이상인 경우\n",
    "    print('B')\n",
    "elif score >= 70:\n",
    "    # score가 80점 미만이고 70점 이상인 경우\n",
    "    print('C')\n",
    "else:\n",
    "    print('F')"
   ]
  },
  {
   "cell_type": "code",
   "execution_count": 6,
   "id": "ac292fba",
   "metadata": {},
   "outputs": [
    {
     "name": "stdout",
     "output_type": "stream",
     "text": [
      "[1, 3, 5, 7, 9]\n"
     ]
    }
   ],
   "source": [
    "# 반복문 \n",
    "# for문 \n",
    "# for문 기본형태 -> for 변수명 in range(시작값, 종료값, 증가값)\n",
    "# range() -> 시작값부터 시작해서 증가값만큼 증가시키면서 종료값에서 종료해서 \n",
    "#           여러 개의 데이터를 생성하는 기능(종료값은 포함x)\n",
    "print(\n",
    "    list(range(1, 10, 2))\n",
    ")"
   ]
  },
  {
   "cell_type": "code",
   "execution_count": 7,
   "id": "91976672",
   "metadata": {},
   "outputs": [
    {
     "name": "stdout",
     "output_type": "stream",
     "text": [
      "1\n",
      "2\n",
      "3\n",
      "4\n"
     ]
    }
   ],
   "source": [
    "for i in range(1, 5, 1):\n",
    "    # 1부터 4까지 i에 대입 : 4번 반복\n",
    "    print(i)"
   ]
  },
  {
   "cell_type": "code",
   "execution_count": 8,
   "id": "aba2b9ec",
   "metadata": {},
   "outputs": [],
   "source": [
    "# range() : 시작값은 0이 기본값, 증가값은 1이 기본값\n",
    "# 320 반복하는 반복문을 생성 \n",
    "# for i in range(320)"
   ]
  },
  {
   "cell_type": "code",
   "execution_count": 9,
   "id": "c3c09415",
   "metadata": {},
   "outputs": [
    {
     "data": {
      "text/plain": [
       "55"
      ]
     },
     "execution_count": 9,
     "metadata": {},
     "output_type": "execute_result"
    }
   ],
   "source": [
    "# 1부터 10까지의 합계를 구한다. \n",
    "1+2+3+4+5+6+7+8+9+10"
   ]
  },
  {
   "cell_type": "code",
   "execution_count": 10,
   "id": "590ca435",
   "metadata": {},
   "outputs": [
    {
     "name": "stdout",
     "output_type": "stream",
     "text": [
      "55\n"
     ]
    }
   ],
   "source": [
    "# 특정 공간(변수를 생성)에 초기값(0)을 지정하고 \n",
    "result = 0\n",
    "# 1부터 10까지의 데이터를 반복하여 초기값에 누적합 \n",
    "for i in range(1, 11, 1):\n",
    "    # i에는 1부터 10까지의 데이터가 1씩 증가하면서 대입 \n",
    "    # i를 result와 더하고 결과를 result에 대입 \n",
    "    # result = result + i\n",
    "    result += i\n",
    "\n",
    "print(result)"
   ]
  },
  {
   "cell_type": "code",
   "execution_count": 11,
   "id": "5cd3b5b9",
   "metadata": {},
   "outputs": [
    {
     "name": "stdout",
     "output_type": "stream",
     "text": [
      "55\n"
     ]
    }
   ],
   "source": [
    "result = 0\n",
    "\n",
    "for i in range(10):\n",
    "    # i는 0부터 9까지 1씩 증가시키면서 대입 \n",
    "    i += 1\n",
    "    result = result + i\n",
    "    \n",
    "print(result)"
   ]
  },
  {
   "cell_type": "code",
   "execution_count": null,
   "id": "49f1f3dd",
   "metadata": {},
   "outputs": [],
   "source": [
    "# while문 \n",
    "# 초기값 지정 (시작값을 지정)\n",
    "i = 1\n",
    "while i <= 10:\n",
    "    # i가 10보다 작거나 같은 경우에는 반복 실행 \n",
    "    print(i)\n",
    "    # i의 값이 거짓이 될수 있도록 코드 작성 (조건식이 10보다 큰 경우가 거짓)\n",
    "    # i의 값을 증가 \n",
    "    i = i + 1"
   ]
  },
  {
   "cell_type": "code",
   "execution_count": null,
   "id": "ef7dc11a",
   "metadata": {},
   "outputs": [
    {
     "name": "stdout",
     "output_type": "stream",
     "text": [
      "55\n"
     ]
    }
   ],
   "source": [
    "# while문을 이용하여 1부터 10까지의 합계 구하기 \n",
    "i = 1\n",
    "result = 0\n",
    "\n",
    "while i <= 10:\n",
    "    # result에 i를 더하고 result에 결과를 대입 \n",
    "    # 첫번째 반복 : i(1), result(0) -> result = 0 + 1 -> result(1), i(1)\n",
    "    # 두번째 반복 : i(2), result(1) -> result = 1 + 2 -> result(3), i(2)\n",
    "    result += i\n",
    "    # i에 1를 더하고 i에 대입 \n",
    "    # 첫번째 반복 : i(1) -> i = 1 + 1 -> i(2)\n",
    "    # 두번째 반복 : i(2) -> i = 2 + 1 -> i(3)\n",
    "    i += 1\n",
    "    # 반복 실행되는 코드가 없으므로 while문으로 되돌아간다.\n",
    "\n",
    "print(result)"
   ]
  },
  {
   "cell_type": "code",
   "execution_count": null,
   "id": "632d8800",
   "metadata": {},
   "outputs": [
    {
     "name": "stdout",
     "output_type": "stream",
     "text": [
      "65\n"
     ]
    }
   ],
   "source": [
    "result = 0 \n",
    "i = 1\n",
    "\n",
    "while i <= 10:\n",
    "    # 첫번째 반복 : i(1) -> i = i + 1 -> i(2)\n",
    "    i += 1\n",
    "    # 첫번째 반복 : i(2), result(0) -> result = 0 + 2 -> result(2)\n",
    "    result += i\n",
    "\n",
    "print(result)\n"
   ]
  },
  {
   "cell_type": "code",
   "execution_count": 16,
   "id": "8fe49c89",
   "metadata": {},
   "outputs": [
    {
     "name": "stdout",
     "output_type": "stream",
     "text": [
      "0\n",
      "반복문이 종료\n"
     ]
    }
   ],
   "source": [
    "# break 문 -> 반복문을 강제 종료 \n",
    "\n",
    "for i in range(10000):\n",
    "    print(i)\n",
    "    break\n",
    "\n",
    "print(\"반복문이 종료\")"
   ]
  },
  {
   "cell_type": "code",
   "execution_count": null,
   "id": "dd8a2824",
   "metadata": {},
   "outputs": [
    {
     "name": "stdout",
     "output_type": "stream",
     "text": [
      "7021\n",
      "118\n"
     ]
    }
   ],
   "source": [
    "# 반복문 안에서 조건식을 이용하여 break를 이용\n",
    "# 1부터 시작해서 1씩 증가시킨 데이터를 누적합하였을때\n",
    "# 누적합의 값이 7000이 넘어가는 시점은 언제인가? \n",
    "# -> result가 7000 이상 조건식 생성\n",
    "# case1 (for문)\n",
    "# 누적합을 해줄 공간을 생성 \n",
    "result = 0\n",
    "\n",
    "for i in range(1, 1000, 1):\n",
    "    # 118번째 반복\n",
    "        # 1 조건식 존재하는 경우 : result가 아직 7000 미만 -> break 실행x\n",
    "        # i(118), result(6903) -> result = 6903 + 118 -> result(7021)\n",
    "        # 2 조건식 존재하는 경우 : result가 7000 이상 -> break 실행 o\n",
    "    # 119번째 반복\n",
    "        # 1 조건식 존재하는 경우 : result가 7000 이상 -> break 실행 o -> i(119), result(7021)\n",
    "        # 2 조건식 존재하는 경우 : 해당 반복은 실행이 되지 않음 \n",
    "\n",
    "    # 1\n",
    "    # i를 result에 누적합을 해준다. \n",
    "    result += i\n",
    "    # 2\n",
    "    if result >= 7000:\n",
    "        # 반복문을 종료\n",
    "        break\n",
    "\n",
    "print(result)\n",
    "print(i)"
   ]
  },
  {
   "cell_type": "code",
   "execution_count": 28,
   "id": "c12756d6",
   "metadata": {},
   "outputs": [
    {
     "name": "stdout",
     "output_type": "stream",
     "text": [
      "130 8515\n"
     ]
    }
   ],
   "source": [
    "# while문을 이용하여 1부터 1씩 증가시킨 데이터의 누적합이 8400이 넘어가는 \n",
    "# 시점을 구하라 \n",
    "\n",
    "# 시작값 설정 \n",
    "i = 1\n",
    "# 누적합의 초기 값을 지정 \n",
    "result = 0\n",
    "# while 조건식(반복 횟수가 명확하지 않을때 -> 무한 반복) \n",
    "while True:\n",
    "#   (누적합이 8400이상인 경우 반복문을 종료 추가 )\n",
    "    # 1 (반복 횟수 : 130번)\n",
    "    # i(131) -> 조건식이 참 -> break가 실행 -> result는 1부터 130까지 더해진 값\n",
    "    # 시작값을 누적합에 더하고 대입 \n",
    "    result += i\n",
    "    # 2 (정답) (반복횟수 : 129번)\n",
    "    # i(130) -> 조건식이 참 -> break가 실행 -> result가 1부터 130까지 더해진 값\n",
    "    if result >= 8400:\n",
    "        break\n",
    "    # 시작값을 1씩 증가 \n",
    "    i += 1\n",
    "    # 3 (반복횟수 : 129번)\n",
    "    # i(130) -> result에 130 누적합 -> i를 1증가 -> 조건식 참 -> break\n",
    "# 시작값과 누적합의 값을 출력\n",
    "print(i, result)"
   ]
  },
  {
   "cell_type": "code",
   "execution_count": 32,
   "id": "fca41c1b",
   "metadata": {},
   "outputs": [
    {
     "name": "stdout",
     "output_type": "stream",
     "text": [
      "9\n"
     ]
    }
   ],
   "source": [
    "# continue문 : 반복문으로 되돌아간다. (반복 실행할 코드가 끝나면 같은 행동)\n",
    "for i in range(10):\n",
    "    continue # continue가 실행이 되면 밑의 반복 실행되는 코드를 무시하고\n",
    "            # 반복문으로 돌아간다. 반복 횟수는 증가 \n",
    "    print(i)\n",
    "\n",
    "print(i)"
   ]
  },
  {
   "cell_type": "code",
   "execution_count": null,
   "id": "782709cb",
   "metadata": {},
   "outputs": [
    {
     "name": "stdout",
     "output_type": "stream",
     "text": [
      "5050\n"
     ]
    }
   ],
   "source": [
    "# 1부터 100까지의 누적합 -> 5050\n",
    "# 1부터 100까지의 짝수의 누적합 \n",
    "result = 0 \n",
    "for i in range(1, 101, 1):\n",
    "    result += i\n",
    "\n",
    "print(result)"
   ]
  },
  {
   "cell_type": "code",
   "execution_count": 34,
   "id": "7ce8a441",
   "metadata": {},
   "outputs": [
    {
     "name": "stdout",
     "output_type": "stream",
     "text": [
      "2550\n"
     ]
    }
   ],
   "source": [
    "# 짝수의 합 \n",
    "result = 0\n",
    "\n",
    "for i in range(2, 101, 2):\n",
    "    result += i \n",
    "\n",
    "print(result)"
   ]
  },
  {
   "cell_type": "code",
   "execution_count": 35,
   "id": "845b40f5",
   "metadata": {},
   "outputs": [
    {
     "name": "stdout",
     "output_type": "stream",
     "text": [
      "2550\n"
     ]
    }
   ],
   "source": [
    "result = 0 \n",
    "\n",
    "for i in range(1, 101, 1):\n",
    "    # 조건식이 짝수인 경우 \n",
    "    if i % 2 == 0:\n",
    "        result += i\n",
    "\n",
    "print(result)"
   ]
  },
  {
   "cell_type": "code",
   "execution_count": 36,
   "id": "1779498b",
   "metadata": {},
   "outputs": [
    {
     "name": "stdout",
     "output_type": "stream",
     "text": [
      "2550\n"
     ]
    }
   ],
   "source": [
    "result = 0 \n",
    "\n",
    "for i in range(1, 101, 1):\n",
    "    # 조건식이 홀수인 경우 -> 반복문으로 되돌아간다. \n",
    "    if i % 2 == 1:\n",
    "        continue\n",
    "    result += i\n",
    "print(result)"
   ]
  }
 ],
 "metadata": {
  "kernelspec": {
   "display_name": "Python 3",
   "language": "python",
   "name": "python3"
  },
  "language_info": {
   "codemirror_mode": {
    "name": "ipython",
    "version": 3
   },
   "file_extension": ".py",
   "mimetype": "text/x-python",
   "name": "python",
   "nbconvert_exporter": "python",
   "pygments_lexer": "ipython3",
   "version": "3.11.5"
  }
 },
 "nbformat": 4,
 "nbformat_minor": 5
}
